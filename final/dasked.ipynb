{
 "cells": [
  {
   "cell_type": "code",
   "execution_count": 1,
   "metadata": {},
   "outputs": [
    {
     "data": {
      "application/javascript": [
       "\n",
       "            setTimeout(function() {\n",
       "                var nbb_cell_id = 1;\n",
       "                var nbb_unformatted_code = \"%reload_ext nb_black\";\n",
       "                var nbb_formatted_code = \"%reload_ext nb_black\";\n",
       "                var nbb_cells = Jupyter.notebook.get_cells();\n",
       "                for (var i = 0; i < nbb_cells.length; ++i) {\n",
       "                    if (nbb_cells[i].input_prompt_number == nbb_cell_id) {\n",
       "                        if (nbb_cells[i].get_text() == nbb_unformatted_code) {\n",
       "                             nbb_cells[i].set_text(nbb_formatted_code);\n",
       "                        }\n",
       "                        break;\n",
       "                    }\n",
       "                }\n",
       "            }, 500);\n",
       "            "
      ],
      "text/plain": [
       "<IPython.core.display.Javascript object>"
      ]
     },
     "metadata": {},
     "output_type": "display_data"
    }
   ],
   "source": [
    "%reload_ext nb_black"
   ]
  },
  {
   "cell_type": "code",
   "execution_count": 2,
   "metadata": {},
   "outputs": [
    {
     "data": {
      "application/javascript": [
       "\n",
       "            setTimeout(function() {\n",
       "                var nbb_cell_id = 2;\n",
       "                var nbb_unformatted_code = \"import warnings\\nwarnings.filterwarnings(\\\"ignore\\\")\\n\\nfrom dask.distributed import Client, progress\\n\\n\\nimport pandas as pd\\nimport numpy as np\\nimport pickle\\n\\nimport statsmodels.api as sm\\nfrom statsmodels.stats.outliers_influence import variance_inflation_factor\\n\\nimport seaborn as sns\\nimport matplotlib.pyplot as plt\\n\\nfrom sklearn.model_selection import train_test_split, GridSearchCV, cross_val_score\\nfrom sklearn.metrics import (\\n    classification_report,\\n    confusion_matrix,\\n)\\n\\nfrom sklearn.pipeline import Pipeline\\nfrom sklearn.compose import ColumnTransformer\\nfrom sklearn.preprocessing import StandardScaler\\nfrom sklearn.neighbors import KNeighborsClassifier\\n\\nfrom sklearn.linear_model import LogisticRegression\\nfrom sklearn.svm import SVC\";\n",
       "                var nbb_formatted_code = \"import warnings\\n\\nwarnings.filterwarnings(\\\"ignore\\\")\\n\\nfrom dask.distributed import Client, progress\\n\\n\\nimport pandas as pd\\nimport numpy as np\\nimport pickle\\n\\nimport statsmodels.api as sm\\nfrom statsmodels.stats.outliers_influence import variance_inflation_factor\\n\\nimport seaborn as sns\\nimport matplotlib.pyplot as plt\\n\\nfrom sklearn.model_selection import train_test_split, GridSearchCV, cross_val_score\\nfrom sklearn.metrics import (\\n    classification_report,\\n    confusion_matrix,\\n)\\n\\nfrom sklearn.pipeline import Pipeline\\nfrom sklearn.compose import ColumnTransformer\\nfrom sklearn.preprocessing import StandardScaler\\nfrom sklearn.neighbors import KNeighborsClassifier\\n\\nfrom sklearn.linear_model import LogisticRegression\\nfrom sklearn.svm import SVC\";\n",
       "                var nbb_cells = Jupyter.notebook.get_cells();\n",
       "                for (var i = 0; i < nbb_cells.length; ++i) {\n",
       "                    if (nbb_cells[i].input_prompt_number == nbb_cell_id) {\n",
       "                        if (nbb_cells[i].get_text() == nbb_unformatted_code) {\n",
       "                             nbb_cells[i].set_text(nbb_formatted_code);\n",
       "                        }\n",
       "                        break;\n",
       "                    }\n",
       "                }\n",
       "            }, 500);\n",
       "            "
      ],
      "text/plain": [
       "<IPython.core.display.Javascript object>"
      ]
     },
     "metadata": {},
     "output_type": "display_data"
    }
   ],
   "source": [
    "import warnings\n",
    "\n",
    "warnings.filterwarnings(\"ignore\")\n",
    "\n",
    "from dask.distributed import Client, progress\n",
    "\n",
    "\n",
    "import pandas as pd\n",
    "import numpy as np\n",
    "import pickle\n",
    "\n",
    "import statsmodels.api as sm\n",
    "from statsmodels.stats.outliers_influence import variance_inflation_factor\n",
    "\n",
    "import seaborn as sns\n",
    "import matplotlib.pyplot as plt\n",
    "\n",
    "from sklearn.model_selection import train_test_split, GridSearchCV, cross_val_score, cross_validate\n",
    "from sklearn.metrics import (\n",
    "    classification_report,\n",
    "    confusion_matrix,\n",
    ")\n",
    "from sklearn.pipeline import Pipeline\n",
    "from sklearn.compose import ColumnTransformer\n",
    "from sklearn.preprocessing import StandardScaler\n",
    "from sklearn.neighbors import KNeighborsClassifier\n",
    "\n",
    "from sklearn.linear_model import LogisticRegression\n",
    "from sklearn.svm import SVC"
   ]
  },
  {
   "cell_type": "code",
   "execution_count": 3,
   "metadata": {},
   "outputs": [
    {
     "data": {
      "text/html": [
       "<table style=\"border: 2px solid white;\">\n",
       "<tr>\n",
       "<td style=\"vertical-align: top; border: 0px solid white\">\n",
       "<h3 style=\"text-align: left;\">Client</h3>\n",
       "<ul style=\"text-align: left; list-style: none; margin: 0; padding: 0;\">\n",
       "  <li><b>Scheduler: </b>tcp://127.0.0.1:38821</li>\n",
       "  <li><b>Dashboard: </b><a href='http://127.0.0.1:8787/status' target='_blank'>http://127.0.0.1:8787/status</a></li>\n",
       "</ul>\n",
       "</td>\n",
       "<td style=\"vertical-align: top; border: 0px solid white\">\n",
       "<h3 style=\"text-align: left;\">Cluster</h3>\n",
       "<ul style=\"text-align: left; list-style:none; margin: 0; padding: 0;\">\n",
       "  <li><b>Workers: </b>6</li>\n",
       "  <li><b>Cores: </b>6</li>\n",
       "  <li><b>Memory: </b>12.00 GB</li>\n",
       "</ul>\n",
       "</td>\n",
       "</tr>\n",
       "</table>"
      ],
      "text/plain": [
       "<Client: 'tcp://127.0.0.1:38821' processes=6 threads=6, memory=12.00 GB>"
      ]
     },
     "execution_count": 3,
     "metadata": {},
     "output_type": "execute_result"
    },
    {
     "data": {
      "application/javascript": [
       "\n",
       "            setTimeout(function() {\n",
       "                var nbb_cell_id = 3;\n",
       "                var nbb_unformatted_code = \"client = Client(n_workers=6, threads_per_worker=1, memory_limit='2GB')\\nclient\";\n",
       "                var nbb_formatted_code = \"client = Client(n_workers=6, threads_per_worker=1, memory_limit=\\\"2GB\\\")\\nclient\";\n",
       "                var nbb_cells = Jupyter.notebook.get_cells();\n",
       "                for (var i = 0; i < nbb_cells.length; ++i) {\n",
       "                    if (nbb_cells[i].input_prompt_number == nbb_cell_id) {\n",
       "                        if (nbb_cells[i].get_text() == nbb_unformatted_code) {\n",
       "                             nbb_cells[i].set_text(nbb_formatted_code);\n",
       "                        }\n",
       "                        break;\n",
       "                    }\n",
       "                }\n",
       "            }, 500);\n",
       "            "
      ],
      "text/plain": [
       "<IPython.core.display.Javascript object>"
      ]
     },
     "metadata": {},
     "output_type": "display_data"
    }
   ],
   "source": [
    "client = Client(n_workers=6, threads_per_worker=1, memory_limit=\"2GB\")\n",
    "client"
   ]
  },
  {
   "cell_type": "code",
   "execution_count": 12,
   "metadata": {},
   "outputs": [
    {
     "data": {
      "application/javascript": [
       "\n",
       "            setTimeout(function() {\n",
       "                var nbb_cell_id = 12;\n",
       "                var nbb_unformatted_code = \"import dask.dataframe as dd\\nimport joblib\";\n",
       "                var nbb_formatted_code = \"import dask.dataframe as dd\\nimport joblib\";\n",
       "                var nbb_cells = Jupyter.notebook.get_cells();\n",
       "                for (var i = 0; i < nbb_cells.length; ++i) {\n",
       "                    if (nbb_cells[i].input_prompt_number == nbb_cell_id) {\n",
       "                        if (nbb_cells[i].get_text() == nbb_unformatted_code) {\n",
       "                             nbb_cells[i].set_text(nbb_formatted_code);\n",
       "                        }\n",
       "                        break;\n",
       "                    }\n",
       "                }\n",
       "            }, 500);\n",
       "            "
      ],
      "text/plain": [
       "<IPython.core.display.Javascript object>"
      ]
     },
     "metadata": {},
     "output_type": "display_data"
    }
   ],
   "source": [
    "import dask.dataframe as dd\n",
    "import joblib"
   ]
  },
  {
   "cell_type": "code",
   "execution_count": 5,
   "metadata": {},
   "outputs": [
    {
     "data": {
      "application/javascript": [
       "\n",
       "            setTimeout(function() {\n",
       "                var nbb_cell_id = 5;\n",
       "                var nbb_unformatted_code = \"# To use all\\n# df_long = pd.read_csv(\\\"../data/features_30_sec.csv\\\")\\n# df_short = pd.read_csv(\\\"../data/features_3_sec.csv\\\")\\n# df = pd.concat((df_long, df_short))\\n\\n# To use just one\\n# df = pd.read_csv(\\\"../data/features_30_sec.csv\\\")\\ndf = dd.read_csv(\\\"../data/features_3_sec.csv\\\")\\n\\ndf[\\\"genre\\\"] = df[\\\"filename\\\"].str.split(\\\".\\\").str[0]\\n\\n# \\\"blues.00000.0.wav\\\" -> \\\"blues.00000\\\"\\n# and\\n# \\\"blues.00000.wav\\\" -> \\\"blues.00000\\\"\\n# logic: split on period, take first 2 elements, and but back together\\ndf[\\\"songname\\\"] = df[\\\"filename\\\"].str.split(\\\".\\\").str[:2].str.join(\\\".\\\")\";\n",
       "                var nbb_formatted_code = \"# To use all\\n# df_long = pd.read_csv(\\\"../data/features_30_sec.csv\\\")\\n# df_short = pd.read_csv(\\\"../data/features_3_sec.csv\\\")\\n# df = pd.concat((df_long, df_short))\\n\\n# To use just one\\n# df = pd.read_csv(\\\"../data/features_30_sec.csv\\\")\\ndf = dd.read_csv(\\\"../data/features_3_sec.csv\\\")\\n\\ndf[\\\"genre\\\"] = df[\\\"filename\\\"].str.split(\\\".\\\").str[0]\\n\\n# \\\"blues.00000.0.wav\\\" -> \\\"blues.00000\\\"\\n# and\\n# \\\"blues.00000.wav\\\" -> \\\"blues.00000\\\"\\n# logic: split on period, take first 2 elements, and but back together\\ndf[\\\"songname\\\"] = df[\\\"filename\\\"].str.split(\\\".\\\").str[:2].str.join(\\\".\\\")\";\n",
       "                var nbb_cells = Jupyter.notebook.get_cells();\n",
       "                for (var i = 0; i < nbb_cells.length; ++i) {\n",
       "                    if (nbb_cells[i].input_prompt_number == nbb_cell_id) {\n",
       "                        if (nbb_cells[i].get_text() == nbb_unformatted_code) {\n",
       "                             nbb_cells[i].set_text(nbb_formatted_code);\n",
       "                        }\n",
       "                        break;\n",
       "                    }\n",
       "                }\n",
       "            }, 500);\n",
       "            "
      ],
      "text/plain": [
       "<IPython.core.display.Javascript object>"
      ]
     },
     "metadata": {},
     "output_type": "display_data"
    }
   ],
   "source": [
    "# To use all\n",
    "# df_long = pd.read_csv(\"../data/features_30_sec.csv\")\n",
    "# df_short = pd.read_csv(\"../data/features_3_sec.csv\")\n",
    "# df = pd.concat((df_long, df_short))\n",
    "\n",
    "# To use just one\n",
    "# df = pd.read_csv(\"../data/features_30_sec.csv\")\n",
    "df = dd.read_csv(\"../data/features_3_sec.csv\")\n",
    "\n",
    "df[\"genre\"] = df[\"filename\"].str.split(\".\").str[0]\n",
    "\n",
    "# \"blues.00000.0.wav\" -> \"blues.00000\"\n",
    "# and\n",
    "# \"blues.00000.wav\" -> \"blues.00000\"\n",
    "# logic: split on period, take first 2 elements, and but back together\n",
    "df[\"songname\"] = df[\"filename\"].str.split(\".\").str[:2].str.join(\".\")"
   ]
  },
  {
   "cell_type": "code",
   "execution_count": 9,
   "metadata": {},
   "outputs": [
    {
     "data": {
      "application/javascript": [
       "\n",
       "            setTimeout(function() {\n",
       "                var nbb_cell_id = 9;\n",
       "                var nbb_unformatted_code = \"# generated by tuning vif and then checking model coefficients while tuning\\nkeep_cols = [\\n    \\\"chroma_stft_mean\\\",\\n    \\\"chroma_stft_var\\\",\\n    \\\"rms_var\\\",\\n    \\\"zero_crossing_rate_mean\\\",\\n    \\\"zero_crossing_rate_var\\\",\\n    \\\"harmony_mean\\\",\\n    \\\"harmony_var\\\",\\n    \\\"perceptr_mean\\\",\\n    \\\"tempo\\\",\\n    \\\"mfcc1_mean\\\",\\n    \\\"mfcc2_mean\\\",\\n    \\\"mfcc2_var\\\",\\n    \\\"mfcc3_mean\\\",\\n    \\\"mfcc3_var\\\",\\n    \\\"mfcc4_mean\\\",\\n    \\\"mfcc4_var\\\",\\n    \\\"mfcc5_var\\\",\\n    \\\"mfcc6_mean\\\",\\n    \\\"mfcc6_var\\\",\\n    \\\"mfcc7_mean\\\",\\n    \\\"mfcc8_mean\\\",\\n    \\\"mfcc8_var\\\",\\n    \\\"mfcc9_mean\\\",\\n    \\\"mfcc9_var\\\",\\n    \\\"mfcc10_var\\\",\\n    \\\"mfcc12_mean\\\",\\n    \\\"mfcc12_var\\\",\\n    \\\"mfcc13_mean\\\",\\n    \\\"mfcc15_mean\\\",\\n    \\\"mfcc15_var\\\",\\n    \\\"mfcc16_mean\\\",\\n    \\\"mfcc16_var\\\",\\n    \\\"mfcc17_mean\\\",\\n    \\\"mfcc18_mean\\\",\\n    \\\"mfcc19_mean\\\",\\n    \\\"mfcc19_var\\\",\\n]\";\n",
       "                var nbb_formatted_code = \"# generated by tuning vif and then checking model coefficients while tuning\\nkeep_cols = [\\n    \\\"chroma_stft_mean\\\",\\n    \\\"chroma_stft_var\\\",\\n    \\\"rms_var\\\",\\n    \\\"zero_crossing_rate_mean\\\",\\n    \\\"zero_crossing_rate_var\\\",\\n    \\\"harmony_mean\\\",\\n    \\\"harmony_var\\\",\\n    \\\"perceptr_mean\\\",\\n    \\\"tempo\\\",\\n    \\\"mfcc1_mean\\\",\\n    \\\"mfcc2_mean\\\",\\n    \\\"mfcc2_var\\\",\\n    \\\"mfcc3_mean\\\",\\n    \\\"mfcc3_var\\\",\\n    \\\"mfcc4_mean\\\",\\n    \\\"mfcc4_var\\\",\\n    \\\"mfcc5_var\\\",\\n    \\\"mfcc6_mean\\\",\\n    \\\"mfcc6_var\\\",\\n    \\\"mfcc7_mean\\\",\\n    \\\"mfcc8_mean\\\",\\n    \\\"mfcc8_var\\\",\\n    \\\"mfcc9_mean\\\",\\n    \\\"mfcc9_var\\\",\\n    \\\"mfcc10_var\\\",\\n    \\\"mfcc12_mean\\\",\\n    \\\"mfcc12_var\\\",\\n    \\\"mfcc13_mean\\\",\\n    \\\"mfcc15_mean\\\",\\n    \\\"mfcc15_var\\\",\\n    \\\"mfcc16_mean\\\",\\n    \\\"mfcc16_var\\\",\\n    \\\"mfcc17_mean\\\",\\n    \\\"mfcc18_mean\\\",\\n    \\\"mfcc19_mean\\\",\\n    \\\"mfcc19_var\\\",\\n]\";\n",
       "                var nbb_cells = Jupyter.notebook.get_cells();\n",
       "                for (var i = 0; i < nbb_cells.length; ++i) {\n",
       "                    if (nbb_cells[i].input_prompt_number == nbb_cell_id) {\n",
       "                        if (nbb_cells[i].get_text() == nbb_unformatted_code) {\n",
       "                             nbb_cells[i].set_text(nbb_formatted_code);\n",
       "                        }\n",
       "                        break;\n",
       "                    }\n",
       "                }\n",
       "            }, 500);\n",
       "            "
      ],
      "text/plain": [
       "<IPython.core.display.Javascript object>"
      ]
     },
     "metadata": {},
     "output_type": "display_data"
    }
   ],
   "source": [
    "# generated by tuning vif and then checking model coefficients while tuning\n",
    "keep_cols = [\n",
    "    \"chroma_stft_mean\",\n",
    "    \"chroma_stft_var\",\n",
    "    \"rms_var\",\n",
    "    \"zero_crossing_rate_mean\",\n",
    "    \"zero_crossing_rate_var\",\n",
    "    \"harmony_mean\",\n",
    "    \"harmony_var\",\n",
    "    \"perceptr_mean\",\n",
    "    \"tempo\",\n",
    "    \"mfcc1_mean\",\n",
    "    \"mfcc2_mean\",\n",
    "    \"mfcc2_var\",\n",
    "    \"mfcc3_mean\",\n",
    "    \"mfcc3_var\",\n",
    "    \"mfcc4_mean\",\n",
    "    \"mfcc4_var\",\n",
    "    \"mfcc5_var\",\n",
    "    \"mfcc6_mean\",\n",
    "    \"mfcc6_var\",\n",
    "    \"mfcc7_mean\",\n",
    "    \"mfcc8_mean\",\n",
    "    \"mfcc8_var\",\n",
    "    \"mfcc9_mean\",\n",
    "    \"mfcc9_var\",\n",
    "    \"mfcc10_var\",\n",
    "    \"mfcc12_mean\",\n",
    "    \"mfcc12_var\",\n",
    "    \"mfcc13_mean\",\n",
    "    \"mfcc15_mean\",\n",
    "    \"mfcc15_var\",\n",
    "    \"mfcc16_mean\",\n",
    "    \"mfcc16_var\",\n",
    "    \"mfcc17_mean\",\n",
    "    \"mfcc18_mean\",\n",
    "    \"mfcc19_mean\",\n",
    "    \"mfcc19_var\",\n",
    "]"
   ]
  },
  {
   "cell_type": "code",
   "execution_count": 10,
   "metadata": {},
   "outputs": [
    {
     "data": {
      "application/javascript": [
       "\n",
       "            setTimeout(function() {\n",
       "                var nbb_cell_id = 10;\n",
       "                var nbb_unformatted_code = \"X = df[keep_cols]\\ny = df[\\\"genre\\\"]\";\n",
       "                var nbb_formatted_code = \"X = df[keep_cols]\\ny = df[\\\"genre\\\"]\";\n",
       "                var nbb_cells = Jupyter.notebook.get_cells();\n",
       "                for (var i = 0; i < nbb_cells.length; ++i) {\n",
       "                    if (nbb_cells[i].input_prompt_number == nbb_cell_id) {\n",
       "                        if (nbb_cells[i].get_text() == nbb_unformatted_code) {\n",
       "                             nbb_cells[i].set_text(nbb_formatted_code);\n",
       "                        }\n",
       "                        break;\n",
       "                    }\n",
       "                }\n",
       "            }, 500);\n",
       "            "
      ],
      "text/plain": [
       "<IPython.core.display.Javascript object>"
      ]
     },
     "metadata": {},
     "output_type": "display_data"
    }
   ],
   "source": [
    "X = df[keep_cols]\n",
    "y = df[\"genre\"]"
   ]
  },
  {
   "cell_type": "code",
   "execution_count": 11,
   "metadata": {},
   "outputs": [
    {
     "data": {
      "application/javascript": [
       "\n",
       "            setTimeout(function() {\n",
       "                var nbb_cell_id = 11;\n",
       "                var nbb_unformatted_code = \"# Log all the variance features because of their distributions\\nX_logged = X.copy()\\nfor c in X_logged:\\n    if c.endswith(\\\"_var\\\"):\\n        X_logged[c] = np.log(X_logged[c])\";\n",
       "                var nbb_formatted_code = \"# Log all the variance features because of their distributions\\nX_logged = X.copy()\\nfor c in X_logged:\\n    if c.endswith(\\\"_var\\\"):\\n        X_logged[c] = np.log(X_logged[c])\";\n",
       "                var nbb_cells = Jupyter.notebook.get_cells();\n",
       "                for (var i = 0; i < nbb_cells.length; ++i) {\n",
       "                    if (nbb_cells[i].input_prompt_number == nbb_cell_id) {\n",
       "                        if (nbb_cells[i].get_text() == nbb_unformatted_code) {\n",
       "                             nbb_cells[i].set_text(nbb_formatted_code);\n",
       "                        }\n",
       "                        break;\n",
       "                    }\n",
       "                }\n",
       "            }, 500);\n",
       "            "
      ],
      "text/plain": [
       "<IPython.core.display.Javascript object>"
      ]
     },
     "metadata": {},
     "output_type": "display_data"
    }
   ],
   "source": [
    "# Log all the variance features because of their distributions\n",
    "X_logged = X.copy()\n",
    "for c in X_logged:\n",
    "    if c.endswith(\"_var\"):\n",
    "        X_logged[c] = np.log(X_logged[c])"
   ]
  },
  {
   "cell_type": "code",
   "execution_count": 16,
   "metadata": {},
   "outputs": [
    {
     "name": "stdout",
     "output_type": "stream",
     "text": [
      "(7990, 36) (7990,)\n",
      "(2000, 36) (2000,)\n"
     ]
    },
    {
     "data": {
      "application/javascript": [
       "\n",
       "            setTimeout(function() {\n",
       "                var nbb_cell_id = 16;\n",
       "                var nbb_unformatted_code = \"# og: \\\"blues.00000.0.wav\\\"\\n# songname: \\\"blues.00000\\\"\\n# genre: \\\"blues\\\"\\nsong_genre = df[[\\\"songname\\\", \\\"genre\\\"]].drop_duplicates()\\n\\n# stratification was done in another notebook.\\n# Some extra steps were taken.\\n# Stratify on the 30 second clips and then project down to the 3 second clips\\n\\ntrain_songs = pickle.load(open(\\\"../data/train_songs.p\\\", \\\"rb\\\"))\\ntest_songs = pickle.load(open(\\\"../data/test_songs.p\\\", \\\"rb\\\"))\\n\\ntrain_idxs = df[df[\\\"songname\\\"].isin(train_songs)].index\\ntest_idxs = df[df[\\\"songname\\\"].isin(test_songs)].index\\n\\nX_train = X_logged.loc[train_idxs, :]\\nX_test = X_logged.loc[test_idxs, :]\\ny_train = y[train_idxs]\\ny_test = y[test_idxs]\\n\\nprint(X_train.compute().shape, y_train.compute().shape)\\nprint(X_test.compute().shape, y_test.compute().shape)\";\n",
       "                var nbb_formatted_code = \"# og: \\\"blues.00000.0.wav\\\"\\n# songname: \\\"blues.00000\\\"\\n# genre: \\\"blues\\\"\\nsong_genre = df[[\\\"songname\\\", \\\"genre\\\"]].drop_duplicates()\\n\\n# stratification was done in another notebook.\\n# Some extra steps were taken.\\n# Stratify on the 30 second clips and then project down to the 3 second clips\\n\\ntrain_songs = pickle.load(open(\\\"../data/train_songs.p\\\", \\\"rb\\\"))\\ntest_songs = pickle.load(open(\\\"../data/test_songs.p\\\", \\\"rb\\\"))\\n\\ntrain_idxs = df[df[\\\"songname\\\"].isin(train_songs)].index\\ntest_idxs = df[df[\\\"songname\\\"].isin(test_songs)].index\\n\\nX_train = X_logged.loc[train_idxs, :]\\nX_test = X_logged.loc[test_idxs, :]\\ny_train = y[train_idxs]\\ny_test = y[test_idxs]\\n\\nprint(X_train.compute().shape, y_train.compute().shape)\\nprint(X_test.compute().shape, y_test.compute().shape)\";\n",
       "                var nbb_cells = Jupyter.notebook.get_cells();\n",
       "                for (var i = 0; i < nbb_cells.length; ++i) {\n",
       "                    if (nbb_cells[i].input_prompt_number == nbb_cell_id) {\n",
       "                        if (nbb_cells[i].get_text() == nbb_unformatted_code) {\n",
       "                             nbb_cells[i].set_text(nbb_formatted_code);\n",
       "                        }\n",
       "                        break;\n",
       "                    }\n",
       "                }\n",
       "            }, 500);\n",
       "            "
      ],
      "text/plain": [
       "<IPython.core.display.Javascript object>"
      ]
     },
     "metadata": {},
     "output_type": "display_data"
    }
   ],
   "source": [
    "# og: \"blues.00000.0.wav\"\n",
    "# songname: \"blues.00000\"\n",
    "# genre: \"blues\"\n",
    "song_genre = df[[\"songname\", \"genre\"]].drop_duplicates()\n",
    "\n",
    "# stratification was done in another notebook.\n",
    "# Some extra steps were taken.\n",
    "# Stratify on the 30 second clips and then project down to the 3 second clips\n",
    "\n",
    "train_songs = pickle.load(open(\"../data/train_songs.p\", \"rb\"))\n",
    "test_songs = pickle.load(open(\"../data/test_songs.p\", \"rb\"))\n",
    "\n",
    "train_idxs = df[df[\"songname\"].isin(train_songs)].index\n",
    "test_idxs = df[df[\"songname\"].isin(test_songs)].index\n",
    "\n",
    "X_train = X_logged.loc[train_idxs, :]\n",
    "X_test = X_logged.loc[test_idxs, :]\n",
    "y_train = y[train_idxs]\n",
    "y_test = y[test_idxs]\n",
    "\n",
    "print(X_train.compute().shape, y_train.compute().shape)\n",
    "print(X_test.compute().shape, y_test.compute().shape)"
   ]
  },
  {
   "cell_type": "code",
   "execution_count": 17,
   "metadata": {},
   "outputs": [
    {
     "data": {
      "text/plain": [
       "Dask Series Structure:\n",
       "npartitions=1\n",
       "    object\n",
       "       ...\n",
       "Name: genre, dtype: object\n",
       "Dask Name: index, 1 tasks"
      ]
     },
     "execution_count": 17,
     "metadata": {},
     "output_type": "execute_result"
    },
    {
     "data": {
      "application/javascript": [
       "\n",
       "            setTimeout(function() {\n",
       "                var nbb_cell_id = 17;\n",
       "                var nbb_unformatted_code = \"X_train.persist()\\nX_test.persist()\\ny_train.persist()\\ny_test.persist()\";\n",
       "                var nbb_formatted_code = \"X_train.persist()\\nX_test.persist()\\ny_train.persist()\\ny_test.persist()\";\n",
       "                var nbb_cells = Jupyter.notebook.get_cells();\n",
       "                for (var i = 0; i < nbb_cells.length; ++i) {\n",
       "                    if (nbb_cells[i].input_prompt_number == nbb_cell_id) {\n",
       "                        if (nbb_cells[i].get_text() == nbb_unformatted_code) {\n",
       "                             nbb_cells[i].set_text(nbb_formatted_code);\n",
       "                        }\n",
       "                        break;\n",
       "                    }\n",
       "                }\n",
       "            }, 500);\n",
       "            "
      ],
      "text/plain": [
       "<IPython.core.display.Javascript object>"
      ]
     },
     "metadata": {},
     "output_type": "display_data"
    }
   ],
   "source": [
    "X_train.persist()\n",
    "X_test.persist()\n",
    "y_train.persist()\n",
    "y_test.persist()"
   ]
  },
  {
   "cell_type": "code",
   "execution_count": 18,
   "metadata": {},
   "outputs": [
    {
     "data": {
      "application/javascript": [
       "\n",
       "            setTimeout(function() {\n",
       "                var nbb_cell_id = 18;\n",
       "                var nbb_unformatted_code = \"num_cols = list(X.columns)\\n\\npreprocessing = ColumnTransformer(\\n    [\\n        # Scale numeric columns (not needed for all models but can't hurt)\\n        (\\\"scaler\\\", StandardScaler(), num_cols)\\n    ],\\n    remainder=\\\"passthrough\\\",\\n)\\n\\n\\npipeline_knn = Pipeline(\\n    [\\n        (\\\"preprocessing\\\", preprocessing),\\n        #         (\\\"pca\\\", PCA()),\\n        # Choose your model and put it here\\n        (\\\"knn\\\", KNeighborsClassifier(weights=\\\"uniform\\\", n_neighbors=100)),\\n    ]\\n)\\n\\n\\n# pipeline_knn.fit(X_train, y=y_train)\\n\\n\\n# print(pipeline_knn.score(X_train, y_train))\\n# print(pipeline_knn.score(X_test, y_test))\";\n",
       "                var nbb_formatted_code = \"num_cols = list(X.columns)\\n\\npreprocessing = ColumnTransformer(\\n    [\\n        # Scale numeric columns (not needed for all models but can't hurt)\\n        (\\\"scaler\\\", StandardScaler(), num_cols)\\n    ],\\n    remainder=\\\"passthrough\\\",\\n)\\n\\n\\npipeline_knn = Pipeline(\\n    [\\n        (\\\"preprocessing\\\", preprocessing),\\n        #         (\\\"pca\\\", PCA()),\\n        # Choose your model and put it here\\n        (\\\"knn\\\", KNeighborsClassifier(weights=\\\"uniform\\\", n_neighbors=100)),\\n    ]\\n)\\n\\n\\n# pipeline_knn.fit(X_train, y=y_train)\\n\\n\\n# print(pipeline_knn.score(X_train, y_train))\\n# print(pipeline_knn.score(X_test, y_test))\";\n",
       "                var nbb_cells = Jupyter.notebook.get_cells();\n",
       "                for (var i = 0; i < nbb_cells.length; ++i) {\n",
       "                    if (nbb_cells[i].input_prompt_number == nbb_cell_id) {\n",
       "                        if (nbb_cells[i].get_text() == nbb_unformatted_code) {\n",
       "                             nbb_cells[i].set_text(nbb_formatted_code);\n",
       "                        }\n",
       "                        break;\n",
       "                    }\n",
       "                }\n",
       "            }, 500);\n",
       "            "
      ],
      "text/plain": [
       "<IPython.core.display.Javascript object>"
      ]
     },
     "metadata": {},
     "output_type": "display_data"
    }
   ],
   "source": [
    "num_cols = list(X.columns)\n",
    "\n",
    "preprocessing = ColumnTransformer(\n",
    "    [\n",
    "        # Scale numeric columns (not needed for all models but can't hurt)\n",
    "        (\"scaler\", StandardScaler(), num_cols)\n",
    "    ],\n",
    "    remainder=\"passthrough\",\n",
    ")\n",
    "\n",
    "\n",
    "pipeline_knn = Pipeline(\n",
    "    [\n",
    "        (\"preprocessing\", preprocessing),\n",
    "        #         (\"pca\", PCA()),\n",
    "        # Choose your model and put it here\n",
    "        (\"knn\", KNeighborsClassifier(weights=\"uniform\", n_neighbors=100)),\n",
    "    ]\n",
    ")\n",
    "\n",
    "\n",
    "# pipeline_knn.fit(X_train, y=y_train)\n",
    "\n",
    "\n",
    "# print(pipeline_knn.score(X_train, y_train))\n",
    "# print(pipeline_knn.score(X_test, y_test))"
   ]
  },
  {
   "cell_type": "code",
   "execution_count": 21,
   "metadata": {},
   "outputs": [
    {
     "data": {
      "text/plain": [
       "{'fit_time': array([0.45922542, 0.10578203, 0.1310823 , 0.30323076]),\n",
       " 'score_time': array([1.30521512, 1.48301768, 1.43849897, 1.45733213]),\n",
       " 'test_score': array([0.42742743, 0.49249249, 0.46069104, 0.41862794])}"
      ]
     },
     "execution_count": 21,
     "metadata": {},
     "output_type": "execute_result"
    },
    {
     "data": {
      "application/javascript": [
       "\n",
       "            setTimeout(function() {\n",
       "                var nbb_cell_id = 21;\n",
       "                var nbb_unformatted_code = \"with joblib.parallel_backend(\\\"dask\\\"):\\n    scores = cross_validate(pipeline_knn, X_train.compute(), y_train.compute(), cv=4)\\n\\nscores\";\n",
       "                var nbb_formatted_code = \"with joblib.parallel_backend(\\\"dask\\\"):\\n    scores = cross_validate(pipeline_knn, X_train.compute(), y_train.compute(), cv=4)\\n\\nscores\";\n",
       "                var nbb_cells = Jupyter.notebook.get_cells();\n",
       "                for (var i = 0; i < nbb_cells.length; ++i) {\n",
       "                    if (nbb_cells[i].input_prompt_number == nbb_cell_id) {\n",
       "                        if (nbb_cells[i].get_text() == nbb_unformatted_code) {\n",
       "                             nbb_cells[i].set_text(nbb_formatted_code);\n",
       "                        }\n",
       "                        break;\n",
       "                    }\n",
       "                }\n",
       "            }, 500);\n",
       "            "
      ],
      "text/plain": [
       "<IPython.core.display.Javascript object>"
      ]
     },
     "metadata": {},
     "output_type": "display_data"
    }
   ],
   "source": [
    "with joblib.parallel_backend(\"dask\"):\n",
    "    scores = cross_validate(pipeline_knn, X_train.compute(), y_train.compute(), cv=4)\n",
    "\n",
    "scores"
   ]
  },
  {
   "cell_type": "code",
   "execution_count": 22,
   "metadata": {},
   "outputs": [
    {
     "name": "stdout",
     "output_type": "stream",
     "text": [
      "0.7321652065081352\n",
      "0.628\n"
     ]
    },
    {
     "data": {
      "application/javascript": [
       "\n",
       "            setTimeout(function() {\n",
       "                var nbb_cell_id = 22;\n",
       "                var nbb_unformatted_code = \"\\npipeline_knn.fit(X_train, y=y_train)\\n\\n\\nprint(pipeline_knn.score(X_train, y_train))\\nprint(pipeline_knn.score(X_test, y_test))\";\n",
       "                var nbb_formatted_code = \"pipeline_knn.fit(X_train, y=y_train)\\n\\n\\nprint(pipeline_knn.score(X_train, y_train))\\nprint(pipeline_knn.score(X_test, y_test))\";\n",
       "                var nbb_cells = Jupyter.notebook.get_cells();\n",
       "                for (var i = 0; i < nbb_cells.length; ++i) {\n",
       "                    if (nbb_cells[i].input_prompt_number == nbb_cell_id) {\n",
       "                        if (nbb_cells[i].get_text() == nbb_unformatted_code) {\n",
       "                             nbb_cells[i].set_text(nbb_formatted_code);\n",
       "                        }\n",
       "                        break;\n",
       "                    }\n",
       "                }\n",
       "            }, 500);\n",
       "            "
      ],
      "text/plain": [
       "<IPython.core.display.Javascript object>"
      ]
     },
     "metadata": {},
     "output_type": "display_data"
    }
   ],
   "source": [
    "pipeline_knn.fit(X_train, y=y_train)\n",
    "\n",
    "\n",
    "print(pipeline_knn.score(X_train, y_train))\n",
    "print(pipeline_knn.score(X_test, y_test))"
   ]
  },
  {
   "cell_type": "code",
   "execution_count": 23,
   "metadata": {},
   "outputs": [
    {
     "data": {
      "application/javascript": [
       "\n",
       "            setTimeout(function() {\n",
       "                var nbb_cell_id = 23;\n",
       "                var nbb_unformatted_code = \"num_cols = list(X.columns)\\n\\npreprocessing = ColumnTransformer(\\n    [\\n        # Scale numeric columns (not needed for all models but can't hurt)\\n        (\\\"scaler\\\", StandardScaler(), num_cols)\\n    ],\\n    remainder=\\\"passthrough\\\",\\n)\\n\\n\\npipeline_svc = Pipeline(\\n    [\\n        (\\\"preprocessing\\\", preprocessing),\\n        #         (\\\"pca\\\", PCA()),\\n        # Choose your model and put it here\\n        (\\\"svc\\\", SVC(kernel=\\\"rbf\\\", C=10)),\\n    ]\\n)\";\n",
       "                var nbb_formatted_code = \"num_cols = list(X.columns)\\n\\npreprocessing = ColumnTransformer(\\n    [\\n        # Scale numeric columns (not needed for all models but can't hurt)\\n        (\\\"scaler\\\", StandardScaler(), num_cols)\\n    ],\\n    remainder=\\\"passthrough\\\",\\n)\\n\\n\\npipeline_svc = Pipeline(\\n    [\\n        (\\\"preprocessing\\\", preprocessing),\\n        #         (\\\"pca\\\", PCA()),\\n        # Choose your model and put it here\\n        (\\\"svc\\\", SVC(kernel=\\\"rbf\\\", C=10)),\\n    ]\\n)\";\n",
       "                var nbb_cells = Jupyter.notebook.get_cells();\n",
       "                for (var i = 0; i < nbb_cells.length; ++i) {\n",
       "                    if (nbb_cells[i].input_prompt_number == nbb_cell_id) {\n",
       "                        if (nbb_cells[i].get_text() == nbb_unformatted_code) {\n",
       "                             nbb_cells[i].set_text(nbb_formatted_code);\n",
       "                        }\n",
       "                        break;\n",
       "                    }\n",
       "                }\n",
       "            }, 500);\n",
       "            "
      ],
      "text/plain": [
       "<IPython.core.display.Javascript object>"
      ]
     },
     "metadata": {},
     "output_type": "display_data"
    }
   ],
   "source": [
    "num_cols = list(X.columns)\n",
    "\n",
    "preprocessing = ColumnTransformer(\n",
    "    [\n",
    "        # Scale numeric columns (not needed for all models but can't hurt)\n",
    "        (\"scaler\", StandardScaler(), num_cols)\n",
    "    ],\n",
    "    remainder=\"passthrough\",\n",
    ")\n",
    "\n",
    "\n",
    "pipeline_svc = Pipeline(\n",
    "    [\n",
    "        (\"preprocessing\", preprocessing),\n",
    "        #         (\"pca\", PCA()),\n",
    "        # Choose your model and put it here\n",
    "        (\"svc\", SVC(kernel=\"rbf\", C=10)),\n",
    "    ]\n",
    ")\n",
    "\n"
   ]
  },
  {
   "cell_type": "code",
   "execution_count": 24,
   "metadata": {},
   "outputs": [
    {
     "data": {
      "text/plain": [
       "{'fit_time': array([0.90983391, 0.93542743, 0.93849683, 0.92314005]),\n",
       " 'score_time': array([0.41796446, 0.39633226, 0.85081291, 0.39193892]),\n",
       " 'test_score': array([0.4964965 , 0.5975976 , 0.56284427, 0.52428643])}"
      ]
     },
     "execution_count": 24,
     "metadata": {},
     "output_type": "execute_result"
    },
    {
     "data": {
      "application/javascript": [
       "\n",
       "            setTimeout(function() {\n",
       "                var nbb_cell_id = 24;\n",
       "                var nbb_unformatted_code = \"with joblib.parallel_backend(\\\"dask\\\"):\\n    scores = cross_validate(pipeline_svc, X_train.compute(), y_train.compute(), cv=4)\\n\\nscores\";\n",
       "                var nbb_formatted_code = \"with joblib.parallel_backend(\\\"dask\\\"):\\n    scores = cross_validate(pipeline_svc, X_train.compute(), y_train.compute(), cv=4)\\n\\nscores\";\n",
       "                var nbb_cells = Jupyter.notebook.get_cells();\n",
       "                for (var i = 0; i < nbb_cells.length; ++i) {\n",
       "                    if (nbb_cells[i].input_prompt_number == nbb_cell_id) {\n",
       "                        if (nbb_cells[i].get_text() == nbb_unformatted_code) {\n",
       "                             nbb_cells[i].set_text(nbb_formatted_code);\n",
       "                        }\n",
       "                        break;\n",
       "                    }\n",
       "                }\n",
       "            }, 500);\n",
       "            "
      ],
      "text/plain": [
       "<IPython.core.display.Javascript object>"
      ]
     },
     "metadata": {},
     "output_type": "display_data"
    }
   ],
   "source": [
    "with joblib.parallel_backend(\"dask\"):\n",
    "    scores = cross_validate(pipeline_svc, X_train.compute(), y_train.compute(), cv=4)\n",
    "\n",
    "scores"
   ]
  },
  {
   "cell_type": "code",
   "execution_count": 25,
   "metadata": {},
   "outputs": [
    {
     "name": "stdout",
     "output_type": "stream",
     "text": [
      "0.9987484355444305\n",
      "0.7165\n"
     ]
    },
    {
     "data": {
      "application/javascript": [
       "\n",
       "            setTimeout(function() {\n",
       "                var nbb_cell_id = 25;\n",
       "                var nbb_unformatted_code = \"pipeline_svc.fit(X_train, y_train)\\n\\nprint(pipeline_svc.score(X_train, y_train))\\nprint(pipeline_svc.score(X_test, y_test))\";\n",
       "                var nbb_formatted_code = \"pipeline_svc.fit(X_train, y_train)\\n\\nprint(pipeline_svc.score(X_train, y_train))\\nprint(pipeline_svc.score(X_test, y_test))\";\n",
       "                var nbb_cells = Jupyter.notebook.get_cells();\n",
       "                for (var i = 0; i < nbb_cells.length; ++i) {\n",
       "                    if (nbb_cells[i].input_prompt_number == nbb_cell_id) {\n",
       "                        if (nbb_cells[i].get_text() == nbb_unformatted_code) {\n",
       "                             nbb_cells[i].set_text(nbb_formatted_code);\n",
       "                        }\n",
       "                        break;\n",
       "                    }\n",
       "                }\n",
       "            }, 500);\n",
       "            "
      ],
      "text/plain": [
       "<IPython.core.display.Javascript object>"
      ]
     },
     "metadata": {},
     "output_type": "display_data"
    }
   ],
   "source": [
    "pipeline_svc.fit(X_train, y_train)\n",
    "\n",
    "print(pipeline_svc.score(X_train, y_train))\n",
    "print(pipeline_svc.score(X_test, y_test))"
   ]
  },
  {
   "cell_type": "code",
   "execution_count": 26,
   "metadata": {},
   "outputs": [
    {
     "data": {
      "application/javascript": [
       "\n",
       "            setTimeout(function() {\n",
       "                var nbb_cell_id = 26;\n",
       "                var nbb_unformatted_code = \"num_cols = list(X.columns)\\n\\npreprocessing = ColumnTransformer(\\n    [\\n        # Scale numeric columns (not needed for all models but can't hurt)\\n        (\\\"scaler\\\", StandardScaler(), num_cols)\\n    ],\\n    remainder=\\\"passthrough\\\",\\n)\\n\\n\\npipeline = Pipeline(\\n    [\\n        (\\\"preprocessing\\\", preprocessing),\\n        #         (\\\"pca\\\", PCA()),\\n        # Choose your model and put it here\\n        (\\n            \\\"log\\\",\\n            LogisticRegression(\\n                max_iter=800, penalty=\\\"elasticnet\\\", solver=\\\"saga\\\", C=0.1, l1_ratio=0.5\\n            ),\\n        ),\\n    ]\\n)\";\n",
       "                var nbb_formatted_code = \"num_cols = list(X.columns)\\n\\npreprocessing = ColumnTransformer(\\n    [\\n        # Scale numeric columns (not needed for all models but can't hurt)\\n        (\\\"scaler\\\", StandardScaler(), num_cols)\\n    ],\\n    remainder=\\\"passthrough\\\",\\n)\\n\\n\\npipeline = Pipeline(\\n    [\\n        (\\\"preprocessing\\\", preprocessing),\\n        #         (\\\"pca\\\", PCA()),\\n        # Choose your model and put it here\\n        (\\n            \\\"log\\\",\\n            LogisticRegression(\\n                max_iter=800, penalty=\\\"elasticnet\\\", solver=\\\"saga\\\", C=0.1, l1_ratio=0.5\\n            ),\\n        ),\\n    ]\\n)\";\n",
       "                var nbb_cells = Jupyter.notebook.get_cells();\n",
       "                for (var i = 0; i < nbb_cells.length; ++i) {\n",
       "                    if (nbb_cells[i].input_prompt_number == nbb_cell_id) {\n",
       "                        if (nbb_cells[i].get_text() == nbb_unformatted_code) {\n",
       "                             nbb_cells[i].set_text(nbb_formatted_code);\n",
       "                        }\n",
       "                        break;\n",
       "                    }\n",
       "                }\n",
       "            }, 500);\n",
       "            "
      ],
      "text/plain": [
       "<IPython.core.display.Javascript object>"
      ]
     },
     "metadata": {},
     "output_type": "display_data"
    }
   ],
   "source": [
    "num_cols = list(X.columns)\n",
    "\n",
    "preprocessing = ColumnTransformer(\n",
    "    [\n",
    "        # Scale numeric columns (not needed for all models but can't hurt)\n",
    "        (\"scaler\", StandardScaler(), num_cols)\n",
    "    ],\n",
    "    remainder=\"passthrough\",\n",
    ")\n",
    "\n",
    "\n",
    "pipeline = Pipeline(\n",
    "    [\n",
    "        (\"preprocessing\", preprocessing),\n",
    "        #         (\"pca\", PCA()),\n",
    "        # Choose your model and put it here\n",
    "        (\n",
    "            \"log\",\n",
    "            LogisticRegression(\n",
    "                max_iter=800, penalty=\"elasticnet\", solver=\"saga\", C=0.1, l1_ratio=0.5\n",
    "            ),\n",
    "        ),\n",
    "    ]\n",
    ")\n",
    "\n"
   ]
  },
  {
   "cell_type": "code",
   "execution_count": 27,
   "metadata": {},
   "outputs": [
    {
     "data": {
      "text/plain": [
       "{'fit_time': array([4.71645594, 2.36453271, 4.47998762, 4.29329538]),\n",
       " 'score_time': array([0.07666302, 0.03719211, 0.03573394, 0.03163028]),\n",
       " 'test_score': array([0.48948949, 0.58708709, 0.54131197, 0.49474211])}"
      ]
     },
     "execution_count": 27,
     "metadata": {},
     "output_type": "execute_result"
    },
    {
     "data": {
      "application/javascript": [
       "\n",
       "            setTimeout(function() {\n",
       "                var nbb_cell_id = 27;\n",
       "                var nbb_unformatted_code = \"with joblib.parallel_backend(\\\"dask\\\"):\\n    scores = cross_validate(pipeline, X_train.compute(), y_train.compute(), cv=4)\\n\\nscores\";\n",
       "                var nbb_formatted_code = \"with joblib.parallel_backend(\\\"dask\\\"):\\n    scores = cross_validate(pipeline, X_train.compute(), y_train.compute(), cv=4)\\n\\nscores\";\n",
       "                var nbb_cells = Jupyter.notebook.get_cells();\n",
       "                for (var i = 0; i < nbb_cells.length; ++i) {\n",
       "                    if (nbb_cells[i].input_prompt_number == nbb_cell_id) {\n",
       "                        if (nbb_cells[i].get_text() == nbb_unformatted_code) {\n",
       "                             nbb_cells[i].set_text(nbb_formatted_code);\n",
       "                        }\n",
       "                        break;\n",
       "                    }\n",
       "                }\n",
       "            }, 500);\n",
       "            "
      ],
      "text/plain": [
       "<IPython.core.display.Javascript object>"
      ]
     },
     "metadata": {},
     "output_type": "display_data"
    }
   ],
   "source": [
    "with joblib.parallel_backend(\"dask\"):\n",
    "    scores = cross_validate(pipeline, X_train.compute(), y_train.compute(), cv=4)\n",
    "\n",
    "scores"
   ]
  },
  {
   "cell_type": "code",
   "execution_count": 28,
   "metadata": {},
   "outputs": [
    {
     "name": "stdout",
     "output_type": "stream",
     "text": [
      "0.7058823529411765\n",
      "0.65\n"
     ]
    },
    {
     "data": {
      "application/javascript": [
       "\n",
       "            setTimeout(function() {\n",
       "                var nbb_cell_id = 28;\n",
       "                var nbb_unformatted_code = \"pipeline.fit(X_train, y_train)\\n\\nprint(pipeline.score(X_train, y_train))\\nprint(pipeline.score(X_test, y_test))\";\n",
       "                var nbb_formatted_code = \"pipeline.fit(X_train, y_train)\\n\\nprint(pipeline.score(X_train, y_train))\\nprint(pipeline.score(X_test, y_test))\";\n",
       "                var nbb_cells = Jupyter.notebook.get_cells();\n",
       "                for (var i = 0; i < nbb_cells.length; ++i) {\n",
       "                    if (nbb_cells[i].input_prompt_number == nbb_cell_id) {\n",
       "                        if (nbb_cells[i].get_text() == nbb_unformatted_code) {\n",
       "                             nbb_cells[i].set_text(nbb_formatted_code);\n",
       "                        }\n",
       "                        break;\n",
       "                    }\n",
       "                }\n",
       "            }, 500);\n",
       "            "
      ],
      "text/plain": [
       "<IPython.core.display.Javascript object>"
      ]
     },
     "metadata": {},
     "output_type": "display_data"
    }
   ],
   "source": [
    "pipeline.fit(X_train, y_train)\n",
    "\n",
    "print(pipeline.score(X_train, y_train))\n",
    "print(pipeline.score(X_test, y_test))"
   ]
  },
  {
   "cell_type": "code",
   "execution_count": null,
   "metadata": {},
   "outputs": [],
   "source": [
    "client.close()"
   ]
  }
 ],
 "metadata": {
  "kernelspec": {
   "display_name": "Python 3",
   "language": "python",
   "name": "python3"
  },
  "language_info": {
   "codemirror_mode": {
    "name": "ipython",
    "version": 3
   },
   "file_extension": ".py",
   "mimetype": "text/x-python",
   "name": "python",
   "nbconvert_exporter": "python",
   "pygments_lexer": "ipython3",
   "version": "3.8.5"
  }
 },
 "nbformat": 4,
 "nbformat_minor": 4
}
