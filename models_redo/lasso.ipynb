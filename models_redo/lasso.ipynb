{
 "cells": [
  {
   "cell_type": "code",
   "execution_count": 1,
   "metadata": {},
   "outputs": [
    {
     "data": {
      "application/javascript": [
       "\n",
       "            setTimeout(function() {\n",
       "                var nbb_cell_id = 1;\n",
       "                var nbb_unformatted_code = \"%reload_ext nb_black\";\n",
       "                var nbb_formatted_code = \"%reload_ext nb_black\";\n",
       "                var nbb_cells = Jupyter.notebook.get_cells();\n",
       "                for (var i = 0; i < nbb_cells.length; ++i) {\n",
       "                    if (nbb_cells[i].input_prompt_number == nbb_cell_id) {\n",
       "                        if (nbb_cells[i].get_text() == nbb_unformatted_code) {\n",
       "                             nbb_cells[i].set_text(nbb_formatted_code);\n",
       "                        }\n",
       "                        break;\n",
       "                    }\n",
       "                }\n",
       "            }, 500);\n",
       "            "
      ],
      "text/plain": [
       "<IPython.core.display.Javascript object>"
      ]
     },
     "metadata": {},
     "output_type": "display_data"
    }
   ],
   "source": [
    "%reload_ext nb_black"
   ]
  },
  {
   "cell_type": "code",
   "execution_count": 2,
   "metadata": {},
   "outputs": [
    {
     "data": {
      "application/javascript": [
       "\n",
       "            setTimeout(function() {\n",
       "                var nbb_cell_id = 2;\n",
       "                var nbb_unformatted_code = \"import warnings\\n\\nimport pandas as pd\\nimport numpy as np\\nimport pickle\\n\\nimport statsmodels.api as sm\\nfrom statsmodels.stats.outliers_influence import variance_inflation_factor\\n\\nimport seaborn as sns\\nimport matplotlib.pyplot as plt\\n\\nfrom sklearn.model_selection import train_test_split, GridSearchCV\\nfrom sklearn.metrics import (\\n    classification_report,\\n    confusion_matrix,\\n    fbeta_score,\\n    f1_score,\\n    make_scorer,\\n    accuracy_score,\\n)\\n\\nfrom sklearn.pipeline import Pipeline\\nfrom sklearn.compose import ColumnTransformer\\nfrom sklearn.preprocessing import StandardScaler\\n\\nfrom sklearn.linear_model import LogisticRegression, Lasso, RidgeClassifier\";\n",
       "                var nbb_formatted_code = \"import warnings\\n\\nimport pandas as pd\\nimport numpy as np\\nimport pickle\\n\\nimport statsmodels.api as sm\\nfrom statsmodels.stats.outliers_influence import variance_inflation_factor\\n\\nimport seaborn as sns\\nimport matplotlib.pyplot as plt\\n\\nfrom sklearn.model_selection import train_test_split, GridSearchCV\\nfrom sklearn.metrics import (\\n    classification_report,\\n    confusion_matrix,\\n    fbeta_score,\\n    f1_score,\\n    make_scorer,\\n    accuracy_score,\\n)\\n\\nfrom sklearn.pipeline import Pipeline\\nfrom sklearn.compose import ColumnTransformer\\nfrom sklearn.preprocessing import StandardScaler\\n\\nfrom sklearn.linear_model import LogisticRegression, Lasso, RidgeClassifier\";\n",
       "                var nbb_cells = Jupyter.notebook.get_cells();\n",
       "                for (var i = 0; i < nbb_cells.length; ++i) {\n",
       "                    if (nbb_cells[i].input_prompt_number == nbb_cell_id) {\n",
       "                        if (nbb_cells[i].get_text() == nbb_unformatted_code) {\n",
       "                             nbb_cells[i].set_text(nbb_formatted_code);\n",
       "                        }\n",
       "                        break;\n",
       "                    }\n",
       "                }\n",
       "            }, 500);\n",
       "            "
      ],
      "text/plain": [
       "<IPython.core.display.Javascript object>"
      ]
     },
     "metadata": {},
     "output_type": "display_data"
    }
   ],
   "source": [
    "import warnings\n",
    "\n",
    "import pandas as pd\n",
    "import numpy as np\n",
    "import pickle\n",
    "\n",
    "import statsmodels.api as sm\n",
    "from statsmodels.stats.outliers_influence import variance_inflation_factor\n",
    "\n",
    "import seaborn as sns\n",
    "import matplotlib.pyplot as plt\n",
    "\n",
    "from sklearn.model_selection import train_test_split, GridSearchCV\n",
    "from sklearn.metrics import (\n",
    "    classification_report,\n",
    "    confusion_matrix,\n",
    "    fbeta_score,\n",
    "    f1_score,\n",
    "    make_scorer,\n",
    "    accuracy_score,\n",
    ")\n",
    "\n",
    "from sklearn.pipeline import Pipeline\n",
    "from sklearn.compose import ColumnTransformer\n",
    "from sklearn.preprocessing import StandardScaler\n",
    "\n",
    "from sklearn.linear_model import LogisticRegression, Lasso, RidgeClassifier"
   ]
  },
  {
   "cell_type": "code",
   "execution_count": 3,
   "metadata": {},
   "outputs": [
    {
     "data": {
      "application/javascript": [
       "\n",
       "            setTimeout(function() {\n",
       "                var nbb_cell_id = 3;\n",
       "                var nbb_unformatted_code = \"def print_vif(x):\\n    \\\"\\\"\\\"Utility for checking multicollinearity assumption\\n    \\n    :param x: input features to check using VIF. This is assumed to be a pandas.DataFrame\\n    :return: nothing is returned the VIFs are printed as a pandas series\\n    \\\"\\\"\\\"\\n    # Silence numpy FutureWarning about .ptp\\n    with warnings.catch_warnings():\\n        warnings.simplefilter(\\\"ignore\\\")\\n        x = sm.add_constant(x)\\n\\n    vifs = []\\n    for i in range(x.shape[1]):\\n        vif = variance_inflation_factor(x.values, i)\\n        vifs.append(vif)\\n\\n    print(\\\"VIF results\\\\n-------------------------------\\\")\\n    print(pd.Series(vifs, index=x.columns))\\n    print(\\\"-------------------------------\\\\n\\\")\";\n",
       "                var nbb_formatted_code = \"def print_vif(x):\\n    \\\"\\\"\\\"Utility for checking multicollinearity assumption\\n    \\n    :param x: input features to check using VIF. This is assumed to be a pandas.DataFrame\\n    :return: nothing is returned the VIFs are printed as a pandas series\\n    \\\"\\\"\\\"\\n    # Silence numpy FutureWarning about .ptp\\n    with warnings.catch_warnings():\\n        warnings.simplefilter(\\\"ignore\\\")\\n        x = sm.add_constant(x)\\n\\n    vifs = []\\n    for i in range(x.shape[1]):\\n        vif = variance_inflation_factor(x.values, i)\\n        vifs.append(vif)\\n\\n    print(\\\"VIF results\\\\n-------------------------------\\\")\\n    print(pd.Series(vifs, index=x.columns))\\n    print(\\\"-------------------------------\\\\n\\\")\";\n",
       "                var nbb_cells = Jupyter.notebook.get_cells();\n",
       "                for (var i = 0; i < nbb_cells.length; ++i) {\n",
       "                    if (nbb_cells[i].input_prompt_number == nbb_cell_id) {\n",
       "                        if (nbb_cells[i].get_text() == nbb_unformatted_code) {\n",
       "                             nbb_cells[i].set_text(nbb_formatted_code);\n",
       "                        }\n",
       "                        break;\n",
       "                    }\n",
       "                }\n",
       "            }, 500);\n",
       "            "
      ],
      "text/plain": [
       "<IPython.core.display.Javascript object>"
      ]
     },
     "metadata": {},
     "output_type": "display_data"
    }
   ],
   "source": [
    "def print_vif(x):\n",
    "    \"\"\"Utility for checking multicollinearity assumption\n",
    "    \n",
    "    :param x: input features to check using VIF. This is assumed to be a pandas.DataFrame\n",
    "    :return: nothing is returned the VIFs are printed as a pandas series\n",
    "    \"\"\"\n",
    "    # Silence numpy FutureWarning about .ptp\n",
    "    with warnings.catch_warnings():\n",
    "        warnings.simplefilter(\"ignore\")\n",
    "        x = sm.add_constant(x)\n",
    "\n",
    "    vifs = []\n",
    "    for i in range(x.shape[1]):\n",
    "        vif = variance_inflation_factor(x.values, i)\n",
    "        vifs.append(vif)\n",
    "\n",
    "    print(\"VIF results\\n-------------------------------\")\n",
    "    print(pd.Series(vifs, index=x.columns))\n",
    "    print(\"-------------------------------\\n\")"
   ]
  },
  {
   "cell_type": "code",
   "execution_count": 4,
   "metadata": {},
   "outputs": [
    {
     "data": {
      "application/javascript": [
       "\n",
       "            setTimeout(function() {\n",
       "                var nbb_cell_id = 4;\n",
       "                var nbb_unformatted_code = \"# To use all\\n# df_long = pd.read_csv(\\\"../data/features_30_sec.csv\\\")\\n# df_short = pd.read_csv(\\\"../data/features_3_sec.csv\\\")\\n# df = pd.concat((df_long, df_short))\\n\\n# To use just one\\n# df = pd.read_csv(\\\"../data/features_30_sec.csv\\\")\\ndf = pd.read_csv(\\\"../data/features_3_sec.csv\\\")\\n\\ndf[\\\"genre\\\"] = df[\\\"filename\\\"].str.split(\\\".\\\").str[0]\\n\\n# \\\"blues.00000.0.wav\\\" -> \\\"blues.00000\\\"\\n# and\\n# \\\"blues.00000.wav\\\" -> \\\"blues.00000\\\"\\n# logic: split on period, take first 2 elements, and but back together\\ndf[\\\"songname\\\"] = df[\\\"filename\\\"].str.split(\\\".\\\").str[:2].str.join(\\\".\\\")\";\n",
       "                var nbb_formatted_code = \"# To use all\\n# df_long = pd.read_csv(\\\"../data/features_30_sec.csv\\\")\\n# df_short = pd.read_csv(\\\"../data/features_3_sec.csv\\\")\\n# df = pd.concat((df_long, df_short))\\n\\n# To use just one\\n# df = pd.read_csv(\\\"../data/features_30_sec.csv\\\")\\ndf = pd.read_csv(\\\"../data/features_3_sec.csv\\\")\\n\\ndf[\\\"genre\\\"] = df[\\\"filename\\\"].str.split(\\\".\\\").str[0]\\n\\n# \\\"blues.00000.0.wav\\\" -> \\\"blues.00000\\\"\\n# and\\n# \\\"blues.00000.wav\\\" -> \\\"blues.00000\\\"\\n# logic: split on period, take first 2 elements, and but back together\\ndf[\\\"songname\\\"] = df[\\\"filename\\\"].str.split(\\\".\\\").str[:2].str.join(\\\".\\\")\";\n",
       "                var nbb_cells = Jupyter.notebook.get_cells();\n",
       "                for (var i = 0; i < nbb_cells.length; ++i) {\n",
       "                    if (nbb_cells[i].input_prompt_number == nbb_cell_id) {\n",
       "                        if (nbb_cells[i].get_text() == nbb_unformatted_code) {\n",
       "                             nbb_cells[i].set_text(nbb_formatted_code);\n",
       "                        }\n",
       "                        break;\n",
       "                    }\n",
       "                }\n",
       "            }, 500);\n",
       "            "
      ],
      "text/plain": [
       "<IPython.core.display.Javascript object>"
      ]
     },
     "metadata": {},
     "output_type": "display_data"
    }
   ],
   "source": [
    "# To use all\n",
    "# df_long = pd.read_csv(\"../data/features_30_sec.csv\")\n",
    "# df_short = pd.read_csv(\"../data/features_3_sec.csv\")\n",
    "# df = pd.concat((df_long, df_short))\n",
    "\n",
    "# To use just one\n",
    "# df = pd.read_csv(\"../data/features_30_sec.csv\")\n",
    "df = pd.read_csv(\"../data/features_3_sec.csv\")\n",
    "\n",
    "df[\"genre\"] = df[\"filename\"].str.split(\".\").str[0]\n",
    "\n",
    "# \"blues.00000.0.wav\" -> \"blues.00000\"\n",
    "# and\n",
    "# \"blues.00000.wav\" -> \"blues.00000\"\n",
    "# logic: split on period, take first 2 elements, and but back together\n",
    "df[\"songname\"] = df[\"filename\"].str.split(\".\").str[:2].str.join(\".\")"
   ]
  },
  {
   "cell_type": "code",
   "execution_count": 5,
   "metadata": {},
   "outputs": [
    {
     "data": {
      "application/javascript": [
       "\n",
       "            setTimeout(function() {\n",
       "                var nbb_cell_id = 5;\n",
       "                var nbb_unformatted_code = \"keep_cols = [\\n    \\\"chroma_stft_mean\\\",\\n    \\\"chroma_stft_var\\\",\\n    \\\"rms_var\\\",\\n    \\\"zero_crossing_rate_mean\\\",\\n    \\\"harmony_mean\\\",\\n    \\\"harmony_var\\\",\\n    \\\"perceptr_mean\\\",\\n    # \\\"tempo\\\",\\n    \\\"mfcc1_mean\\\",\\n    \\\"mfcc2_mean\\\",\\n    \\\"mfcc2_var\\\",\\n    \\\"mfcc3_mean\\\",\\n    \\\"mfcc3_var\\\",\\n    \\\"mfcc4_mean\\\",\\n    # \\\"mfcc4_var\\\",\\n    \\\"mfcc5_var\\\",\\n    \\\"mfcc6_mean\\\",\\n    \\\"mfcc6_var\\\",\\n    \\\"mfcc7_mean\\\",\\n    \\\"mfcc8_mean\\\",\\n    \\\"mfcc8_var\\\",\\n    \\\"mfcc9_mean\\\",\\n    \\\"mfcc9_var\\\",\\n    \\\"mfcc10_var\\\",\\n    \\\"mfcc12_mean\\\",\\n    \\\"mfcc12_var\\\",\\n    \\\"mfcc13_mean\\\",\\n    \\\"mfcc15_mean\\\",\\n    \\\"mfcc15_var\\\",\\n    \\\"mfcc16_mean\\\",\\n    \\\"mfcc16_var\\\",\\n    \\\"mfcc17_mean\\\",\\n    \\\"mfcc18_mean\\\",\\n    \\\"mfcc19_mean\\\",\\n    \\\"mfcc19_var\\\",\\n]\";\n",
       "                var nbb_formatted_code = \"keep_cols = [\\n    \\\"chroma_stft_mean\\\",\\n    \\\"chroma_stft_var\\\",\\n    \\\"rms_var\\\",\\n    \\\"zero_crossing_rate_mean\\\",\\n    \\\"harmony_mean\\\",\\n    \\\"harmony_var\\\",\\n    \\\"perceptr_mean\\\",\\n    # \\\"tempo\\\",\\n    \\\"mfcc1_mean\\\",\\n    \\\"mfcc2_mean\\\",\\n    \\\"mfcc2_var\\\",\\n    \\\"mfcc3_mean\\\",\\n    \\\"mfcc3_var\\\",\\n    \\\"mfcc4_mean\\\",\\n    # \\\"mfcc4_var\\\",\\n    \\\"mfcc5_var\\\",\\n    \\\"mfcc6_mean\\\",\\n    \\\"mfcc6_var\\\",\\n    \\\"mfcc7_mean\\\",\\n    \\\"mfcc8_mean\\\",\\n    \\\"mfcc8_var\\\",\\n    \\\"mfcc9_mean\\\",\\n    \\\"mfcc9_var\\\",\\n    \\\"mfcc10_var\\\",\\n    \\\"mfcc12_mean\\\",\\n    \\\"mfcc12_var\\\",\\n    \\\"mfcc13_mean\\\",\\n    \\\"mfcc15_mean\\\",\\n    \\\"mfcc15_var\\\",\\n    \\\"mfcc16_mean\\\",\\n    \\\"mfcc16_var\\\",\\n    \\\"mfcc17_mean\\\",\\n    \\\"mfcc18_mean\\\",\\n    \\\"mfcc19_mean\\\",\\n    \\\"mfcc19_var\\\",\\n]\";\n",
       "                var nbb_cells = Jupyter.notebook.get_cells();\n",
       "                for (var i = 0; i < nbb_cells.length; ++i) {\n",
       "                    if (nbb_cells[i].input_prompt_number == nbb_cell_id) {\n",
       "                        if (nbb_cells[i].get_text() == nbb_unformatted_code) {\n",
       "                             nbb_cells[i].set_text(nbb_formatted_code);\n",
       "                        }\n",
       "                        break;\n",
       "                    }\n",
       "                }\n",
       "            }, 500);\n",
       "            "
      ],
      "text/plain": [
       "<IPython.core.display.Javascript object>"
      ]
     },
     "metadata": {},
     "output_type": "display_data"
    }
   ],
   "source": [
    "keep_cols = [\n",
    "    \"chroma_stft_mean\",\n",
    "    \"chroma_stft_var\",\n",
    "    \"rms_var\",\n",
    "    \"zero_crossing_rate_mean\",\n",
    "    \"harmony_mean\",\n",
    "    \"harmony_var\",\n",
    "    \"perceptr_mean\",\n",
    "    # \"tempo\",\n",
    "    \"mfcc1_mean\",\n",
    "    \"mfcc2_mean\",\n",
    "    \"mfcc2_var\",\n",
    "    \"mfcc3_mean\",\n",
    "    \"mfcc3_var\",\n",
    "    \"mfcc4_mean\",\n",
    "    # \"mfcc4_var\",\n",
    "    \"mfcc5_var\",\n",
    "    \"mfcc6_mean\",\n",
    "    \"mfcc6_var\",\n",
    "    \"mfcc7_mean\",\n",
    "    \"mfcc8_mean\",\n",
    "    \"mfcc8_var\",\n",
    "    \"mfcc9_mean\",\n",
    "    \"mfcc9_var\",\n",
    "    \"mfcc10_var\",\n",
    "    \"mfcc12_mean\",\n",
    "    \"mfcc12_var\",\n",
    "    \"mfcc13_mean\",\n",
    "    \"mfcc15_mean\",\n",
    "    \"mfcc15_var\",\n",
    "    \"mfcc16_mean\",\n",
    "    \"mfcc16_var\",\n",
    "    \"mfcc17_mean\",\n",
    "    \"mfcc18_mean\",\n",
    "    \"mfcc19_mean\",\n",
    "    \"mfcc19_var\",\n",
    "]"
   ]
  },
  {
   "cell_type": "code",
   "execution_count": 6,
   "metadata": {},
   "outputs": [
    {
     "data": {
      "application/javascript": [
       "\n",
       "            setTimeout(function() {\n",
       "                var nbb_cell_id = 6;\n",
       "                var nbb_unformatted_code = \"# X = df.drop(columns=drop_cols + [\\\"genre\\\"])\\nX = df[keep_cols]\\ny = df[\\\"genre\\\"]\";\n",
       "                var nbb_formatted_code = \"# X = df.drop(columns=drop_cols + [\\\"genre\\\"])\\nX = df[keep_cols]\\ny = df[\\\"genre\\\"]\";\n",
       "                var nbb_cells = Jupyter.notebook.get_cells();\n",
       "                for (var i = 0; i < nbb_cells.length; ++i) {\n",
       "                    if (nbb_cells[i].input_prompt_number == nbb_cell_id) {\n",
       "                        if (nbb_cells[i].get_text() == nbb_unformatted_code) {\n",
       "                             nbb_cells[i].set_text(nbb_formatted_code);\n",
       "                        }\n",
       "                        break;\n",
       "                    }\n",
       "                }\n",
       "            }, 500);\n",
       "            "
      ],
      "text/plain": [
       "<IPython.core.display.Javascript object>"
      ]
     },
     "metadata": {},
     "output_type": "display_data"
    }
   ],
   "source": [
    "# X = df.drop(columns=drop_cols + [\"genre\"])\n",
    "X = df[keep_cols]\n",
    "y = df[\"genre\"]"
   ]
  },
  {
   "cell_type": "code",
   "execution_count": 7,
   "metadata": {},
   "outputs": [
    {
     "data": {
      "application/javascript": [
       "\n",
       "            setTimeout(function() {\n",
       "                var nbb_cell_id = 7;\n",
       "                var nbb_unformatted_code = \"X_logged = X.copy()\\nfor c in X_logged:\\n    if c.endswith(\\\"_var\\\"):\\n        X_logged[c] = np.log(X_logged[c])\";\n",
       "                var nbb_formatted_code = \"X_logged = X.copy()\\nfor c in X_logged:\\n    if c.endswith(\\\"_var\\\"):\\n        X_logged[c] = np.log(X_logged[c])\";\n",
       "                var nbb_cells = Jupyter.notebook.get_cells();\n",
       "                for (var i = 0; i < nbb_cells.length; ++i) {\n",
       "                    if (nbb_cells[i].input_prompt_number == nbb_cell_id) {\n",
       "                        if (nbb_cells[i].get_text() == nbb_unformatted_code) {\n",
       "                             nbb_cells[i].set_text(nbb_formatted_code);\n",
       "                        }\n",
       "                        break;\n",
       "                    }\n",
       "                }\n",
       "            }, 500);\n",
       "            "
      ],
      "text/plain": [
       "<IPython.core.display.Javascript object>"
      ]
     },
     "metadata": {},
     "output_type": "display_data"
    }
   ],
   "source": [
    "X_logged = X.copy()\n",
    "for c in X_logged:\n",
    "    if c.endswith(\"_var\"):\n",
    "        X_logged[c] = np.log(X_logged[c])"
   ]
  },
  {
   "cell_type": "code",
   "execution_count": 8,
   "metadata": {},
   "outputs": [
    {
     "name": "stdout",
     "output_type": "stream",
     "text": [
      "VIF results\n",
      "-------------------------------\n",
      "const                      1421.874645\n",
      "chroma_stft_mean              3.723235\n",
      "chroma_stft_var               2.481061\n",
      "rms_var                       4.003560\n",
      "zero_crossing_rate_mean       4.948138\n",
      "harmony_mean                  1.476700\n",
      "harmony_var                   5.176070\n",
      "perceptr_mean                 1.575498\n",
      "mfcc1_mean                    8.748168\n",
      "mfcc2_mean                    5.746644\n",
      "mfcc2_var                     2.059273\n",
      "mfcc3_mean                    2.390669\n",
      "mfcc3_var                     2.375633\n",
      "mfcc4_mean                    2.253628\n",
      "mfcc5_var                     2.534218\n",
      "mfcc6_mean                    3.356153\n",
      "mfcc6_var                     2.906920\n",
      "mfcc7_mean                    2.948474\n",
      "mfcc8_mean                    3.603997\n",
      "mfcc8_var                     2.500590\n",
      "mfcc9_mean                    2.681704\n",
      "mfcc9_var                     2.344943\n",
      "mfcc10_var                    2.170304\n",
      "mfcc12_mean                   2.441018\n",
      "mfcc12_var                    2.047849\n",
      "mfcc13_mean                   2.368853\n",
      "mfcc15_mean                   2.287476\n",
      "mfcc15_var                    2.189238\n",
      "mfcc16_mean                   2.150306\n",
      "mfcc16_var                    2.135587\n",
      "mfcc17_mean                   2.237300\n",
      "mfcc18_mean                   1.998926\n",
      "mfcc19_mean                   1.572194\n",
      "mfcc19_var                    1.858027\n",
      "dtype: float64\n",
      "-------------------------------\n",
      "\n"
     ]
    },
    {
     "data": {
      "application/javascript": [
       "\n",
       "            setTimeout(function() {\n",
       "                var nbb_cell_id = 8;\n",
       "                var nbb_unformatted_code = \"print_vif(X_logged)\";\n",
       "                var nbb_formatted_code = \"print_vif(X_logged)\";\n",
       "                var nbb_cells = Jupyter.notebook.get_cells();\n",
       "                for (var i = 0; i < nbb_cells.length; ++i) {\n",
       "                    if (nbb_cells[i].input_prompt_number == nbb_cell_id) {\n",
       "                        if (nbb_cells[i].get_text() == nbb_unformatted_code) {\n",
       "                             nbb_cells[i].set_text(nbb_formatted_code);\n",
       "                        }\n",
       "                        break;\n",
       "                    }\n",
       "                }\n",
       "            }, 500);\n",
       "            "
      ],
      "text/plain": [
       "<IPython.core.display.Javascript object>"
      ]
     },
     "metadata": {},
     "output_type": "display_data"
    }
   ],
   "source": [
    "print_vif(X_logged)"
   ]
  },
  {
   "cell_type": "code",
   "execution_count": 24,
   "metadata": {},
   "outputs": [
    {
     "name": "stdout",
     "output_type": "stream",
     "text": [
      "(7990, 33) (7990,)\n",
      "(2000, 33) (2000,)\n"
     ]
    },
    {
     "data": {
      "application/javascript": [
       "\n",
       "            setTimeout(function() {\n",
       "                var nbb_cell_id = 24;\n",
       "                var nbb_unformatted_code = \"# og: \\\"blues.00000.0.wav\\\"\\n# songname: \\\"blues.00000\\\"\\n# genre: \\\"blues\\\"\\nsong_genre = df[[\\\"songname\\\", \\\"genre\\\"]].drop_duplicates()\\n\\n# train_songs, test_songs = train_test_split(\\n#     song_genre[\\\"songname\\\"], test_size=0.2, random_state=42, stratify=song_genre[\\\"genre\\\"]\\n# )\\n\\ntrain_songs = pickle.load(open(\\\"../data/train_songs.p\\\", \\\"rb\\\"))\\ntest_songs = pickle.load(open(\\\"../data/test_songs.p\\\", \\\"rb\\\"))\\n\\ntrain_idxs = df[df[\\\"songname\\\"].isin(train_songs)].index\\ntest_idxs = df[df[\\\"songname\\\"].isin(test_songs)].index\\n\\nX_train = X_logged.loc[train_idxs, :]\\nX_test = X_logged.loc[test_idxs, :]\\ny_train = y[train_idxs]\\ny_test = y[test_idxs]\\n\\nprint(X_train.shape, y_train.shape)\\nprint(X_test.shape, y_test.shape)\";\n",
       "                var nbb_formatted_code = \"# og: \\\"blues.00000.0.wav\\\"\\n# songname: \\\"blues.00000\\\"\\n# genre: \\\"blues\\\"\\nsong_genre = df[[\\\"songname\\\", \\\"genre\\\"]].drop_duplicates()\\n\\n# train_songs, test_songs = train_test_split(\\n#     song_genre[\\\"songname\\\"], test_size=0.2, random_state=42, stratify=song_genre[\\\"genre\\\"]\\n# )\\n\\ntrain_songs = pickle.load(open(\\\"../data/train_songs.p\\\", \\\"rb\\\"))\\ntest_songs = pickle.load(open(\\\"../data/test_songs.p\\\", \\\"rb\\\"))\\n\\ntrain_idxs = df[df[\\\"songname\\\"].isin(train_songs)].index\\ntest_idxs = df[df[\\\"songname\\\"].isin(test_songs)].index\\n\\nX_train = X_logged.loc[train_idxs, :]\\nX_test = X_logged.loc[test_idxs, :]\\ny_train = y[train_idxs]\\ny_test = y[test_idxs]\\n\\nprint(X_train.shape, y_train.shape)\\nprint(X_test.shape, y_test.shape)\";\n",
       "                var nbb_cells = Jupyter.notebook.get_cells();\n",
       "                for (var i = 0; i < nbb_cells.length; ++i) {\n",
       "                    if (nbb_cells[i].input_prompt_number == nbb_cell_id) {\n",
       "                        if (nbb_cells[i].get_text() == nbb_unformatted_code) {\n",
       "                             nbb_cells[i].set_text(nbb_formatted_code);\n",
       "                        }\n",
       "                        break;\n",
       "                    }\n",
       "                }\n",
       "            }, 500);\n",
       "            "
      ],
      "text/plain": [
       "<IPython.core.display.Javascript object>"
      ]
     },
     "metadata": {},
     "output_type": "display_data"
    }
   ],
   "source": [
    "# og: \"blues.00000.0.wav\"\n",
    "# songname: \"blues.00000\"\n",
    "# genre: \"blues\"\n",
    "song_genre = df[[\"songname\", \"genre\"]].drop_duplicates()\n",
    "\n",
    "# train_songs, test_songs = train_test_split(\n",
    "#     song_genre[\"songname\"], test_size=0.2, random_state=42, stratify=song_genre[\"genre\"]\n",
    "# )\n",
    "\n",
    "train_songs = pickle.load(open(\"../data/train_songs.p\", \"rb\"))\n",
    "test_songs = pickle.load(open(\"../data/test_songs.p\", \"rb\"))\n",
    "\n",
    "train_idxs = df[df[\"songname\"].isin(train_songs)].index\n",
    "test_idxs = df[df[\"songname\"].isin(test_songs)].index\n",
    "\n",
    "X_train = X_logged.loc[train_idxs, :]\n",
    "X_test = X_logged.loc[test_idxs, :]\n",
    "y_train = y[train_idxs]\n",
    "y_test = y[test_idxs]\n",
    "\n",
    "print(X_train.shape, y_train.shape)\n",
    "print(X_test.shape, y_test.shape)"
   ]
  },
  {
   "cell_type": "code",
   "execution_count": 25,
   "metadata": {},
   "outputs": [
    {
     "data": {
      "text/plain": [
       "set()"
      ]
     },
     "execution_count": 25,
     "metadata": {},
     "output_type": "execute_result"
    },
    {
     "data": {
      "application/javascript": [
       "\n",
       "            setTimeout(function() {\n",
       "                var nbb_cell_id = 25;\n",
       "                var nbb_unformatted_code = \"# Prove no overlap of songs between train/test\\nset(train_songs).intersection(set(test_songs))\";\n",
       "                var nbb_formatted_code = \"# Prove no overlap of songs between train/test\\nset(train_songs).intersection(set(test_songs))\";\n",
       "                var nbb_cells = Jupyter.notebook.get_cells();\n",
       "                for (var i = 0; i < nbb_cells.length; ++i) {\n",
       "                    if (nbb_cells[i].input_prompt_number == nbb_cell_id) {\n",
       "                        if (nbb_cells[i].get_text() == nbb_unformatted_code) {\n",
       "                             nbb_cells[i].set_text(nbb_formatted_code);\n",
       "                        }\n",
       "                        break;\n",
       "                    }\n",
       "                }\n",
       "            }, 500);\n",
       "            "
      ],
      "text/plain": [
       "<IPython.core.display.Javascript object>"
      ]
     },
     "metadata": {},
     "output_type": "display_data"
    }
   ],
   "source": [
    "# Prove no overlap of songs between train/test\n",
    "set(train_songs).intersection(set(test_songs))"
   ]
  },
  {
   "cell_type": "code",
   "execution_count": 26,
   "metadata": {},
   "outputs": [
    {
     "name": "stdout",
     "output_type": "stream",
     "text": [
      "0.6993742177722153\n",
      "0.653\n"
     ]
    },
    {
     "data": {
      "application/javascript": [
       "\n",
       "            setTimeout(function() {\n",
       "                var nbb_cell_id = 26;\n",
       "                var nbb_unformatted_code = \"num_cols = list(X.columns)\\n\\npreprocessing = ColumnTransformer(\\n    [\\n        # Scale numeric columns (not needed for all models but can't hurt)\\n        (\\\"scaler\\\", StandardScaler(), num_cols)\\n    ],\\n    remainder=\\\"passthrough\\\",\\n)\\n\\n\\npipeline = Pipeline(\\n    [\\n        (\\\"preprocessing\\\", preprocessing),\\n        #         (\\\"pca\\\", PCA()),\\n        # Choose your model and put it here\\n        (\\\"log\\\", LogisticRegression(max_iter=1000, penalty=\\\"l1\\\", solver=\\\"saga\\\", C=0.1),),\\n    ]\\n)\\n\\npipeline.fit(X_train, y_train)\\n\\nprint(pipeline.score(X_train, y_train))\\nprint(pipeline.score(X_test, y_test))\";\n",
       "                var nbb_formatted_code = \"num_cols = list(X.columns)\\n\\npreprocessing = ColumnTransformer(\\n    [\\n        # Scale numeric columns (not needed for all models but can't hurt)\\n        (\\\"scaler\\\", StandardScaler(), num_cols)\\n    ],\\n    remainder=\\\"passthrough\\\",\\n)\\n\\n\\npipeline = Pipeline(\\n    [\\n        (\\\"preprocessing\\\", preprocessing),\\n        #         (\\\"pca\\\", PCA()),\\n        # Choose your model and put it here\\n        (\\\"log\\\", LogisticRegression(max_iter=1000, penalty=\\\"l1\\\", solver=\\\"saga\\\", C=0.1),),\\n    ]\\n)\\n\\npipeline.fit(X_train, y_train)\\n\\nprint(pipeline.score(X_train, y_train))\\nprint(pipeline.score(X_test, y_test))\";\n",
       "                var nbb_cells = Jupyter.notebook.get_cells();\n",
       "                for (var i = 0; i < nbb_cells.length; ++i) {\n",
       "                    if (nbb_cells[i].input_prompt_number == nbb_cell_id) {\n",
       "                        if (nbb_cells[i].get_text() == nbb_unformatted_code) {\n",
       "                             nbb_cells[i].set_text(nbb_formatted_code);\n",
       "                        }\n",
       "                        break;\n",
       "                    }\n",
       "                }\n",
       "            }, 500);\n",
       "            "
      ],
      "text/plain": [
       "<IPython.core.display.Javascript object>"
      ]
     },
     "metadata": {},
     "output_type": "display_data"
    }
   ],
   "source": [
    "num_cols = list(X.columns)\n",
    "\n",
    "preprocessing = ColumnTransformer(\n",
    "    [\n",
    "        # Scale numeric columns (not needed for all models but can't hurt)\n",
    "        (\"scaler\", StandardScaler(), num_cols)\n",
    "    ],\n",
    "    remainder=\"passthrough\",\n",
    ")\n",
    "\n",
    "\n",
    "pipeline = Pipeline(\n",
    "    [\n",
    "        (\"preprocessing\", preprocessing),\n",
    "        #         (\"pca\", PCA()),\n",
    "        # Choose your model and put it here\n",
    "        (\"log\", LogisticRegression(max_iter=1000, penalty=\"l1\", solver=\"saga\", C=0.1),),\n",
    "    ]\n",
    ")\n",
    "\n",
    "pipeline.fit(X_train, y_train)\n",
    "\n",
    "print(pipeline.score(X_train, y_train))\n",
    "print(pipeline.score(X_test, y_test))"
   ]
  },
  {
   "cell_type": "code",
   "execution_count": null,
   "metadata": {},
   "outputs": [],
   "source": []
  },
  {
   "cell_type": "code",
   "execution_count": 12,
   "metadata": {
    "scrolled": true
   },
   "outputs": [
    {
     "data": {
      "text/html": [
       "<div>\n",
       "<style scoped>\n",
       "    .dataframe tbody tr th:only-of-type {\n",
       "        vertical-align: middle;\n",
       "    }\n",
       "\n",
       "    .dataframe tbody tr th {\n",
       "        vertical-align: top;\n",
       "    }\n",
       "\n",
       "    .dataframe thead th {\n",
       "        text-align: right;\n",
       "    }\n",
       "</style>\n",
       "<table border=\"1\" class=\"dataframe\">\n",
       "  <thead>\n",
       "    <tr style=\"text-align: right;\">\n",
       "      <th></th>\n",
       "      <th>feat</th>\n",
       "      <th>coef</th>\n",
       "      <th>abs_coef</th>\n",
       "    </tr>\n",
       "  </thead>\n",
       "  <tbody>\n",
       "    <tr>\n",
       "      <th>7</th>\n",
       "      <td>mfcc1_mean</td>\n",
       "      <td>-1.987090</td>\n",
       "      <td>1.987090</td>\n",
       "    </tr>\n",
       "    <tr>\n",
       "      <th>8</th>\n",
       "      <td>mfcc2_mean</td>\n",
       "      <td>1.165546</td>\n",
       "      <td>1.165546</td>\n",
       "    </tr>\n",
       "    <tr>\n",
       "      <th>5</th>\n",
       "      <td>harmony_var</td>\n",
       "      <td>1.025689</td>\n",
       "      <td>1.025689</td>\n",
       "    </tr>\n",
       "    <tr>\n",
       "      <th>2</th>\n",
       "      <td>rms_var</td>\n",
       "      <td>0.987684</td>\n",
       "      <td>0.987684</td>\n",
       "    </tr>\n",
       "    <tr>\n",
       "      <th>14</th>\n",
       "      <td>mfcc6_mean</td>\n",
       "      <td>0.881589</td>\n",
       "      <td>0.881589</td>\n",
       "    </tr>\n",
       "    <tr>\n",
       "      <th>12</th>\n",
       "      <td>mfcc4_mean</td>\n",
       "      <td>0.875775</td>\n",
       "      <td>0.875775</td>\n",
       "    </tr>\n",
       "    <tr>\n",
       "      <th>9</th>\n",
       "      <td>mfcc2_var</td>\n",
       "      <td>-0.754643</td>\n",
       "      <td>0.754643</td>\n",
       "    </tr>\n",
       "    <tr>\n",
       "      <th>3</th>\n",
       "      <td>zero_crossing_rate_mean</td>\n",
       "      <td>0.673838</td>\n",
       "      <td>0.673838</td>\n",
       "    </tr>\n",
       "    <tr>\n",
       "      <th>16</th>\n",
       "      <td>mfcc7_mean</td>\n",
       "      <td>-0.475049</td>\n",
       "      <td>0.475049</td>\n",
       "    </tr>\n",
       "    <tr>\n",
       "      <th>13</th>\n",
       "      <td>mfcc5_var</td>\n",
       "      <td>0.436923</td>\n",
       "      <td>0.436923</td>\n",
       "    </tr>\n",
       "    <tr>\n",
       "      <th>30</th>\n",
       "      <td>mfcc18_mean</td>\n",
       "      <td>-0.430899</td>\n",
       "      <td>0.430899</td>\n",
       "    </tr>\n",
       "    <tr>\n",
       "      <th>10</th>\n",
       "      <td>mfcc3_mean</td>\n",
       "      <td>0.428543</td>\n",
       "      <td>0.428543</td>\n",
       "    </tr>\n",
       "    <tr>\n",
       "      <th>17</th>\n",
       "      <td>mfcc8_mean</td>\n",
       "      <td>0.383598</td>\n",
       "      <td>0.383598</td>\n",
       "    </tr>\n",
       "    <tr>\n",
       "      <th>22</th>\n",
       "      <td>mfcc12_mean</td>\n",
       "      <td>-0.352757</td>\n",
       "      <td>0.352757</td>\n",
       "    </tr>\n",
       "    <tr>\n",
       "      <th>15</th>\n",
       "      <td>mfcc6_var</td>\n",
       "      <td>-0.311756</td>\n",
       "      <td>0.311756</td>\n",
       "    </tr>\n",
       "    <tr>\n",
       "      <th>20</th>\n",
       "      <td>mfcc9_var</td>\n",
       "      <td>-0.227499</td>\n",
       "      <td>0.227499</td>\n",
       "    </tr>\n",
       "    <tr>\n",
       "      <th>29</th>\n",
       "      <td>mfcc17_mean</td>\n",
       "      <td>-0.220196</td>\n",
       "      <td>0.220196</td>\n",
       "    </tr>\n",
       "    <tr>\n",
       "      <th>1</th>\n",
       "      <td>chroma_stft_var</td>\n",
       "      <td>0.202816</td>\n",
       "      <td>0.202816</td>\n",
       "    </tr>\n",
       "    <tr>\n",
       "      <th>4</th>\n",
       "      <td>harmony_mean</td>\n",
       "      <td>0.198189</td>\n",
       "      <td>0.198189</td>\n",
       "    </tr>\n",
       "    <tr>\n",
       "      <th>25</th>\n",
       "      <td>mfcc15_mean</td>\n",
       "      <td>-0.182647</td>\n",
       "      <td>0.182647</td>\n",
       "    </tr>\n",
       "    <tr>\n",
       "      <th>28</th>\n",
       "      <td>mfcc16_var</td>\n",
       "      <td>0.173370</td>\n",
       "      <td>0.173370</td>\n",
       "    </tr>\n",
       "    <tr>\n",
       "      <th>24</th>\n",
       "      <td>mfcc13_mean</td>\n",
       "      <td>-0.171279</td>\n",
       "      <td>0.171279</td>\n",
       "    </tr>\n",
       "    <tr>\n",
       "      <th>32</th>\n",
       "      <td>mfcc19_var</td>\n",
       "      <td>0.146402</td>\n",
       "      <td>0.146402</td>\n",
       "    </tr>\n",
       "    <tr>\n",
       "      <th>6</th>\n",
       "      <td>perceptr_mean</td>\n",
       "      <td>-0.128904</td>\n",
       "      <td>0.128904</td>\n",
       "    </tr>\n",
       "    <tr>\n",
       "      <th>0</th>\n",
       "      <td>chroma_stft_mean</td>\n",
       "      <td>-0.126811</td>\n",
       "      <td>0.126811</td>\n",
       "    </tr>\n",
       "    <tr>\n",
       "      <th>19</th>\n",
       "      <td>mfcc9_mean</td>\n",
       "      <td>-0.109165</td>\n",
       "      <td>0.109165</td>\n",
       "    </tr>\n",
       "    <tr>\n",
       "      <th>11</th>\n",
       "      <td>mfcc3_var</td>\n",
       "      <td>0.102146</td>\n",
       "      <td>0.102146</td>\n",
       "    </tr>\n",
       "    <tr>\n",
       "      <th>27</th>\n",
       "      <td>mfcc16_mean</td>\n",
       "      <td>0.095159</td>\n",
       "      <td>0.095159</td>\n",
       "    </tr>\n",
       "    <tr>\n",
       "      <th>26</th>\n",
       "      <td>mfcc15_var</td>\n",
       "      <td>0.088219</td>\n",
       "      <td>0.088219</td>\n",
       "    </tr>\n",
       "    <tr>\n",
       "      <th>21</th>\n",
       "      <td>mfcc10_var</td>\n",
       "      <td>-0.084100</td>\n",
       "      <td>0.084100</td>\n",
       "    </tr>\n",
       "    <tr>\n",
       "      <th>23</th>\n",
       "      <td>mfcc12_var</td>\n",
       "      <td>-0.068139</td>\n",
       "      <td>0.068139</td>\n",
       "    </tr>\n",
       "    <tr>\n",
       "      <th>31</th>\n",
       "      <td>mfcc19_mean</td>\n",
       "      <td>0.060363</td>\n",
       "      <td>0.060363</td>\n",
       "    </tr>\n",
       "    <tr>\n",
       "      <th>18</th>\n",
       "      <td>mfcc8_var</td>\n",
       "      <td>0.042674</td>\n",
       "      <td>0.042674</td>\n",
       "    </tr>\n",
       "  </tbody>\n",
       "</table>\n",
       "</div>"
      ],
      "text/plain": [
       "                       feat      coef  abs_coef\n",
       "7                mfcc1_mean -1.987090  1.987090\n",
       "8                mfcc2_mean  1.165546  1.165546\n",
       "5               harmony_var  1.025689  1.025689\n",
       "2                   rms_var  0.987684  0.987684\n",
       "14               mfcc6_mean  0.881589  0.881589\n",
       "12               mfcc4_mean  0.875775  0.875775\n",
       "9                 mfcc2_var -0.754643  0.754643\n",
       "3   zero_crossing_rate_mean  0.673838  0.673838\n",
       "16               mfcc7_mean -0.475049  0.475049\n",
       "13                mfcc5_var  0.436923  0.436923\n",
       "30              mfcc18_mean -0.430899  0.430899\n",
       "10               mfcc3_mean  0.428543  0.428543\n",
       "17               mfcc8_mean  0.383598  0.383598\n",
       "22              mfcc12_mean -0.352757  0.352757\n",
       "15                mfcc6_var -0.311756  0.311756\n",
       "20                mfcc9_var -0.227499  0.227499\n",
       "29              mfcc17_mean -0.220196  0.220196\n",
       "1           chroma_stft_var  0.202816  0.202816\n",
       "4              harmony_mean  0.198189  0.198189\n",
       "25              mfcc15_mean -0.182647  0.182647\n",
       "28               mfcc16_var  0.173370  0.173370\n",
       "24              mfcc13_mean -0.171279  0.171279\n",
       "32               mfcc19_var  0.146402  0.146402\n",
       "6             perceptr_mean -0.128904  0.128904\n",
       "0          chroma_stft_mean -0.126811  0.126811\n",
       "19               mfcc9_mean -0.109165  0.109165\n",
       "11                mfcc3_var  0.102146  0.102146\n",
       "27              mfcc16_mean  0.095159  0.095159\n",
       "26               mfcc15_var  0.088219  0.088219\n",
       "21               mfcc10_var -0.084100  0.084100\n",
       "23               mfcc12_var -0.068139  0.068139\n",
       "31              mfcc19_mean  0.060363  0.060363\n",
       "18                mfcc8_var  0.042674  0.042674"
      ]
     },
     "execution_count": 12,
     "metadata": {},
     "output_type": "execute_result"
    },
    {
     "data": {
      "application/javascript": [
       "\n",
       "            setTimeout(function() {\n",
       "                var nbb_cell_id = 12;\n",
       "                var nbb_unformatted_code = \"coef_df = pd.DataFrame(\\n    {\\\"feat\\\": X_train.columns, \\\"coef\\\": pipeline.named_steps[\\\"log\\\"].coef_[0]}\\n)\\ncoef_df[\\\"abs_coef\\\"] = np.abs(coef_df[\\\"coef\\\"])\\ncoef_df.sort_values(\\\"abs_coef\\\", ascending=False)\";\n",
       "                var nbb_formatted_code = \"coef_df = pd.DataFrame(\\n    {\\\"feat\\\": X_train.columns, \\\"coef\\\": pipeline.named_steps[\\\"log\\\"].coef_[0]}\\n)\\ncoef_df[\\\"abs_coef\\\"] = np.abs(coef_df[\\\"coef\\\"])\\ncoef_df.sort_values(\\\"abs_coef\\\", ascending=False)\";\n",
       "                var nbb_cells = Jupyter.notebook.get_cells();\n",
       "                for (var i = 0; i < nbb_cells.length; ++i) {\n",
       "                    if (nbb_cells[i].input_prompt_number == nbb_cell_id) {\n",
       "                        if (nbb_cells[i].get_text() == nbb_unformatted_code) {\n",
       "                             nbb_cells[i].set_text(nbb_formatted_code);\n",
       "                        }\n",
       "                        break;\n",
       "                    }\n",
       "                }\n",
       "            }, 500);\n",
       "            "
      ],
      "text/plain": [
       "<IPython.core.display.Javascript object>"
      ]
     },
     "metadata": {},
     "output_type": "display_data"
    }
   ],
   "source": [
    "coef_df = pd.DataFrame(\n",
    "    {\"feat\": X_train.columns, \"coef\": pipeline.named_steps[\"log\"].coef_[0]}\n",
    ")\n",
    "coef_df[\"abs_coef\"] = np.abs(coef_df[\"coef\"])\n",
    "coef_df.sort_values(\"abs_coef\", ascending=False)"
   ]
  },
  {
   "cell_type": "code",
   "execution_count": 13,
   "metadata": {
    "scrolled": true
   },
   "outputs": [
    {
     "name": "stdout",
     "output_type": "stream",
     "text": [
      "[[117   0   7   1   0  27  10   0  21  17]\n",
      " [  0 193   0   0   0   6   0   0   0   1]\n",
      " [ 17   0 118   5   4   9   7   3   3  34]\n",
      " [  0   1   6 130  20   1   4  20   2  16]\n",
      " [  2   0   6  13  94   0  10  36  35   4]\n",
      " [  3  34  11   1   0 137   0   2   4   8]\n",
      " [  0   0   0  12   6   0 173   0   4   5]\n",
      " [  0   2   8   6  10   2   0 165   3   4]\n",
      " [  3   0  20  12  17   2   6   4 127   9]\n",
      " [ 15   2  14  41   5  15  35  18   3  52]]\n",
      "              precision    recall  f1-score   support\n",
      "\n",
      "       blues       0.75      0.58      0.66       200\n",
      "   classical       0.83      0.96      0.89       200\n",
      "     country       0.62      0.59      0.61       200\n",
      "       disco       0.59      0.65      0.62       200\n",
      "      hiphop       0.60      0.47      0.53       200\n",
      "        jazz       0.69      0.69      0.69       200\n",
      "       metal       0.71      0.86      0.78       200\n",
      "         pop       0.67      0.82      0.74       200\n",
      "      reggae       0.63      0.64      0.63       200\n",
      "        rock       0.35      0.26      0.30       200\n",
      "\n",
      "    accuracy                           0.65      2000\n",
      "   macro avg       0.64      0.65      0.64      2000\n",
      "weighted avg       0.64      0.65      0.64      2000\n",
      "\n"
     ]
    },
    {
     "data": {
      "application/javascript": [
       "\n",
       "            setTimeout(function() {\n",
       "                var nbb_cell_id = 13;\n",
       "                var nbb_unformatted_code = \"y_pred = pipeline.predict(X_test)\\n\\nprint(confusion_matrix(y_test, y_pred))\\nprint(classification_report(y_test, y_pred))\";\n",
       "                var nbb_formatted_code = \"y_pred = pipeline.predict(X_test)\\n\\nprint(confusion_matrix(y_test, y_pred))\\nprint(classification_report(y_test, y_pred))\";\n",
       "                var nbb_cells = Jupyter.notebook.get_cells();\n",
       "                for (var i = 0; i < nbb_cells.length; ++i) {\n",
       "                    if (nbb_cells[i].input_prompt_number == nbb_cell_id) {\n",
       "                        if (nbb_cells[i].get_text() == nbb_unformatted_code) {\n",
       "                             nbb_cells[i].set_text(nbb_formatted_code);\n",
       "                        }\n",
       "                        break;\n",
       "                    }\n",
       "                }\n",
       "            }, 500);\n",
       "            "
      ],
      "text/plain": [
       "<IPython.core.display.Javascript object>"
      ]
     },
     "metadata": {},
     "output_type": "display_data"
    }
   ],
   "source": [
    "y_pred = pipeline.predict(X_test)\n",
    "\n",
    "print(confusion_matrix(y_test, y_pred))\n",
    "print(classification_report(y_test, y_pred))"
   ]
  },
  {
   "cell_type": "code",
   "execution_count": 14,
   "metadata": {},
   "outputs": [
    {
     "data": {
      "application/javascript": [
       "\n",
       "            setTimeout(function() {\n",
       "                var nbb_cell_id = 14;\n",
       "                var nbb_unformatted_code = \"df[\\\"predictions\\\"] = pipeline.predict(X_logged[keep_cols])\";\n",
       "                var nbb_formatted_code = \"df[\\\"predictions\\\"] = pipeline.predict(X_logged[keep_cols])\";\n",
       "                var nbb_cells = Jupyter.notebook.get_cells();\n",
       "                for (var i = 0; i < nbb_cells.length; ++i) {\n",
       "                    if (nbb_cells[i].input_prompt_number == nbb_cell_id) {\n",
       "                        if (nbb_cells[i].get_text() == nbb_unformatted_code) {\n",
       "                             nbb_cells[i].set_text(nbb_formatted_code);\n",
       "                        }\n",
       "                        break;\n",
       "                    }\n",
       "                }\n",
       "            }, 500);\n",
       "            "
      ],
      "text/plain": [
       "<IPython.core.display.Javascript object>"
      ]
     },
     "metadata": {},
     "output_type": "display_data"
    }
   ],
   "source": [
    "df[\"predictions\"] = pipeline.predict(X_logged[keep_cols])"
   ]
  },
  {
   "cell_type": "code",
   "execution_count": 15,
   "metadata": {
    "scrolled": false
   },
   "outputs": [
    {
     "data": {
      "application/javascript": [
       "\n",
       "            setTimeout(function() {\n",
       "                var nbb_cell_id = 15;\n",
       "                var nbb_unformatted_code = \"long = pd.read_csv(\\\"../data/features_30_sec.csv\\\")\";\n",
       "                var nbb_formatted_code = \"long = pd.read_csv(\\\"../data/features_30_sec.csv\\\")\";\n",
       "                var nbb_cells = Jupyter.notebook.get_cells();\n",
       "                for (var i = 0; i < nbb_cells.length; ++i) {\n",
       "                    if (nbb_cells[i].input_prompt_number == nbb_cell_id) {\n",
       "                        if (nbb_cells[i].get_text() == nbb_unformatted_code) {\n",
       "                             nbb_cells[i].set_text(nbb_formatted_code);\n",
       "                        }\n",
       "                        break;\n",
       "                    }\n",
       "                }\n",
       "            }, 500);\n",
       "            "
      ],
      "text/plain": [
       "<IPython.core.display.Javascript object>"
      ]
     },
     "metadata": {},
     "output_type": "display_data"
    }
   ],
   "source": [
    "long = pd.read_csv(\"../data/features_30_sec.csv\")"
   ]
  },
  {
   "cell_type": "code",
   "execution_count": 16,
   "metadata": {},
   "outputs": [
    {
     "name": "stderr",
     "output_type": "stream",
     "text": [
      "C:\\ProgramData\\Anaconda3\\lib\\site-packages\\ipykernel_launcher.py:13: SettingWithCopyWarning: \n",
      "A value is trying to be set on a copy of a slice from a DataFrame\n",
      "\n",
      "See the caveats in the documentation: https://pandas.pydata.org/pandas-docs/stable/user_guide/indexing.html#returning-a-view-versus-a-copy\n",
      "  del sys.path[0]\n"
     ]
    },
    {
     "data": {
      "application/javascript": [
       "\n",
       "            setTimeout(function() {\n",
       "                var nbb_cell_id = 16;\n",
       "                var nbb_unformatted_code = \"long[\\\"vote_pred\\\"] = \\\"none\\\"\\n\\nfor i in range(long[\\\"filename\\\"].size):\\n    curr_file = long[\\\"filename\\\"][i]\\n    file_stripped = curr_file.strip(\\\".wav\\\")\\n    sub_selection = df[\\\"filename\\\"].str.contains(file_stripped)\\n    prediction = (\\n        df[sub_selection][\\\"predictions\\\"]\\n        .value_counts()\\n        .sort_values(ascending=False)\\n        .index[0]\\n    )\\n    long[\\\"vote_pred\\\"][i] = prediction\";\n",
       "                var nbb_formatted_code = \"long[\\\"vote_pred\\\"] = \\\"none\\\"\\n\\nfor i in range(long[\\\"filename\\\"].size):\\n    curr_file = long[\\\"filename\\\"][i]\\n    file_stripped = curr_file.strip(\\\".wav\\\")\\n    sub_selection = df[\\\"filename\\\"].str.contains(file_stripped)\\n    prediction = (\\n        df[sub_selection][\\\"predictions\\\"]\\n        .value_counts()\\n        .sort_values(ascending=False)\\n        .index[0]\\n    )\\n    long[\\\"vote_pred\\\"][i] = prediction\";\n",
       "                var nbb_cells = Jupyter.notebook.get_cells();\n",
       "                for (var i = 0; i < nbb_cells.length; ++i) {\n",
       "                    if (nbb_cells[i].input_prompt_number == nbb_cell_id) {\n",
       "                        if (nbb_cells[i].get_text() == nbb_unformatted_code) {\n",
       "                             nbb_cells[i].set_text(nbb_formatted_code);\n",
       "                        }\n",
       "                        break;\n",
       "                    }\n",
       "                }\n",
       "            }, 500);\n",
       "            "
      ],
      "text/plain": [
       "<IPython.core.display.Javascript object>"
      ]
     },
     "metadata": {},
     "output_type": "display_data"
    }
   ],
   "source": [
    "long[\"vote_pred\"] = \"none\"\n",
    "\n",
    "for i in range(long[\"filename\"].size):\n",
    "    curr_file = long[\"filename\"][i]\n",
    "    file_stripped = curr_file.strip(\".wav\")\n",
    "    sub_selection = df[\"filename\"].str.contains(file_stripped)\n",
    "    prediction = (\n",
    "        df[sub_selection][\"predictions\"]\n",
    "        .value_counts()\n",
    "        .sort_values(ascending=False)\n",
    "        .index[0]\n",
    "    )\n",
    "    long[\"vote_pred\"][i] = prediction"
   ]
  },
  {
   "cell_type": "code",
   "execution_count": 17,
   "metadata": {
    "scrolled": true
   },
   "outputs": [
    {
     "name": "stdout",
     "output_type": "stream",
     "text": [
      "[[75  0  3  1  2  4  6  0  3  6]\n",
      " [ 0 99  1  0  0  0  0  0  0  0]\n",
      " [ 8  0 73  4  0  3  1  3  1  7]\n",
      " [ 2  1  3 72  6  0  1  5  2  8]\n",
      " [ 2  0  1  5 71  0  2 11  6  2]\n",
      " [ 1  6  2  0  0 88  0  0  1  2]\n",
      " [ 2  0  0  2  1  0 93  0  1  1]\n",
      " [ 0  1  5  4  2  1  0 84  2  1]\n",
      " [ 6  0  6  2  8  3  1  7 66  1]\n",
      " [11  0  4 14  2  5 10  4  3 47]]\n",
      "              precision    recall  f1-score   support\n",
      "\n",
      "       blues       0.70      0.75      0.72       100\n",
      "   classical       0.93      0.99      0.96       100\n",
      "     country       0.74      0.73      0.74       100\n",
      "       disco       0.69      0.72      0.71       100\n",
      "      hiphop       0.77      0.71      0.74       100\n",
      "        jazz       0.85      0.88      0.86       100\n",
      "       metal       0.82      0.93      0.87       100\n",
      "         pop       0.74      0.84      0.79       100\n",
      "      reggae       0.78      0.66      0.71       100\n",
      "        rock       0.63      0.47      0.54       100\n",
      "\n",
      "    accuracy                           0.77      1000\n",
      "   macro avg       0.76      0.77      0.76      1000\n",
      "weighted avg       0.76      0.77      0.76      1000\n",
      "\n"
     ]
    },
    {
     "data": {
      "application/javascript": [
       "\n",
       "            setTimeout(function() {\n",
       "                var nbb_cell_id = 17;\n",
       "                var nbb_unformatted_code = \"print(confusion_matrix(long[\\\"label\\\"], long[\\\"vote_pred\\\"]))\\nprint(classification_report(long[\\\"label\\\"], long[\\\"vote_pred\\\"]))\";\n",
       "                var nbb_formatted_code = \"print(confusion_matrix(long[\\\"label\\\"], long[\\\"vote_pred\\\"]))\\nprint(classification_report(long[\\\"label\\\"], long[\\\"vote_pred\\\"]))\";\n",
       "                var nbb_cells = Jupyter.notebook.get_cells();\n",
       "                for (var i = 0; i < nbb_cells.length; ++i) {\n",
       "                    if (nbb_cells[i].input_prompt_number == nbb_cell_id) {\n",
       "                        if (nbb_cells[i].get_text() == nbb_unformatted_code) {\n",
       "                             nbb_cells[i].set_text(nbb_formatted_code);\n",
       "                        }\n",
       "                        break;\n",
       "                    }\n",
       "                }\n",
       "            }, 500);\n",
       "            "
      ],
      "text/plain": [
       "<IPython.core.display.Javascript object>"
      ]
     },
     "metadata": {},
     "output_type": "display_data"
    }
   ],
   "source": [
    "print(confusion_matrix(long[\"label\"], long[\"vote_pred\"]))\n",
    "print(classification_report(long[\"label\"], long[\"vote_pred\"]))"
   ]
  },
  {
   "cell_type": "code",
   "execution_count": 18,
   "metadata": {},
   "outputs": [
    {
     "name": "stderr",
     "output_type": "stream",
     "text": [
      "C:\\ProgramData\\Anaconda3\\lib\\site-packages\\ipykernel_launcher.py:4: SettingWithCopyWarning: \n",
      "A value is trying to be set on a copy of a slice from a DataFrame.\n",
      "Try using .loc[row_indexer,col_indexer] = value instead\n",
      "\n",
      "See the caveats in the documentation: https://pandas.pydata.org/pandas-docs/stable/user_guide/indexing.html#returning-a-view-versus-a-copy\n",
      "  after removing the cwd from sys.path.\n"
     ]
    },
    {
     "data": {
      "application/javascript": [
       "\n",
       "            setTimeout(function() {\n",
       "                var nbb_cell_id = 18;\n",
       "                var nbb_unformatted_code = \"long_model_pred = long[keep_cols]\\nfor c in long_model_pred:\\n    if c.endswith(\\\"_var\\\"):\\n        long_model_pred[c] = np.log(long_model_pred[c])\";\n",
       "                var nbb_formatted_code = \"long_model_pred = long[keep_cols]\\nfor c in long_model_pred:\\n    if c.endswith(\\\"_var\\\"):\\n        long_model_pred[c] = np.log(long_model_pred[c])\";\n",
       "                var nbb_cells = Jupyter.notebook.get_cells();\n",
       "                for (var i = 0; i < nbb_cells.length; ++i) {\n",
       "                    if (nbb_cells[i].input_prompt_number == nbb_cell_id) {\n",
       "                        if (nbb_cells[i].get_text() == nbb_unformatted_code) {\n",
       "                             nbb_cells[i].set_text(nbb_formatted_code);\n",
       "                        }\n",
       "                        break;\n",
       "                    }\n",
       "                }\n",
       "            }, 500);\n",
       "            "
      ],
      "text/plain": [
       "<IPython.core.display.Javascript object>"
      ]
     },
     "metadata": {},
     "output_type": "display_data"
    }
   ],
   "source": [
    "long_model_pred = long[keep_cols]\n",
    "for c in long_model_pred:\n",
    "    if c.endswith(\"_var\"):\n",
    "        long_model_pred[c] = np.log(long_model_pred[c])"
   ]
  },
  {
   "cell_type": "code",
   "execution_count": 19,
   "metadata": {},
   "outputs": [
    {
     "data": {
      "application/javascript": [
       "\n",
       "            setTimeout(function() {\n",
       "                var nbb_cell_id = 19;\n",
       "                var nbb_unformatted_code = \"long[\\\"model_pred\\\"] = pipeline.predict(long_model_pred)\";\n",
       "                var nbb_formatted_code = \"long[\\\"model_pred\\\"] = pipeline.predict(long_model_pred)\";\n",
       "                var nbb_cells = Jupyter.notebook.get_cells();\n",
       "                for (var i = 0; i < nbb_cells.length; ++i) {\n",
       "                    if (nbb_cells[i].input_prompt_number == nbb_cell_id) {\n",
       "                        if (nbb_cells[i].get_text() == nbb_unformatted_code) {\n",
       "                             nbb_cells[i].set_text(nbb_formatted_code);\n",
       "                        }\n",
       "                        break;\n",
       "                    }\n",
       "                }\n",
       "            }, 500);\n",
       "            "
      ],
      "text/plain": [
       "<IPython.core.display.Javascript object>"
      ]
     },
     "metadata": {},
     "output_type": "display_data"
    }
   ],
   "source": [
    "long[\"model_pred\"] = pipeline.predict(long_model_pred)"
   ]
  },
  {
   "cell_type": "code",
   "execution_count": 20,
   "metadata": {},
   "outputs": [
    {
     "data": {
      "text/html": [
       "<div>\n",
       "<style scoped>\n",
       "    .dataframe tbody tr th:only-of-type {\n",
       "        vertical-align: middle;\n",
       "    }\n",
       "\n",
       "    .dataframe tbody tr th {\n",
       "        vertical-align: top;\n",
       "    }\n",
       "\n",
       "    .dataframe thead th {\n",
       "        text-align: right;\n",
       "    }\n",
       "</style>\n",
       "<table border=\"1\" class=\"dataframe\">\n",
       "  <thead>\n",
       "    <tr style=\"text-align: right;\">\n",
       "      <th></th>\n",
       "      <th>filename</th>\n",
       "      <th>length</th>\n",
       "      <th>chroma_stft_mean</th>\n",
       "      <th>chroma_stft_var</th>\n",
       "      <th>rms_mean</th>\n",
       "      <th>rms_var</th>\n",
       "      <th>spectral_centroid_mean</th>\n",
       "      <th>spectral_centroid_var</th>\n",
       "      <th>spectral_bandwidth_mean</th>\n",
       "      <th>spectral_bandwidth_var</th>\n",
       "      <th>...</th>\n",
       "      <th>mfcc17_var</th>\n",
       "      <th>mfcc18_mean</th>\n",
       "      <th>mfcc18_var</th>\n",
       "      <th>mfcc19_mean</th>\n",
       "      <th>mfcc19_var</th>\n",
       "      <th>mfcc20_mean</th>\n",
       "      <th>mfcc20_var</th>\n",
       "      <th>label</th>\n",
       "      <th>vote_pred</th>\n",
       "      <th>model_pred</th>\n",
       "    </tr>\n",
       "  </thead>\n",
       "  <tbody>\n",
       "    <tr>\n",
       "      <th>0</th>\n",
       "      <td>blues.00000.wav</td>\n",
       "      <td>661794</td>\n",
       "      <td>0.350088</td>\n",
       "      <td>0.088757</td>\n",
       "      <td>0.130228</td>\n",
       "      <td>0.002827</td>\n",
       "      <td>1784.165850</td>\n",
       "      <td>129774.064525</td>\n",
       "      <td>2002.449060</td>\n",
       "      <td>85882.761315</td>\n",
       "      <td>...</td>\n",
       "      <td>36.524071</td>\n",
       "      <td>-0.408979</td>\n",
       "      <td>41.597103</td>\n",
       "      <td>-2.303523</td>\n",
       "      <td>55.062923</td>\n",
       "      <td>1.221291</td>\n",
       "      <td>46.936035</td>\n",
       "      <td>blues</td>\n",
       "      <td>blues</td>\n",
       "      <td>blues</td>\n",
       "    </tr>\n",
       "    <tr>\n",
       "      <th>1</th>\n",
       "      <td>blues.00001.wav</td>\n",
       "      <td>661794</td>\n",
       "      <td>0.340914</td>\n",
       "      <td>0.094980</td>\n",
       "      <td>0.095948</td>\n",
       "      <td>0.002373</td>\n",
       "      <td>1530.176679</td>\n",
       "      <td>375850.073649</td>\n",
       "      <td>2039.036516</td>\n",
       "      <td>213843.755497</td>\n",
       "      <td>...</td>\n",
       "      <td>60.314529</td>\n",
       "      <td>0.295073</td>\n",
       "      <td>48.120598</td>\n",
       "      <td>-0.283518</td>\n",
       "      <td>51.106190</td>\n",
       "      <td>0.531217</td>\n",
       "      <td>45.786282</td>\n",
       "      <td>blues</td>\n",
       "      <td>blues</td>\n",
       "      <td>reggae</td>\n",
       "    </tr>\n",
       "    <tr>\n",
       "      <th>2</th>\n",
       "      <td>blues.00002.wav</td>\n",
       "      <td>661794</td>\n",
       "      <td>0.363637</td>\n",
       "      <td>0.085275</td>\n",
       "      <td>0.175570</td>\n",
       "      <td>0.002746</td>\n",
       "      <td>1552.811865</td>\n",
       "      <td>156467.643368</td>\n",
       "      <td>1747.702312</td>\n",
       "      <td>76254.192257</td>\n",
       "      <td>...</td>\n",
       "      <td>47.639427</td>\n",
       "      <td>-1.816407</td>\n",
       "      <td>52.382141</td>\n",
       "      <td>-3.439720</td>\n",
       "      <td>46.639660</td>\n",
       "      <td>-2.231258</td>\n",
       "      <td>30.573025</td>\n",
       "      <td>blues</td>\n",
       "      <td>blues</td>\n",
       "      <td>blues</td>\n",
       "    </tr>\n",
       "    <tr>\n",
       "      <th>3</th>\n",
       "      <td>blues.00003.wav</td>\n",
       "      <td>661794</td>\n",
       "      <td>0.404785</td>\n",
       "      <td>0.093999</td>\n",
       "      <td>0.141093</td>\n",
       "      <td>0.006346</td>\n",
       "      <td>1070.106615</td>\n",
       "      <td>184355.942417</td>\n",
       "      <td>1596.412872</td>\n",
       "      <td>166441.494769</td>\n",
       "      <td>...</td>\n",
       "      <td>50.206673</td>\n",
       "      <td>0.636965</td>\n",
       "      <td>37.319130</td>\n",
       "      <td>-0.619121</td>\n",
       "      <td>37.259739</td>\n",
       "      <td>-3.407448</td>\n",
       "      <td>31.949339</td>\n",
       "      <td>blues</td>\n",
       "      <td>blues</td>\n",
       "      <td>blues</td>\n",
       "    </tr>\n",
       "    <tr>\n",
       "      <th>4</th>\n",
       "      <td>blues.00004.wav</td>\n",
       "      <td>661794</td>\n",
       "      <td>0.308526</td>\n",
       "      <td>0.087841</td>\n",
       "      <td>0.091529</td>\n",
       "      <td>0.002303</td>\n",
       "      <td>1835.004266</td>\n",
       "      <td>343399.939274</td>\n",
       "      <td>1748.172116</td>\n",
       "      <td>88445.209036</td>\n",
       "      <td>...</td>\n",
       "      <td>75.269707</td>\n",
       "      <td>-0.916874</td>\n",
       "      <td>53.613918</td>\n",
       "      <td>-4.404827</td>\n",
       "      <td>62.910812</td>\n",
       "      <td>-11.703234</td>\n",
       "      <td>55.195160</td>\n",
       "      <td>blues</td>\n",
       "      <td>blues</td>\n",
       "      <td>country</td>\n",
       "    </tr>\n",
       "  </tbody>\n",
       "</table>\n",
       "<p>5 rows × 62 columns</p>\n",
       "</div>"
      ],
      "text/plain": [
       "          filename  length  chroma_stft_mean  chroma_stft_var  rms_mean  \\\n",
       "0  blues.00000.wav  661794          0.350088         0.088757  0.130228   \n",
       "1  blues.00001.wav  661794          0.340914         0.094980  0.095948   \n",
       "2  blues.00002.wav  661794          0.363637         0.085275  0.175570   \n",
       "3  blues.00003.wav  661794          0.404785         0.093999  0.141093   \n",
       "4  blues.00004.wav  661794          0.308526         0.087841  0.091529   \n",
       "\n",
       "    rms_var  spectral_centroid_mean  spectral_centroid_var  \\\n",
       "0  0.002827             1784.165850          129774.064525   \n",
       "1  0.002373             1530.176679          375850.073649   \n",
       "2  0.002746             1552.811865          156467.643368   \n",
       "3  0.006346             1070.106615          184355.942417   \n",
       "4  0.002303             1835.004266          343399.939274   \n",
       "\n",
       "   spectral_bandwidth_mean  spectral_bandwidth_var  ...  mfcc17_var  \\\n",
       "0              2002.449060            85882.761315  ...   36.524071   \n",
       "1              2039.036516           213843.755497  ...   60.314529   \n",
       "2              1747.702312            76254.192257  ...   47.639427   \n",
       "3              1596.412872           166441.494769  ...   50.206673   \n",
       "4              1748.172116            88445.209036  ...   75.269707   \n",
       "\n",
       "   mfcc18_mean  mfcc18_var  mfcc19_mean  mfcc19_var  mfcc20_mean  mfcc20_var  \\\n",
       "0    -0.408979   41.597103    -2.303523   55.062923     1.221291   46.936035   \n",
       "1     0.295073   48.120598    -0.283518   51.106190     0.531217   45.786282   \n",
       "2    -1.816407   52.382141    -3.439720   46.639660    -2.231258   30.573025   \n",
       "3     0.636965   37.319130    -0.619121   37.259739    -3.407448   31.949339   \n",
       "4    -0.916874   53.613918    -4.404827   62.910812   -11.703234   55.195160   \n",
       "\n",
       "   label  vote_pred  model_pred  \n",
       "0  blues      blues       blues  \n",
       "1  blues      blues      reggae  \n",
       "2  blues      blues       blues  \n",
       "3  blues      blues       blues  \n",
       "4  blues      blues     country  \n",
       "\n",
       "[5 rows x 62 columns]"
      ]
     },
     "execution_count": 20,
     "metadata": {},
     "output_type": "execute_result"
    },
    {
     "data": {
      "application/javascript": [
       "\n",
       "            setTimeout(function() {\n",
       "                var nbb_cell_id = 20;\n",
       "                var nbb_unformatted_code = \"long.head()\";\n",
       "                var nbb_formatted_code = \"long.head()\";\n",
       "                var nbb_cells = Jupyter.notebook.get_cells();\n",
       "                for (var i = 0; i < nbb_cells.length; ++i) {\n",
       "                    if (nbb_cells[i].input_prompt_number == nbb_cell_id) {\n",
       "                        if (nbb_cells[i].get_text() == nbb_unformatted_code) {\n",
       "                             nbb_cells[i].set_text(nbb_formatted_code);\n",
       "                        }\n",
       "                        break;\n",
       "                    }\n",
       "                }\n",
       "            }, 500);\n",
       "            "
      ],
      "text/plain": [
       "<IPython.core.display.Javascript object>"
      ]
     },
     "metadata": {},
     "output_type": "display_data"
    }
   ],
   "source": [
    "long.head()"
   ]
  },
  {
   "cell_type": "code",
   "execution_count": 21,
   "metadata": {
    "scrolled": true
   },
   "outputs": [
    {
     "name": "stdout",
     "output_type": "stream",
     "text": [
      "[[73  0  7  2  1  1  3  0 11  2]\n",
      " [ 0 87  3  0  0  7  0  0  3  0]\n",
      " [ 5  0 70  6  1  0  1  6  8  3]\n",
      " [ 1  0  3 67  8  1  0 10  5  5]\n",
      " [ 2  0  0  4 68  0  2 10 13  1]\n",
      " [ 7  1  9  2  0 75  0  2  3  1]\n",
      " [ 1  0  0  3  8  0 82  0  1  5]\n",
      " [ 0  0  2  3  2  1  0 90  2  0]\n",
      " [ 5  0  4  1  6  0  0  6 76  2]\n",
      " [15  0  8 18  3  1  6  8  7 34]]\n",
      "              precision    recall  f1-score   support\n",
      "\n",
      "       blues       0.67      0.73      0.70       100\n",
      "   classical       0.99      0.87      0.93       100\n",
      "     country       0.66      0.70      0.68       100\n",
      "       disco       0.63      0.67      0.65       100\n",
      "      hiphop       0.70      0.68      0.69       100\n",
      "        jazz       0.87      0.75      0.81       100\n",
      "       metal       0.87      0.82      0.85       100\n",
      "         pop       0.68      0.90      0.78       100\n",
      "      reggae       0.59      0.76      0.66       100\n",
      "        rock       0.64      0.34      0.44       100\n",
      "\n",
      "    accuracy                           0.72      1000\n",
      "   macro avg       0.73      0.72      0.72      1000\n",
      "weighted avg       0.73      0.72      0.72      1000\n",
      "\n"
     ]
    },
    {
     "data": {
      "application/javascript": [
       "\n",
       "            setTimeout(function() {\n",
       "                var nbb_cell_id = 21;\n",
       "                var nbb_unformatted_code = \"print(confusion_matrix(long[\\\"label\\\"], long[\\\"model_pred\\\"]))\\nprint(classification_report(long[\\\"label\\\"], long[\\\"model_pred\\\"]))\";\n",
       "                var nbb_formatted_code = \"print(confusion_matrix(long[\\\"label\\\"], long[\\\"model_pred\\\"]))\\nprint(classification_report(long[\\\"label\\\"], long[\\\"model_pred\\\"]))\";\n",
       "                var nbb_cells = Jupyter.notebook.get_cells();\n",
       "                for (var i = 0; i < nbb_cells.length; ++i) {\n",
       "                    if (nbb_cells[i].input_prompt_number == nbb_cell_id) {\n",
       "                        if (nbb_cells[i].get_text() == nbb_unformatted_code) {\n",
       "                             nbb_cells[i].set_text(nbb_formatted_code);\n",
       "                        }\n",
       "                        break;\n",
       "                    }\n",
       "                }\n",
       "            }, 500);\n",
       "            "
      ],
      "text/plain": [
       "<IPython.core.display.Javascript object>"
      ]
     },
     "metadata": {},
     "output_type": "display_data"
    }
   ],
   "source": [
    "print(confusion_matrix(long[\"label\"], long[\"model_pred\"]))\n",
    "print(classification_report(long[\"label\"], long[\"model_pred\"]))"
   ]
  },
  {
   "cell_type": "code",
   "execution_count": 36,
   "metadata": {},
   "outputs": [
    {
     "data": {
      "text/html": [
       "<div>\n",
       "<style scoped>\n",
       "    .dataframe tbody tr th:only-of-type {\n",
       "        vertical-align: middle;\n",
       "    }\n",
       "\n",
       "    .dataframe tbody tr th {\n",
       "        vertical-align: top;\n",
       "    }\n",
       "\n",
       "    .dataframe thead th {\n",
       "        text-align: right;\n",
       "    }\n",
       "</style>\n",
       "<table border=\"1\" class=\"dataframe\">\n",
       "  <thead>\n",
       "    <tr style=\"text-align: right;\">\n",
       "      <th></th>\n",
       "      <th>filename</th>\n",
       "      <th>length</th>\n",
       "      <th>chroma_stft_mean</th>\n",
       "      <th>chroma_stft_var</th>\n",
       "      <th>rms_mean</th>\n",
       "      <th>rms_var</th>\n",
       "      <th>spectral_centroid_mean</th>\n",
       "      <th>spectral_centroid_var</th>\n",
       "      <th>spectral_bandwidth_mean</th>\n",
       "      <th>spectral_bandwidth_var</th>\n",
       "      <th>...</th>\n",
       "      <th>mfcc17_var</th>\n",
       "      <th>mfcc18_mean</th>\n",
       "      <th>mfcc18_var</th>\n",
       "      <th>mfcc19_mean</th>\n",
       "      <th>mfcc19_var</th>\n",
       "      <th>mfcc20_mean</th>\n",
       "      <th>mfcc20_var</th>\n",
       "      <th>label</th>\n",
       "      <th>vote_pred</th>\n",
       "      <th>model_pred</th>\n",
       "    </tr>\n",
       "  </thead>\n",
       "  <tbody>\n",
       "    <tr>\n",
       "      <th>0</th>\n",
       "      <td>blues.00000.wav</td>\n",
       "      <td>661794</td>\n",
       "      <td>0.350088</td>\n",
       "      <td>0.088757</td>\n",
       "      <td>0.130228</td>\n",
       "      <td>0.002827</td>\n",
       "      <td>1784.165850</td>\n",
       "      <td>129774.064525</td>\n",
       "      <td>2002.449060</td>\n",
       "      <td>85882.761315</td>\n",
       "      <td>...</td>\n",
       "      <td>36.524071</td>\n",
       "      <td>-0.408979</td>\n",
       "      <td>41.597103</td>\n",
       "      <td>-2.303523</td>\n",
       "      <td>55.062923</td>\n",
       "      <td>1.221291</td>\n",
       "      <td>46.936035</td>\n",
       "      <td>blues</td>\n",
       "      <td>blues</td>\n",
       "      <td>blues</td>\n",
       "    </tr>\n",
       "    <tr>\n",
       "      <th>1</th>\n",
       "      <td>blues.00001.wav</td>\n",
       "      <td>661794</td>\n",
       "      <td>0.340914</td>\n",
       "      <td>0.094980</td>\n",
       "      <td>0.095948</td>\n",
       "      <td>0.002373</td>\n",
       "      <td>1530.176679</td>\n",
       "      <td>375850.073649</td>\n",
       "      <td>2039.036516</td>\n",
       "      <td>213843.755497</td>\n",
       "      <td>...</td>\n",
       "      <td>60.314529</td>\n",
       "      <td>0.295073</td>\n",
       "      <td>48.120598</td>\n",
       "      <td>-0.283518</td>\n",
       "      <td>51.106190</td>\n",
       "      <td>0.531217</td>\n",
       "      <td>45.786282</td>\n",
       "      <td>blues</td>\n",
       "      <td>blues</td>\n",
       "      <td>reggae</td>\n",
       "    </tr>\n",
       "    <tr>\n",
       "      <th>2</th>\n",
       "      <td>blues.00002.wav</td>\n",
       "      <td>661794</td>\n",
       "      <td>0.363637</td>\n",
       "      <td>0.085275</td>\n",
       "      <td>0.175570</td>\n",
       "      <td>0.002746</td>\n",
       "      <td>1552.811865</td>\n",
       "      <td>156467.643368</td>\n",
       "      <td>1747.702312</td>\n",
       "      <td>76254.192257</td>\n",
       "      <td>...</td>\n",
       "      <td>47.639427</td>\n",
       "      <td>-1.816407</td>\n",
       "      <td>52.382141</td>\n",
       "      <td>-3.439720</td>\n",
       "      <td>46.639660</td>\n",
       "      <td>-2.231258</td>\n",
       "      <td>30.573025</td>\n",
       "      <td>blues</td>\n",
       "      <td>blues</td>\n",
       "      <td>blues</td>\n",
       "    </tr>\n",
       "    <tr>\n",
       "      <th>3</th>\n",
       "      <td>blues.00003.wav</td>\n",
       "      <td>661794</td>\n",
       "      <td>0.404785</td>\n",
       "      <td>0.093999</td>\n",
       "      <td>0.141093</td>\n",
       "      <td>0.006346</td>\n",
       "      <td>1070.106615</td>\n",
       "      <td>184355.942417</td>\n",
       "      <td>1596.412872</td>\n",
       "      <td>166441.494769</td>\n",
       "      <td>...</td>\n",
       "      <td>50.206673</td>\n",
       "      <td>0.636965</td>\n",
       "      <td>37.319130</td>\n",
       "      <td>-0.619121</td>\n",
       "      <td>37.259739</td>\n",
       "      <td>-3.407448</td>\n",
       "      <td>31.949339</td>\n",
       "      <td>blues</td>\n",
       "      <td>blues</td>\n",
       "      <td>blues</td>\n",
       "    </tr>\n",
       "    <tr>\n",
       "      <th>4</th>\n",
       "      <td>blues.00004.wav</td>\n",
       "      <td>661794</td>\n",
       "      <td>0.308526</td>\n",
       "      <td>0.087841</td>\n",
       "      <td>0.091529</td>\n",
       "      <td>0.002303</td>\n",
       "      <td>1835.004266</td>\n",
       "      <td>343399.939274</td>\n",
       "      <td>1748.172116</td>\n",
       "      <td>88445.209036</td>\n",
       "      <td>...</td>\n",
       "      <td>75.269707</td>\n",
       "      <td>-0.916874</td>\n",
       "      <td>53.613918</td>\n",
       "      <td>-4.404827</td>\n",
       "      <td>62.910812</td>\n",
       "      <td>-11.703234</td>\n",
       "      <td>55.195160</td>\n",
       "      <td>blues</td>\n",
       "      <td>blues</td>\n",
       "      <td>country</td>\n",
       "    </tr>\n",
       "  </tbody>\n",
       "</table>\n",
       "<p>5 rows × 62 columns</p>\n",
       "</div>"
      ],
      "text/plain": [
       "          filename  length  chroma_stft_mean  chroma_stft_var  rms_mean  \\\n",
       "0  blues.00000.wav  661794          0.350088         0.088757  0.130228   \n",
       "1  blues.00001.wav  661794          0.340914         0.094980  0.095948   \n",
       "2  blues.00002.wav  661794          0.363637         0.085275  0.175570   \n",
       "3  blues.00003.wav  661794          0.404785         0.093999  0.141093   \n",
       "4  blues.00004.wav  661794          0.308526         0.087841  0.091529   \n",
       "\n",
       "    rms_var  spectral_centroid_mean  spectral_centroid_var  \\\n",
       "0  0.002827             1784.165850          129774.064525   \n",
       "1  0.002373             1530.176679          375850.073649   \n",
       "2  0.002746             1552.811865          156467.643368   \n",
       "3  0.006346             1070.106615          184355.942417   \n",
       "4  0.002303             1835.004266          343399.939274   \n",
       "\n",
       "   spectral_bandwidth_mean  spectral_bandwidth_var  ...  mfcc17_var  \\\n",
       "0              2002.449060            85882.761315  ...   36.524071   \n",
       "1              2039.036516           213843.755497  ...   60.314529   \n",
       "2              1747.702312            76254.192257  ...   47.639427   \n",
       "3              1596.412872           166441.494769  ...   50.206673   \n",
       "4              1748.172116            88445.209036  ...   75.269707   \n",
       "\n",
       "   mfcc18_mean  mfcc18_var  mfcc19_mean  mfcc19_var  mfcc20_mean  mfcc20_var  \\\n",
       "0    -0.408979   41.597103    -2.303523   55.062923     1.221291   46.936035   \n",
       "1     0.295073   48.120598    -0.283518   51.106190     0.531217   45.786282   \n",
       "2    -1.816407   52.382141    -3.439720   46.639660    -2.231258   30.573025   \n",
       "3     0.636965   37.319130    -0.619121   37.259739    -3.407448   31.949339   \n",
       "4    -0.916874   53.613918    -4.404827   62.910812   -11.703234   55.195160   \n",
       "\n",
       "   label  vote_pred  model_pred  \n",
       "0  blues      blues       blues  \n",
       "1  blues      blues      reggae  \n",
       "2  blues      blues       blues  \n",
       "3  blues      blues       blues  \n",
       "4  blues      blues     country  \n",
       "\n",
       "[5 rows x 62 columns]"
      ]
     },
     "execution_count": 36,
     "metadata": {},
     "output_type": "execute_result"
    },
    {
     "data": {
      "application/javascript": [
       "\n",
       "            setTimeout(function() {\n",
       "                var nbb_cell_id = 36;\n",
       "                var nbb_unformatted_code = \"long.head()\";\n",
       "                var nbb_formatted_code = \"long.head()\";\n",
       "                var nbb_cells = Jupyter.notebook.get_cells();\n",
       "                for (var i = 0; i < nbb_cells.length; ++i) {\n",
       "                    if (nbb_cells[i].input_prompt_number == nbb_cell_id) {\n",
       "                        if (nbb_cells[i].get_text() == nbb_unformatted_code) {\n",
       "                             nbb_cells[i].set_text(nbb_formatted_code);\n",
       "                        }\n",
       "                        break;\n",
       "                    }\n",
       "                }\n",
       "            }, 500);\n",
       "            "
      ],
      "text/plain": [
       "<IPython.core.display.Javascript object>"
      ]
     },
     "metadata": {},
     "output_type": "display_data"
    }
   ],
   "source": [
    "long.head()"
   ]
  },
  {
   "cell_type": "code",
   "execution_count": 37,
   "metadata": {},
   "outputs": [
    {
     "data": {
      "application/javascript": [
       "\n",
       "            setTimeout(function() {\n",
       "                var nbb_cell_id = 37;\n",
       "                var nbb_unformatted_code = \"long[\\\"songname\\\"] = long[\\\"filename\\\"].str.split(\\\".\\\").str[:2].str.join(\\\".\\\")\";\n",
       "                var nbb_formatted_code = \"long[\\\"songname\\\"] = long[\\\"filename\\\"].str.split(\\\".\\\").str[:2].str.join(\\\".\\\")\";\n",
       "                var nbb_cells = Jupyter.notebook.get_cells();\n",
       "                for (var i = 0; i < nbb_cells.length; ++i) {\n",
       "                    if (nbb_cells[i].input_prompt_number == nbb_cell_id) {\n",
       "                        if (nbb_cells[i].get_text() == nbb_unformatted_code) {\n",
       "                             nbb_cells[i].set_text(nbb_formatted_code);\n",
       "                        }\n",
       "                        break;\n",
       "                    }\n",
       "                }\n",
       "            }, 500);\n",
       "            "
      ],
      "text/plain": [
       "<IPython.core.display.Javascript object>"
      ]
     },
     "metadata": {},
     "output_type": "display_data"
    }
   ],
   "source": [
    "long[\"songname\"] = long[\"filename\"].str.split(\".\").str[:2].str.join(\".\")"
   ]
  },
  {
   "cell_type": "code",
   "execution_count": 39,
   "metadata": {},
   "outputs": [
    {
     "data": {
      "text/plain": [
       "Int64Index([  0,   1,   2,   3,   4,   6,   7,   8,   9,  10,\n",
       "            ...\n",
       "            985, 986, 989, 990, 992, 993, 995, 996, 997, 998],\n",
       "           dtype='int64', length=800)"
      ]
     },
     "execution_count": 39,
     "metadata": {},
     "output_type": "execute_result"
    },
    {
     "data": {
      "application/javascript": [
       "\n",
       "            setTimeout(function() {\n",
       "                var nbb_cell_id = 39;\n",
       "                var nbb_unformatted_code = \"train_idxs = long[long[\\\"songname\\\"].isin(train_songs)].index\\ntest_idxs = long[long[\\\"songname\\\"].isin(test_songs)].index\\n\\ntrain_idxs\";\n",
       "                var nbb_formatted_code = \"train_idxs = long[long[\\\"songname\\\"].isin(train_songs)].index\\ntest_idxs = long[long[\\\"songname\\\"].isin(test_songs)].index\\n\\ntrain_idxs\";\n",
       "                var nbb_cells = Jupyter.notebook.get_cells();\n",
       "                for (var i = 0; i < nbb_cells.length; ++i) {\n",
       "                    if (nbb_cells[i].input_prompt_number == nbb_cell_id) {\n",
       "                        if (nbb_cells[i].get_text() == nbb_unformatted_code) {\n",
       "                             nbb_cells[i].set_text(nbb_formatted_code);\n",
       "                        }\n",
       "                        break;\n",
       "                    }\n",
       "                }\n",
       "            }, 500);\n",
       "            "
      ],
      "text/plain": [
       "<IPython.core.display.Javascript object>"
      ]
     },
     "metadata": {},
     "output_type": "display_data"
    }
   ],
   "source": [
    "train_idxs = long[long[\"songname\"].isin(train_songs)].index\n",
    "test_idxs = long[long[\"songname\"].isin(test_songs)].index\n",
    "\n",
    "train_idxs"
   ]
  },
  {
   "cell_type": "code",
   "execution_count": 40,
   "metadata": {},
   "outputs": [
    {
     "data": {
      "application/javascript": [
       "\n",
       "            setTimeout(function() {\n",
       "                var nbb_cell_id = 40;\n",
       "                var nbb_unformatted_code = \"long_train = long.loc[train_idxs, :]\\nlong_test = long.loc[test_idxs, :]\";\n",
       "                var nbb_formatted_code = \"long_train = long.loc[train_idxs, :]\\nlong_test = long.loc[test_idxs, :]\";\n",
       "                var nbb_cells = Jupyter.notebook.get_cells();\n",
       "                for (var i = 0; i < nbb_cells.length; ++i) {\n",
       "                    if (nbb_cells[i].input_prompt_number == nbb_cell_id) {\n",
       "                        if (nbb_cells[i].get_text() == nbb_unformatted_code) {\n",
       "                             nbb_cells[i].set_text(nbb_formatted_code);\n",
       "                        }\n",
       "                        break;\n",
       "                    }\n",
       "                }\n",
       "            }, 500);\n",
       "            "
      ],
      "text/plain": [
       "<IPython.core.display.Javascript object>"
      ]
     },
     "metadata": {},
     "output_type": "display_data"
    }
   ],
   "source": [
    "long_train = long.loc[train_idxs, :]\n",
    "long_test = long.loc[test_idxs, :]"
   ]
  },
  {
   "cell_type": "code",
   "execution_count": 41,
   "metadata": {
    "scrolled": true
   },
   "outputs": [
    {
     "name": "stdout",
     "output_type": "stream",
     "text": [
      "[[12  0  1  0  0  3  1  0  2  1]\n",
      " [ 0 20  0  0  0  0  0  0  0  0]\n",
      " [ 1  0 15  0  0  1  1  0  0  2]\n",
      " [ 0  0  1 14  2  0  0  1  0  2]\n",
      " [ 0  0  0  1 12  0  1  4  2  0]\n",
      " [ 0  3  0  0  0 17  0  0  0  0]\n",
      " [ 0  0  0  1  1  0 18  0  0  0]\n",
      " [ 0  0  1  0  0  0  0 18  0  1]\n",
      " [ 0  0  2  0  2  0  1  0 14  1]\n",
      " [ 2  0  1  5  1  2  3  1  0  5]]\n",
      "              precision    recall  f1-score   support\n",
      "\n",
      "       blues       0.80      0.60      0.69        20\n",
      "   classical       0.87      1.00      0.93        20\n",
      "     country       0.71      0.75      0.73        20\n",
      "       disco       0.67      0.70      0.68        20\n",
      "      hiphop       0.67      0.60      0.63        20\n",
      "        jazz       0.74      0.85      0.79        20\n",
      "       metal       0.72      0.90      0.80        20\n",
      "         pop       0.75      0.90      0.82        20\n",
      "      reggae       0.78      0.70      0.74        20\n",
      "        rock       0.42      0.25      0.31        20\n",
      "\n",
      "    accuracy                           0.73       200\n",
      "   macro avg       0.71      0.72      0.71       200\n",
      "weighted avg       0.71      0.72      0.71       200\n",
      "\n"
     ]
    },
    {
     "data": {
      "application/javascript": [
       "\n",
       "            setTimeout(function() {\n",
       "                var nbb_cell_id = 41;\n",
       "                var nbb_unformatted_code = \"print(confusion_matrix(long_test[\\\"label\\\"], long_test[\\\"vote_pred\\\"]))\\nprint(classification_report(long_test[\\\"label\\\"], long_test[\\\"vote_pred\\\"]))\";\n",
       "                var nbb_formatted_code = \"print(confusion_matrix(long_test[\\\"label\\\"], long_test[\\\"vote_pred\\\"]))\\nprint(classification_report(long_test[\\\"label\\\"], long_test[\\\"vote_pred\\\"]))\";\n",
       "                var nbb_cells = Jupyter.notebook.get_cells();\n",
       "                for (var i = 0; i < nbb_cells.length; ++i) {\n",
       "                    if (nbb_cells[i].input_prompt_number == nbb_cell_id) {\n",
       "                        if (nbb_cells[i].get_text() == nbb_unformatted_code) {\n",
       "                             nbb_cells[i].set_text(nbb_formatted_code);\n",
       "                        }\n",
       "                        break;\n",
       "                    }\n",
       "                }\n",
       "            }, 500);\n",
       "            "
      ],
      "text/plain": [
       "<IPython.core.display.Javascript object>"
      ]
     },
     "metadata": {},
     "output_type": "display_data"
    }
   ],
   "source": [
    "print(confusion_matrix(long_test[\"label\"], long_test[\"vote_pred\"]))\n",
    "print(classification_report(long_test[\"label\"], long_test[\"vote_pred\"]))"
   ]
  },
  {
   "cell_type": "code",
   "execution_count": 43,
   "metadata": {},
   "outputs": [
    {
     "name": "stdout",
     "output_type": "stream",
     "text": [
      "[[75  0  3  1  2  4  6  0  3  6]\n",
      " [ 0 99  1  0  0  0  0  0  0  0]\n",
      " [ 8  0 73  4  0  3  1  3  1  7]\n",
      " [ 2  1  3 72  6  0  1  5  2  8]\n",
      " [ 2  0  1  5 71  0  2 11  6  2]\n",
      " [ 1  6  2  0  0 88  0  0  1  2]\n",
      " [ 2  0  0  2  1  0 93  0  1  1]\n",
      " [ 0  1  5  4  2  1  0 84  2  1]\n",
      " [ 6  0  6  2  8  3  1  7 66  1]\n",
      " [ 0  0  0  0  0  0  0  0  0  0]]\n",
      "              precision    recall  f1-score   support\n",
      "\n",
      "       blues       0.78      0.75      0.77       100\n",
      "   classical       0.93      0.99      0.96       100\n",
      "     country       0.78      0.73      0.75       100\n",
      "       disco       0.80      0.72      0.76       100\n",
      "      hiphop       0.79      0.71      0.75       100\n",
      "        jazz       0.89      0.88      0.88       100\n",
      "       metal       0.89      0.93      0.91       100\n",
      "         pop       0.76      0.84      0.80       100\n",
      "      reggae       0.80      0.66      0.73       100\n",
      "        rock       0.00      0.00      0.00         0\n",
      "\n",
      "    accuracy                           0.80       900\n",
      "   macro avg       0.74      0.72      0.73       900\n",
      "weighted avg       0.82      0.80      0.81       900\n",
      "\n"
     ]
    },
    {
     "name": "stderr",
     "output_type": "stream",
     "text": [
      "C:\\ProgramData\\Anaconda3\\lib\\site-packages\\sklearn\\metrics\\_classification.py:1272: UndefinedMetricWarning: Recall and F-score are ill-defined and being set to 0.0 in labels with no true samples. Use `zero_division` parameter to control this behavior.\n",
      "  _warn_prf(average, modifier, msg_start, len(result))\n"
     ]
    },
    {
     "data": {
      "application/javascript": [
       "\n",
       "            setTimeout(function() {\n",
       "                var nbb_cell_id = 43;\n",
       "                var nbb_unformatted_code = \"no_rock = long[long[\\\"label\\\"] != \\\"rock\\\"]\\nprint(confusion_matrix(no_rock[\\\"label\\\"], no_rock[\\\"vote_pred\\\"]))\\nprint(classification_report(no_rock[\\\"label\\\"], no_rock[\\\"vote_pred\\\"]))\";\n",
       "                var nbb_formatted_code = \"no_rock = long[long[\\\"label\\\"] != \\\"rock\\\"]\\nprint(confusion_matrix(no_rock[\\\"label\\\"], no_rock[\\\"vote_pred\\\"]))\\nprint(classification_report(no_rock[\\\"label\\\"], no_rock[\\\"vote_pred\\\"]))\";\n",
       "                var nbb_cells = Jupyter.notebook.get_cells();\n",
       "                for (var i = 0; i < nbb_cells.length; ++i) {\n",
       "                    if (nbb_cells[i].input_prompt_number == nbb_cell_id) {\n",
       "                        if (nbb_cells[i].get_text() == nbb_unformatted_code) {\n",
       "                             nbb_cells[i].set_text(nbb_formatted_code);\n",
       "                        }\n",
       "                        break;\n",
       "                    }\n",
       "                }\n",
       "            }, 500);\n",
       "            "
      ],
      "text/plain": [
       "<IPython.core.display.Javascript object>"
      ]
     },
     "metadata": {},
     "output_type": "display_data"
    }
   ],
   "source": [
    "no_rock = long[long[\"label\"] != \"rock\"]\n",
    "print(confusion_matrix(no_rock[\"label\"], no_rock[\"vote_pred\"]))\n",
    "print(classification_report(no_rock[\"label\"], no_rock[\"vote_pred\"]))"
   ]
  }
 ],
 "metadata": {
  "kernelspec": {
   "display_name": "Python 3",
   "language": "python",
   "name": "python3"
  },
  "language_info": {
   "codemirror_mode": {
    "name": "ipython",
    "version": 3
   },
   "file_extension": ".py",
   "mimetype": "text/x-python",
   "name": "python",
   "nbconvert_exporter": "python",
   "pygments_lexer": "ipython3",
   "version": "3.7.6"
  }
 },
 "nbformat": 4,
 "nbformat_minor": 4
}
