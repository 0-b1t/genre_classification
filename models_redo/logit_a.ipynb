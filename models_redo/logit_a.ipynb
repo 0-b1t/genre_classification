{
 "cells": [
  {
   "cell_type": "code",
   "execution_count": 1,
   "metadata": {},
   "outputs": [
    {
     "data": {
      "application/javascript": [
       "\n",
       "            setTimeout(function() {\n",
       "                var nbb_cell_id = 1;\n",
       "                var nbb_unformatted_code = \"%reload_ext nb_black\";\n",
       "                var nbb_formatted_code = \"%reload_ext nb_black\";\n",
       "                var nbb_cells = Jupyter.notebook.get_cells();\n",
       "                for (var i = 0; i < nbb_cells.length; ++i) {\n",
       "                    if (nbb_cells[i].input_prompt_number == nbb_cell_id) {\n",
       "                        if (nbb_cells[i].get_text() == nbb_unformatted_code) {\n",
       "                             nbb_cells[i].set_text(nbb_formatted_code);\n",
       "                        }\n",
       "                        break;\n",
       "                    }\n",
       "                }\n",
       "            }, 500);\n",
       "            "
      ],
      "text/plain": [
       "<IPython.core.display.Javascript object>"
      ]
     },
     "metadata": {},
     "output_type": "display_data"
    }
   ],
   "source": [
    "%reload_ext nb_black"
   ]
  },
  {
   "cell_type": "code",
   "execution_count": 2,
   "metadata": {},
   "outputs": [
    {
     "data": {
      "application/javascript": [
       "\n",
       "            setTimeout(function() {\n",
       "                var nbb_cell_id = 2;\n",
       "                var nbb_unformatted_code = \"import warnings\\n\\nimport pandas as pd\\nimport numpy as np\\nimport pickle\\n\\nimport statsmodels.api as sm\\nfrom statsmodels.stats.outliers_influence import variance_inflation_factor\\n\\nimport seaborn as sns\\nimport matplotlib.pyplot as plt\\n\\nfrom sklearn.model_selection import train_test_split, GridSearchCV\\nfrom sklearn.metrics import (\\n    classification_report,\\n    confusion_matrix,\\n    fbeta_score,\\n    f1_score,\\n    make_scorer,\\n    accuracy_score,\\n)\\n\\nfrom sklearn.pipeline import Pipeline\\nfrom sklearn.compose import ColumnTransformer\\nfrom sklearn.preprocessing import StandardScaler\\nfrom sklearn.decomposition import PCA\\n\\nfrom xgboost import XGBClassifier\\nfrom sklearn.neighbors import KNeighborsClassifier\\nfrom sklearn.ensemble import RandomForestClassifier\\nfrom sklearn.svm import SVC\\nfrom sklearn.linear_model import LogisticRegression\";\n",
       "                var nbb_formatted_code = \"import warnings\\n\\nimport pandas as pd\\nimport numpy as np\\nimport pickle\\n\\nimport statsmodels.api as sm\\nfrom statsmodels.stats.outliers_influence import variance_inflation_factor\\n\\nimport seaborn as sns\\nimport matplotlib.pyplot as plt\\n\\nfrom sklearn.model_selection import train_test_split, GridSearchCV\\nfrom sklearn.metrics import (\\n    classification_report,\\n    confusion_matrix,\\n    fbeta_score,\\n    f1_score,\\n    make_scorer,\\n    accuracy_score,\\n)\\n\\nfrom sklearn.pipeline import Pipeline\\nfrom sklearn.compose import ColumnTransformer\\nfrom sklearn.preprocessing import StandardScaler\\nfrom sklearn.decomposition import PCA\\n\\nfrom xgboost import XGBClassifier\\nfrom sklearn.neighbors import KNeighborsClassifier\\nfrom sklearn.ensemble import RandomForestClassifier\\nfrom sklearn.svm import SVC\\nfrom sklearn.linear_model import LogisticRegression\";\n",
       "                var nbb_cells = Jupyter.notebook.get_cells();\n",
       "                for (var i = 0; i < nbb_cells.length; ++i) {\n",
       "                    if (nbb_cells[i].input_prompt_number == nbb_cell_id) {\n",
       "                        if (nbb_cells[i].get_text() == nbb_unformatted_code) {\n",
       "                             nbb_cells[i].set_text(nbb_formatted_code);\n",
       "                        }\n",
       "                        break;\n",
       "                    }\n",
       "                }\n",
       "            }, 500);\n",
       "            "
      ],
      "text/plain": [
       "<IPython.core.display.Javascript object>"
      ]
     },
     "metadata": {},
     "output_type": "display_data"
    }
   ],
   "source": [
    "import warnings\n",
    "\n",
    "import pandas as pd\n",
    "import numpy as np\n",
    "import pickle\n",
    "\n",
    "import statsmodels.api as sm\n",
    "from statsmodels.stats.outliers_influence import variance_inflation_factor\n",
    "\n",
    "import seaborn as sns\n",
    "import matplotlib.pyplot as plt\n",
    "\n",
    "from sklearn.model_selection import train_test_split, GridSearchCV\n",
    "from sklearn.metrics import (\n",
    "    classification_report,\n",
    "    confusion_matrix,\n",
    "    fbeta_score,\n",
    "    f1_score,\n",
    "    make_scorer,\n",
    "    accuracy_score,\n",
    ")\n",
    "\n",
    "from sklearn.pipeline import Pipeline\n",
    "from sklearn.compose import ColumnTransformer\n",
    "from sklearn.preprocessing import StandardScaler\n",
    "from sklearn.decomposition import PCA\n",
    "\n",
    "from xgboost import XGBClassifier\n",
    "from sklearn.neighbors import KNeighborsClassifier\n",
    "from sklearn.ensemble import RandomForestClassifier\n",
    "from sklearn.svm import SVC\n",
    "from sklearn.linear_model import LogisticRegression"
   ]
  },
  {
   "cell_type": "code",
   "execution_count": 3,
   "metadata": {},
   "outputs": [
    {
     "data": {
      "application/javascript": [
       "\n",
       "            setTimeout(function() {\n",
       "                var nbb_cell_id = 3;\n",
       "                var nbb_unformatted_code = \"def print_vif(x):\\n    \\\"\\\"\\\"Utility for checking multicollinearity assumption\\n    \\n    :param x: input features to check using VIF. This is assumed to be a pandas.DataFrame\\n    :return: nothing is returned the VIFs are printed as a pandas series\\n    \\\"\\\"\\\"\\n    # Silence numpy FutureWarning about .ptp\\n    with warnings.catch_warnings():\\n        warnings.simplefilter(\\\"ignore\\\")\\n        x = sm.add_constant(x)\\n\\n    vifs = []\\n    for i in range(x.shape[1]):\\n        vif = variance_inflation_factor(x.values, i)\\n        vifs.append(vif)\\n\\n    print(\\\"VIF results\\\\n-------------------------------\\\")\\n    print(pd.Series(vifs, index=x.columns))\\n    print(\\\"-------------------------------\\\\n\\\")\";\n",
       "                var nbb_formatted_code = \"def print_vif(x):\\n    \\\"\\\"\\\"Utility for checking multicollinearity assumption\\n    \\n    :param x: input features to check using VIF. This is assumed to be a pandas.DataFrame\\n    :return: nothing is returned the VIFs are printed as a pandas series\\n    \\\"\\\"\\\"\\n    # Silence numpy FutureWarning about .ptp\\n    with warnings.catch_warnings():\\n        warnings.simplefilter(\\\"ignore\\\")\\n        x = sm.add_constant(x)\\n\\n    vifs = []\\n    for i in range(x.shape[1]):\\n        vif = variance_inflation_factor(x.values, i)\\n        vifs.append(vif)\\n\\n    print(\\\"VIF results\\\\n-------------------------------\\\")\\n    print(pd.Series(vifs, index=x.columns))\\n    print(\\\"-------------------------------\\\\n\\\")\";\n",
       "                var nbb_cells = Jupyter.notebook.get_cells();\n",
       "                for (var i = 0; i < nbb_cells.length; ++i) {\n",
       "                    if (nbb_cells[i].input_prompt_number == nbb_cell_id) {\n",
       "                        if (nbb_cells[i].get_text() == nbb_unformatted_code) {\n",
       "                             nbb_cells[i].set_text(nbb_formatted_code);\n",
       "                        }\n",
       "                        break;\n",
       "                    }\n",
       "                }\n",
       "            }, 500);\n",
       "            "
      ],
      "text/plain": [
       "<IPython.core.display.Javascript object>"
      ]
     },
     "metadata": {},
     "output_type": "display_data"
    }
   ],
   "source": [
    "def print_vif(x):\n",
    "    \"\"\"Utility for checking multicollinearity assumption\n",
    "    \n",
    "    :param x: input features to check using VIF. This is assumed to be a pandas.DataFrame\n",
    "    :return: nothing is returned the VIFs are printed as a pandas series\n",
    "    \"\"\"\n",
    "    # Silence numpy FutureWarning about .ptp\n",
    "    with warnings.catch_warnings():\n",
    "        warnings.simplefilter(\"ignore\")\n",
    "        x = sm.add_constant(x)\n",
    "\n",
    "    vifs = []\n",
    "    for i in range(x.shape[1]):\n",
    "        vif = variance_inflation_factor(x.values, i)\n",
    "        vifs.append(vif)\n",
    "\n",
    "    print(\"VIF results\\n-------------------------------\")\n",
    "    print(pd.Series(vifs, index=x.columns))\n",
    "    print(\"-------------------------------\\n\")"
   ]
  },
  {
   "cell_type": "code",
   "execution_count": 4,
   "metadata": {},
   "outputs": [
    {
     "data": {
      "application/javascript": [
       "\n",
       "            setTimeout(function() {\n",
       "                var nbb_cell_id = 4;\n",
       "                var nbb_unformatted_code = \"# To use all\\n# df_long = pd.read_csv(\\\"../data/features_30_sec.csv\\\")\\n# df_short = pd.read_csv(\\\"../data/features_3_sec.csv\\\")\\n# df = pd.concat((df_long, df_short))\\n\\n# To use just one\\n# df = pd.read_csv(\\\"../data/features_30_sec.csv\\\")\\ndf = pd.read_csv(\\\"../data/features_3_sec.csv\\\")\\n\\ndf[\\\"genre\\\"] = df[\\\"filename\\\"].str.split(\\\".\\\").str[0]\\n\\n# \\\"blues.00000.0.wav\\\" -> \\\"blues.00000\\\"\\n# and\\n# \\\"blues.00000.wav\\\" -> \\\"blues.00000\\\"\\n# logic: split on period, take first 2 elements, and but back together\\ndf[\\\"songname\\\"] = df[\\\"filename\\\"].str.split(\\\".\\\").str[:2].str.join(\\\".\\\")\";\n",
       "                var nbb_formatted_code = \"# To use all\\n# df_long = pd.read_csv(\\\"../data/features_30_sec.csv\\\")\\n# df_short = pd.read_csv(\\\"../data/features_3_sec.csv\\\")\\n# df = pd.concat((df_long, df_short))\\n\\n# To use just one\\n# df = pd.read_csv(\\\"../data/features_30_sec.csv\\\")\\ndf = pd.read_csv(\\\"../data/features_3_sec.csv\\\")\\n\\ndf[\\\"genre\\\"] = df[\\\"filename\\\"].str.split(\\\".\\\").str[0]\\n\\n# \\\"blues.00000.0.wav\\\" -> \\\"blues.00000\\\"\\n# and\\n# \\\"blues.00000.wav\\\" -> \\\"blues.00000\\\"\\n# logic: split on period, take first 2 elements, and but back together\\ndf[\\\"songname\\\"] = df[\\\"filename\\\"].str.split(\\\".\\\").str[:2].str.join(\\\".\\\")\";\n",
       "                var nbb_cells = Jupyter.notebook.get_cells();\n",
       "                for (var i = 0; i < nbb_cells.length; ++i) {\n",
       "                    if (nbb_cells[i].input_prompt_number == nbb_cell_id) {\n",
       "                        if (nbb_cells[i].get_text() == nbb_unformatted_code) {\n",
       "                             nbb_cells[i].set_text(nbb_formatted_code);\n",
       "                        }\n",
       "                        break;\n",
       "                    }\n",
       "                }\n",
       "            }, 500);\n",
       "            "
      ],
      "text/plain": [
       "<IPython.core.display.Javascript object>"
      ]
     },
     "metadata": {},
     "output_type": "display_data"
    }
   ],
   "source": [
    "# To use all\n",
    "# df_long = pd.read_csv(\"../data/features_30_sec.csv\")\n",
    "# df_short = pd.read_csv(\"../data/features_3_sec.csv\")\n",
    "# df = pd.concat((df_long, df_short))\n",
    "\n",
    "# To use just one\n",
    "# df = pd.read_csv(\"../data/features_30_sec.csv\")\n",
    "df = pd.read_csv(\"../data/features_3_sec.csv\")\n",
    "\n",
    "df[\"genre\"] = df[\"filename\"].str.split(\".\").str[0]\n",
    "\n",
    "# \"blues.00000.0.wav\" -> \"blues.00000\"\n",
    "# and\n",
    "# \"blues.00000.wav\" -> \"blues.00000\"\n",
    "# logic: split on period, take first 2 elements, and but back together\n",
    "df[\"songname\"] = df[\"filename\"].str.split(\".\").str[:2].str.join(\".\")"
   ]
  },
  {
   "cell_type": "code",
   "execution_count": 5,
   "metadata": {},
   "outputs": [
    {
     "data": {
      "application/javascript": [
       "\n",
       "            setTimeout(function() {\n",
       "                var nbb_cell_id = 5;\n",
       "                var nbb_unformatted_code = \"m_start = 20  # highest mfcc to use. higher than this is too high in the frequency spectrum to really matter\\nmel_freq_drops = [f\\\"mfcc{x}_mean\\\" for x in range(m_start, 21)] + [\\n    f\\\"mfcc{x}_var\\\" for x in range(m_start, 21)\\n]\";\n",
       "                var nbb_formatted_code = \"m_start = 20  # highest mfcc to use. higher than this is too high in the frequency spectrum to really matter\\nmel_freq_drops = [f\\\"mfcc{x}_mean\\\" for x in range(m_start, 21)] + [\\n    f\\\"mfcc{x}_var\\\" for x in range(m_start, 21)\\n]\";\n",
       "                var nbb_cells = Jupyter.notebook.get_cells();\n",
       "                for (var i = 0; i < nbb_cells.length; ++i) {\n",
       "                    if (nbb_cells[i].input_prompt_number == nbb_cell_id) {\n",
       "                        if (nbb_cells[i].get_text() == nbb_unformatted_code) {\n",
       "                             nbb_cells[i].set_text(nbb_formatted_code);\n",
       "                        }\n",
       "                        break;\n",
       "                    }\n",
       "                }\n",
       "            }, 500);\n",
       "            "
      ],
      "text/plain": [
       "<IPython.core.display.Javascript object>"
      ]
     },
     "metadata": {},
     "output_type": "display_data"
    }
   ],
   "source": [
    "m_start = 20  # highest mfcc to use. higher than this is too high in the frequency spectrum to really matter\n",
    "mel_freq_drops = [f\"mfcc{x}_mean\" for x in range(m_start, 21)] + [\n",
    "    f\"mfcc{x}_var\" for x in range(m_start, 21)\n",
    "]"
   ]
  },
  {
   "cell_type": "code",
   "execution_count": 6,
   "metadata": {},
   "outputs": [
    {
     "data": {
      "application/javascript": [
       "\n",
       "            setTimeout(function() {\n",
       "                var nbb_cell_id = 6;\n",
       "                var nbb_unformatted_code = \"drop_cols = [\\n    \\\"filename\\\",\\n    \\\"label\\\",\\n    \\\"genre\\\",\\n    \\\"songname\\\",\\n    \\\"length\\\",\\n    #     \\\"chroma_stft_mean\\\",\\n    #     \\\"chroma_stft_var\\\",\\n    \\\"rms_mean\\\",\\n    #     \\\"rms_var\\\",\\n    \\\"spectral_centroid_mean\\\",\\n    \\\"spectral_centroid_var\\\",\\n    \\\"spectral_bandwidth_mean\\\",\\n    \\\"spectral_bandwidth_var\\\",\\n    \\\"rolloff_mean\\\",\\n    \\\"rolloff_var\\\",\\n    #     \\\"zero_crossing_rate_mean\\\",\\n    #     \\\"zero_crossing_rate_var\\\",\\n    #     \\\"harmony_mean\\\",\\n    #     \\\"harmony_var\\\",\\n    #     \\\"perceptr_mean\\\",\\n    \\\"perceptr_var\\\",\\n    #     \\\"tempo\\\",\\n]\\n\\ndrop_cols = drop_cols + mel_freq_drops\\n# print_vif(df.drop(drop_cols, 1,))\";\n",
       "                var nbb_formatted_code = \"drop_cols = [\\n    \\\"filename\\\",\\n    \\\"label\\\",\\n    \\\"genre\\\",\\n    \\\"songname\\\",\\n    \\\"length\\\",\\n    #     \\\"chroma_stft_mean\\\",\\n    #     \\\"chroma_stft_var\\\",\\n    \\\"rms_mean\\\",\\n    #     \\\"rms_var\\\",\\n    \\\"spectral_centroid_mean\\\",\\n    \\\"spectral_centroid_var\\\",\\n    \\\"spectral_bandwidth_mean\\\",\\n    \\\"spectral_bandwidth_var\\\",\\n    \\\"rolloff_mean\\\",\\n    \\\"rolloff_var\\\",\\n    #     \\\"zero_crossing_rate_mean\\\",\\n    #     \\\"zero_crossing_rate_var\\\",\\n    #     \\\"harmony_mean\\\",\\n    #     \\\"harmony_var\\\",\\n    #     \\\"perceptr_mean\\\",\\n    \\\"perceptr_var\\\",\\n    #     \\\"tempo\\\",\\n]\\n\\ndrop_cols = drop_cols + mel_freq_drops\\n# print_vif(df.drop(drop_cols, 1,))\";\n",
       "                var nbb_cells = Jupyter.notebook.get_cells();\n",
       "                for (var i = 0; i < nbb_cells.length; ++i) {\n",
       "                    if (nbb_cells[i].input_prompt_number == nbb_cell_id) {\n",
       "                        if (nbb_cells[i].get_text() == nbb_unformatted_code) {\n",
       "                             nbb_cells[i].set_text(nbb_formatted_code);\n",
       "                        }\n",
       "                        break;\n",
       "                    }\n",
       "                }\n",
       "            }, 500);\n",
       "            "
      ],
      "text/plain": [
       "<IPython.core.display.Javascript object>"
      ]
     },
     "metadata": {},
     "output_type": "display_data"
    }
   ],
   "source": [
    "drop_cols = [\n",
    "    \"filename\",\n",
    "    \"label\",\n",
    "    \"genre\",\n",
    "    \"songname\",\n",
    "    \"length\",\n",
    "    #     \"chroma_stft_mean\",\n",
    "    #     \"chroma_stft_var\",\n",
    "    \"rms_mean\",\n",
    "    #     \"rms_var\",\n",
    "    \"spectral_centroid_mean\",\n",
    "    \"spectral_centroid_var\",\n",
    "    \"spectral_bandwidth_mean\",\n",
    "    \"spectral_bandwidth_var\",\n",
    "    \"rolloff_mean\",\n",
    "    \"rolloff_var\",\n",
    "    #     \"zero_crossing_rate_mean\",\n",
    "    #     \"zero_crossing_rate_var\",\n",
    "    #     \"harmony_mean\",\n",
    "    #     \"harmony_var\",\n",
    "    #     \"perceptr_mean\",\n",
    "    \"perceptr_var\",\n",
    "    #     \"tempo\",\n",
    "]\n",
    "\n",
    "drop_cols = drop_cols + mel_freq_drops\n",
    "# print_vif(df.drop(drop_cols, 1,))"
   ]
  },
  {
   "cell_type": "code",
   "execution_count": 7,
   "metadata": {},
   "outputs": [
    {
     "data": {
      "application/javascript": [
       "\n",
       "            setTimeout(function() {\n",
       "                var nbb_cell_id = 7;\n",
       "                var nbb_unformatted_code = \"# X = df.drop(columns=drop_cols + [\\\"genre\\\"])\\nX = df.drop(drop_cols, 1)\\ny = df[\\\"genre\\\"]\";\n",
       "                var nbb_formatted_code = \"# X = df.drop(columns=drop_cols + [\\\"genre\\\"])\\nX = df.drop(drop_cols, 1)\\ny = df[\\\"genre\\\"]\";\n",
       "                var nbb_cells = Jupyter.notebook.get_cells();\n",
       "                for (var i = 0; i < nbb_cells.length; ++i) {\n",
       "                    if (nbb_cells[i].input_prompt_number == nbb_cell_id) {\n",
       "                        if (nbb_cells[i].get_text() == nbb_unformatted_code) {\n",
       "                             nbb_cells[i].set_text(nbb_formatted_code);\n",
       "                        }\n",
       "                        break;\n",
       "                    }\n",
       "                }\n",
       "            }, 500);\n",
       "            "
      ],
      "text/plain": [
       "<IPython.core.display.Javascript object>"
      ]
     },
     "metadata": {},
     "output_type": "display_data"
    }
   ],
   "source": [
    "# X = df.drop(columns=drop_cols + [\"genre\"])\n",
    "X = df.drop(drop_cols, 1)\n",
    "y = df[\"genre\"]"
   ]
  },
  {
   "cell_type": "code",
   "execution_count": 8,
   "metadata": {},
   "outputs": [
    {
     "data": {
      "application/javascript": [
       "\n",
       "            setTimeout(function() {\n",
       "                var nbb_cell_id = 8;\n",
       "                var nbb_unformatted_code = \"X_logged = X.copy()\\nfor c in X_logged:\\n    if c.endswith(\\\"_var\\\"):\\n        X_logged[c] = np.log(X_logged[c])\";\n",
       "                var nbb_formatted_code = \"X_logged = X.copy()\\nfor c in X_logged:\\n    if c.endswith(\\\"_var\\\"):\\n        X_logged[c] = np.log(X_logged[c])\";\n",
       "                var nbb_cells = Jupyter.notebook.get_cells();\n",
       "                for (var i = 0; i < nbb_cells.length; ++i) {\n",
       "                    if (nbb_cells[i].input_prompt_number == nbb_cell_id) {\n",
       "                        if (nbb_cells[i].get_text() == nbb_unformatted_code) {\n",
       "                             nbb_cells[i].set_text(nbb_formatted_code);\n",
       "                        }\n",
       "                        break;\n",
       "                    }\n",
       "                }\n",
       "            }, 500);\n",
       "            "
      ],
      "text/plain": [
       "<IPython.core.display.Javascript object>"
      ]
     },
     "metadata": {},
     "output_type": "display_data"
    }
   ],
   "source": [
    "X_logged = X.copy()\n",
    "for c in X_logged:\n",
    "    if c.endswith(\"_var\"):\n",
    "        X_logged[c] = np.log(X_logged[c])"
   ]
  },
  {
   "cell_type": "code",
   "execution_count": 9,
   "metadata": {
    "scrolled": true
   },
   "outputs": [
    {
     "name": "stdout",
     "output_type": "stream",
     "text": [
      "VIF results\n",
      "-------------------------------\n",
      "const                      1891.875317\n",
      "chroma_stft_mean              4.034173\n",
      "chroma_stft_var               2.592091\n",
      "rms_var                       5.350718\n",
      "zero_crossing_rate_mean       5.885183\n",
      "zero_crossing_rate_var        4.828621\n",
      "harmony_mean                  1.489142\n",
      "harmony_var                   5.518013\n",
      "perceptr_mean                 1.590989\n",
      "tempo                         1.011565\n",
      "mfcc1_mean                    9.683297\n",
      "mfcc1_var                     3.725781\n",
      "mfcc2_mean                    6.195771\n",
      "mfcc2_var                     2.860859\n",
      "mfcc3_mean                    2.538644\n",
      "mfcc3_var                     2.658320\n",
      "mfcc4_mean                    2.287364\n",
      "mfcc4_var                     2.904286\n",
      "mfcc5_mean                    2.794907\n",
      "mfcc5_var                     2.940476\n",
      "mfcc6_mean                    3.492312\n",
      "mfcc6_var                     3.100551\n",
      "mfcc7_mean                    3.258857\n",
      "mfcc7_var                     2.875073\n",
      "mfcc8_mean                    4.058817\n",
      "mfcc8_var                     2.628985\n",
      "mfcc9_mean                    2.825949\n",
      "mfcc9_var                     2.448172\n",
      "mfcc10_mean                   3.057705\n",
      "mfcc10_var                    2.352342\n",
      "mfcc11_mean                   2.450174\n",
      "mfcc11_var                    2.407222\n",
      "mfcc12_mean                   2.879688\n",
      "mfcc12_var                    2.350837\n",
      "mfcc13_mean                   2.743931\n",
      "mfcc13_var                    2.368349\n",
      "mfcc14_mean                   2.324575\n",
      "mfcc14_var                    2.321252\n",
      "mfcc15_mean                   2.522544\n",
      "mfcc15_var                    2.472344\n",
      "mfcc16_mean                   2.233108\n",
      "mfcc16_var                    2.457976\n",
      "mfcc17_mean                   2.300633\n",
      "mfcc17_var                    2.562316\n",
      "mfcc18_mean                   2.073371\n",
      "mfcc18_var                    2.626489\n",
      "mfcc19_mean                   1.625683\n",
      "mfcc19_var                    2.335125\n",
      "dtype: float64\n",
      "-------------------------------\n",
      "\n"
     ]
    },
    {
     "data": {
      "application/javascript": [
       "\n",
       "            setTimeout(function() {\n",
       "                var nbb_cell_id = 9;\n",
       "                var nbb_unformatted_code = \"print_vif(X_logged)\";\n",
       "                var nbb_formatted_code = \"print_vif(X_logged)\";\n",
       "                var nbb_cells = Jupyter.notebook.get_cells();\n",
       "                for (var i = 0; i < nbb_cells.length; ++i) {\n",
       "                    if (nbb_cells[i].input_prompt_number == nbb_cell_id) {\n",
       "                        if (nbb_cells[i].get_text() == nbb_unformatted_code) {\n",
       "                             nbb_cells[i].set_text(nbb_formatted_code);\n",
       "                        }\n",
       "                        break;\n",
       "                    }\n",
       "                }\n",
       "            }, 500);\n",
       "            "
      ],
      "text/plain": [
       "<IPython.core.display.Javascript object>"
      ]
     },
     "metadata": {},
     "output_type": "display_data"
    }
   ],
   "source": [
    "print_vif(X_logged)"
   ]
  },
  {
   "cell_type": "code",
   "execution_count": 10,
   "metadata": {},
   "outputs": [
    {
     "name": "stdout",
     "output_type": "stream",
     "text": [
      "(7990, 47) (7990,)\n",
      "(2000, 47) (2000,)\n"
     ]
    },
    {
     "data": {
      "application/javascript": [
       "\n",
       "            setTimeout(function() {\n",
       "                var nbb_cell_id = 10;\n",
       "                var nbb_unformatted_code = \"# og: \\\"blues.00000.0.wav\\\"\\n# songname: \\\"blues.00000\\\"\\n# genre: \\\"blues\\\"\\nsong_genre = df[[\\\"songname\\\", \\\"genre\\\"]].drop_duplicates()\\n\\ntrain_songs, test_songs = train_test_split(\\n    song_genre[\\\"songname\\\"], test_size=0.2, random_state=42, stratify=song_genre[\\\"genre\\\"]\\n)\\n\\ntrain_songs = pickle.load(open(\\\"../data/train_songs.p\\\", \\\"rb\\\"))\\ntest_songs = pickle.load(open(\\\"../data/test_songs.p\\\", \\\"rb\\\"))\\n\\ntrain_idxs = df[df[\\\"songname\\\"].isin(train_songs)].index\\ntest_idxs = df[df[\\\"songname\\\"].isin(test_songs)].index\\n\\nX_train = X_logged.loc[train_idxs, :]\\nX_test = X_logged.loc[test_idxs, :]\\ny_train = y[train_idxs]\\ny_test = y[test_idxs]\\n\\nprint(X_train.shape, y_train.shape)\\nprint(X_test.shape, y_test.shape)\";\n",
       "                var nbb_formatted_code = \"# og: \\\"blues.00000.0.wav\\\"\\n# songname: \\\"blues.00000\\\"\\n# genre: \\\"blues\\\"\\nsong_genre = df[[\\\"songname\\\", \\\"genre\\\"]].drop_duplicates()\\n\\ntrain_songs, test_songs = train_test_split(\\n    song_genre[\\\"songname\\\"], test_size=0.2, random_state=42, stratify=song_genre[\\\"genre\\\"]\\n)\\n\\ntrain_songs = pickle.load(open(\\\"../data/train_songs.p\\\", \\\"rb\\\"))\\ntest_songs = pickle.load(open(\\\"../data/test_songs.p\\\", \\\"rb\\\"))\\n\\ntrain_idxs = df[df[\\\"songname\\\"].isin(train_songs)].index\\ntest_idxs = df[df[\\\"songname\\\"].isin(test_songs)].index\\n\\nX_train = X_logged.loc[train_idxs, :]\\nX_test = X_logged.loc[test_idxs, :]\\ny_train = y[train_idxs]\\ny_test = y[test_idxs]\\n\\nprint(X_train.shape, y_train.shape)\\nprint(X_test.shape, y_test.shape)\";\n",
       "                var nbb_cells = Jupyter.notebook.get_cells();\n",
       "                for (var i = 0; i < nbb_cells.length; ++i) {\n",
       "                    if (nbb_cells[i].input_prompt_number == nbb_cell_id) {\n",
       "                        if (nbb_cells[i].get_text() == nbb_unformatted_code) {\n",
       "                             nbb_cells[i].set_text(nbb_formatted_code);\n",
       "                        }\n",
       "                        break;\n",
       "                    }\n",
       "                }\n",
       "            }, 500);\n",
       "            "
      ],
      "text/plain": [
       "<IPython.core.display.Javascript object>"
      ]
     },
     "metadata": {},
     "output_type": "display_data"
    }
   ],
   "source": [
    "# og: \"blues.00000.0.wav\"\n",
    "# songname: \"blues.00000\"\n",
    "# genre: \"blues\"\n",
    "song_genre = df[[\"songname\", \"genre\"]].drop_duplicates()\n",
    "\n",
    "train_songs, test_songs = train_test_split(\n",
    "    song_genre[\"songname\"], test_size=0.2, random_state=42, stratify=song_genre[\"genre\"]\n",
    ")\n",
    "\n",
    "train_songs = pickle.load(open(\"../data/train_songs.p\", \"rb\"))\n",
    "test_songs = pickle.load(open(\"../data/test_songs.p\", \"rb\"))\n",
    "\n",
    "train_idxs = df[df[\"songname\"].isin(train_songs)].index\n",
    "test_idxs = df[df[\"songname\"].isin(test_songs)].index\n",
    "\n",
    "X_train = X_logged.loc[train_idxs, :]\n",
    "X_test = X_logged.loc[test_idxs, :]\n",
    "y_train = y[train_idxs]\n",
    "y_test = y[test_idxs]\n",
    "\n",
    "print(X_train.shape, y_train.shape)\n",
    "print(X_test.shape, y_test.shape)"
   ]
  },
  {
   "cell_type": "code",
   "execution_count": 11,
   "metadata": {},
   "outputs": [
    {
     "data": {
      "text/plain": [
       "set()"
      ]
     },
     "execution_count": 11,
     "metadata": {},
     "output_type": "execute_result"
    },
    {
     "data": {
      "application/javascript": [
       "\n",
       "            setTimeout(function() {\n",
       "                var nbb_cell_id = 11;\n",
       "                var nbb_unformatted_code = \"# Prove no overlap of songs between train/test\\nset(train_songs).intersection(set(test_songs))\";\n",
       "                var nbb_formatted_code = \"# Prove no overlap of songs between train/test\\nset(train_songs).intersection(set(test_songs))\";\n",
       "                var nbb_cells = Jupyter.notebook.get_cells();\n",
       "                for (var i = 0; i < nbb_cells.length; ++i) {\n",
       "                    if (nbb_cells[i].input_prompt_number == nbb_cell_id) {\n",
       "                        if (nbb_cells[i].get_text() == nbb_unformatted_code) {\n",
       "                             nbb_cells[i].set_text(nbb_formatted_code);\n",
       "                        }\n",
       "                        break;\n",
       "                    }\n",
       "                }\n",
       "            }, 500);\n",
       "            "
      ],
      "text/plain": [
       "<IPython.core.display.Javascript object>"
      ]
     },
     "metadata": {},
     "output_type": "display_data"
    }
   ],
   "source": [
    "# Prove no overlap of songs between train/test\n",
    "set(train_songs).intersection(set(test_songs))"
   ]
  },
  {
   "cell_type": "code",
   "execution_count": 12,
   "metadata": {},
   "outputs": [
    {
     "name": "stdout",
     "output_type": "stream",
     "text": [
      "Fitting 2 folds for each of 6 candidates, totalling 12 fits\n"
     ]
    },
    {
     "name": "stderr",
     "output_type": "stream",
     "text": [
      "[Parallel(n_jobs=-1)]: Using backend LokyBackend with 6 concurrent workers.\n",
      "[Parallel(n_jobs=-1)]: Done  12 out of  12 | elapsed:   11.1s finished\n"
     ]
    },
    {
     "name": "stdout",
     "output_type": "stream",
     "text": [
      "0.7247809762202754\n",
      "0.6635\n"
     ]
    },
    {
     "name": "stderr",
     "output_type": "stream",
     "text": [
      "C:\\ProgramData\\Anaconda3\\lib\\site-packages\\sklearn\\linear_model\\_sag.py:330: ConvergenceWarning: The max_iter was reached which means the coef_ did not converge\n",
      "  \"the coef_ did not converge\", ConvergenceWarning)\n"
     ]
    },
    {
     "data": {
      "text/plain": [
       "{'log__C': 0.1,\n",
       " 'log__max_iter': 500,\n",
       " 'log__penalty': 'l1',\n",
       " 'log__solver': 'saga'}"
      ]
     },
     "execution_count": 12,
     "metadata": {},
     "output_type": "execute_result"
    },
    {
     "data": {
      "application/javascript": [
       "\n",
       "            setTimeout(function() {\n",
       "                var nbb_cell_id = 12;\n",
       "                var nbb_unformatted_code = \"num_cols = list(X.columns)\\n\\nbin_cols = []\\n\\ncat_cols = []\\ndrop_cats = []\\n\\n\\npreprocessing = ColumnTransformer(\\n    [\\n        # Scale numeric columns (not needed for all models but can't hurt)\\n        (\\\"scaler\\\", StandardScaler(), num_cols)\\n    ],\\n    remainder=\\\"passthrough\\\",\\n)\\n\\n\\npipeline = Pipeline(\\n    [\\n        (\\\"preprocessing\\\", preprocessing),\\n        #         (\\\"pca\\\", PCA()),\\n        # Choose your model and put it here\\n        (\\\"log\\\", LogisticRegression()),\\n    ]\\n)\\n\\n\\nparams = {\\n    \\\"log__penalty\\\": [\\\"l1\\\"],\\n    \\\"log__C\\\": [0.001, 0.1, 10],\\n    \\\"log__max_iter\\\": [500],\\n    # \\\"log__multiclass\\\": [\\\"ovr\\\", \\\"multinomial\\\"],\\n    # \\\"log__l1_ratio\\\": [0, 0.25, 0.5, 0.75, 1.0],\\n    \\\"log__solver\\\": [\\\"sag\\\", \\\"saga\\\"],\\n}\\n\\n\\npipeline_cv = GridSearchCV(pipeline, params, verbose=1, n_jobs=-1, cv=2)\\n\\npipeline_cv.fit(X_train, y=y_train)\\n\\n\\nprint(pipeline_cv.score(X_train, y_train))\\nprint(pipeline_cv.score(X_test, y_test))\\npipeline_cv.best_params_\";\n",
       "                var nbb_formatted_code = \"num_cols = list(X.columns)\\n\\nbin_cols = []\\n\\ncat_cols = []\\ndrop_cats = []\\n\\n\\npreprocessing = ColumnTransformer(\\n    [\\n        # Scale numeric columns (not needed for all models but can't hurt)\\n        (\\\"scaler\\\", StandardScaler(), num_cols)\\n    ],\\n    remainder=\\\"passthrough\\\",\\n)\\n\\n\\npipeline = Pipeline(\\n    [\\n        (\\\"preprocessing\\\", preprocessing),\\n        #         (\\\"pca\\\", PCA()),\\n        # Choose your model and put it here\\n        (\\\"log\\\", LogisticRegression()),\\n    ]\\n)\\n\\n\\nparams = {\\n    \\\"log__penalty\\\": [\\\"l1\\\"],\\n    \\\"log__C\\\": [0.001, 0.1, 10],\\n    \\\"log__max_iter\\\": [500],\\n    # \\\"log__multiclass\\\": [\\\"ovr\\\", \\\"multinomial\\\"],\\n    # \\\"log__l1_ratio\\\": [0, 0.25, 0.5, 0.75, 1.0],\\n    \\\"log__solver\\\": [\\\"sag\\\", \\\"saga\\\"],\\n}\\n\\n\\npipeline_cv = GridSearchCV(pipeline, params, verbose=1, n_jobs=-1, cv=2)\\n\\npipeline_cv.fit(X_train, y=y_train)\\n\\n\\nprint(pipeline_cv.score(X_train, y_train))\\nprint(pipeline_cv.score(X_test, y_test))\\npipeline_cv.best_params_\";\n",
       "                var nbb_cells = Jupyter.notebook.get_cells();\n",
       "                for (var i = 0; i < nbb_cells.length; ++i) {\n",
       "                    if (nbb_cells[i].input_prompt_number == nbb_cell_id) {\n",
       "                        if (nbb_cells[i].get_text() == nbb_unformatted_code) {\n",
       "                             nbb_cells[i].set_text(nbb_formatted_code);\n",
       "                        }\n",
       "                        break;\n",
       "                    }\n",
       "                }\n",
       "            }, 500);\n",
       "            "
      ],
      "text/plain": [
       "<IPython.core.display.Javascript object>"
      ]
     },
     "metadata": {},
     "output_type": "display_data"
    }
   ],
   "source": [
    "num_cols = list(X.columns)\n",
    "\n",
    "bin_cols = []\n",
    "\n",
    "cat_cols = []\n",
    "drop_cats = []\n",
    "\n",
    "\n",
    "preprocessing = ColumnTransformer(\n",
    "    [\n",
    "        # Scale numeric columns (not needed for all models but can't hurt)\n",
    "        (\"scaler\", StandardScaler(), num_cols)\n",
    "    ],\n",
    "    remainder=\"passthrough\",\n",
    ")\n",
    "\n",
    "\n",
    "pipeline = Pipeline(\n",
    "    [\n",
    "        (\"preprocessing\", preprocessing),\n",
    "        #         (\"pca\", PCA()),\n",
    "        # Choose your model and put it here\n",
    "        (\"log\", LogisticRegression()),\n",
    "    ]\n",
    ")\n",
    "\n",
    "\n",
    "params = {\n",
    "    \"log__penalty\": [\"l1\"],\n",
    "    \"log__C\": [0.001, 0.1, 10],\n",
    "    \"log__max_iter\": [500],\n",
    "    # \"log__multiclass\": [\"ovr\", \"multinomial\"],\n",
    "    # \"log__l1_ratio\": [0, 0.25, 0.5, 0.75, 1.0],\n",
    "    \"log__solver\": [\"sag\", \"saga\"],\n",
    "}\n",
    "\n",
    "\n",
    "pipeline_cv = GridSearchCV(pipeline, params, verbose=1, n_jobs=-1, cv=2)\n",
    "\n",
    "pipeline_cv.fit(X_train, y=y_train)\n",
    "\n",
    "\n",
    "print(pipeline_cv.score(X_train, y_train))\n",
    "print(pipeline_cv.score(X_test, y_test))\n",
    "pipeline_cv.best_params_"
   ]
  },
  {
   "cell_type": "code",
   "execution_count": 13,
   "metadata": {
    "scrolled": true
   },
   "outputs": [
    {
     "data": {
      "text/html": [
       "<div>\n",
       "<style scoped>\n",
       "    .dataframe tbody tr th:only-of-type {\n",
       "        vertical-align: middle;\n",
       "    }\n",
       "\n",
       "    .dataframe tbody tr th {\n",
       "        vertical-align: top;\n",
       "    }\n",
       "\n",
       "    .dataframe thead th {\n",
       "        text-align: right;\n",
       "    }\n",
       "</style>\n",
       "<table border=\"1\" class=\"dataframe\">\n",
       "  <thead>\n",
       "    <tr style=\"text-align: right;\">\n",
       "      <th></th>\n",
       "      <th>feat</th>\n",
       "      <th>coef</th>\n",
       "      <th>abs_coef</th>\n",
       "    </tr>\n",
       "  </thead>\n",
       "  <tbody>\n",
       "    <tr>\n",
       "      <th>34</th>\n",
       "      <td>mfcc13_var</td>\n",
       "      <td>0.000000</td>\n",
       "      <td>0.000000</td>\n",
       "    </tr>\n",
       "    <tr>\n",
       "      <th>44</th>\n",
       "      <td>mfcc18_var</td>\n",
       "      <td>0.000000</td>\n",
       "      <td>0.000000</td>\n",
       "    </tr>\n",
       "    <tr>\n",
       "      <th>42</th>\n",
       "      <td>mfcc17_var</td>\n",
       "      <td>0.000000</td>\n",
       "      <td>0.000000</td>\n",
       "    </tr>\n",
       "    <tr>\n",
       "      <th>22</th>\n",
       "      <td>mfcc7_var</td>\n",
       "      <td>0.000000</td>\n",
       "      <td>0.000000</td>\n",
       "    </tr>\n",
       "    <tr>\n",
       "      <th>4</th>\n",
       "      <td>zero_crossing_rate_var</td>\n",
       "      <td>0.000000</td>\n",
       "      <td>0.000000</td>\n",
       "    </tr>\n",
       "    <tr>\n",
       "      <th>27</th>\n",
       "      <td>mfcc10_mean</td>\n",
       "      <td>0.000000</td>\n",
       "      <td>0.000000</td>\n",
       "    </tr>\n",
       "    <tr>\n",
       "      <th>29</th>\n",
       "      <td>mfcc11_mean</td>\n",
       "      <td>0.000000</td>\n",
       "      <td>0.000000</td>\n",
       "    </tr>\n",
       "    <tr>\n",
       "      <th>17</th>\n",
       "      <td>mfcc5_mean</td>\n",
       "      <td>0.000000</td>\n",
       "      <td>0.000000</td>\n",
       "    </tr>\n",
       "    <tr>\n",
       "      <th>36</th>\n",
       "      <td>mfcc14_var</td>\n",
       "      <td>0.000000</td>\n",
       "      <td>0.000000</td>\n",
       "    </tr>\n",
       "    <tr>\n",
       "      <th>10</th>\n",
       "      <td>mfcc1_var</td>\n",
       "      <td>0.000000</td>\n",
       "      <td>0.000000</td>\n",
       "    </tr>\n",
       "    <tr>\n",
       "      <th>35</th>\n",
       "      <td>mfcc14_mean</td>\n",
       "      <td>0.000000</td>\n",
       "      <td>0.000000</td>\n",
       "    </tr>\n",
       "    <tr>\n",
       "      <th>30</th>\n",
       "      <td>mfcc11_var</td>\n",
       "      <td>0.000000</td>\n",
       "      <td>0.000000</td>\n",
       "    </tr>\n",
       "    <tr>\n",
       "      <th>16</th>\n",
       "      <td>mfcc4_var</td>\n",
       "      <td>-0.009099</td>\n",
       "      <td>0.009099</td>\n",
       "    </tr>\n",
       "    <tr>\n",
       "      <th>32</th>\n",
       "      <td>mfcc12_var</td>\n",
       "      <td>-0.032044</td>\n",
       "      <td>0.032044</td>\n",
       "    </tr>\n",
       "    <tr>\n",
       "      <th>8</th>\n",
       "      <td>tempo</td>\n",
       "      <td>0.038470</td>\n",
       "      <td>0.038470</td>\n",
       "    </tr>\n",
       "    <tr>\n",
       "      <th>45</th>\n",
       "      <td>mfcc19_mean</td>\n",
       "      <td>0.042648</td>\n",
       "      <td>0.042648</td>\n",
       "    </tr>\n",
       "    <tr>\n",
       "      <th>24</th>\n",
       "      <td>mfcc8_var</td>\n",
       "      <td>0.071777</td>\n",
       "      <td>0.071777</td>\n",
       "    </tr>\n",
       "    <tr>\n",
       "      <th>28</th>\n",
       "      <td>mfcc10_var</td>\n",
       "      <td>-0.072069</td>\n",
       "      <td>0.072069</td>\n",
       "    </tr>\n",
       "    <tr>\n",
       "      <th>38</th>\n",
       "      <td>mfcc15_var</td>\n",
       "      <td>0.084218</td>\n",
       "      <td>0.084218</td>\n",
       "    </tr>\n",
       "    <tr>\n",
       "      <th>14</th>\n",
       "      <td>mfcc3_var</td>\n",
       "      <td>0.087985</td>\n",
       "      <td>0.087985</td>\n",
       "    </tr>\n",
       "    <tr>\n",
       "      <th>39</th>\n",
       "      <td>mfcc16_mean</td>\n",
       "      <td>0.093254</td>\n",
       "      <td>0.093254</td>\n",
       "    </tr>\n",
       "    <tr>\n",
       "      <th>7</th>\n",
       "      <td>perceptr_mean</td>\n",
       "      <td>-0.114672</td>\n",
       "      <td>0.114672</td>\n",
       "    </tr>\n",
       "    <tr>\n",
       "      <th>37</th>\n",
       "      <td>mfcc15_mean</td>\n",
       "      <td>-0.115792</td>\n",
       "      <td>0.115792</td>\n",
       "    </tr>\n",
       "    <tr>\n",
       "      <th>26</th>\n",
       "      <td>mfcc9_var</td>\n",
       "      <td>-0.147868</td>\n",
       "      <td>0.147868</td>\n",
       "    </tr>\n",
       "    <tr>\n",
       "      <th>46</th>\n",
       "      <td>mfcc19_var</td>\n",
       "      <td>0.151533</td>\n",
       "      <td>0.151533</td>\n",
       "    </tr>\n",
       "    <tr>\n",
       "      <th>0</th>\n",
       "      <td>chroma_stft_mean</td>\n",
       "      <td>-0.151906</td>\n",
       "      <td>0.151906</td>\n",
       "    </tr>\n",
       "    <tr>\n",
       "      <th>25</th>\n",
       "      <td>mfcc9_mean</td>\n",
       "      <td>-0.159739</td>\n",
       "      <td>0.159739</td>\n",
       "    </tr>\n",
       "    <tr>\n",
       "      <th>40</th>\n",
       "      <td>mfcc16_var</td>\n",
       "      <td>0.168151</td>\n",
       "      <td>0.168151</td>\n",
       "    </tr>\n",
       "    <tr>\n",
       "      <th>41</th>\n",
       "      <td>mfcc17_mean</td>\n",
       "      <td>-0.191674</td>\n",
       "      <td>0.191674</td>\n",
       "    </tr>\n",
       "    <tr>\n",
       "      <th>5</th>\n",
       "      <td>harmony_mean</td>\n",
       "      <td>0.192385</td>\n",
       "      <td>0.192385</td>\n",
       "    </tr>\n",
       "    <tr>\n",
       "      <th>1</th>\n",
       "      <td>chroma_stft_var</td>\n",
       "      <td>0.220777</td>\n",
       "      <td>0.220777</td>\n",
       "    </tr>\n",
       "    <tr>\n",
       "      <th>33</th>\n",
       "      <td>mfcc13_mean</td>\n",
       "      <td>-0.260194</td>\n",
       "      <td>0.260194</td>\n",
       "    </tr>\n",
       "    <tr>\n",
       "      <th>20</th>\n",
       "      <td>mfcc6_var</td>\n",
       "      <td>-0.267827</td>\n",
       "      <td>0.267827</td>\n",
       "    </tr>\n",
       "    <tr>\n",
       "      <th>31</th>\n",
       "      <td>mfcc12_mean</td>\n",
       "      <td>-0.328884</td>\n",
       "      <td>0.328884</td>\n",
       "    </tr>\n",
       "    <tr>\n",
       "      <th>43</th>\n",
       "      <td>mfcc18_mean</td>\n",
       "      <td>-0.377371</td>\n",
       "      <td>0.377371</td>\n",
       "    </tr>\n",
       "    <tr>\n",
       "      <th>13</th>\n",
       "      <td>mfcc3_mean</td>\n",
       "      <td>0.411516</td>\n",
       "      <td>0.411516</td>\n",
       "    </tr>\n",
       "    <tr>\n",
       "      <th>18</th>\n",
       "      <td>mfcc5_var</td>\n",
       "      <td>0.437087</td>\n",
       "      <td>0.437087</td>\n",
       "    </tr>\n",
       "    <tr>\n",
       "      <th>23</th>\n",
       "      <td>mfcc8_mean</td>\n",
       "      <td>0.447795</td>\n",
       "      <td>0.447795</td>\n",
       "    </tr>\n",
       "    <tr>\n",
       "      <th>21</th>\n",
       "      <td>mfcc7_mean</td>\n",
       "      <td>-0.535905</td>\n",
       "      <td>0.535905</td>\n",
       "    </tr>\n",
       "    <tr>\n",
       "      <th>12</th>\n",
       "      <td>mfcc2_var</td>\n",
       "      <td>-0.742283</td>\n",
       "      <td>0.742283</td>\n",
       "    </tr>\n",
       "    <tr>\n",
       "      <th>3</th>\n",
       "      <td>zero_crossing_rate_mean</td>\n",
       "      <td>0.767019</td>\n",
       "      <td>0.767019</td>\n",
       "    </tr>\n",
       "    <tr>\n",
       "      <th>15</th>\n",
       "      <td>mfcc4_mean</td>\n",
       "      <td>0.856017</td>\n",
       "      <td>0.856017</td>\n",
       "    </tr>\n",
       "    <tr>\n",
       "      <th>19</th>\n",
       "      <td>mfcc6_mean</td>\n",
       "      <td>0.890190</td>\n",
       "      <td>0.890190</td>\n",
       "    </tr>\n",
       "    <tr>\n",
       "      <th>6</th>\n",
       "      <td>harmony_var</td>\n",
       "      <td>0.957385</td>\n",
       "      <td>0.957385</td>\n",
       "    </tr>\n",
       "    <tr>\n",
       "      <th>2</th>\n",
       "      <td>rms_var</td>\n",
       "      <td>1.118360</td>\n",
       "      <td>1.118360</td>\n",
       "    </tr>\n",
       "    <tr>\n",
       "      <th>11</th>\n",
       "      <td>mfcc2_mean</td>\n",
       "      <td>1.177204</td>\n",
       "      <td>1.177204</td>\n",
       "    </tr>\n",
       "    <tr>\n",
       "      <th>9</th>\n",
       "      <td>mfcc1_mean</td>\n",
       "      <td>-2.014019</td>\n",
       "      <td>2.014019</td>\n",
       "    </tr>\n",
       "  </tbody>\n",
       "</table>\n",
       "</div>"
      ],
      "text/plain": [
       "                       feat      coef  abs_coef\n",
       "34               mfcc13_var  0.000000  0.000000\n",
       "44               mfcc18_var  0.000000  0.000000\n",
       "42               mfcc17_var  0.000000  0.000000\n",
       "22                mfcc7_var  0.000000  0.000000\n",
       "4    zero_crossing_rate_var  0.000000  0.000000\n",
       "27              mfcc10_mean  0.000000  0.000000\n",
       "29              mfcc11_mean  0.000000  0.000000\n",
       "17               mfcc5_mean  0.000000  0.000000\n",
       "36               mfcc14_var  0.000000  0.000000\n",
       "10                mfcc1_var  0.000000  0.000000\n",
       "35              mfcc14_mean  0.000000  0.000000\n",
       "30               mfcc11_var  0.000000  0.000000\n",
       "16                mfcc4_var -0.009099  0.009099\n",
       "32               mfcc12_var -0.032044  0.032044\n",
       "8                     tempo  0.038470  0.038470\n",
       "45              mfcc19_mean  0.042648  0.042648\n",
       "24                mfcc8_var  0.071777  0.071777\n",
       "28               mfcc10_var -0.072069  0.072069\n",
       "38               mfcc15_var  0.084218  0.084218\n",
       "14                mfcc3_var  0.087985  0.087985\n",
       "39              mfcc16_mean  0.093254  0.093254\n",
       "7             perceptr_mean -0.114672  0.114672\n",
       "37              mfcc15_mean -0.115792  0.115792\n",
       "26                mfcc9_var -0.147868  0.147868\n",
       "46               mfcc19_var  0.151533  0.151533\n",
       "0          chroma_stft_mean -0.151906  0.151906\n",
       "25               mfcc9_mean -0.159739  0.159739\n",
       "40               mfcc16_var  0.168151  0.168151\n",
       "41              mfcc17_mean -0.191674  0.191674\n",
       "5              harmony_mean  0.192385  0.192385\n",
       "1           chroma_stft_var  0.220777  0.220777\n",
       "33              mfcc13_mean -0.260194  0.260194\n",
       "20                mfcc6_var -0.267827  0.267827\n",
       "31              mfcc12_mean -0.328884  0.328884\n",
       "43              mfcc18_mean -0.377371  0.377371\n",
       "13               mfcc3_mean  0.411516  0.411516\n",
       "18                mfcc5_var  0.437087  0.437087\n",
       "23               mfcc8_mean  0.447795  0.447795\n",
       "21               mfcc7_mean -0.535905  0.535905\n",
       "12                mfcc2_var -0.742283  0.742283\n",
       "3   zero_crossing_rate_mean  0.767019  0.767019\n",
       "15               mfcc4_mean  0.856017  0.856017\n",
       "19               mfcc6_mean  0.890190  0.890190\n",
       "6               harmony_var  0.957385  0.957385\n",
       "2                   rms_var  1.118360  1.118360\n",
       "11               mfcc2_mean  1.177204  1.177204\n",
       "9                mfcc1_mean -2.014019  2.014019"
      ]
     },
     "execution_count": 13,
     "metadata": {},
     "output_type": "execute_result"
    },
    {
     "data": {
      "application/javascript": [
       "\n",
       "            setTimeout(function() {\n",
       "                var nbb_cell_id = 13;\n",
       "                var nbb_unformatted_code = \"best = pipeline_cv.best_estimator_.named_steps[\\\"log\\\"]\\ncoef_df = pd.DataFrame({\\\"feat\\\": X_train.columns, \\\"coef\\\": best.coef_[0]})\\ncoef_df[\\\"abs_coef\\\"] = np.abs(coef_df[\\\"coef\\\"])\\ncoef_df.sort_values(\\\"abs_coef\\\")\";\n",
       "                var nbb_formatted_code = \"best = pipeline_cv.best_estimator_.named_steps[\\\"log\\\"]\\ncoef_df = pd.DataFrame({\\\"feat\\\": X_train.columns, \\\"coef\\\": best.coef_[0]})\\ncoef_df[\\\"abs_coef\\\"] = np.abs(coef_df[\\\"coef\\\"])\\ncoef_df.sort_values(\\\"abs_coef\\\")\";\n",
       "                var nbb_cells = Jupyter.notebook.get_cells();\n",
       "                for (var i = 0; i < nbb_cells.length; ++i) {\n",
       "                    if (nbb_cells[i].input_prompt_number == nbb_cell_id) {\n",
       "                        if (nbb_cells[i].get_text() == nbb_unformatted_code) {\n",
       "                             nbb_cells[i].set_text(nbb_formatted_code);\n",
       "                        }\n",
       "                        break;\n",
       "                    }\n",
       "                }\n",
       "            }, 500);\n",
       "            "
      ],
      "text/plain": [
       "<IPython.core.display.Javascript object>"
      ]
     },
     "metadata": {},
     "output_type": "display_data"
    }
   ],
   "source": [
    "best = pipeline_cv.best_estimator_.named_steps[\"log\"]\n",
    "coef_df = pd.DataFrame({\"feat\": X_train.columns, \"coef\": best.coef_[0]})\n",
    "coef_df[\"abs_coef\"] = np.abs(coef_df[\"coef\"])\n",
    "coef_df.sort_values(\"abs_coef\")"
   ]
  },
  {
   "cell_type": "code",
   "execution_count": 14,
   "metadata": {
    "scrolled": true
   },
   "outputs": [
    {
     "data": {
      "application/javascript": [
       "\n",
       "            setTimeout(function() {\n",
       "                var nbb_cell_id = 14;\n",
       "                var nbb_unformatted_code = \"add_drop = list(coef_df[coef_df[\\\"coef\\\"] == 0][\\\"feat\\\"].values)\";\n",
       "                var nbb_formatted_code = \"add_drop = list(coef_df[coef_df[\\\"coef\\\"] == 0][\\\"feat\\\"].values)\";\n",
       "                var nbb_cells = Jupyter.notebook.get_cells();\n",
       "                for (var i = 0; i < nbb_cells.length; ++i) {\n",
       "                    if (nbb_cells[i].input_prompt_number == nbb_cell_id) {\n",
       "                        if (nbb_cells[i].get_text() == nbb_unformatted_code) {\n",
       "                             nbb_cells[i].set_text(nbb_formatted_code);\n",
       "                        }\n",
       "                        break;\n",
       "                    }\n",
       "                }\n",
       "            }, 500);\n",
       "            "
      ],
      "text/plain": [
       "<IPython.core.display.Javascript object>"
      ]
     },
     "metadata": {},
     "output_type": "display_data"
    }
   ],
   "source": [
    "add_drop = list(coef_df[coef_df[\"coef\"] == 0][\"feat\"].values)"
   ]
  },
  {
   "cell_type": "code",
   "execution_count": 15,
   "metadata": {},
   "outputs": [
    {
     "data": {
      "text/plain": [
       "['zero_crossing_rate_var',\n",
       " 'mfcc1_var',\n",
       " 'mfcc5_mean',\n",
       " 'mfcc7_var',\n",
       " 'mfcc10_mean',\n",
       " 'mfcc11_mean',\n",
       " 'mfcc11_var',\n",
       " 'mfcc13_var',\n",
       " 'mfcc14_mean',\n",
       " 'mfcc14_var',\n",
       " 'mfcc17_var',\n",
       " 'mfcc18_var']"
      ]
     },
     "execution_count": 15,
     "metadata": {},
     "output_type": "execute_result"
    },
    {
     "data": {
      "application/javascript": [
       "\n",
       "            setTimeout(function() {\n",
       "                var nbb_cell_id = 15;\n",
       "                var nbb_unformatted_code = \"add_drop\";\n",
       "                var nbb_formatted_code = \"add_drop\";\n",
       "                var nbb_cells = Jupyter.notebook.get_cells();\n",
       "                for (var i = 0; i < nbb_cells.length; ++i) {\n",
       "                    if (nbb_cells[i].input_prompt_number == nbb_cell_id) {\n",
       "                        if (nbb_cells[i].get_text() == nbb_unformatted_code) {\n",
       "                             nbb_cells[i].set_text(nbb_formatted_code);\n",
       "                        }\n",
       "                        break;\n",
       "                    }\n",
       "                }\n",
       "            }, 500);\n",
       "            "
      ],
      "text/plain": [
       "<IPython.core.display.Javascript object>"
      ]
     },
     "metadata": {},
     "output_type": "display_data"
    }
   ],
   "source": [
    "add_drop"
   ]
  },
  {
   "cell_type": "code",
   "execution_count": 16,
   "metadata": {},
   "outputs": [
    {
     "data": {
      "text/plain": [
       "['filename',\n",
       " 'label',\n",
       " 'genre',\n",
       " 'songname',\n",
       " 'length',\n",
       " 'rms_mean',\n",
       " 'spectral_centroid_mean',\n",
       " 'spectral_centroid_var',\n",
       " 'spectral_bandwidth_mean',\n",
       " 'spectral_bandwidth_var',\n",
       " 'rolloff_mean',\n",
       " 'rolloff_var',\n",
       " 'perceptr_var',\n",
       " 'mfcc20_mean',\n",
       " 'mfcc20_var',\n",
       " 'mfcc20_mean',\n",
       " 'mfcc20_var',\n",
       " 'zero_crossing_rate_var',\n",
       " 'mfcc1_var',\n",
       " 'mfcc5_mean',\n",
       " 'mfcc7_var',\n",
       " 'mfcc10_mean',\n",
       " 'mfcc11_mean',\n",
       " 'mfcc11_var',\n",
       " 'mfcc13_var',\n",
       " 'mfcc14_mean',\n",
       " 'mfcc14_var',\n",
       " 'mfcc17_var',\n",
       " 'mfcc18_var']"
      ]
     },
     "execution_count": 16,
     "metadata": {},
     "output_type": "execute_result"
    },
    {
     "data": {
      "application/javascript": [
       "\n",
       "            setTimeout(function() {\n",
       "                var nbb_cell_id = 16;\n",
       "                var nbb_unformatted_code = \"drop_cols = drop_cols + mel_freq_drops + add_drop\\ndrop_cols\";\n",
       "                var nbb_formatted_code = \"drop_cols = drop_cols + mel_freq_drops + add_drop\\ndrop_cols\";\n",
       "                var nbb_cells = Jupyter.notebook.get_cells();\n",
       "                for (var i = 0; i < nbb_cells.length; ++i) {\n",
       "                    if (nbb_cells[i].input_prompt_number == nbb_cell_id) {\n",
       "                        if (nbb_cells[i].get_text() == nbb_unformatted_code) {\n",
       "                             nbb_cells[i].set_text(nbb_formatted_code);\n",
       "                        }\n",
       "                        break;\n",
       "                    }\n",
       "                }\n",
       "            }, 500);\n",
       "            "
      ],
      "text/plain": [
       "<IPython.core.display.Javascript object>"
      ]
     },
     "metadata": {},
     "output_type": "display_data"
    }
   ],
   "source": [
    "drop_cols = drop_cols + mel_freq_drops + add_drop\n",
    "drop_cols"
   ]
  },
  {
   "cell_type": "code",
   "execution_count": 17,
   "metadata": {},
   "outputs": [
    {
     "data": {
      "application/javascript": [
       "\n",
       "            setTimeout(function() {\n",
       "                var nbb_cell_id = 17;\n",
       "                var nbb_unformatted_code = \"# X = df.drop(columns=drop_cols + [\\\"genre\\\"])\\nX = df.drop(drop_cols, 1)\\ny = df[\\\"genre\\\"]\";\n",
       "                var nbb_formatted_code = \"# X = df.drop(columns=drop_cols + [\\\"genre\\\"])\\nX = df.drop(drop_cols, 1)\\ny = df[\\\"genre\\\"]\";\n",
       "                var nbb_cells = Jupyter.notebook.get_cells();\n",
       "                for (var i = 0; i < nbb_cells.length; ++i) {\n",
       "                    if (nbb_cells[i].input_prompt_number == nbb_cell_id) {\n",
       "                        if (nbb_cells[i].get_text() == nbb_unformatted_code) {\n",
       "                             nbb_cells[i].set_text(nbb_formatted_code);\n",
       "                        }\n",
       "                        break;\n",
       "                    }\n",
       "                }\n",
       "            }, 500);\n",
       "            "
      ],
      "text/plain": [
       "<IPython.core.display.Javascript object>"
      ]
     },
     "metadata": {},
     "output_type": "display_data"
    }
   ],
   "source": [
    "# X = df.drop(columns=drop_cols + [\"genre\"])\n",
    "X = df.drop(drop_cols, 1)\n",
    "y = df[\"genre\"]"
   ]
  },
  {
   "cell_type": "code",
   "execution_count": 18,
   "metadata": {},
   "outputs": [
    {
     "data": {
      "application/javascript": [
       "\n",
       "            setTimeout(function() {\n",
       "                var nbb_cell_id = 18;\n",
       "                var nbb_unformatted_code = \"X_logged = X.copy()\\nfor c in X_logged:\\n    if c.endswith(\\\"_var\\\"):\\n        X_logged[c] = np.log(X_logged[c])\";\n",
       "                var nbb_formatted_code = \"X_logged = X.copy()\\nfor c in X_logged:\\n    if c.endswith(\\\"_var\\\"):\\n        X_logged[c] = np.log(X_logged[c])\";\n",
       "                var nbb_cells = Jupyter.notebook.get_cells();\n",
       "                for (var i = 0; i < nbb_cells.length; ++i) {\n",
       "                    if (nbb_cells[i].input_prompt_number == nbb_cell_id) {\n",
       "                        if (nbb_cells[i].get_text() == nbb_unformatted_code) {\n",
       "                             nbb_cells[i].set_text(nbb_formatted_code);\n",
       "                        }\n",
       "                        break;\n",
       "                    }\n",
       "                }\n",
       "            }, 500);\n",
       "            "
      ],
      "text/plain": [
       "<IPython.core.display.Javascript object>"
      ]
     },
     "metadata": {},
     "output_type": "display_data"
    }
   ],
   "source": [
    "X_logged = X.copy()\n",
    "for c in X_logged:\n",
    "    if c.endswith(\"_var\"):\n",
    "        X_logged[c] = np.log(X_logged[c])"
   ]
  },
  {
   "cell_type": "code",
   "execution_count": 19,
   "metadata": {
    "scrolled": true
   },
   "outputs": [
    {
     "name": "stdout",
     "output_type": "stream",
     "text": [
      "VIF results\n",
      "-------------------------------\n",
      "const                      1438.148029\n",
      "chroma_stft_mean              3.729719\n",
      "chroma_stft_var               2.485952\n",
      "rms_var                       4.006543\n",
      "zero_crossing_rate_mean       4.956602\n",
      "harmony_mean                  1.478928\n",
      "harmony_var                   5.191972\n",
      "perceptr_mean                 1.575567\n",
      "tempo                         1.009386\n",
      "mfcc1_mean                    8.808449\n",
      "mfcc2_mean                    5.755389\n",
      "mfcc2_var                     2.107250\n",
      "mfcc3_mean                    2.400324\n",
      "mfcc3_var                     2.490036\n",
      "mfcc4_mean                    2.255065\n",
      "mfcc4_var                     2.851641\n",
      "mfcc5_var                     2.725289\n",
      "mfcc6_mean                    3.357283\n",
      "mfcc6_var                     2.970141\n",
      "mfcc7_mean                    2.951055\n",
      "mfcc8_mean                    3.616614\n",
      "mfcc8_var                     2.520841\n",
      "mfcc9_mean                    2.682025\n",
      "mfcc9_var                     2.347265\n",
      "mfcc10_var                    2.173911\n",
      "mfcc12_mean                   2.446186\n",
      "mfcc12_var                    2.047856\n",
      "mfcc13_mean                   2.373025\n",
      "mfcc15_mean                   2.291360\n",
      "mfcc15_var                    2.190651\n",
      "mfcc16_mean                   2.150892\n",
      "mfcc16_var                    2.137182\n",
      "mfcc17_mean                   2.244135\n",
      "mfcc18_mean                   1.999263\n",
      "mfcc19_mean                   1.572892\n",
      "mfcc19_var                    1.858232\n",
      "dtype: float64\n",
      "-------------------------------\n",
      "\n"
     ]
    },
    {
     "data": {
      "application/javascript": [
       "\n",
       "            setTimeout(function() {\n",
       "                var nbb_cell_id = 19;\n",
       "                var nbb_unformatted_code = \"print_vif(X_logged)\";\n",
       "                var nbb_formatted_code = \"print_vif(X_logged)\";\n",
       "                var nbb_cells = Jupyter.notebook.get_cells();\n",
       "                for (var i = 0; i < nbb_cells.length; ++i) {\n",
       "                    if (nbb_cells[i].input_prompt_number == nbb_cell_id) {\n",
       "                        if (nbb_cells[i].get_text() == nbb_unformatted_code) {\n",
       "                             nbb_cells[i].set_text(nbb_formatted_code);\n",
       "                        }\n",
       "                        break;\n",
       "                    }\n",
       "                }\n",
       "            }, 500);\n",
       "            "
      ],
      "text/plain": [
       "<IPython.core.display.Javascript object>"
      ]
     },
     "metadata": {},
     "output_type": "display_data"
    }
   ],
   "source": [
    "print_vif(X_logged)"
   ]
  },
  {
   "cell_type": "code",
   "execution_count": 20,
   "metadata": {},
   "outputs": [
    {
     "name": "stdout",
     "output_type": "stream",
     "text": [
      "(7990, 35) (7990,)\n",
      "(2000, 35) (2000,)\n"
     ]
    },
    {
     "data": {
      "application/javascript": [
       "\n",
       "            setTimeout(function() {\n",
       "                var nbb_cell_id = 20;\n",
       "                var nbb_unformatted_code = \"# og: \\\"blues.00000.0.wav\\\"\\n# songname: \\\"blues.00000\\\"\\n# genre: \\\"blues\\\"\\nsong_genre = df[[\\\"songname\\\", \\\"genre\\\"]].drop_duplicates()\\n\\ntrain_songs, test_songs = train_test_split(\\n    song_genre[\\\"songname\\\"], test_size=0.2, random_state=42, stratify=song_genre[\\\"genre\\\"]\\n)\\n\\ntrain_songs = pickle.load(open(\\\"../data/train_songs.p\\\", \\\"rb\\\"))\\ntest_songs = pickle.load(open(\\\"../data/test_songs.p\\\", \\\"rb\\\"))\\n\\ntrain_idxs = df[df[\\\"songname\\\"].isin(train_songs)].index\\ntest_idxs = df[df[\\\"songname\\\"].isin(test_songs)].index\\n\\nX_train = X_logged.loc[train_idxs, :]\\nX_test = X_logged.loc[test_idxs, :]\\ny_train = y[train_idxs]\\ny_test = y[test_idxs]\\n\\nprint(X_train.shape, y_train.shape)\\nprint(X_test.shape, y_test.shape)\";\n",
       "                var nbb_formatted_code = \"# og: \\\"blues.00000.0.wav\\\"\\n# songname: \\\"blues.00000\\\"\\n# genre: \\\"blues\\\"\\nsong_genre = df[[\\\"songname\\\", \\\"genre\\\"]].drop_duplicates()\\n\\ntrain_songs, test_songs = train_test_split(\\n    song_genre[\\\"songname\\\"], test_size=0.2, random_state=42, stratify=song_genre[\\\"genre\\\"]\\n)\\n\\ntrain_songs = pickle.load(open(\\\"../data/train_songs.p\\\", \\\"rb\\\"))\\ntest_songs = pickle.load(open(\\\"../data/test_songs.p\\\", \\\"rb\\\"))\\n\\ntrain_idxs = df[df[\\\"songname\\\"].isin(train_songs)].index\\ntest_idxs = df[df[\\\"songname\\\"].isin(test_songs)].index\\n\\nX_train = X_logged.loc[train_idxs, :]\\nX_test = X_logged.loc[test_idxs, :]\\ny_train = y[train_idxs]\\ny_test = y[test_idxs]\\n\\nprint(X_train.shape, y_train.shape)\\nprint(X_test.shape, y_test.shape)\";\n",
       "                var nbb_cells = Jupyter.notebook.get_cells();\n",
       "                for (var i = 0; i < nbb_cells.length; ++i) {\n",
       "                    if (nbb_cells[i].input_prompt_number == nbb_cell_id) {\n",
       "                        if (nbb_cells[i].get_text() == nbb_unformatted_code) {\n",
       "                             nbb_cells[i].set_text(nbb_formatted_code);\n",
       "                        }\n",
       "                        break;\n",
       "                    }\n",
       "                }\n",
       "            }, 500);\n",
       "            "
      ],
      "text/plain": [
       "<IPython.core.display.Javascript object>"
      ]
     },
     "metadata": {},
     "output_type": "display_data"
    }
   ],
   "source": [
    "# og: \"blues.00000.0.wav\"\n",
    "# songname: \"blues.00000\"\n",
    "# genre: \"blues\"\n",
    "song_genre = df[[\"songname\", \"genre\"]].drop_duplicates()\n",
    "\n",
    "train_songs, test_songs = train_test_split(\n",
    "    song_genre[\"songname\"], test_size=0.2, random_state=42, stratify=song_genre[\"genre\"]\n",
    ")\n",
    "\n",
    "train_songs = pickle.load(open(\"../data/train_songs.p\", \"rb\"))\n",
    "test_songs = pickle.load(open(\"../data/test_songs.p\", \"rb\"))\n",
    "\n",
    "train_idxs = df[df[\"songname\"].isin(train_songs)].index\n",
    "test_idxs = df[df[\"songname\"].isin(test_songs)].index\n",
    "\n",
    "X_train = X_logged.loc[train_idxs, :]\n",
    "X_test = X_logged.loc[test_idxs, :]\n",
    "y_train = y[train_idxs]\n",
    "y_test = y[test_idxs]\n",
    "\n",
    "print(X_train.shape, y_train.shape)\n",
    "print(X_test.shape, y_test.shape)"
   ]
  },
  {
   "cell_type": "code",
   "execution_count": 21,
   "metadata": {
    "scrolled": true
   },
   "outputs": [
    {
     "name": "stdout",
     "output_type": "stream",
     "text": [
      "Fitting 2 folds for each of 6 candidates, totalling 12 fits\n"
     ]
    },
    {
     "name": "stderr",
     "output_type": "stream",
     "text": [
      "[Parallel(n_jobs=-1)]: Using backend LokyBackend with 6 concurrent workers.\n",
      "[Parallel(n_jobs=-1)]: Done  12 out of  12 | elapsed:    7.4s finished\n"
     ]
    },
    {
     "name": "stdout",
     "output_type": "stream",
     "text": [
      "0.7017521902377972\n",
      "0.653\n"
     ]
    },
    {
     "name": "stderr",
     "output_type": "stream",
     "text": [
      "C:\\ProgramData\\Anaconda3\\lib\\site-packages\\sklearn\\linear_model\\_sag.py:330: ConvergenceWarning: The max_iter was reached which means the coef_ did not converge\n",
      "  \"the coef_ did not converge\", ConvergenceWarning)\n"
     ]
    },
    {
     "data": {
      "text/plain": [
       "{'log__C': 0.1,\n",
       " 'log__max_iter': 500,\n",
       " 'log__penalty': 'l1',\n",
       " 'log__solver': 'saga'}"
      ]
     },
     "execution_count": 21,
     "metadata": {},
     "output_type": "execute_result"
    },
    {
     "data": {
      "application/javascript": [
       "\n",
       "            setTimeout(function() {\n",
       "                var nbb_cell_id = 21;\n",
       "                var nbb_unformatted_code = \"num_cols = list(X.columns)\\n\\nbin_cols = []\\n\\ncat_cols = []\\ndrop_cats = []\\n\\n\\npreprocessing = ColumnTransformer(\\n    [\\n        # Scale numeric columns (not needed for all models but can't hurt)\\n        (\\\"scaler\\\", StandardScaler(), num_cols)\\n    ],\\n    remainder=\\\"passthrough\\\",\\n)\\n\\n\\npipeline = Pipeline(\\n    [\\n        (\\\"preprocessing\\\", preprocessing),\\n        #         (\\\"pca\\\", PCA()),\\n        # Choose your model and put it here\\n        (\\\"log\\\", LogisticRegression()),\\n    ]\\n)\\n\\n\\nparams = {\\n    \\\"log__penalty\\\": [\\\"l1\\\"],\\n    \\\"log__C\\\": [0.001, 0.1, 10],\\n    \\\"log__max_iter\\\": [500],\\n    # \\\"log__multiclass\\\": [\\\"ovr\\\", \\\"multinomial\\\"],\\n    # \\\"log__l1_ratio\\\": [0, 0.25, 0.5, 0.75, 1.0],\\n    \\\"log__solver\\\": [\\\"sag\\\", \\\"saga\\\"],\\n}\\n\\n\\npipeline_cv = GridSearchCV(pipeline, params, verbose=1, n_jobs=-1, cv=2)\\n\\npipeline_cv.fit(X_train, y=y_train)\\n\\n\\nprint(pipeline_cv.score(X_train, y_train))\\nprint(pipeline_cv.score(X_test, y_test))\\npipeline_cv.best_params_\";\n",
       "                var nbb_formatted_code = \"num_cols = list(X.columns)\\n\\nbin_cols = []\\n\\ncat_cols = []\\ndrop_cats = []\\n\\n\\npreprocessing = ColumnTransformer(\\n    [\\n        # Scale numeric columns (not needed for all models but can't hurt)\\n        (\\\"scaler\\\", StandardScaler(), num_cols)\\n    ],\\n    remainder=\\\"passthrough\\\",\\n)\\n\\n\\npipeline = Pipeline(\\n    [\\n        (\\\"preprocessing\\\", preprocessing),\\n        #         (\\\"pca\\\", PCA()),\\n        # Choose your model and put it here\\n        (\\\"log\\\", LogisticRegression()),\\n    ]\\n)\\n\\n\\nparams = {\\n    \\\"log__penalty\\\": [\\\"l1\\\"],\\n    \\\"log__C\\\": [0.001, 0.1, 10],\\n    \\\"log__max_iter\\\": [500],\\n    # \\\"log__multiclass\\\": [\\\"ovr\\\", \\\"multinomial\\\"],\\n    # \\\"log__l1_ratio\\\": [0, 0.25, 0.5, 0.75, 1.0],\\n    \\\"log__solver\\\": [\\\"sag\\\", \\\"saga\\\"],\\n}\\n\\n\\npipeline_cv = GridSearchCV(pipeline, params, verbose=1, n_jobs=-1, cv=2)\\n\\npipeline_cv.fit(X_train, y=y_train)\\n\\n\\nprint(pipeline_cv.score(X_train, y_train))\\nprint(pipeline_cv.score(X_test, y_test))\\npipeline_cv.best_params_\";\n",
       "                var nbb_cells = Jupyter.notebook.get_cells();\n",
       "                for (var i = 0; i < nbb_cells.length; ++i) {\n",
       "                    if (nbb_cells[i].input_prompt_number == nbb_cell_id) {\n",
       "                        if (nbb_cells[i].get_text() == nbb_unformatted_code) {\n",
       "                             nbb_cells[i].set_text(nbb_formatted_code);\n",
       "                        }\n",
       "                        break;\n",
       "                    }\n",
       "                }\n",
       "            }, 500);\n",
       "            "
      ],
      "text/plain": [
       "<IPython.core.display.Javascript object>"
      ]
     },
     "metadata": {},
     "output_type": "display_data"
    }
   ],
   "source": [
    "num_cols = list(X.columns)\n",
    "\n",
    "bin_cols = []\n",
    "\n",
    "cat_cols = []\n",
    "drop_cats = []\n",
    "\n",
    "\n",
    "preprocessing = ColumnTransformer(\n",
    "    [\n",
    "        # Scale numeric columns (not needed for all models but can't hurt)\n",
    "        (\"scaler\", StandardScaler(), num_cols)\n",
    "    ],\n",
    "    remainder=\"passthrough\",\n",
    ")\n",
    "\n",
    "\n",
    "pipeline = Pipeline(\n",
    "    [\n",
    "        (\"preprocessing\", preprocessing),\n",
    "        #         (\"pca\", PCA()),\n",
    "        # Choose your model and put it here\n",
    "        (\"log\", LogisticRegression()),\n",
    "    ]\n",
    ")\n",
    "\n",
    "\n",
    "params = {\n",
    "    \"log__penalty\": [\"l1\"],\n",
    "    \"log__C\": [0.001, 0.1, 10],\n",
    "    \"log__max_iter\": [500],\n",
    "    # \"log__multiclass\": [\"ovr\", \"multinomial\"],\n",
    "    # \"log__l1_ratio\": [0, 0.25, 0.5, 0.75, 1.0],\n",
    "    \"log__solver\": [\"sag\", \"saga\"],\n",
    "}\n",
    "\n",
    "\n",
    "pipeline_cv = GridSearchCV(pipeline, params, verbose=1, n_jobs=-1, cv=2)\n",
    "\n",
    "pipeline_cv.fit(X_train, y=y_train)\n",
    "\n",
    "\n",
    "print(pipeline_cv.score(X_train, y_train))\n",
    "print(pipeline_cv.score(X_test, y_test))\n",
    "pipeline_cv.best_params_"
   ]
  },
  {
   "cell_type": "code",
   "execution_count": 22,
   "metadata": {
    "scrolled": true
   },
   "outputs": [
    {
     "data": {
      "text/html": [
       "<div>\n",
       "<style scoped>\n",
       "    .dataframe tbody tr th:only-of-type {\n",
       "        vertical-align: middle;\n",
       "    }\n",
       "\n",
       "    .dataframe tbody tr th {\n",
       "        vertical-align: top;\n",
       "    }\n",
       "\n",
       "    .dataframe thead th {\n",
       "        text-align: right;\n",
       "    }\n",
       "</style>\n",
       "<table border=\"1\" class=\"dataframe\">\n",
       "  <thead>\n",
       "    <tr style=\"text-align: right;\">\n",
       "      <th></th>\n",
       "      <th>feat</th>\n",
       "      <th>coef</th>\n",
       "      <th>abs_coef</th>\n",
       "    </tr>\n",
       "  </thead>\n",
       "  <tbody>\n",
       "    <tr>\n",
       "      <th>8</th>\n",
       "      <td>mfcc1_mean</td>\n",
       "      <td>-2.019371</td>\n",
       "      <td>2.019371</td>\n",
       "    </tr>\n",
       "    <tr>\n",
       "      <th>9</th>\n",
       "      <td>mfcc2_mean</td>\n",
       "      <td>1.155488</td>\n",
       "      <td>1.155488</td>\n",
       "    </tr>\n",
       "    <tr>\n",
       "      <th>5</th>\n",
       "      <td>harmony_var</td>\n",
       "      <td>1.033432</td>\n",
       "      <td>1.033432</td>\n",
       "    </tr>\n",
       "    <tr>\n",
       "      <th>2</th>\n",
       "      <td>rms_var</td>\n",
       "      <td>0.953404</td>\n",
       "      <td>0.953404</td>\n",
       "    </tr>\n",
       "    <tr>\n",
       "      <th>13</th>\n",
       "      <td>mfcc4_mean</td>\n",
       "      <td>0.874160</td>\n",
       "      <td>0.874160</td>\n",
       "    </tr>\n",
       "    <tr>\n",
       "      <th>16</th>\n",
       "      <td>mfcc6_mean</td>\n",
       "      <td>0.853201</td>\n",
       "      <td>0.853201</td>\n",
       "    </tr>\n",
       "    <tr>\n",
       "      <th>10</th>\n",
       "      <td>mfcc2_var</td>\n",
       "      <td>-0.717932</td>\n",
       "      <td>0.717932</td>\n",
       "    </tr>\n",
       "    <tr>\n",
       "      <th>3</th>\n",
       "      <td>zero_crossing_rate_mean</td>\n",
       "      <td>0.672025</td>\n",
       "      <td>0.672025</td>\n",
       "    </tr>\n",
       "    <tr>\n",
       "      <th>18</th>\n",
       "      <td>mfcc7_mean</td>\n",
       "      <td>-0.498572</td>\n",
       "      <td>0.498572</td>\n",
       "    </tr>\n",
       "    <tr>\n",
       "      <th>15</th>\n",
       "      <td>mfcc5_var</td>\n",
       "      <td>0.447887</td>\n",
       "      <td>0.447887</td>\n",
       "    </tr>\n",
       "    <tr>\n",
       "      <th>11</th>\n",
       "      <td>mfcc3_mean</td>\n",
       "      <td>0.431547</td>\n",
       "      <td>0.431547</td>\n",
       "    </tr>\n",
       "    <tr>\n",
       "      <th>32</th>\n",
       "      <td>mfcc18_mean</td>\n",
       "      <td>-0.427462</td>\n",
       "      <td>0.427462</td>\n",
       "    </tr>\n",
       "    <tr>\n",
       "      <th>19</th>\n",
       "      <td>mfcc8_mean</td>\n",
       "      <td>0.389204</td>\n",
       "      <td>0.389204</td>\n",
       "    </tr>\n",
       "    <tr>\n",
       "      <th>24</th>\n",
       "      <td>mfcc12_mean</td>\n",
       "      <td>-0.347431</td>\n",
       "      <td>0.347431</td>\n",
       "    </tr>\n",
       "    <tr>\n",
       "      <th>17</th>\n",
       "      <td>mfcc6_var</td>\n",
       "      <td>-0.297995</td>\n",
       "      <td>0.297995</td>\n",
       "    </tr>\n",
       "    <tr>\n",
       "      <th>4</th>\n",
       "      <td>harmony_mean</td>\n",
       "      <td>0.224969</td>\n",
       "      <td>0.224969</td>\n",
       "    </tr>\n",
       "    <tr>\n",
       "      <th>1</th>\n",
       "      <td>chroma_stft_var</td>\n",
       "      <td>0.219832</td>\n",
       "      <td>0.219832</td>\n",
       "    </tr>\n",
       "    <tr>\n",
       "      <th>31</th>\n",
       "      <td>mfcc17_mean</td>\n",
       "      <td>-0.219375</td>\n",
       "      <td>0.219375</td>\n",
       "    </tr>\n",
       "    <tr>\n",
       "      <th>22</th>\n",
       "      <td>mfcc9_var</td>\n",
       "      <td>-0.213691</td>\n",
       "      <td>0.213691</td>\n",
       "    </tr>\n",
       "    <tr>\n",
       "      <th>26</th>\n",
       "      <td>mfcc13_mean</td>\n",
       "      <td>-0.181795</td>\n",
       "      <td>0.181795</td>\n",
       "    </tr>\n",
       "    <tr>\n",
       "      <th>27</th>\n",
       "      <td>mfcc15_mean</td>\n",
       "      <td>-0.172879</td>\n",
       "      <td>0.172879</td>\n",
       "    </tr>\n",
       "    <tr>\n",
       "      <th>30</th>\n",
       "      <td>mfcc16_var</td>\n",
       "      <td>0.172080</td>\n",
       "      <td>0.172080</td>\n",
       "    </tr>\n",
       "    <tr>\n",
       "      <th>34</th>\n",
       "      <td>mfcc19_var</td>\n",
       "      <td>0.145869</td>\n",
       "      <td>0.145869</td>\n",
       "    </tr>\n",
       "    <tr>\n",
       "      <th>6</th>\n",
       "      <td>perceptr_mean</td>\n",
       "      <td>-0.135923</td>\n",
       "      <td>0.135923</td>\n",
       "    </tr>\n",
       "    <tr>\n",
       "      <th>0</th>\n",
       "      <td>chroma_stft_mean</td>\n",
       "      <td>-0.131868</td>\n",
       "      <td>0.131868</td>\n",
       "    </tr>\n",
       "    <tr>\n",
       "      <th>21</th>\n",
       "      <td>mfcc9_mean</td>\n",
       "      <td>-0.104883</td>\n",
       "      <td>0.104883</td>\n",
       "    </tr>\n",
       "    <tr>\n",
       "      <th>29</th>\n",
       "      <td>mfcc16_mean</td>\n",
       "      <td>0.094363</td>\n",
       "      <td>0.094363</td>\n",
       "    </tr>\n",
       "    <tr>\n",
       "      <th>23</th>\n",
       "      <td>mfcc10_var</td>\n",
       "      <td>-0.085064</td>\n",
       "      <td>0.085064</td>\n",
       "    </tr>\n",
       "    <tr>\n",
       "      <th>28</th>\n",
       "      <td>mfcc15_var</td>\n",
       "      <td>0.084067</td>\n",
       "      <td>0.084067</td>\n",
       "    </tr>\n",
       "    <tr>\n",
       "      <th>33</th>\n",
       "      <td>mfcc19_mean</td>\n",
       "      <td>0.062009</td>\n",
       "      <td>0.062009</td>\n",
       "    </tr>\n",
       "    <tr>\n",
       "      <th>25</th>\n",
       "      <td>mfcc12_var</td>\n",
       "      <td>-0.058117</td>\n",
       "      <td>0.058117</td>\n",
       "    </tr>\n",
       "    <tr>\n",
       "      <th>12</th>\n",
       "      <td>mfcc3_var</td>\n",
       "      <td>0.055086</td>\n",
       "      <td>0.055086</td>\n",
       "    </tr>\n",
       "    <tr>\n",
       "      <th>20</th>\n",
       "      <td>mfcc8_var</td>\n",
       "      <td>0.045947</td>\n",
       "      <td>0.045947</td>\n",
       "    </tr>\n",
       "    <tr>\n",
       "      <th>7</th>\n",
       "      <td>tempo</td>\n",
       "      <td>0.042608</td>\n",
       "      <td>0.042608</td>\n",
       "    </tr>\n",
       "    <tr>\n",
       "      <th>14</th>\n",
       "      <td>mfcc4_var</td>\n",
       "      <td>-0.001027</td>\n",
       "      <td>0.001027</td>\n",
       "    </tr>\n",
       "  </tbody>\n",
       "</table>\n",
       "</div>"
      ],
      "text/plain": [
       "                       feat      coef  abs_coef\n",
       "8                mfcc1_mean -2.019371  2.019371\n",
       "9                mfcc2_mean  1.155488  1.155488\n",
       "5               harmony_var  1.033432  1.033432\n",
       "2                   rms_var  0.953404  0.953404\n",
       "13               mfcc4_mean  0.874160  0.874160\n",
       "16               mfcc6_mean  0.853201  0.853201\n",
       "10                mfcc2_var -0.717932  0.717932\n",
       "3   zero_crossing_rate_mean  0.672025  0.672025\n",
       "18               mfcc7_mean -0.498572  0.498572\n",
       "15                mfcc5_var  0.447887  0.447887\n",
       "11               mfcc3_mean  0.431547  0.431547\n",
       "32              mfcc18_mean -0.427462  0.427462\n",
       "19               mfcc8_mean  0.389204  0.389204\n",
       "24              mfcc12_mean -0.347431  0.347431\n",
       "17                mfcc6_var -0.297995  0.297995\n",
       "4              harmony_mean  0.224969  0.224969\n",
       "1           chroma_stft_var  0.219832  0.219832\n",
       "31              mfcc17_mean -0.219375  0.219375\n",
       "22                mfcc9_var -0.213691  0.213691\n",
       "26              mfcc13_mean -0.181795  0.181795\n",
       "27              mfcc15_mean -0.172879  0.172879\n",
       "30               mfcc16_var  0.172080  0.172080\n",
       "34               mfcc19_var  0.145869  0.145869\n",
       "6             perceptr_mean -0.135923  0.135923\n",
       "0          chroma_stft_mean -0.131868  0.131868\n",
       "21               mfcc9_mean -0.104883  0.104883\n",
       "29              mfcc16_mean  0.094363  0.094363\n",
       "23               mfcc10_var -0.085064  0.085064\n",
       "28               mfcc15_var  0.084067  0.084067\n",
       "33              mfcc19_mean  0.062009  0.062009\n",
       "25               mfcc12_var -0.058117  0.058117\n",
       "12                mfcc3_var  0.055086  0.055086\n",
       "20                mfcc8_var  0.045947  0.045947\n",
       "7                     tempo  0.042608  0.042608\n",
       "14                mfcc4_var -0.001027  0.001027"
      ]
     },
     "execution_count": 22,
     "metadata": {},
     "output_type": "execute_result"
    },
    {
     "data": {
      "application/javascript": [
       "\n",
       "            setTimeout(function() {\n",
       "                var nbb_cell_id = 22;\n",
       "                var nbb_unformatted_code = \"best = pipeline_cv.best_estimator_.named_steps[\\\"log\\\"]\\ncoef_df = pd.DataFrame({\\\"feat\\\": X_train.columns, \\\"coef\\\": best.coef_[0]})\\ncoef_df[\\\"abs_coef\\\"] = np.abs(coef_df[\\\"coef\\\"])\\ncoef_df.sort_values(\\\"abs_coef\\\", ascending=False)\";\n",
       "                var nbb_formatted_code = \"best = pipeline_cv.best_estimator_.named_steps[\\\"log\\\"]\\ncoef_df = pd.DataFrame({\\\"feat\\\": X_train.columns, \\\"coef\\\": best.coef_[0]})\\ncoef_df[\\\"abs_coef\\\"] = np.abs(coef_df[\\\"coef\\\"])\\ncoef_df.sort_values(\\\"abs_coef\\\", ascending=False)\";\n",
       "                var nbb_cells = Jupyter.notebook.get_cells();\n",
       "                for (var i = 0; i < nbb_cells.length; ++i) {\n",
       "                    if (nbb_cells[i].input_prompt_number == nbb_cell_id) {\n",
       "                        if (nbb_cells[i].get_text() == nbb_unformatted_code) {\n",
       "                             nbb_cells[i].set_text(nbb_formatted_code);\n",
       "                        }\n",
       "                        break;\n",
       "                    }\n",
       "                }\n",
       "            }, 500);\n",
       "            "
      ],
      "text/plain": [
       "<IPython.core.display.Javascript object>"
      ]
     },
     "metadata": {},
     "output_type": "display_data"
    }
   ],
   "source": [
    "best = pipeline_cv.best_estimator_.named_steps[\"log\"]\n",
    "coef_df = pd.DataFrame({\"feat\": X_train.columns, \"coef\": best.coef_[0]})\n",
    "coef_df[\"abs_coef\"] = np.abs(coef_df[\"coef\"])\n",
    "coef_df.sort_values(\"abs_coef\", ascending=False)"
   ]
  },
  {
   "cell_type": "code",
   "execution_count": 28,
   "metadata": {},
   "outputs": [
    {
     "data": {
      "text/plain": [
       "Index(['chroma_stft_mean', 'chroma_stft_var', 'rms_var',\n",
       "       'zero_crossing_rate_mean', 'harmony_mean', 'harmony_var',\n",
       "       'perceptr_mean', 'tempo', 'mfcc1_mean', 'mfcc2_mean', 'mfcc2_var',\n",
       "       'mfcc3_mean', 'mfcc3_var', 'mfcc4_mean', 'mfcc4_var', 'mfcc5_var',\n",
       "       'mfcc6_mean', 'mfcc6_var', 'mfcc7_mean', 'mfcc8_mean', 'mfcc8_var',\n",
       "       'mfcc9_mean', 'mfcc9_var', 'mfcc10_var', 'mfcc12_mean', 'mfcc12_var',\n",
       "       'mfcc13_mean', 'mfcc15_mean', 'mfcc15_var', 'mfcc16_mean', 'mfcc16_var',\n",
       "       'mfcc17_mean', 'mfcc18_mean', 'mfcc19_mean', 'mfcc19_var'],\n",
       "      dtype='object')"
      ]
     },
     "execution_count": 28,
     "metadata": {},
     "output_type": "execute_result"
    },
    {
     "data": {
      "application/javascript": [
       "\n",
       "            setTimeout(function() {\n",
       "                var nbb_cell_id = 28;\n",
       "                var nbb_unformatted_code = \"X_train.columns\";\n",
       "                var nbb_formatted_code = \"X_train.columns\";\n",
       "                var nbb_cells = Jupyter.notebook.get_cells();\n",
       "                for (var i = 0; i < nbb_cells.length; ++i) {\n",
       "                    if (nbb_cells[i].input_prompt_number == nbb_cell_id) {\n",
       "                        if (nbb_cells[i].get_text() == nbb_unformatted_code) {\n",
       "                             nbb_cells[i].set_text(nbb_formatted_code);\n",
       "                        }\n",
       "                        break;\n",
       "                    }\n",
       "                }\n",
       "            }, 500);\n",
       "            "
      ],
      "text/plain": [
       "<IPython.core.display.Javascript object>"
      ]
     },
     "metadata": {},
     "output_type": "display_data"
    }
   ],
   "source": [
    "X_train.columns"
   ]
  },
  {
   "cell_type": "code",
   "execution_count": 23,
   "metadata": {},
   "outputs": [
    {
     "data": {
      "application/javascript": [
       "\n",
       "            setTimeout(function() {\n",
       "                var nbb_cell_id = 23;\n",
       "                var nbb_unformatted_code = \"keep_cols = coef_df.sort_values(\\\"abs_coef\\\", ascending=False)[\\\"feat\\\"][:10]\";\n",
       "                var nbb_formatted_code = \"keep_cols = coef_df.sort_values(\\\"abs_coef\\\", ascending=False)[\\\"feat\\\"][:10]\";\n",
       "                var nbb_cells = Jupyter.notebook.get_cells();\n",
       "                for (var i = 0; i < nbb_cells.length; ++i) {\n",
       "                    if (nbb_cells[i].input_prompt_number == nbb_cell_id) {\n",
       "                        if (nbb_cells[i].get_text() == nbb_unformatted_code) {\n",
       "                             nbb_cells[i].set_text(nbb_formatted_code);\n",
       "                        }\n",
       "                        break;\n",
       "                    }\n",
       "                }\n",
       "            }, 500);\n",
       "            "
      ],
      "text/plain": [
       "<IPython.core.display.Javascript object>"
      ]
     },
     "metadata": {},
     "output_type": "display_data"
    }
   ],
   "source": [
    "keep_cols = coef_df.sort_values(\"abs_coef\", ascending=False)[\"feat\"][:10]"
   ]
  },
  {
   "cell_type": "code",
   "execution_count": null,
   "metadata": {},
   "outputs": [],
   "source": []
  },
  {
   "cell_type": "code",
   "execution_count": 24,
   "metadata": {},
   "outputs": [
    {
     "data": {
      "application/javascript": [
       "\n",
       "            setTimeout(function() {\n",
       "                var nbb_cell_id = 24;\n",
       "                var nbb_unformatted_code = \"value_cast = {\\n    \\\"metal\\\": 1,\\n    \\\"jazz\\\": 2,\\n    \\\"blues\\\": 3,\\n    \\\"reggae\\\": 4,\\n    \\\"pop\\\": 5,\\n    \\\"disco\\\": 6,\\n    \\\"classical\\\": 7,\\n    \\\"hiphop\\\": 8,\\n    \\\"rock\\\": 9,\\n    \\\"country\\\": 0,\\n}\\n\\nlogit_y_train = y_train.replace(value_cast)\";\n",
       "                var nbb_formatted_code = \"value_cast = {\\n    \\\"metal\\\": 1,\\n    \\\"jazz\\\": 2,\\n    \\\"blues\\\": 3,\\n    \\\"reggae\\\": 4,\\n    \\\"pop\\\": 5,\\n    \\\"disco\\\": 6,\\n    \\\"classical\\\": 7,\\n    \\\"hiphop\\\": 8,\\n    \\\"rock\\\": 9,\\n    \\\"country\\\": 0,\\n}\\n\\nlogit_y_train = y_train.replace(value_cast)\";\n",
       "                var nbb_cells = Jupyter.notebook.get_cells();\n",
       "                for (var i = 0; i < nbb_cells.length; ++i) {\n",
       "                    if (nbb_cells[i].input_prompt_number == nbb_cell_id) {\n",
       "                        if (nbb_cells[i].get_text() == nbb_unformatted_code) {\n",
       "                             nbb_cells[i].set_text(nbb_formatted_code);\n",
       "                        }\n",
       "                        break;\n",
       "                    }\n",
       "                }\n",
       "            }, 500);\n",
       "            "
      ],
      "text/plain": [
       "<IPython.core.display.Javascript object>"
      ]
     },
     "metadata": {},
     "output_type": "display_data"
    }
   ],
   "source": [
    "value_cast = {\n",
    "    \"metal\": 1,\n",
    "    \"jazz\": 2,\n",
    "    \"blues\": 3,\n",
    "    \"reggae\": 4,\n",
    "    \"pop\": 5,\n",
    "    \"disco\": 6,\n",
    "    \"classical\": 7,\n",
    "    \"hiphop\": 8,\n",
    "    \"rock\": 9,\n",
    "    \"country\": 0,\n",
    "}\n",
    "\n",
    "logit_y_train = y_train.replace(value_cast)"
   ]
  },
  {
   "cell_type": "code",
   "execution_count": 25,
   "metadata": {},
   "outputs": [
    {
     "data": {
      "application/javascript": [
       "\n",
       "            setTimeout(function() {\n",
       "                var nbb_cell_id = 25;\n",
       "                var nbb_unformatted_code = \"from sklearn.feature_selection import (\\n    SelectKBest,\\n    f_classif,\\n    f_regression,\\n    mutual_info_regression,\\n)\";\n",
       "                var nbb_formatted_code = \"from sklearn.feature_selection import (\\n    SelectKBest,\\n    f_classif,\\n    f_regression,\\n    mutual_info_regression,\\n)\";\n",
       "                var nbb_cells = Jupyter.notebook.get_cells();\n",
       "                for (var i = 0; i < nbb_cells.length; ++i) {\n",
       "                    if (nbb_cells[i].input_prompt_number == nbb_cell_id) {\n",
       "                        if (nbb_cells[i].get_text() == nbb_unformatted_code) {\n",
       "                             nbb_cells[i].set_text(nbb_formatted_code);\n",
       "                        }\n",
       "                        break;\n",
       "                    }\n",
       "                }\n",
       "            }, 500);\n",
       "            "
      ],
      "text/plain": [
       "<IPython.core.display.Javascript object>"
      ]
     },
     "metadata": {},
     "output_type": "display_data"
    }
   ],
   "source": [
    "from sklearn.feature_selection import (\n",
    "    SelectKBest,\n",
    "    f_classif,\n",
    "    f_regression,\n",
    "    mutual_info_regression,\n",
    ")"
   ]
  },
  {
   "cell_type": "code",
   "execution_count": 26,
   "metadata": {
    "scrolled": true
   },
   "outputs": [
    {
     "data": {
      "application/javascript": [
       "\n",
       "            setTimeout(function() {\n",
       "                var nbb_cell_id = 26;\n",
       "                var nbb_unformatted_code = \"selector = SelectKBest()\\nselector.fit(X_train, y_train)\\n\\nk_best = selector.transform(X_train)\";\n",
       "                var nbb_formatted_code = \"selector = SelectKBest()\\nselector.fit(X_train, y_train)\\n\\nk_best = selector.transform(X_train)\";\n",
       "                var nbb_cells = Jupyter.notebook.get_cells();\n",
       "                for (var i = 0; i < nbb_cells.length; ++i) {\n",
       "                    if (nbb_cells[i].input_prompt_number == nbb_cell_id) {\n",
       "                        if (nbb_cells[i].get_text() == nbb_unformatted_code) {\n",
       "                             nbb_cells[i].set_text(nbb_formatted_code);\n",
       "                        }\n",
       "                        break;\n",
       "                    }\n",
       "                }\n",
       "            }, 500);\n",
       "            "
      ],
      "text/plain": [
       "<IPython.core.display.Javascript object>"
      ]
     },
     "metadata": {},
     "output_type": "display_data"
    }
   ],
   "source": [
    "selector = SelectKBest()\n",
    "selector.fit(X_train, y_train)\n",
    "\n",
    "k_best = selector.transform(X_train)"
   ]
  },
  {
   "cell_type": "code",
   "execution_count": 27,
   "metadata": {},
   "outputs": [
    {
     "name": "stdout",
     "output_type": "stream",
     "text": [
      "                    feature     f_score\n",
      "0          chroma_stft_mean  858.813725\n",
      "8                mfcc1_mean  811.704964\n",
      "2                   rms_var  788.759820\n",
      "13               mfcc4_mean  550.663118\n",
      "9                mfcc2_mean  541.594843\n",
      "14                mfcc4_var  507.873557\n",
      "15                mfcc5_var  460.828668\n",
      "17                mfcc6_var  453.393656\n",
      "19               mfcc8_mean  423.369217\n",
      "16               mfcc6_mean  408.250749\n",
      "5               harmony_var  403.504903\n",
      "12                mfcc3_var  358.995792\n",
      "21               mfcc9_mean  354.050426\n",
      "3   zero_crossing_rate_mean  313.514158\n",
      "18               mfcc7_mean  311.531293\n",
      "26              mfcc13_mean  288.663688\n",
      "24              mfcc12_mean  276.866465\n",
      "10                mfcc2_var  270.397873\n",
      "11               mfcc3_mean  266.872376\n",
      "20                mfcc8_var  265.610448\n",
      "31              mfcc17_mean  261.580310\n",
      "1           chroma_stft_var  244.581605\n",
      "27              mfcc15_mean  238.874546\n",
      "23               mfcc10_var  204.727636\n",
      "22                mfcc9_var  202.069400\n",
      "34               mfcc19_var  105.976472\n",
      "25               mfcc12_var   96.530425\n",
      "33              mfcc19_mean   93.907343\n",
      "29              mfcc16_mean   78.399791\n",
      "30               mfcc16_var   76.826388\n",
      "28               mfcc15_var   64.416362\n",
      "6             perceptr_mean   63.706579\n",
      "32              mfcc18_mean   49.805554\n",
      "4              harmony_mean   18.142302\n",
      "7                     tempo   11.742120\n"
     ]
    },
    {
     "data": {
      "text/html": [
       "<div>\n",
       "<style scoped>\n",
       "    .dataframe tbody tr th:only-of-type {\n",
       "        vertical-align: middle;\n",
       "    }\n",
       "\n",
       "    .dataframe tbody tr th {\n",
       "        vertical-align: top;\n",
       "    }\n",
       "\n",
       "    .dataframe thead th {\n",
       "        text-align: right;\n",
       "    }\n",
       "</style>\n",
       "<table border=\"1\" class=\"dataframe\">\n",
       "  <thead>\n",
       "    <tr style=\"text-align: right;\">\n",
       "      <th></th>\n",
       "      <th>chroma_stft_mean</th>\n",
       "      <th>rms_var</th>\n",
       "      <th>mfcc1_mean</th>\n",
       "      <th>mfcc2_mean</th>\n",
       "      <th>mfcc4_mean</th>\n",
       "      <th>mfcc4_var</th>\n",
       "      <th>mfcc5_var</th>\n",
       "      <th>mfcc6_mean</th>\n",
       "      <th>mfcc6_var</th>\n",
       "      <th>mfcc8_mean</th>\n",
       "    </tr>\n",
       "  </thead>\n",
       "  <tbody>\n",
       "    <tr>\n",
       "      <th>0</th>\n",
       "      <td>0.335406</td>\n",
       "      <td>-5.649009</td>\n",
       "      <td>-118.627914</td>\n",
       "      <td>125.083626</td>\n",
       "      <td>41.321484</td>\n",
       "      <td>5.202329</td>\n",
       "      <td>5.030197</td>\n",
       "      <td>20.115141</td>\n",
       "      <td>4.326148</td>\n",
       "      <td>17.855198</td>\n",
       "    </tr>\n",
       "    <tr>\n",
       "      <th>1</th>\n",
       "      <td>0.343065</td>\n",
       "      <td>-6.536409</td>\n",
       "      <td>-125.590706</td>\n",
       "      <td>122.421227</td>\n",
       "      <td>50.128387</td>\n",
       "      <td>4.960747</td>\n",
       "      <td>4.936221</td>\n",
       "      <td>21.385401</td>\n",
       "      <td>4.354372</td>\n",
       "      <td>19.454103</td>\n",
       "    </tr>\n",
       "    <tr>\n",
       "      <th>2</th>\n",
       "      <td>0.346815</td>\n",
       "      <td>-5.377274</td>\n",
       "      <td>-132.441940</td>\n",
       "      <td>115.085175</td>\n",
       "      <td>50.189293</td>\n",
       "      <td>4.970966</td>\n",
       "      <td>4.854970</td>\n",
       "      <td>24.650375</td>\n",
       "      <td>4.195263</td>\n",
       "      <td>15.643386</td>\n",
       "    </tr>\n",
       "    <tr>\n",
       "      <th>3</th>\n",
       "      <td>0.363639</td>\n",
       "      <td>-6.012662</td>\n",
       "      <td>-118.231087</td>\n",
       "      <td>132.116501</td>\n",
       "      <td>39.769306</td>\n",
       "      <td>5.218697</td>\n",
       "      <td>4.972575</td>\n",
       "      <td>20.468134</td>\n",
       "      <td>4.808245</td>\n",
       "      <td>18.745104</td>\n",
       "    </tr>\n",
       "    <tr>\n",
       "      <th>4</th>\n",
       "      <td>0.335579</td>\n",
       "      <td>-6.376606</td>\n",
       "      <td>-105.968376</td>\n",
       "      <td>134.643646</td>\n",
       "      <td>40.171753</td>\n",
       "      <td>4.635900</td>\n",
       "      <td>4.631337</td>\n",
       "      <td>18.734617</td>\n",
       "      <td>4.370334</td>\n",
       "      <td>19.207966</td>\n",
       "    </tr>\n",
       "  </tbody>\n",
       "</table>\n",
       "</div>"
      ],
      "text/plain": [
       "   chroma_stft_mean   rms_var  mfcc1_mean  mfcc2_mean  mfcc4_mean  mfcc4_var  \\\n",
       "0          0.335406 -5.649009 -118.627914  125.083626   41.321484   5.202329   \n",
       "1          0.343065 -6.536409 -125.590706  122.421227   50.128387   4.960747   \n",
       "2          0.346815 -5.377274 -132.441940  115.085175   50.189293   4.970966   \n",
       "3          0.363639 -6.012662 -118.231087  132.116501   39.769306   5.218697   \n",
       "4          0.335579 -6.376606 -105.968376  134.643646   40.171753   4.635900   \n",
       "\n",
       "   mfcc5_var  mfcc6_mean  mfcc6_var  mfcc8_mean  \n",
       "0   5.030197   20.115141   4.326148   17.855198  \n",
       "1   4.936221   21.385401   4.354372   19.454103  \n",
       "2   4.854970   24.650375   4.195263   15.643386  \n",
       "3   4.972575   20.468134   4.808245   18.745104  \n",
       "4   4.631337   18.734617   4.370334   19.207966  "
      ]
     },
     "execution_count": 27,
     "metadata": {},
     "output_type": "execute_result"
    },
    {
     "data": {
      "application/javascript": [
       "\n",
       "            setTimeout(function() {\n",
       "                var nbb_cell_id = 27;\n",
       "                var nbb_unformatted_code = \"# We can see/rank which features were the best\\nscore_df = pd.DataFrame({\\\"feature\\\": X_train.columns, \\\"f_score\\\": selector.scores_})\\nscore_df = score_df.sort_values(\\\"f_score\\\", ascending=False)\\nprint(score_df.head(40))\\n\\n# We can put back into a dataframe to see column names\\nbest_df = pd.DataFrame(k_best, columns=X_train.columns[selector.get_support()])\\nbest_df.head()\";\n",
       "                var nbb_formatted_code = \"# We can see/rank which features were the best\\nscore_df = pd.DataFrame({\\\"feature\\\": X_train.columns, \\\"f_score\\\": selector.scores_})\\nscore_df = score_df.sort_values(\\\"f_score\\\", ascending=False)\\nprint(score_df.head(40))\\n\\n# We can put back into a dataframe to see column names\\nbest_df = pd.DataFrame(k_best, columns=X_train.columns[selector.get_support()])\\nbest_df.head()\";\n",
       "                var nbb_cells = Jupyter.notebook.get_cells();\n",
       "                for (var i = 0; i < nbb_cells.length; ++i) {\n",
       "                    if (nbb_cells[i].input_prompt_number == nbb_cell_id) {\n",
       "                        if (nbb_cells[i].get_text() == nbb_unformatted_code) {\n",
       "                             nbb_cells[i].set_text(nbb_formatted_code);\n",
       "                        }\n",
       "                        break;\n",
       "                    }\n",
       "                }\n",
       "            }, 500);\n",
       "            "
      ],
      "text/plain": [
       "<IPython.core.display.Javascript object>"
      ]
     },
     "metadata": {},
     "output_type": "display_data"
    }
   ],
   "source": [
    "# We can see/rank which features were the best\n",
    "score_df = pd.DataFrame({\"feature\": X_train.columns, \"f_score\": selector.scores_})\n",
    "score_df = score_df.sort_values(\"f_score\", ascending=False)\n",
    "print(score_df.head(40))\n",
    "\n",
    "# We can put back into a dataframe to see column names\n",
    "best_df = pd.DataFrame(k_best, columns=X_train.columns[selector.get_support()])\n",
    "best_df.head()"
   ]
  }
 ],
 "metadata": {
  "kernelspec": {
   "display_name": "Python 3",
   "language": "python",
   "name": "python3"
  },
  "language_info": {
   "codemirror_mode": {
    "name": "ipython",
    "version": 3
   },
   "file_extension": ".py",
   "mimetype": "text/x-python",
   "name": "python",
   "nbconvert_exporter": "python",
   "pygments_lexer": "ipython3",
   "version": "3.7.6"
  }
 },
 "nbformat": 4,
 "nbformat_minor": 4
}
