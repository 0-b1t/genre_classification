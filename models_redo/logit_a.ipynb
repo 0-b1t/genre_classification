{
 "cells": [
  {
   "cell_type": "code",
   "execution_count": 1,
   "metadata": {},
   "outputs": [
    {
     "data": {
      "application/javascript": [
       "\n",
       "            setTimeout(function() {\n",
       "                var nbb_cell_id = 1;\n",
       "                var nbb_unformatted_code = \"%reload_ext nb_black\";\n",
       "                var nbb_formatted_code = \"%reload_ext nb_black\";\n",
       "                var nbb_cells = Jupyter.notebook.get_cells();\n",
       "                for (var i = 0; i < nbb_cells.length; ++i) {\n",
       "                    if (nbb_cells[i].input_prompt_number == nbb_cell_id) {\n",
       "                        if (nbb_cells[i].get_text() == nbb_unformatted_code) {\n",
       "                             nbb_cells[i].set_text(nbb_formatted_code);\n",
       "                        }\n",
       "                        break;\n",
       "                    }\n",
       "                }\n",
       "            }, 500);\n",
       "            "
      ],
      "text/plain": [
       "<IPython.core.display.Javascript object>"
      ]
     },
     "metadata": {},
     "output_type": "display_data"
    }
   ],
   "source": [
    "%reload_ext nb_black"
   ]
  },
  {
   "cell_type": "code",
   "execution_count": 2,
   "metadata": {},
   "outputs": [
    {
     "data": {
      "application/javascript": [
       "\n",
       "            setTimeout(function() {\n",
       "                var nbb_cell_id = 2;\n",
       "                var nbb_unformatted_code = \"import warnings\\n\\nimport pandas as pd\\nimport numpy as np\\nimport pickle\\n\\nimport statsmodels.api as sm\\nfrom statsmodels.stats.outliers_influence import variance_inflation_factor\\n\\nimport seaborn as sns\\nimport matplotlib.pyplot as plt\\n\\nfrom sklearn.model_selection import train_test_split, GridSearchCV\\nfrom sklearn.metrics import (\\n    classification_report,\\n    confusion_matrix,\\n    fbeta_score,\\n    f1_score,\\n    make_scorer,\\n    accuracy_score,\\n    precision_score,\\n)\\n\\nfrom sklearn.pipeline import Pipeline\\nfrom sklearn.compose import ColumnTransformer\\nfrom sklearn.preprocessing import StandardScaler\\nfrom sklearn.decomposition import PCA\\n\\n\\nfrom sklearn.linear_model import LogisticRegression\";\n",
       "                var nbb_formatted_code = \"import warnings\\n\\nimport pandas as pd\\nimport numpy as np\\nimport pickle\\n\\nimport statsmodels.api as sm\\nfrom statsmodels.stats.outliers_influence import variance_inflation_factor\\n\\nimport seaborn as sns\\nimport matplotlib.pyplot as plt\\n\\nfrom sklearn.model_selection import train_test_split, GridSearchCV\\nfrom sklearn.metrics import (\\n    classification_report,\\n    confusion_matrix,\\n    fbeta_score,\\n    f1_score,\\n    make_scorer,\\n    accuracy_score,\\n    precision_score,\\n)\\n\\nfrom sklearn.pipeline import Pipeline\\nfrom sklearn.compose import ColumnTransformer\\nfrom sklearn.preprocessing import StandardScaler\\nfrom sklearn.decomposition import PCA\\n\\n\\nfrom sklearn.linear_model import LogisticRegression\";\n",
       "                var nbb_cells = Jupyter.notebook.get_cells();\n",
       "                for (var i = 0; i < nbb_cells.length; ++i) {\n",
       "                    if (nbb_cells[i].input_prompt_number == nbb_cell_id) {\n",
       "                        if (nbb_cells[i].get_text() == nbb_unformatted_code) {\n",
       "                             nbb_cells[i].set_text(nbb_formatted_code);\n",
       "                        }\n",
       "                        break;\n",
       "                    }\n",
       "                }\n",
       "            }, 500);\n",
       "            "
      ],
      "text/plain": [
       "<IPython.core.display.Javascript object>"
      ]
     },
     "metadata": {},
     "output_type": "display_data"
    }
   ],
   "source": [
    "import warnings\n",
    "\n",
    "import pandas as pd\n",
    "import numpy as np\n",
    "import pickle\n",
    "\n",
    "import statsmodels.api as sm\n",
    "from statsmodels.stats.outliers_influence import variance_inflation_factor\n",
    "\n",
    "import seaborn as sns\n",
    "import matplotlib.pyplot as plt\n",
    "\n",
    "from sklearn.model_selection import train_test_split, GridSearchCV\n",
    "from sklearn.metrics import (\n",
    "    classification_report,\n",
    "    confusion_matrix,\n",
    "    fbeta_score,\n",
    "    f1_score,\n",
    "    make_scorer,\n",
    "    accuracy_score,\n",
    "    precision_score,\n",
    ")\n",
    "\n",
    "from sklearn.pipeline import Pipeline\n",
    "from sklearn.compose import ColumnTransformer\n",
    "from sklearn.preprocessing import StandardScaler\n",
    "from sklearn.decomposition import PCA\n",
    "\n",
    "\n",
    "from sklearn.linear_model import LogisticRegression"
   ]
  },
  {
   "cell_type": "code",
   "execution_count": 3,
   "metadata": {},
   "outputs": [
    {
     "data": {
      "application/javascript": [
       "\n",
       "            setTimeout(function() {\n",
       "                var nbb_cell_id = 3;\n",
       "                var nbb_unformatted_code = \"def print_vif(x):\\n    \\\"\\\"\\\"Utility for checking multicollinearity assumption\\n    \\n    :param x: input features to check using VIF. This is assumed to be a pandas.DataFrame\\n    :return: nothing is returned the VIFs are printed as a pandas series\\n    \\\"\\\"\\\"\\n    # Silence numpy FutureWarning about .ptp\\n    with warnings.catch_warnings():\\n        warnings.simplefilter(\\\"ignore\\\")\\n        x = sm.add_constant(x)\\n\\n    vifs = []\\n    for i in range(x.shape[1]):\\n        vif = variance_inflation_factor(x.values, i)\\n        vifs.append(vif)\\n\\n    print(\\\"VIF results\\\\n-------------------------------\\\")\\n    print(pd.Series(vifs, index=x.columns))\\n    print(\\\"-------------------------------\\\\n\\\")\";\n",
       "                var nbb_formatted_code = \"def print_vif(x):\\n    \\\"\\\"\\\"Utility for checking multicollinearity assumption\\n    \\n    :param x: input features to check using VIF. This is assumed to be a pandas.DataFrame\\n    :return: nothing is returned the VIFs are printed as a pandas series\\n    \\\"\\\"\\\"\\n    # Silence numpy FutureWarning about .ptp\\n    with warnings.catch_warnings():\\n        warnings.simplefilter(\\\"ignore\\\")\\n        x = sm.add_constant(x)\\n\\n    vifs = []\\n    for i in range(x.shape[1]):\\n        vif = variance_inflation_factor(x.values, i)\\n        vifs.append(vif)\\n\\n    print(\\\"VIF results\\\\n-------------------------------\\\")\\n    print(pd.Series(vifs, index=x.columns))\\n    print(\\\"-------------------------------\\\\n\\\")\";\n",
       "                var nbb_cells = Jupyter.notebook.get_cells();\n",
       "                for (var i = 0; i < nbb_cells.length; ++i) {\n",
       "                    if (nbb_cells[i].input_prompt_number == nbb_cell_id) {\n",
       "                        if (nbb_cells[i].get_text() == nbb_unformatted_code) {\n",
       "                             nbb_cells[i].set_text(nbb_formatted_code);\n",
       "                        }\n",
       "                        break;\n",
       "                    }\n",
       "                }\n",
       "            }, 500);\n",
       "            "
      ],
      "text/plain": [
       "<IPython.core.display.Javascript object>"
      ]
     },
     "metadata": {},
     "output_type": "display_data"
    }
   ],
   "source": [
    "def print_vif(x):\n",
    "    \"\"\"Utility for checking multicollinearity assumption\n",
    "    \n",
    "    :param x: input features to check using VIF. This is assumed to be a pandas.DataFrame\n",
    "    :return: nothing is returned the VIFs are printed as a pandas series\n",
    "    \"\"\"\n",
    "    # Silence numpy FutureWarning about .ptp\n",
    "    with warnings.catch_warnings():\n",
    "        warnings.simplefilter(\"ignore\")\n",
    "        x = sm.add_constant(x)\n",
    "\n",
    "    vifs = []\n",
    "    for i in range(x.shape[1]):\n",
    "        vif = variance_inflation_factor(x.values, i)\n",
    "        vifs.append(vif)\n",
    "\n",
    "    print(\"VIF results\\n-------------------------------\")\n",
    "    print(pd.Series(vifs, index=x.columns))\n",
    "    print(\"-------------------------------\\n\")"
   ]
  },
  {
   "cell_type": "code",
   "execution_count": 4,
   "metadata": {},
   "outputs": [
    {
     "data": {
      "application/javascript": [
       "\n",
       "            setTimeout(function() {\n",
       "                var nbb_cell_id = 4;\n",
       "                var nbb_unformatted_code = \"# To use all\\n# df_long = pd.read_csv(\\\"../data/features_30_sec.csv\\\")\\n# df_short = pd.read_csv(\\\"../data/features_3_sec.csv\\\")\\n# df = pd.concat((df_long, df_short))\\n\\n# To use just one\\n# df = pd.read_csv(\\\"../data/features_30_sec.csv\\\")\\ndf = pd.read_csv(\\\"../data/features_3_sec.csv\\\")\\n\\ndf[\\\"genre\\\"] = df[\\\"filename\\\"].str.split(\\\".\\\").str[0]\\n\\n# \\\"blues.00000.0.wav\\\" -> \\\"blues.00000\\\"\\n# and\\n# \\\"blues.00000.wav\\\" -> \\\"blues.00000\\\"\\n# logic: split on period, take first 2 elements, and but back together\\ndf[\\\"songname\\\"] = df[\\\"filename\\\"].str.split(\\\".\\\").str[:2].str.join(\\\".\\\")\";\n",
       "                var nbb_formatted_code = \"# To use all\\n# df_long = pd.read_csv(\\\"../data/features_30_sec.csv\\\")\\n# df_short = pd.read_csv(\\\"../data/features_3_sec.csv\\\")\\n# df = pd.concat((df_long, df_short))\\n\\n# To use just one\\n# df = pd.read_csv(\\\"../data/features_30_sec.csv\\\")\\ndf = pd.read_csv(\\\"../data/features_3_sec.csv\\\")\\n\\ndf[\\\"genre\\\"] = df[\\\"filename\\\"].str.split(\\\".\\\").str[0]\\n\\n# \\\"blues.00000.0.wav\\\" -> \\\"blues.00000\\\"\\n# and\\n# \\\"blues.00000.wav\\\" -> \\\"blues.00000\\\"\\n# logic: split on period, take first 2 elements, and but back together\\ndf[\\\"songname\\\"] = df[\\\"filename\\\"].str.split(\\\".\\\").str[:2].str.join(\\\".\\\")\";\n",
       "                var nbb_cells = Jupyter.notebook.get_cells();\n",
       "                for (var i = 0; i < nbb_cells.length; ++i) {\n",
       "                    if (nbb_cells[i].input_prompt_number == nbb_cell_id) {\n",
       "                        if (nbb_cells[i].get_text() == nbb_unformatted_code) {\n",
       "                             nbb_cells[i].set_text(nbb_formatted_code);\n",
       "                        }\n",
       "                        break;\n",
       "                    }\n",
       "                }\n",
       "            }, 500);\n",
       "            "
      ],
      "text/plain": [
       "<IPython.core.display.Javascript object>"
      ]
     },
     "metadata": {},
     "output_type": "display_data"
    }
   ],
   "source": [
    "# To use all\n",
    "# df_long = pd.read_csv(\"../data/features_30_sec.csv\")\n",
    "# df_short = pd.read_csv(\"../data/features_3_sec.csv\")\n",
    "# df = pd.concat((df_long, df_short))\n",
    "\n",
    "# To use just one\n",
    "# df = pd.read_csv(\"../data/features_30_sec.csv\")\n",
    "df = pd.read_csv(\"../data/features_3_sec.csv\")\n",
    "\n",
    "df[\"genre\"] = df[\"filename\"].str.split(\".\").str[0]\n",
    "\n",
    "# \"blues.00000.0.wav\" -> \"blues.00000\"\n",
    "# and\n",
    "# \"blues.00000.wav\" -> \"blues.00000\"\n",
    "# logic: split on period, take first 2 elements, and but back together\n",
    "df[\"songname\"] = df[\"filename\"].str.split(\".\").str[:2].str.join(\".\")"
   ]
  },
  {
   "cell_type": "code",
   "execution_count": 5,
   "metadata": {},
   "outputs": [
    {
     "data": {
      "application/javascript": [
       "\n",
       "            setTimeout(function() {\n",
       "                var nbb_cell_id = 5;\n",
       "                var nbb_unformatted_code = \"m_start = 20  # highest mfcc to use. higher than this is too high in the frequency spectrum to really matter\\nmel_freq_drops = [f\\\"mfcc{x}_mean\\\" for x in range(m_start, 21)] + [\\n    f\\\"mfcc{x}_var\\\" for x in range(m_start, 21)\\n]\";\n",
       "                var nbb_formatted_code = \"m_start = 20  # highest mfcc to use. higher than this is too high in the frequency spectrum to really matter\\nmel_freq_drops = [f\\\"mfcc{x}_mean\\\" for x in range(m_start, 21)] + [\\n    f\\\"mfcc{x}_var\\\" for x in range(m_start, 21)\\n]\";\n",
       "                var nbb_cells = Jupyter.notebook.get_cells();\n",
       "                for (var i = 0; i < nbb_cells.length; ++i) {\n",
       "                    if (nbb_cells[i].input_prompt_number == nbb_cell_id) {\n",
       "                        if (nbb_cells[i].get_text() == nbb_unformatted_code) {\n",
       "                             nbb_cells[i].set_text(nbb_formatted_code);\n",
       "                        }\n",
       "                        break;\n",
       "                    }\n",
       "                }\n",
       "            }, 500);\n",
       "            "
      ],
      "text/plain": [
       "<IPython.core.display.Javascript object>"
      ]
     },
     "metadata": {},
     "output_type": "display_data"
    }
   ],
   "source": [
    "m_start = 20  # highest mfcc to use. higher than this is too high in the frequency spectrum to really matter\n",
    "mel_freq_drops = [f\"mfcc{x}_mean\" for x in range(m_start, 21)] + [\n",
    "    f\"mfcc{x}_var\" for x in range(m_start, 21)\n",
    "]"
   ]
  },
  {
   "cell_type": "code",
   "execution_count": 6,
   "metadata": {},
   "outputs": [
    {
     "data": {
      "application/javascript": [
       "\n",
       "            setTimeout(function() {\n",
       "                var nbb_cell_id = 6;\n",
       "                var nbb_unformatted_code = \"drop_cols = [\\n    \\\"filename\\\",\\n    \\\"label\\\",\\n    \\\"genre\\\",\\n    \\\"songname\\\",\\n    \\\"length\\\",\\n    #     \\\"chroma_stft_mean\\\",\\n    #     \\\"chroma_stft_var\\\",\\n    \\\"rms_mean\\\",\\n    #     \\\"rms_var\\\",\\n    \\\"spectral_centroid_mean\\\",\\n    \\\"spectral_centroid_var\\\",\\n    \\\"spectral_bandwidth_mean\\\",\\n    \\\"spectral_bandwidth_var\\\",\\n    \\\"rolloff_mean\\\",\\n    \\\"rolloff_var\\\",\\n    #     \\\"zero_crossing_rate_mean\\\",\\n    #     \\\"zero_crossing_rate_var\\\",\\n    #     \\\"harmony_mean\\\",\\n    #     \\\"harmony_var\\\",\\n    #     \\\"perceptr_mean\\\",\\n    \\\"perceptr_var\\\",\\n    #     \\\"tempo\\\",\\n]\\n\\ndrop_cols = drop_cols + mel_freq_drops\\n# print_vif(df.drop(drop_cols, 1,))\";\n",
       "                var nbb_formatted_code = \"drop_cols = [\\n    \\\"filename\\\",\\n    \\\"label\\\",\\n    \\\"genre\\\",\\n    \\\"songname\\\",\\n    \\\"length\\\",\\n    #     \\\"chroma_stft_mean\\\",\\n    #     \\\"chroma_stft_var\\\",\\n    \\\"rms_mean\\\",\\n    #     \\\"rms_var\\\",\\n    \\\"spectral_centroid_mean\\\",\\n    \\\"spectral_centroid_var\\\",\\n    \\\"spectral_bandwidth_mean\\\",\\n    \\\"spectral_bandwidth_var\\\",\\n    \\\"rolloff_mean\\\",\\n    \\\"rolloff_var\\\",\\n    #     \\\"zero_crossing_rate_mean\\\",\\n    #     \\\"zero_crossing_rate_var\\\",\\n    #     \\\"harmony_mean\\\",\\n    #     \\\"harmony_var\\\",\\n    #     \\\"perceptr_mean\\\",\\n    \\\"perceptr_var\\\",\\n    #     \\\"tempo\\\",\\n]\\n\\ndrop_cols = drop_cols + mel_freq_drops\\n# print_vif(df.drop(drop_cols, 1,))\";\n",
       "                var nbb_cells = Jupyter.notebook.get_cells();\n",
       "                for (var i = 0; i < nbb_cells.length; ++i) {\n",
       "                    if (nbb_cells[i].input_prompt_number == nbb_cell_id) {\n",
       "                        if (nbb_cells[i].get_text() == nbb_unformatted_code) {\n",
       "                             nbb_cells[i].set_text(nbb_formatted_code);\n",
       "                        }\n",
       "                        break;\n",
       "                    }\n",
       "                }\n",
       "            }, 500);\n",
       "            "
      ],
      "text/plain": [
       "<IPython.core.display.Javascript object>"
      ]
     },
     "metadata": {},
     "output_type": "display_data"
    }
   ],
   "source": [
    "drop_cols = [\n",
    "    \"filename\",\n",
    "    \"label\",\n",
    "    \"genre\",\n",
    "    \"songname\",\n",
    "    \"length\",\n",
    "    #     \"chroma_stft_mean\",\n",
    "    #     \"chroma_stft_var\",\n",
    "    \"rms_mean\",\n",
    "    #     \"rms_var\",\n",
    "    \"spectral_centroid_mean\",\n",
    "    \"spectral_centroid_var\",\n",
    "    \"spectral_bandwidth_mean\",\n",
    "    \"spectral_bandwidth_var\",\n",
    "    \"rolloff_mean\",\n",
    "    \"rolloff_var\",\n",
    "    #     \"zero_crossing_rate_mean\",\n",
    "    #     \"zero_crossing_rate_var\",\n",
    "    #     \"harmony_mean\",\n",
    "    #     \"harmony_var\",\n",
    "    #     \"perceptr_mean\",\n",
    "    \"perceptr_var\",\n",
    "    #     \"tempo\",\n",
    "]\n",
    "\n",
    "drop_cols = drop_cols + mel_freq_drops\n",
    "# print_vif(df.drop(drop_cols, 1,))"
   ]
  },
  {
   "cell_type": "code",
   "execution_count": 7,
   "metadata": {},
   "outputs": [
    {
     "data": {
      "application/javascript": [
       "\n",
       "            setTimeout(function() {\n",
       "                var nbb_cell_id = 7;\n",
       "                var nbb_unformatted_code = \"# X = df.drop(columns=drop_cols + [\\\"genre\\\"])\\nX = df.drop(drop_cols, 1)\\ny = df[\\\"genre\\\"]\";\n",
       "                var nbb_formatted_code = \"# X = df.drop(columns=drop_cols + [\\\"genre\\\"])\\nX = df.drop(drop_cols, 1)\\ny = df[\\\"genre\\\"]\";\n",
       "                var nbb_cells = Jupyter.notebook.get_cells();\n",
       "                for (var i = 0; i < nbb_cells.length; ++i) {\n",
       "                    if (nbb_cells[i].input_prompt_number == nbb_cell_id) {\n",
       "                        if (nbb_cells[i].get_text() == nbb_unformatted_code) {\n",
       "                             nbb_cells[i].set_text(nbb_formatted_code);\n",
       "                        }\n",
       "                        break;\n",
       "                    }\n",
       "                }\n",
       "            }, 500);\n",
       "            "
      ],
      "text/plain": [
       "<IPython.core.display.Javascript object>"
      ]
     },
     "metadata": {},
     "output_type": "display_data"
    }
   ],
   "source": [
    "# X = df.drop(columns=drop_cols + [\"genre\"])\n",
    "X = df.drop(drop_cols, 1)\n",
    "y = df[\"genre\"]"
   ]
  },
  {
   "cell_type": "code",
   "execution_count": 8,
   "metadata": {},
   "outputs": [
    {
     "data": {
      "application/javascript": [
       "\n",
       "            setTimeout(function() {\n",
       "                var nbb_cell_id = 8;\n",
       "                var nbb_unformatted_code = \"X_logged = X.copy()\\nfor c in X_logged:\\n    if c.endswith(\\\"_var\\\"):\\n        X_logged[c] = np.log(X_logged[c])\";\n",
       "                var nbb_formatted_code = \"X_logged = X.copy()\\nfor c in X_logged:\\n    if c.endswith(\\\"_var\\\"):\\n        X_logged[c] = np.log(X_logged[c])\";\n",
       "                var nbb_cells = Jupyter.notebook.get_cells();\n",
       "                for (var i = 0; i < nbb_cells.length; ++i) {\n",
       "                    if (nbb_cells[i].input_prompt_number == nbb_cell_id) {\n",
       "                        if (nbb_cells[i].get_text() == nbb_unformatted_code) {\n",
       "                             nbb_cells[i].set_text(nbb_formatted_code);\n",
       "                        }\n",
       "                        break;\n",
       "                    }\n",
       "                }\n",
       "            }, 500);\n",
       "            "
      ],
      "text/plain": [
       "<IPython.core.display.Javascript object>"
      ]
     },
     "metadata": {},
     "output_type": "display_data"
    }
   ],
   "source": [
    "X_logged = X.copy()\n",
    "for c in X_logged:\n",
    "    if c.endswith(\"_var\"):\n",
    "        X_logged[c] = np.log(X_logged[c])"
   ]
  },
  {
   "cell_type": "code",
   "execution_count": 9,
   "metadata": {
    "scrolled": true
   },
   "outputs": [
    {
     "name": "stdout",
     "output_type": "stream",
     "text": [
      "VIF results\n",
      "-------------------------------\n",
      "const                      1891.875317\n",
      "chroma_stft_mean              4.034173\n",
      "chroma_stft_var               2.592091\n",
      "rms_var                       5.350718\n",
      "zero_crossing_rate_mean       5.885183\n",
      "zero_crossing_rate_var        4.828621\n",
      "harmony_mean                  1.489142\n",
      "harmony_var                   5.518013\n",
      "perceptr_mean                 1.590989\n",
      "tempo                         1.011565\n",
      "mfcc1_mean                    9.683297\n",
      "mfcc1_var                     3.725781\n",
      "mfcc2_mean                    6.195771\n",
      "mfcc2_var                     2.860859\n",
      "mfcc3_mean                    2.538644\n",
      "mfcc3_var                     2.658320\n",
      "mfcc4_mean                    2.287364\n",
      "mfcc4_var                     2.904286\n",
      "mfcc5_mean                    2.794907\n",
      "mfcc5_var                     2.940476\n",
      "mfcc6_mean                    3.492312\n",
      "mfcc6_var                     3.100551\n",
      "mfcc7_mean                    3.258857\n",
      "mfcc7_var                     2.875073\n",
      "mfcc8_mean                    4.058817\n",
      "mfcc8_var                     2.628985\n",
      "mfcc9_mean                    2.825949\n",
      "mfcc9_var                     2.448172\n",
      "mfcc10_mean                   3.057705\n",
      "mfcc10_var                    2.352342\n",
      "mfcc11_mean                   2.450174\n",
      "mfcc11_var                    2.407222\n",
      "mfcc12_mean                   2.879688\n",
      "mfcc12_var                    2.350837\n",
      "mfcc13_mean                   2.743931\n",
      "mfcc13_var                    2.368349\n",
      "mfcc14_mean                   2.324575\n",
      "mfcc14_var                    2.321252\n",
      "mfcc15_mean                   2.522544\n",
      "mfcc15_var                    2.472344\n",
      "mfcc16_mean                   2.233108\n",
      "mfcc16_var                    2.457976\n",
      "mfcc17_mean                   2.300633\n",
      "mfcc17_var                    2.562316\n",
      "mfcc18_mean                   2.073371\n",
      "mfcc18_var                    2.626489\n",
      "mfcc19_mean                   1.625683\n",
      "mfcc19_var                    2.335125\n",
      "dtype: float64\n",
      "-------------------------------\n",
      "\n"
     ]
    },
    {
     "data": {
      "application/javascript": [
       "\n",
       "            setTimeout(function() {\n",
       "                var nbb_cell_id = 9;\n",
       "                var nbb_unformatted_code = \"print_vif(X_logged)\";\n",
       "                var nbb_formatted_code = \"print_vif(X_logged)\";\n",
       "                var nbb_cells = Jupyter.notebook.get_cells();\n",
       "                for (var i = 0; i < nbb_cells.length; ++i) {\n",
       "                    if (nbb_cells[i].input_prompt_number == nbb_cell_id) {\n",
       "                        if (nbb_cells[i].get_text() == nbb_unformatted_code) {\n",
       "                             nbb_cells[i].set_text(nbb_formatted_code);\n",
       "                        }\n",
       "                        break;\n",
       "                    }\n",
       "                }\n",
       "            }, 500);\n",
       "            "
      ],
      "text/plain": [
       "<IPython.core.display.Javascript object>"
      ]
     },
     "metadata": {},
     "output_type": "display_data"
    }
   ],
   "source": [
    "print_vif(X_logged)"
   ]
  },
  {
   "cell_type": "code",
   "execution_count": 10,
   "metadata": {},
   "outputs": [
    {
     "name": "stdout",
     "output_type": "stream",
     "text": [
      "(7990, 47) (7990,)\n",
      "(2000, 47) (2000,)\n"
     ]
    },
    {
     "data": {
      "application/javascript": [
       "\n",
       "            setTimeout(function() {\n",
       "                var nbb_cell_id = 10;\n",
       "                var nbb_unformatted_code = \"# og: \\\"blues.00000.0.wav\\\"\\n# songname: \\\"blues.00000\\\"\\n# genre: \\\"blues\\\"\\nsong_genre = df[[\\\"songname\\\", \\\"genre\\\"]].drop_duplicates()\\n\\ntrain_songs, test_songs = train_test_split(\\n    song_genre[\\\"songname\\\"], test_size=0.2, random_state=42, stratify=song_genre[\\\"genre\\\"]\\n)\\n\\ntrain_songs = pickle.load(open(\\\"../data/train_songs.p\\\", \\\"rb\\\"))\\ntest_songs = pickle.load(open(\\\"../data/test_songs.p\\\", \\\"rb\\\"))\\n\\ntrain_idxs = df[df[\\\"songname\\\"].isin(train_songs)].index\\ntest_idxs = df[df[\\\"songname\\\"].isin(test_songs)].index\\n\\nX_train = X_logged.loc[train_idxs, :]\\nX_test = X_logged.loc[test_idxs, :]\\ny_train = y[train_idxs]\\ny_test = y[test_idxs]\\n\\nprint(X_train.shape, y_train.shape)\\nprint(X_test.shape, y_test.shape)\";\n",
       "                var nbb_formatted_code = \"# og: \\\"blues.00000.0.wav\\\"\\n# songname: \\\"blues.00000\\\"\\n# genre: \\\"blues\\\"\\nsong_genre = df[[\\\"songname\\\", \\\"genre\\\"]].drop_duplicates()\\n\\ntrain_songs, test_songs = train_test_split(\\n    song_genre[\\\"songname\\\"], test_size=0.2, random_state=42, stratify=song_genre[\\\"genre\\\"]\\n)\\n\\ntrain_songs = pickle.load(open(\\\"../data/train_songs.p\\\", \\\"rb\\\"))\\ntest_songs = pickle.load(open(\\\"../data/test_songs.p\\\", \\\"rb\\\"))\\n\\ntrain_idxs = df[df[\\\"songname\\\"].isin(train_songs)].index\\ntest_idxs = df[df[\\\"songname\\\"].isin(test_songs)].index\\n\\nX_train = X_logged.loc[train_idxs, :]\\nX_test = X_logged.loc[test_idxs, :]\\ny_train = y[train_idxs]\\ny_test = y[test_idxs]\\n\\nprint(X_train.shape, y_train.shape)\\nprint(X_test.shape, y_test.shape)\";\n",
       "                var nbb_cells = Jupyter.notebook.get_cells();\n",
       "                for (var i = 0; i < nbb_cells.length; ++i) {\n",
       "                    if (nbb_cells[i].input_prompt_number == nbb_cell_id) {\n",
       "                        if (nbb_cells[i].get_text() == nbb_unformatted_code) {\n",
       "                             nbb_cells[i].set_text(nbb_formatted_code);\n",
       "                        }\n",
       "                        break;\n",
       "                    }\n",
       "                }\n",
       "            }, 500);\n",
       "            "
      ],
      "text/plain": [
       "<IPython.core.display.Javascript object>"
      ]
     },
     "metadata": {},
     "output_type": "display_data"
    }
   ],
   "source": [
    "# og: \"blues.00000.0.wav\"\n",
    "# songname: \"blues.00000\"\n",
    "# genre: \"blues\"\n",
    "song_genre = df[[\"songname\", \"genre\"]].drop_duplicates()\n",
    "\n",
    "train_songs, test_songs = train_test_split(\n",
    "    song_genre[\"songname\"], test_size=0.2, random_state=42, stratify=song_genre[\"genre\"]\n",
    ")\n",
    "\n",
    "train_songs = pickle.load(open(\"../data/train_songs.p\", \"rb\"))\n",
    "test_songs = pickle.load(open(\"../data/test_songs.p\", \"rb\"))\n",
    "\n",
    "train_idxs = df[df[\"songname\"].isin(train_songs)].index\n",
    "test_idxs = df[df[\"songname\"].isin(test_songs)].index\n",
    "\n",
    "X_train = X_logged.loc[train_idxs, :]\n",
    "X_test = X_logged.loc[test_idxs, :]\n",
    "y_train = y[train_idxs]\n",
    "y_test = y[test_idxs]\n",
    "\n",
    "print(X_train.shape, y_train.shape)\n",
    "print(X_test.shape, y_test.shape)"
   ]
  },
  {
   "cell_type": "code",
   "execution_count": 11,
   "metadata": {},
   "outputs": [
    {
     "data": {
      "text/plain": [
       "set()"
      ]
     },
     "execution_count": 11,
     "metadata": {},
     "output_type": "execute_result"
    },
    {
     "data": {
      "application/javascript": [
       "\n",
       "            setTimeout(function() {\n",
       "                var nbb_cell_id = 11;\n",
       "                var nbb_unformatted_code = \"# Prove no overlap of songs between train/test\\nset(train_songs).intersection(set(test_songs))\";\n",
       "                var nbb_formatted_code = \"# Prove no overlap of songs between train/test\\nset(train_songs).intersection(set(test_songs))\";\n",
       "                var nbb_cells = Jupyter.notebook.get_cells();\n",
       "                for (var i = 0; i < nbb_cells.length; ++i) {\n",
       "                    if (nbb_cells[i].input_prompt_number == nbb_cell_id) {\n",
       "                        if (nbb_cells[i].get_text() == nbb_unformatted_code) {\n",
       "                             nbb_cells[i].set_text(nbb_formatted_code);\n",
       "                        }\n",
       "                        break;\n",
       "                    }\n",
       "                }\n",
       "            }, 500);\n",
       "            "
      ],
      "text/plain": [
       "<IPython.core.display.Javascript object>"
      ]
     },
     "metadata": {},
     "output_type": "display_data"
    }
   ],
   "source": [
    "# Prove no overlap of songs between train/test\n",
    "set(train_songs).intersection(set(test_songs))"
   ]
  },
  {
   "cell_type": "code",
   "execution_count": 43,
   "metadata": {},
   "outputs": [
    {
     "name": "stdout",
     "output_type": "stream",
     "text": [
      "Fitting 5 folds for each of 180 candidates, totalling 900 fits\n"
     ]
    },
    {
     "name": "stderr",
     "output_type": "stream",
     "text": [
      "[Parallel(n_jobs=-1)]: Using backend LokyBackend with 6 concurrent workers.\n",
      "[Parallel(n_jobs=-1)]: Done  38 tasks      | elapsed:    5.4s\n",
      "[Parallel(n_jobs=-1)]: Done 230 tasks      | elapsed:   20.8s\n",
      "[Parallel(n_jobs=-1)]: Done 516 tasks      | elapsed:  1.7min\n",
      "[Parallel(n_jobs=-1)]: Done 866 tasks      | elapsed:  5.2min\n",
      "[Parallel(n_jobs=-1)]: Done 900 out of 900 | elapsed:  5.6min finished\n"
     ]
    },
    {
     "name": "stdout",
     "output_type": "stream",
     "text": [
      "0.7037345351947406\n",
      "0.640144752269389\n"
     ]
    },
    {
     "data": {
      "text/plain": [
       "{'log__C': 0.1,\n",
       " 'log__l1_ratio': 0,\n",
       " 'log__max_iter': 800,\n",
       " 'log__penalty': 'elasticnet',\n",
       " 'log__solver': 'saga'}"
      ]
     },
     "execution_count": 43,
     "metadata": {},
     "output_type": "execute_result"
    },
    {
     "data": {
      "application/javascript": [
       "\n",
       "            setTimeout(function() {\n",
       "                var nbb_cell_id = 43;\n",
       "                var nbb_unformatted_code = \"num_cols = list(X.columns)\\n\\nbin_cols = []\\n\\ncat_cols = []\\ndrop_cats = []\\n\\n\\npreprocessing = ColumnTransformer(\\n    [\\n        # Scale numeric columns (not needed for all models but can't hurt)\\n        (\\\"scaler\\\", StandardScaler(), num_cols)\\n    ],\\n    remainder=\\\"passthrough\\\",\\n)\\n\\n\\npipeline = Pipeline(\\n    [\\n        (\\\"preprocessing\\\", preprocessing),\\n        #         (\\\"pca\\\", PCA()),\\n        # Choose your model and put it here\\n        (\\\"log\\\", LogisticRegression()),\\n    ]\\n)\\n\\n\\nparams = {\\n    \\\"log__penalty\\\": [\\\"l1\\\", \\\"l2\\\", \\\"elasticnet\\\"],\\n    \\\"log__C\\\": [0.01, 0.1, 1],\\n    \\\"log__max_iter\\\": [800],\\n    #     \\\"log__multiclass\\\": [\\\"ovr\\\", \\\"multiclass\\\"],\\n    \\\"log__l1_ratio\\\": [0, 0.25, 0.5, 0.75, 1.0],\\n    \\\"log__solver\\\": [\\\"sag\\\", \\\"saga\\\", \\\"newton-cg\\\", \\\"lbfgs\\\"],\\n}\\n\\n\\npipeline_cv = GridSearchCV(\\n    pipeline,\\n    params,\\n    verbose=1,\\n    n_jobs=-1,\\n    cv=5,\\n    scoring=make_scorer(precision_score, average=\\\"macro\\\"),\\n)\\n\\npipeline_cv.fit(X_train, y=y_train)\\n\\n\\nprint(pipeline_cv.score(X_train, y_train))\\nprint(pipeline_cv.score(X_test, y_test))\\npipeline_cv.best_params_\";\n",
       "                var nbb_formatted_code = \"num_cols = list(X.columns)\\n\\nbin_cols = []\\n\\ncat_cols = []\\ndrop_cats = []\\n\\n\\npreprocessing = ColumnTransformer(\\n    [\\n        # Scale numeric columns (not needed for all models but can't hurt)\\n        (\\\"scaler\\\", StandardScaler(), num_cols)\\n    ],\\n    remainder=\\\"passthrough\\\",\\n)\\n\\n\\npipeline = Pipeline(\\n    [\\n        (\\\"preprocessing\\\", preprocessing),\\n        #         (\\\"pca\\\", PCA()),\\n        # Choose your model and put it here\\n        (\\\"log\\\", LogisticRegression()),\\n    ]\\n)\\n\\n\\nparams = {\\n    \\\"log__penalty\\\": [\\\"l1\\\", \\\"l2\\\", \\\"elasticnet\\\"],\\n    \\\"log__C\\\": [0.01, 0.1, 1],\\n    \\\"log__max_iter\\\": [800],\\n    #     \\\"log__multiclass\\\": [\\\"ovr\\\", \\\"multiclass\\\"],\\n    \\\"log__l1_ratio\\\": [0, 0.25, 0.5, 0.75, 1.0],\\n    \\\"log__solver\\\": [\\\"sag\\\", \\\"saga\\\", \\\"newton-cg\\\", \\\"lbfgs\\\"],\\n}\\n\\n\\npipeline_cv = GridSearchCV(\\n    pipeline,\\n    params,\\n    verbose=1,\\n    n_jobs=-1,\\n    cv=5,\\n    scoring=make_scorer(precision_score, average=\\\"macro\\\"),\\n)\\n\\npipeline_cv.fit(X_train, y=y_train)\\n\\n\\nprint(pipeline_cv.score(X_train, y_train))\\nprint(pipeline_cv.score(X_test, y_test))\\npipeline_cv.best_params_\";\n",
       "                var nbb_cells = Jupyter.notebook.get_cells();\n",
       "                for (var i = 0; i < nbb_cells.length; ++i) {\n",
       "                    if (nbb_cells[i].input_prompt_number == nbb_cell_id) {\n",
       "                        if (nbb_cells[i].get_text() == nbb_unformatted_code) {\n",
       "                             nbb_cells[i].set_text(nbb_formatted_code);\n",
       "                        }\n",
       "                        break;\n",
       "                    }\n",
       "                }\n",
       "            }, 500);\n",
       "            "
      ],
      "text/plain": [
       "<IPython.core.display.Javascript object>"
      ]
     },
     "metadata": {},
     "output_type": "display_data"
    }
   ],
   "source": [
    "num_cols = list(X.columns)\n",
    "\n",
    "bin_cols = []\n",
    "\n",
    "cat_cols = []\n",
    "drop_cats = []\n",
    "\n",
    "\n",
    "preprocessing = ColumnTransformer(\n",
    "    [\n",
    "        # Scale numeric columns (not needed for all models but can't hurt)\n",
    "        (\"scaler\", StandardScaler(), num_cols)\n",
    "    ],\n",
    "    remainder=\"passthrough\",\n",
    ")\n",
    "\n",
    "\n",
    "pipeline = Pipeline(\n",
    "    [\n",
    "        (\"preprocessing\", preprocessing),\n",
    "        #         (\"pca\", PCA()),\n",
    "        # Choose your model and put it here\n",
    "        (\"log\", LogisticRegression()),\n",
    "    ]\n",
    ")\n",
    "\n",
    "\n",
    "params = {\n",
    "    \"log__penalty\": [\"l1\", \"l2\", \"elasticnet\"],\n",
    "    \"log__C\": [0.01, 0.1, 1],\n",
    "    \"log__max_iter\": [800],\n",
    "    #     \"log__multiclass\": [\"ovr\", \"multiclass\"],\n",
    "    \"log__l1_ratio\": [0, 0.25, 0.5, 0.75, 1.0],\n",
    "    \"log__solver\": [\"sag\", \"saga\", \"newton-cg\", \"lbfgs\"],\n",
    "}\n",
    "\n",
    "\n",
    "pipeline_cv = GridSearchCV(\n",
    "    pipeline,\n",
    "    params,\n",
    "    verbose=1,\n",
    "    n_jobs=-1,\n",
    "    cv=5,\n",
    "    scoring=make_scorer(precision_score, average=\"macro\"),\n",
    ")\n",
    "\n",
    "pipeline_cv.fit(X_train, y=y_train)\n",
    "\n",
    "\n",
    "print(pipeline_cv.score(X_train, y_train))\n",
    "print(pipeline_cv.score(X_test, y_test))\n",
    "pipeline_cv.best_params_"
   ]
  },
  {
   "cell_type": "code",
   "execution_count": 29,
   "metadata": {
    "scrolled": true
   },
   "outputs": [
    {
     "data": {
      "text/html": [
       "<div>\n",
       "<style scoped>\n",
       "    .dataframe tbody tr th:only-of-type {\n",
       "        vertical-align: middle;\n",
       "    }\n",
       "\n",
       "    .dataframe tbody tr th {\n",
       "        vertical-align: top;\n",
       "    }\n",
       "\n",
       "    .dataframe thead th {\n",
       "        text-align: right;\n",
       "    }\n",
       "</style>\n",
       "<table border=\"1\" class=\"dataframe\">\n",
       "  <thead>\n",
       "    <tr style=\"text-align: right;\">\n",
       "      <th></th>\n",
       "      <th>feat</th>\n",
       "      <th>coef</th>\n",
       "      <th>abs_coef</th>\n",
       "    </tr>\n",
       "  </thead>\n",
       "  <tbody>\n",
       "    <tr>\n",
       "      <th>35</th>\n",
       "      <td>mfcc18_var</td>\n",
       "      <td>0.000000</td>\n",
       "      <td>0.000000</td>\n",
       "    </tr>\n",
       "    <tr>\n",
       "      <th>28</th>\n",
       "      <td>mfcc13_var</td>\n",
       "      <td>0.000000</td>\n",
       "      <td>0.000000</td>\n",
       "    </tr>\n",
       "    <tr>\n",
       "      <th>15</th>\n",
       "      <td>mfcc4_var</td>\n",
       "      <td>-0.000992</td>\n",
       "      <td>0.000992</td>\n",
       "    </tr>\n",
       "    <tr>\n",
       "      <th>8</th>\n",
       "      <td>tempo</td>\n",
       "      <td>0.037320</td>\n",
       "      <td>0.037320</td>\n",
       "    </tr>\n",
       "    <tr>\n",
       "      <th>36</th>\n",
       "      <td>mfcc19_mean</td>\n",
       "      <td>0.044248</td>\n",
       "      <td>0.044248</td>\n",
       "    </tr>\n",
       "    <tr>\n",
       "      <th>4</th>\n",
       "      <td>zero_crossing_rate_var</td>\n",
       "      <td>-0.046808</td>\n",
       "      <td>0.046808</td>\n",
       "    </tr>\n",
       "    <tr>\n",
       "      <th>26</th>\n",
       "      <td>mfcc12_var</td>\n",
       "      <td>-0.056930</td>\n",
       "      <td>0.056930</td>\n",
       "    </tr>\n",
       "    <tr>\n",
       "      <th>21</th>\n",
       "      <td>mfcc8_var</td>\n",
       "      <td>0.067495</td>\n",
       "      <td>0.067495</td>\n",
       "    </tr>\n",
       "    <tr>\n",
       "      <th>24</th>\n",
       "      <td>mfcc10_var</td>\n",
       "      <td>-0.070707</td>\n",
       "      <td>0.070707</td>\n",
       "    </tr>\n",
       "    <tr>\n",
       "      <th>30</th>\n",
       "      <td>mfcc15_var</td>\n",
       "      <td>0.079696</td>\n",
       "      <td>0.079696</td>\n",
       "    </tr>\n",
       "    <tr>\n",
       "      <th>13</th>\n",
       "      <td>mfcc3_var</td>\n",
       "      <td>0.081218</td>\n",
       "      <td>0.081218</td>\n",
       "    </tr>\n",
       "    <tr>\n",
       "      <th>31</th>\n",
       "      <td>mfcc16_mean</td>\n",
       "      <td>0.094245</td>\n",
       "      <td>0.094245</td>\n",
       "    </tr>\n",
       "    <tr>\n",
       "      <th>22</th>\n",
       "      <td>mfcc9_mean</td>\n",
       "      <td>-0.098565</td>\n",
       "      <td>0.098565</td>\n",
       "    </tr>\n",
       "    <tr>\n",
       "      <th>0</th>\n",
       "      <td>chroma_stft_mean</td>\n",
       "      <td>-0.114517</td>\n",
       "      <td>0.114517</td>\n",
       "    </tr>\n",
       "    <tr>\n",
       "      <th>7</th>\n",
       "      <td>perceptr_mean</td>\n",
       "      <td>-0.128087</td>\n",
       "      <td>0.128087</td>\n",
       "    </tr>\n",
       "    <tr>\n",
       "      <th>37</th>\n",
       "      <td>mfcc19_var</td>\n",
       "      <td>0.128855</td>\n",
       "      <td>0.128855</td>\n",
       "    </tr>\n",
       "    <tr>\n",
       "      <th>29</th>\n",
       "      <td>mfcc15_mean</td>\n",
       "      <td>-0.169488</td>\n",
       "      <td>0.169488</td>\n",
       "    </tr>\n",
       "    <tr>\n",
       "      <th>32</th>\n",
       "      <td>mfcc16_var</td>\n",
       "      <td>0.173378</td>\n",
       "      <td>0.173378</td>\n",
       "    </tr>\n",
       "    <tr>\n",
       "      <th>27</th>\n",
       "      <td>mfcc13_mean</td>\n",
       "      <td>-0.185294</td>\n",
       "      <td>0.185294</td>\n",
       "    </tr>\n",
       "    <tr>\n",
       "      <th>23</th>\n",
       "      <td>mfcc9_var</td>\n",
       "      <td>-0.192250</td>\n",
       "      <td>0.192250</td>\n",
       "    </tr>\n",
       "    <tr>\n",
       "      <th>33</th>\n",
       "      <td>mfcc17_mean</td>\n",
       "      <td>-0.217569</td>\n",
       "      <td>0.217569</td>\n",
       "    </tr>\n",
       "    <tr>\n",
       "      <th>1</th>\n",
       "      <td>chroma_stft_var</td>\n",
       "      <td>0.225042</td>\n",
       "      <td>0.225042</td>\n",
       "    </tr>\n",
       "    <tr>\n",
       "      <th>5</th>\n",
       "      <td>harmony_mean</td>\n",
       "      <td>0.228156</td>\n",
       "      <td>0.228156</td>\n",
       "    </tr>\n",
       "    <tr>\n",
       "      <th>18</th>\n",
       "      <td>mfcc6_var</td>\n",
       "      <td>-0.294384</td>\n",
       "      <td>0.294384</td>\n",
       "    </tr>\n",
       "    <tr>\n",
       "      <th>25</th>\n",
       "      <td>mfcc12_mean</td>\n",
       "      <td>-0.337609</td>\n",
       "      <td>0.337609</td>\n",
       "    </tr>\n",
       "    <tr>\n",
       "      <th>20</th>\n",
       "      <td>mfcc8_mean</td>\n",
       "      <td>0.385512</td>\n",
       "      <td>0.385512</td>\n",
       "    </tr>\n",
       "    <tr>\n",
       "      <th>34</th>\n",
       "      <td>mfcc18_mean</td>\n",
       "      <td>-0.414775</td>\n",
       "      <td>0.414775</td>\n",
       "    </tr>\n",
       "    <tr>\n",
       "      <th>12</th>\n",
       "      <td>mfcc3_mean</td>\n",
       "      <td>0.433315</td>\n",
       "      <td>0.433315</td>\n",
       "    </tr>\n",
       "    <tr>\n",
       "      <th>16</th>\n",
       "      <td>mfcc5_var</td>\n",
       "      <td>0.443592</td>\n",
       "      <td>0.443592</td>\n",
       "    </tr>\n",
       "    <tr>\n",
       "      <th>19</th>\n",
       "      <td>mfcc7_mean</td>\n",
       "      <td>-0.492519</td>\n",
       "      <td>0.492519</td>\n",
       "    </tr>\n",
       "    <tr>\n",
       "      <th>11</th>\n",
       "      <td>mfcc2_var</td>\n",
       "      <td>-0.696582</td>\n",
       "      <td>0.696582</td>\n",
       "    </tr>\n",
       "    <tr>\n",
       "      <th>3</th>\n",
       "      <td>zero_crossing_rate_mean</td>\n",
       "      <td>0.750170</td>\n",
       "      <td>0.750170</td>\n",
       "    </tr>\n",
       "    <tr>\n",
       "      <th>17</th>\n",
       "      <td>mfcc6_mean</td>\n",
       "      <td>0.865453</td>\n",
       "      <td>0.865453</td>\n",
       "    </tr>\n",
       "    <tr>\n",
       "      <th>14</th>\n",
       "      <td>mfcc4_mean</td>\n",
       "      <td>0.893691</td>\n",
       "      <td>0.893691</td>\n",
       "    </tr>\n",
       "    <tr>\n",
       "      <th>2</th>\n",
       "      <td>rms_var</td>\n",
       "      <td>0.998265</td>\n",
       "      <td>0.998265</td>\n",
       "    </tr>\n",
       "    <tr>\n",
       "      <th>6</th>\n",
       "      <td>harmony_var</td>\n",
       "      <td>1.009290</td>\n",
       "      <td>1.009290</td>\n",
       "    </tr>\n",
       "    <tr>\n",
       "      <th>10</th>\n",
       "      <td>mfcc2_mean</td>\n",
       "      <td>1.133736</td>\n",
       "      <td>1.133736</td>\n",
       "    </tr>\n",
       "    <tr>\n",
       "      <th>9</th>\n",
       "      <td>mfcc1_mean</td>\n",
       "      <td>-2.042837</td>\n",
       "      <td>2.042837</td>\n",
       "    </tr>\n",
       "  </tbody>\n",
       "</table>\n",
       "</div>"
      ],
      "text/plain": [
       "                       feat      coef  abs_coef\n",
       "35               mfcc18_var  0.000000  0.000000\n",
       "28               mfcc13_var  0.000000  0.000000\n",
       "15                mfcc4_var -0.000992  0.000992\n",
       "8                     tempo  0.037320  0.037320\n",
       "36              mfcc19_mean  0.044248  0.044248\n",
       "4    zero_crossing_rate_var -0.046808  0.046808\n",
       "26               mfcc12_var -0.056930  0.056930\n",
       "21                mfcc8_var  0.067495  0.067495\n",
       "24               mfcc10_var -0.070707  0.070707\n",
       "30               mfcc15_var  0.079696  0.079696\n",
       "13                mfcc3_var  0.081218  0.081218\n",
       "31              mfcc16_mean  0.094245  0.094245\n",
       "22               mfcc9_mean -0.098565  0.098565\n",
       "0          chroma_stft_mean -0.114517  0.114517\n",
       "7             perceptr_mean -0.128087  0.128087\n",
       "37               mfcc19_var  0.128855  0.128855\n",
       "29              mfcc15_mean -0.169488  0.169488\n",
       "32               mfcc16_var  0.173378  0.173378\n",
       "27              mfcc13_mean -0.185294  0.185294\n",
       "23                mfcc9_var -0.192250  0.192250\n",
       "33              mfcc17_mean -0.217569  0.217569\n",
       "1           chroma_stft_var  0.225042  0.225042\n",
       "5              harmony_mean  0.228156  0.228156\n",
       "18                mfcc6_var -0.294384  0.294384\n",
       "25              mfcc12_mean -0.337609  0.337609\n",
       "20               mfcc8_mean  0.385512  0.385512\n",
       "34              mfcc18_mean -0.414775  0.414775\n",
       "12               mfcc3_mean  0.433315  0.433315\n",
       "16                mfcc5_var  0.443592  0.443592\n",
       "19               mfcc7_mean -0.492519  0.492519\n",
       "11                mfcc2_var -0.696582  0.696582\n",
       "3   zero_crossing_rate_mean  0.750170  0.750170\n",
       "17               mfcc6_mean  0.865453  0.865453\n",
       "14               mfcc4_mean  0.893691  0.893691\n",
       "2                   rms_var  0.998265  0.998265\n",
       "6               harmony_var  1.009290  1.009290\n",
       "10               mfcc2_mean  1.133736  1.133736\n",
       "9                mfcc1_mean -2.042837  2.042837"
      ]
     },
     "execution_count": 29,
     "metadata": {},
     "output_type": "execute_result"
    },
    {
     "data": {
      "application/javascript": [
       "\n",
       "            setTimeout(function() {\n",
       "                var nbb_cell_id = 29;\n",
       "                var nbb_unformatted_code = \"best = pipeline_cv.best_estimator_.named_steps[\\\"log\\\"]\\ncoef_df = pd.DataFrame({\\\"feat\\\": X_train.columns, \\\"coef\\\": best.coef_[0]})\\ncoef_df[\\\"abs_coef\\\"] = np.abs(coef_df[\\\"coef\\\"])\\ncoef_df.sort_values(\\\"abs_coef\\\")\";\n",
       "                var nbb_formatted_code = \"best = pipeline_cv.best_estimator_.named_steps[\\\"log\\\"]\\ncoef_df = pd.DataFrame({\\\"feat\\\": X_train.columns, \\\"coef\\\": best.coef_[0]})\\ncoef_df[\\\"abs_coef\\\"] = np.abs(coef_df[\\\"coef\\\"])\\ncoef_df.sort_values(\\\"abs_coef\\\")\";\n",
       "                var nbb_cells = Jupyter.notebook.get_cells();\n",
       "                for (var i = 0; i < nbb_cells.length; ++i) {\n",
       "                    if (nbb_cells[i].input_prompt_number == nbb_cell_id) {\n",
       "                        if (nbb_cells[i].get_text() == nbb_unformatted_code) {\n",
       "                             nbb_cells[i].set_text(nbb_formatted_code);\n",
       "                        }\n",
       "                        break;\n",
       "                    }\n",
       "                }\n",
       "            }, 500);\n",
       "            "
      ],
      "text/plain": [
       "<IPython.core.display.Javascript object>"
      ]
     },
     "metadata": {},
     "output_type": "display_data"
    }
   ],
   "source": [
    "best = pipeline_cv.best_estimator_.named_steps[\"log\"]\n",
    "coef_df = pd.DataFrame({\"feat\": X_train.columns, \"coef\": best.coef_[0]})\n",
    "coef_df[\"abs_coef\"] = np.abs(coef_df[\"coef\"])\n",
    "coef_df.sort_values(\"abs_coef\")"
   ]
  },
  {
   "cell_type": "code",
   "execution_count": 30,
   "metadata": {
    "scrolled": true
   },
   "outputs": [
    {
     "data": {
      "application/javascript": [
       "\n",
       "            setTimeout(function() {\n",
       "                var nbb_cell_id = 30;\n",
       "                var nbb_unformatted_code = \"add_drop = list(coef_df[coef_df[\\\"coef\\\"] == 0][\\\"feat\\\"].values)\";\n",
       "                var nbb_formatted_code = \"add_drop = list(coef_df[coef_df[\\\"coef\\\"] == 0][\\\"feat\\\"].values)\";\n",
       "                var nbb_cells = Jupyter.notebook.get_cells();\n",
       "                for (var i = 0; i < nbb_cells.length; ++i) {\n",
       "                    if (nbb_cells[i].input_prompt_number == nbb_cell_id) {\n",
       "                        if (nbb_cells[i].get_text() == nbb_unformatted_code) {\n",
       "                             nbb_cells[i].set_text(nbb_formatted_code);\n",
       "                        }\n",
       "                        break;\n",
       "                    }\n",
       "                }\n",
       "            }, 500);\n",
       "            "
      ],
      "text/plain": [
       "<IPython.core.display.Javascript object>"
      ]
     },
     "metadata": {},
     "output_type": "display_data"
    }
   ],
   "source": [
    "add_drop = list(coef_df[coef_df[\"coef\"] == 0][\"feat\"].values)"
   ]
  },
  {
   "cell_type": "code",
   "execution_count": 31,
   "metadata": {},
   "outputs": [
    {
     "data": {
      "text/plain": [
       "['mfcc13_var', 'mfcc18_var']"
      ]
     },
     "execution_count": 31,
     "metadata": {},
     "output_type": "execute_result"
    },
    {
     "data": {
      "application/javascript": [
       "\n",
       "            setTimeout(function() {\n",
       "                var nbb_cell_id = 31;\n",
       "                var nbb_unformatted_code = \"add_drop\";\n",
       "                var nbb_formatted_code = \"add_drop\";\n",
       "                var nbb_cells = Jupyter.notebook.get_cells();\n",
       "                for (var i = 0; i < nbb_cells.length; ++i) {\n",
       "                    if (nbb_cells[i].input_prompt_number == nbb_cell_id) {\n",
       "                        if (nbb_cells[i].get_text() == nbb_unformatted_code) {\n",
       "                             nbb_cells[i].set_text(nbb_formatted_code);\n",
       "                        }\n",
       "                        break;\n",
       "                    }\n",
       "                }\n",
       "            }, 500);\n",
       "            "
      ],
      "text/plain": [
       "<IPython.core.display.Javascript object>"
      ]
     },
     "metadata": {},
     "output_type": "display_data"
    }
   ],
   "source": [
    "add_drop"
   ]
  },
  {
   "cell_type": "code",
   "execution_count": 32,
   "metadata": {},
   "outputs": [
    {
     "data": {
      "text/plain": [
       "['filename',\n",
       " 'label',\n",
       " 'genre',\n",
       " 'songname',\n",
       " 'length',\n",
       " 'rms_mean',\n",
       " 'spectral_centroid_mean',\n",
       " 'spectral_centroid_var',\n",
       " 'spectral_bandwidth_mean',\n",
       " 'spectral_bandwidth_var',\n",
       " 'rolloff_mean',\n",
       " 'rolloff_var',\n",
       " 'perceptr_var',\n",
       " 'mfcc20_mean',\n",
       " 'mfcc20_var',\n",
       " 'mfcc20_mean',\n",
       " 'mfcc20_var',\n",
       " 'mfcc1_var',\n",
       " 'mfcc5_mean',\n",
       " 'mfcc7_var',\n",
       " 'mfcc10_mean',\n",
       " 'mfcc11_mean',\n",
       " 'mfcc11_var',\n",
       " 'mfcc14_mean',\n",
       " 'mfcc14_var',\n",
       " 'mfcc17_var',\n",
       " 'mfcc13_var',\n",
       " 'mfcc18_var']"
      ]
     },
     "execution_count": 32,
     "metadata": {},
     "output_type": "execute_result"
    },
    {
     "data": {
      "application/javascript": [
       "\n",
       "            setTimeout(function() {\n",
       "                var nbb_cell_id = 32;\n",
       "                var nbb_unformatted_code = \"drop_cols = drop_cols + add_drop\\ndrop_cols\";\n",
       "                var nbb_formatted_code = \"drop_cols = drop_cols + add_drop\\ndrop_cols\";\n",
       "                var nbb_cells = Jupyter.notebook.get_cells();\n",
       "                for (var i = 0; i < nbb_cells.length; ++i) {\n",
       "                    if (nbb_cells[i].input_prompt_number == nbb_cell_id) {\n",
       "                        if (nbb_cells[i].get_text() == nbb_unformatted_code) {\n",
       "                             nbb_cells[i].set_text(nbb_formatted_code);\n",
       "                        }\n",
       "                        break;\n",
       "                    }\n",
       "                }\n",
       "            }, 500);\n",
       "            "
      ],
      "text/plain": [
       "<IPython.core.display.Javascript object>"
      ]
     },
     "metadata": {},
     "output_type": "display_data"
    }
   ],
   "source": [
    "drop_cols = drop_cols + add_drop\n",
    "drop_cols"
   ]
  },
  {
   "cell_type": "code",
   "execution_count": 33,
   "metadata": {},
   "outputs": [
    {
     "data": {
      "application/javascript": [
       "\n",
       "            setTimeout(function() {\n",
       "                var nbb_cell_id = 33;\n",
       "                var nbb_unformatted_code = \"# X = df.drop(columns=drop_cols + [\\\"genre\\\"])\\nX = df.drop(drop_cols, 1)\\ny = df[\\\"genre\\\"]\";\n",
       "                var nbb_formatted_code = \"# X = df.drop(columns=drop_cols + [\\\"genre\\\"])\\nX = df.drop(drop_cols, 1)\\ny = df[\\\"genre\\\"]\";\n",
       "                var nbb_cells = Jupyter.notebook.get_cells();\n",
       "                for (var i = 0; i < nbb_cells.length; ++i) {\n",
       "                    if (nbb_cells[i].input_prompt_number == nbb_cell_id) {\n",
       "                        if (nbb_cells[i].get_text() == nbb_unformatted_code) {\n",
       "                             nbb_cells[i].set_text(nbb_formatted_code);\n",
       "                        }\n",
       "                        break;\n",
       "                    }\n",
       "                }\n",
       "            }, 500);\n",
       "            "
      ],
      "text/plain": [
       "<IPython.core.display.Javascript object>"
      ]
     },
     "metadata": {},
     "output_type": "display_data"
    }
   ],
   "source": [
    "# X = df.drop(columns=drop_cols + [\"genre\"])\n",
    "X = df.drop(drop_cols, 1)\n",
    "y = df[\"genre\"]"
   ]
  },
  {
   "cell_type": "code",
   "execution_count": 34,
   "metadata": {},
   "outputs": [
    {
     "data": {
      "application/javascript": [
       "\n",
       "            setTimeout(function() {\n",
       "                var nbb_cell_id = 34;\n",
       "                var nbb_unformatted_code = \"X_logged = X.copy()\\nfor c in X_logged:\\n    if c.endswith(\\\"_var\\\"):\\n        X_logged[c] = np.log(X_logged[c])\";\n",
       "                var nbb_formatted_code = \"X_logged = X.copy()\\nfor c in X_logged:\\n    if c.endswith(\\\"_var\\\"):\\n        X_logged[c] = np.log(X_logged[c])\";\n",
       "                var nbb_cells = Jupyter.notebook.get_cells();\n",
       "                for (var i = 0; i < nbb_cells.length; ++i) {\n",
       "                    if (nbb_cells[i].input_prompt_number == nbb_cell_id) {\n",
       "                        if (nbb_cells[i].get_text() == nbb_unformatted_code) {\n",
       "                             nbb_cells[i].set_text(nbb_formatted_code);\n",
       "                        }\n",
       "                        break;\n",
       "                    }\n",
       "                }\n",
       "            }, 500);\n",
       "            "
      ],
      "text/plain": [
       "<IPython.core.display.Javascript object>"
      ]
     },
     "metadata": {},
     "output_type": "display_data"
    }
   ],
   "source": [
    "X_logged = X.copy()\n",
    "for c in X_logged:\n",
    "    if c.endswith(\"_var\"):\n",
    "        X_logged[c] = np.log(X_logged[c])"
   ]
  },
  {
   "cell_type": "code",
   "execution_count": 35,
   "metadata": {
    "scrolled": true
   },
   "outputs": [
    {
     "name": "stdout",
     "output_type": "stream",
     "text": [
      "VIF results\n",
      "-------------------------------\n",
      "const                      1687.442676\n",
      "chroma_stft_mean              3.821127\n",
      "chroma_stft_var               2.578163\n",
      "rms_var                       4.034234\n",
      "zero_crossing_rate_mean       5.687919\n",
      "zero_crossing_rate_var        4.774067\n",
      "harmony_mean                  1.478989\n",
      "harmony_var                   5.263573\n",
      "perceptr_mean                 1.575745\n",
      "tempo                         1.009630\n",
      "mfcc1_mean                    8.873844\n",
      "mfcc2_mean                    6.108025\n",
      "mfcc2_var                     2.658020\n",
      "mfcc3_mean                    2.402190\n",
      "mfcc3_var                     2.499945\n",
      "mfcc4_mean                    2.261148\n",
      "mfcc4_var                     2.863863\n",
      "mfcc5_var                     2.733756\n",
      "mfcc6_mean                    3.361297\n",
      "mfcc6_var                     2.972196\n",
      "mfcc7_mean                    2.951355\n",
      "mfcc8_mean                    3.618786\n",
      "mfcc8_var                     2.520901\n",
      "mfcc9_mean                    2.682485\n",
      "mfcc9_var                     2.349428\n",
      "mfcc10_var                    2.178830\n",
      "mfcc12_mean                   2.446376\n",
      "mfcc12_var                    2.049463\n",
      "mfcc13_mean                   2.373653\n",
      "mfcc15_mean                   2.294088\n",
      "mfcc15_var                    2.191025\n",
      "mfcc16_mean                   2.151670\n",
      "mfcc16_var                    2.137520\n",
      "mfcc17_mean                   2.244895\n",
      "mfcc18_mean                   1.999290\n",
      "mfcc19_mean                   1.573327\n",
      "mfcc19_var                    1.861491\n",
      "dtype: float64\n",
      "-------------------------------\n",
      "\n"
     ]
    },
    {
     "data": {
      "application/javascript": [
       "\n",
       "            setTimeout(function() {\n",
       "                var nbb_cell_id = 35;\n",
       "                var nbb_unformatted_code = \"print_vif(X_logged)\";\n",
       "                var nbb_formatted_code = \"print_vif(X_logged)\";\n",
       "                var nbb_cells = Jupyter.notebook.get_cells();\n",
       "                for (var i = 0; i < nbb_cells.length; ++i) {\n",
       "                    if (nbb_cells[i].input_prompt_number == nbb_cell_id) {\n",
       "                        if (nbb_cells[i].get_text() == nbb_unformatted_code) {\n",
       "                             nbb_cells[i].set_text(nbb_formatted_code);\n",
       "                        }\n",
       "                        break;\n",
       "                    }\n",
       "                }\n",
       "            }, 500);\n",
       "            "
      ],
      "text/plain": [
       "<IPython.core.display.Javascript object>"
      ]
     },
     "metadata": {},
     "output_type": "display_data"
    }
   ],
   "source": [
    "print_vif(X_logged)"
   ]
  },
  {
   "cell_type": "code",
   "execution_count": 36,
   "metadata": {},
   "outputs": [
    {
     "name": "stdout",
     "output_type": "stream",
     "text": [
      "(7990, 36) (7990,)\n",
      "(2000, 36) (2000,)\n"
     ]
    },
    {
     "data": {
      "application/javascript": [
       "\n",
       "            setTimeout(function() {\n",
       "                var nbb_cell_id = 36;\n",
       "                var nbb_unformatted_code = \"# og: \\\"blues.00000.0.wav\\\"\\n# songname: \\\"blues.00000\\\"\\n# genre: \\\"blues\\\"\\nsong_genre = df[[\\\"songname\\\", \\\"genre\\\"]].drop_duplicates()\\n\\ntrain_songs, test_songs = train_test_split(\\n    song_genre[\\\"songname\\\"], test_size=0.2, random_state=42, stratify=song_genre[\\\"genre\\\"]\\n)\\n\\ntrain_songs = pickle.load(open(\\\"../data/train_songs.p\\\", \\\"rb\\\"))\\ntest_songs = pickle.load(open(\\\"../data/test_songs.p\\\", \\\"rb\\\"))\\n\\ntrain_idxs = df[df[\\\"songname\\\"].isin(train_songs)].index\\ntest_idxs = df[df[\\\"songname\\\"].isin(test_songs)].index\\n\\nX_train = X_logged.loc[train_idxs, :]\\nX_test = X_logged.loc[test_idxs, :]\\ny_train = y[train_idxs]\\ny_test = y[test_idxs]\\n\\nprint(X_train.shape, y_train.shape)\\nprint(X_test.shape, y_test.shape)\";\n",
       "                var nbb_formatted_code = \"# og: \\\"blues.00000.0.wav\\\"\\n# songname: \\\"blues.00000\\\"\\n# genre: \\\"blues\\\"\\nsong_genre = df[[\\\"songname\\\", \\\"genre\\\"]].drop_duplicates()\\n\\ntrain_songs, test_songs = train_test_split(\\n    song_genre[\\\"songname\\\"], test_size=0.2, random_state=42, stratify=song_genre[\\\"genre\\\"]\\n)\\n\\ntrain_songs = pickle.load(open(\\\"../data/train_songs.p\\\", \\\"rb\\\"))\\ntest_songs = pickle.load(open(\\\"../data/test_songs.p\\\", \\\"rb\\\"))\\n\\ntrain_idxs = df[df[\\\"songname\\\"].isin(train_songs)].index\\ntest_idxs = df[df[\\\"songname\\\"].isin(test_songs)].index\\n\\nX_train = X_logged.loc[train_idxs, :]\\nX_test = X_logged.loc[test_idxs, :]\\ny_train = y[train_idxs]\\ny_test = y[test_idxs]\\n\\nprint(X_train.shape, y_train.shape)\\nprint(X_test.shape, y_test.shape)\";\n",
       "                var nbb_cells = Jupyter.notebook.get_cells();\n",
       "                for (var i = 0; i < nbb_cells.length; ++i) {\n",
       "                    if (nbb_cells[i].input_prompt_number == nbb_cell_id) {\n",
       "                        if (nbb_cells[i].get_text() == nbb_unformatted_code) {\n",
       "                             nbb_cells[i].set_text(nbb_formatted_code);\n",
       "                        }\n",
       "                        break;\n",
       "                    }\n",
       "                }\n",
       "            }, 500);\n",
       "            "
      ],
      "text/plain": [
       "<IPython.core.display.Javascript object>"
      ]
     },
     "metadata": {},
     "output_type": "display_data"
    }
   ],
   "source": [
    "# og: \"blues.00000.0.wav\"\n",
    "# songname: \"blues.00000\"\n",
    "# genre: \"blues\"\n",
    "song_genre = df[[\"songname\", \"genre\"]].drop_duplicates()\n",
    "\n",
    "train_songs, test_songs = train_test_split(\n",
    "    song_genre[\"songname\"], test_size=0.2, random_state=42, stratify=song_genre[\"genre\"]\n",
    ")\n",
    "\n",
    "train_songs = pickle.load(open(\"../data/train_songs.p\", \"rb\"))\n",
    "test_songs = pickle.load(open(\"../data/test_songs.p\", \"rb\"))\n",
    "\n",
    "train_idxs = df[df[\"songname\"].isin(train_songs)].index\n",
    "test_idxs = df[df[\"songname\"].isin(test_songs)].index\n",
    "\n",
    "X_train = X_logged.loc[train_idxs, :]\n",
    "X_test = X_logged.loc[test_idxs, :]\n",
    "y_train = y[train_idxs]\n",
    "y_test = y[test_idxs]\n",
    "\n",
    "print(X_train.shape, y_train.shape)\n",
    "print(X_test.shape, y_test.shape)"
   ]
  },
  {
   "cell_type": "code",
   "execution_count": 40,
   "metadata": {
    "scrolled": true
   },
   "outputs": [
    {
     "name": "stdout",
     "output_type": "stream",
     "text": [
      "Fitting 2 folds for each of 1 candidates, totalling 2 fits\n"
     ]
    },
    {
     "name": "stderr",
     "output_type": "stream",
     "text": [
      "[Parallel(n_jobs=-1)]: Using backend LokyBackend with 6 concurrent workers.\n",
      "[Parallel(n_jobs=-1)]: Done   2 out of   2 | elapsed:   12.1s finished\n"
     ]
    },
    {
     "name": "stdout",
     "output_type": "stream",
     "text": [
      "0.7023803352422539\n",
      "0.639568159979299\n"
     ]
    },
    {
     "data": {
      "text/plain": [
       "{'log__C': 0.1,\n",
       " 'log__l1_ratio': 0.5,\n",
       " 'log__max_iter': 800,\n",
       " 'log__penalty': 'elasticnet',\n",
       " 'log__solver': 'saga'}"
      ]
     },
     "execution_count": 40,
     "metadata": {},
     "output_type": "execute_result"
    },
    {
     "data": {
      "application/javascript": [
       "\n",
       "            setTimeout(function() {\n",
       "                var nbb_cell_id = 40;\n",
       "                var nbb_unformatted_code = \"num_cols = list(X.columns)\\n\\nbin_cols = []\\n\\ncat_cols = []\\ndrop_cats = []\\n\\n\\npreprocessing = ColumnTransformer(\\n    [\\n        # Scale numeric columns (not needed for all models but can't hurt)\\n        (\\\"scaler\\\", StandardScaler(), num_cols)\\n    ],\\n    remainder=\\\"passthrough\\\",\\n)\\n\\n\\npipeline = Pipeline(\\n    [\\n        (\\\"preprocessing\\\", preprocessing),\\n        #         (\\\"pca\\\", PCA()),\\n        # Choose your model and put it here\\n        (\\\"log\\\", LogisticRegression()),\\n    ]\\n)\\n\\n\\nparams = {\\n    \\\"log__C\\\": [0.1],\\n    \\\"log__l1_ratio\\\": [0.5],\\n    \\\"log__max_iter\\\": [800],\\n    \\\"log__penalty\\\": [\\\"elasticnet\\\"],\\n    \\\"log__solver\\\": [\\\"saga\\\"],\\n}\\n\\n\\npipeline_cv = GridSearchCV(pipeline, params, verbose=1, n_jobs=-1, cv=2,scoring=make_scorer(precision_score, average=\\\"macro\\\"))\\n\\npipeline_cv.fit(X_train, y=y_train)\\n\\n\\nprint(pipeline_cv.score(X_train, y_train))\\nprint(pipeline_cv.score(X_test, y_test))\\npipeline_cv.best_params_\";\n",
       "                var nbb_formatted_code = \"num_cols = list(X.columns)\\n\\nbin_cols = []\\n\\ncat_cols = []\\ndrop_cats = []\\n\\n\\npreprocessing = ColumnTransformer(\\n    [\\n        # Scale numeric columns (not needed for all models but can't hurt)\\n        (\\\"scaler\\\", StandardScaler(), num_cols)\\n    ],\\n    remainder=\\\"passthrough\\\",\\n)\\n\\n\\npipeline = Pipeline(\\n    [\\n        (\\\"preprocessing\\\", preprocessing),\\n        #         (\\\"pca\\\", PCA()),\\n        # Choose your model and put it here\\n        (\\\"log\\\", LogisticRegression()),\\n    ]\\n)\\n\\n\\nparams = {\\n    \\\"log__C\\\": [0.1],\\n    \\\"log__l1_ratio\\\": [0.5],\\n    \\\"log__max_iter\\\": [800],\\n    \\\"log__penalty\\\": [\\\"elasticnet\\\"],\\n    \\\"log__solver\\\": [\\\"saga\\\"],\\n}\\n\\n\\npipeline_cv = GridSearchCV(\\n    pipeline,\\n    params,\\n    verbose=1,\\n    n_jobs=-1,\\n    cv=2,\\n    scoring=make_scorer(precision_score, average=\\\"macro\\\"),\\n)\\n\\npipeline_cv.fit(X_train, y=y_train)\\n\\n\\nprint(pipeline_cv.score(X_train, y_train))\\nprint(pipeline_cv.score(X_test, y_test))\\npipeline_cv.best_params_\";\n",
       "                var nbb_cells = Jupyter.notebook.get_cells();\n",
       "                for (var i = 0; i < nbb_cells.length; ++i) {\n",
       "                    if (nbb_cells[i].input_prompt_number == nbb_cell_id) {\n",
       "                        if (nbb_cells[i].get_text() == nbb_unformatted_code) {\n",
       "                             nbb_cells[i].set_text(nbb_formatted_code);\n",
       "                        }\n",
       "                        break;\n",
       "                    }\n",
       "                }\n",
       "            }, 500);\n",
       "            "
      ],
      "text/plain": [
       "<IPython.core.display.Javascript object>"
      ]
     },
     "metadata": {},
     "output_type": "display_data"
    }
   ],
   "source": [
    "num_cols = list(X.columns)\n",
    "\n",
    "bin_cols = []\n",
    "\n",
    "cat_cols = []\n",
    "drop_cats = []\n",
    "\n",
    "\n",
    "preprocessing = ColumnTransformer(\n",
    "    [\n",
    "        # Scale numeric columns (not needed for all models but can't hurt)\n",
    "        (\"scaler\", StandardScaler(), num_cols)\n",
    "    ],\n",
    "    remainder=\"passthrough\",\n",
    ")\n",
    "\n",
    "\n",
    "pipeline = Pipeline(\n",
    "    [\n",
    "        (\"preprocessing\", preprocessing),\n",
    "        #         (\"pca\", PCA()),\n",
    "        # Choose your model and put it here\n",
    "        (\"log\", LogisticRegression()),\n",
    "    ]\n",
    ")\n",
    "\n",
    "\n",
    "params = {\n",
    "    \"log__C\": [0.1],\n",
    "    \"log__l1_ratio\": [0.5],\n",
    "    \"log__max_iter\": [800],\n",
    "    \"log__penalty\": [\"elasticnet\"],\n",
    "    \"log__solver\": [\"saga\"],\n",
    "}\n",
    "\n",
    "\n",
    "pipeline_cv = GridSearchCV(\n",
    "    pipeline,\n",
    "    params,\n",
    "    verbose=1,\n",
    "    n_jobs=-1,\n",
    "    cv=2,\n",
    "    scoring=make_scorer(precision_score, average=\"macro\"),\n",
    ")\n",
    "\n",
    "pipeline_cv.fit(X_train, y=y_train)\n",
    "\n",
    "\n",
    "print(pipeline_cv.score(X_train, y_train))\n",
    "print(pipeline_cv.score(X_test, y_test))\n",
    "pipeline_cv.best_params_"
   ]
  },
  {
   "cell_type": "code",
   "execution_count": 41,
   "metadata": {
    "scrolled": true
   },
   "outputs": [
    {
     "data": {
      "text/html": [
       "<div>\n",
       "<style scoped>\n",
       "    .dataframe tbody tr th:only-of-type {\n",
       "        vertical-align: middle;\n",
       "    }\n",
       "\n",
       "    .dataframe tbody tr th {\n",
       "        vertical-align: top;\n",
       "    }\n",
       "\n",
       "    .dataframe thead th {\n",
       "        text-align: right;\n",
       "    }\n",
       "</style>\n",
       "<table border=\"1\" class=\"dataframe\">\n",
       "  <thead>\n",
       "    <tr style=\"text-align: right;\">\n",
       "      <th></th>\n",
       "      <th>feat</th>\n",
       "      <th>coef</th>\n",
       "      <th>abs_coef</th>\n",
       "    </tr>\n",
       "  </thead>\n",
       "  <tbody>\n",
       "    <tr>\n",
       "      <th>9</th>\n",
       "      <td>mfcc1_mean</td>\n",
       "      <td>-1.441035</td>\n",
       "      <td>1.441035</td>\n",
       "    </tr>\n",
       "    <tr>\n",
       "      <th>10</th>\n",
       "      <td>mfcc2_mean</td>\n",
       "      <td>1.137290</td>\n",
       "      <td>1.137290</td>\n",
       "    </tr>\n",
       "    <tr>\n",
       "      <th>2</th>\n",
       "      <td>rms_var</td>\n",
       "      <td>1.039603</td>\n",
       "      <td>1.039603</td>\n",
       "    </tr>\n",
       "    <tr>\n",
       "      <th>6</th>\n",
       "      <td>harmony_var</td>\n",
       "      <td>1.028322</td>\n",
       "      <td>1.028322</td>\n",
       "    </tr>\n",
       "    <tr>\n",
       "      <th>14</th>\n",
       "      <td>mfcc4_mean</td>\n",
       "      <td>0.913631</td>\n",
       "      <td>0.913631</td>\n",
       "    </tr>\n",
       "    <tr>\n",
       "      <th>3</th>\n",
       "      <td>zero_crossing_rate_mean</td>\n",
       "      <td>0.832227</td>\n",
       "      <td>0.832227</td>\n",
       "    </tr>\n",
       "    <tr>\n",
       "      <th>17</th>\n",
       "      <td>mfcc6_mean</td>\n",
       "      <td>0.827418</td>\n",
       "      <td>0.827418</td>\n",
       "    </tr>\n",
       "    <tr>\n",
       "      <th>11</th>\n",
       "      <td>mfcc2_var</td>\n",
       "      <td>-0.635520</td>\n",
       "      <td>0.635520</td>\n",
       "    </tr>\n",
       "    <tr>\n",
       "      <th>12</th>\n",
       "      <td>mfcc3_mean</td>\n",
       "      <td>0.508592</td>\n",
       "      <td>0.508592</td>\n",
       "    </tr>\n",
       "    <tr>\n",
       "      <th>19</th>\n",
       "      <td>mfcc7_mean</td>\n",
       "      <td>-0.503558</td>\n",
       "      <td>0.503558</td>\n",
       "    </tr>\n",
       "    <tr>\n",
       "      <th>16</th>\n",
       "      <td>mfcc5_var</td>\n",
       "      <td>0.475958</td>\n",
       "      <td>0.475958</td>\n",
       "    </tr>\n",
       "    <tr>\n",
       "      <th>33</th>\n",
       "      <td>mfcc18_mean</td>\n",
       "      <td>-0.436142</td>\n",
       "      <td>0.436142</td>\n",
       "    </tr>\n",
       "    <tr>\n",
       "      <th>20</th>\n",
       "      <td>mfcc8_mean</td>\n",
       "      <td>0.417501</td>\n",
       "      <td>0.417501</td>\n",
       "    </tr>\n",
       "    <tr>\n",
       "      <th>25</th>\n",
       "      <td>mfcc12_mean</td>\n",
       "      <td>-0.395274</td>\n",
       "      <td>0.395274</td>\n",
       "    </tr>\n",
       "    <tr>\n",
       "      <th>1</th>\n",
       "      <td>chroma_stft_var</td>\n",
       "      <td>0.324604</td>\n",
       "      <td>0.324604</td>\n",
       "    </tr>\n",
       "    <tr>\n",
       "      <th>22</th>\n",
       "      <td>mfcc9_mean</td>\n",
       "      <td>-0.303121</td>\n",
       "      <td>0.303121</td>\n",
       "    </tr>\n",
       "    <tr>\n",
       "      <th>18</th>\n",
       "      <td>mfcc6_var</td>\n",
       "      <td>-0.279852</td>\n",
       "      <td>0.279852</td>\n",
       "    </tr>\n",
       "    <tr>\n",
       "      <th>32</th>\n",
       "      <td>mfcc17_mean</td>\n",
       "      <td>-0.246606</td>\n",
       "      <td>0.246606</td>\n",
       "    </tr>\n",
       "    <tr>\n",
       "      <th>5</th>\n",
       "      <td>harmony_mean</td>\n",
       "      <td>0.238840</td>\n",
       "      <td>0.238840</td>\n",
       "    </tr>\n",
       "    <tr>\n",
       "      <th>23</th>\n",
       "      <td>mfcc9_var</td>\n",
       "      <td>-0.223689</td>\n",
       "      <td>0.223689</td>\n",
       "    </tr>\n",
       "    <tr>\n",
       "      <th>27</th>\n",
       "      <td>mfcc13_mean</td>\n",
       "      <td>-0.211411</td>\n",
       "      <td>0.211411</td>\n",
       "    </tr>\n",
       "    <tr>\n",
       "      <th>0</th>\n",
       "      <td>chroma_stft_mean</td>\n",
       "      <td>-0.208989</td>\n",
       "      <td>0.208989</td>\n",
       "    </tr>\n",
       "    <tr>\n",
       "      <th>7</th>\n",
       "      <td>perceptr_mean</td>\n",
       "      <td>-0.204728</td>\n",
       "      <td>0.204728</td>\n",
       "    </tr>\n",
       "    <tr>\n",
       "      <th>13</th>\n",
       "      <td>mfcc3_var</td>\n",
       "      <td>0.188674</td>\n",
       "      <td>0.188674</td>\n",
       "    </tr>\n",
       "    <tr>\n",
       "      <th>31</th>\n",
       "      <td>mfcc16_var</td>\n",
       "      <td>0.179025</td>\n",
       "      <td>0.179025</td>\n",
       "    </tr>\n",
       "    <tr>\n",
       "      <th>28</th>\n",
       "      <td>mfcc15_mean</td>\n",
       "      <td>-0.162828</td>\n",
       "      <td>0.162828</td>\n",
       "    </tr>\n",
       "    <tr>\n",
       "      <th>35</th>\n",
       "      <td>mfcc19_var</td>\n",
       "      <td>0.146748</td>\n",
       "      <td>0.146748</td>\n",
       "    </tr>\n",
       "    <tr>\n",
       "      <th>29</th>\n",
       "      <td>mfcc15_var</td>\n",
       "      <td>0.107800</td>\n",
       "      <td>0.107800</td>\n",
       "    </tr>\n",
       "    <tr>\n",
       "      <th>30</th>\n",
       "      <td>mfcc16_mean</td>\n",
       "      <td>0.107675</td>\n",
       "      <td>0.107675</td>\n",
       "    </tr>\n",
       "    <tr>\n",
       "      <th>24</th>\n",
       "      <td>mfcc10_var</td>\n",
       "      <td>-0.095337</td>\n",
       "      <td>0.095337</td>\n",
       "    </tr>\n",
       "    <tr>\n",
       "      <th>4</th>\n",
       "      <td>zero_crossing_rate_var</td>\n",
       "      <td>-0.093752</td>\n",
       "      <td>0.093752</td>\n",
       "    </tr>\n",
       "    <tr>\n",
       "      <th>21</th>\n",
       "      <td>mfcc8_var</td>\n",
       "      <td>0.093393</td>\n",
       "      <td>0.093393</td>\n",
       "    </tr>\n",
       "    <tr>\n",
       "      <th>26</th>\n",
       "      <td>mfcc12_var</td>\n",
       "      <td>-0.074380</td>\n",
       "      <td>0.074380</td>\n",
       "    </tr>\n",
       "    <tr>\n",
       "      <th>34</th>\n",
       "      <td>mfcc19_mean</td>\n",
       "      <td>0.072328</td>\n",
       "      <td>0.072328</td>\n",
       "    </tr>\n",
       "    <tr>\n",
       "      <th>15</th>\n",
       "      <td>mfcc4_var</td>\n",
       "      <td>-0.052304</td>\n",
       "      <td>0.052304</td>\n",
       "    </tr>\n",
       "    <tr>\n",
       "      <th>8</th>\n",
       "      <td>tempo</td>\n",
       "      <td>0.050082</td>\n",
       "      <td>0.050082</td>\n",
       "    </tr>\n",
       "  </tbody>\n",
       "</table>\n",
       "</div>"
      ],
      "text/plain": [
       "                       feat      coef  abs_coef\n",
       "9                mfcc1_mean -1.441035  1.441035\n",
       "10               mfcc2_mean  1.137290  1.137290\n",
       "2                   rms_var  1.039603  1.039603\n",
       "6               harmony_var  1.028322  1.028322\n",
       "14               mfcc4_mean  0.913631  0.913631\n",
       "3   zero_crossing_rate_mean  0.832227  0.832227\n",
       "17               mfcc6_mean  0.827418  0.827418\n",
       "11                mfcc2_var -0.635520  0.635520\n",
       "12               mfcc3_mean  0.508592  0.508592\n",
       "19               mfcc7_mean -0.503558  0.503558\n",
       "16                mfcc5_var  0.475958  0.475958\n",
       "33              mfcc18_mean -0.436142  0.436142\n",
       "20               mfcc8_mean  0.417501  0.417501\n",
       "25              mfcc12_mean -0.395274  0.395274\n",
       "1           chroma_stft_var  0.324604  0.324604\n",
       "22               mfcc9_mean -0.303121  0.303121\n",
       "18                mfcc6_var -0.279852  0.279852\n",
       "32              mfcc17_mean -0.246606  0.246606\n",
       "5              harmony_mean  0.238840  0.238840\n",
       "23                mfcc9_var -0.223689  0.223689\n",
       "27              mfcc13_mean -0.211411  0.211411\n",
       "0          chroma_stft_mean -0.208989  0.208989\n",
       "7             perceptr_mean -0.204728  0.204728\n",
       "13                mfcc3_var  0.188674  0.188674\n",
       "31               mfcc16_var  0.179025  0.179025\n",
       "28              mfcc15_mean -0.162828  0.162828\n",
       "35               mfcc19_var  0.146748  0.146748\n",
       "29               mfcc15_var  0.107800  0.107800\n",
       "30              mfcc16_mean  0.107675  0.107675\n",
       "24               mfcc10_var -0.095337  0.095337\n",
       "4    zero_crossing_rate_var -0.093752  0.093752\n",
       "21                mfcc8_var  0.093393  0.093393\n",
       "26               mfcc12_var -0.074380  0.074380\n",
       "34              mfcc19_mean  0.072328  0.072328\n",
       "15                mfcc4_var -0.052304  0.052304\n",
       "8                     tempo  0.050082  0.050082"
      ]
     },
     "execution_count": 41,
     "metadata": {},
     "output_type": "execute_result"
    },
    {
     "data": {
      "application/javascript": [
       "\n",
       "            setTimeout(function() {\n",
       "                var nbb_cell_id = 41;\n",
       "                var nbb_unformatted_code = \"best = pipeline_cv.best_estimator_.named_steps[\\\"log\\\"]\\ncoef_df = pd.DataFrame({\\\"feat\\\": X_train.columns, \\\"coef\\\": best.coef_[0]})\\ncoef_df[\\\"abs_coef\\\"] = np.abs(coef_df[\\\"coef\\\"])\\ncoef_df.sort_values(\\\"abs_coef\\\", ascending=False)\";\n",
       "                var nbb_formatted_code = \"best = pipeline_cv.best_estimator_.named_steps[\\\"log\\\"]\\ncoef_df = pd.DataFrame({\\\"feat\\\": X_train.columns, \\\"coef\\\": best.coef_[0]})\\ncoef_df[\\\"abs_coef\\\"] = np.abs(coef_df[\\\"coef\\\"])\\ncoef_df.sort_values(\\\"abs_coef\\\", ascending=False)\";\n",
       "                var nbb_cells = Jupyter.notebook.get_cells();\n",
       "                for (var i = 0; i < nbb_cells.length; ++i) {\n",
       "                    if (nbb_cells[i].input_prompt_number == nbb_cell_id) {\n",
       "                        if (nbb_cells[i].get_text() == nbb_unformatted_code) {\n",
       "                             nbb_cells[i].set_text(nbb_formatted_code);\n",
       "                        }\n",
       "                        break;\n",
       "                    }\n",
       "                }\n",
       "            }, 500);\n",
       "            "
      ],
      "text/plain": [
       "<IPython.core.display.Javascript object>"
      ]
     },
     "metadata": {},
     "output_type": "display_data"
    }
   ],
   "source": [
    "best = pipeline_cv.best_estimator_.named_steps[\"log\"]\n",
    "coef_df = pd.DataFrame({\"feat\": X_train.columns, \"coef\": best.coef_[0]})\n",
    "coef_df[\"abs_coef\"] = np.abs(coef_df[\"coef\"])\n",
    "coef_df.sort_values(\"abs_coef\", ascending=False)"
   ]
  },
  {
   "cell_type": "code",
   "execution_count": 42,
   "metadata": {},
   "outputs": [
    {
     "data": {
      "text/plain": [
       "Index(['chroma_stft_mean', 'chroma_stft_var', 'rms_var',\n",
       "       'zero_crossing_rate_mean', 'zero_crossing_rate_var', 'harmony_mean',\n",
       "       'harmony_var', 'perceptr_mean', 'tempo', 'mfcc1_mean', 'mfcc2_mean',\n",
       "       'mfcc2_var', 'mfcc3_mean', 'mfcc3_var', 'mfcc4_mean', 'mfcc4_var',\n",
       "       'mfcc5_var', 'mfcc6_mean', 'mfcc6_var', 'mfcc7_mean', 'mfcc8_mean',\n",
       "       'mfcc8_var', 'mfcc9_mean', 'mfcc9_var', 'mfcc10_var', 'mfcc12_mean',\n",
       "       'mfcc12_var', 'mfcc13_mean', 'mfcc15_mean', 'mfcc15_var', 'mfcc16_mean',\n",
       "       'mfcc16_var', 'mfcc17_mean', 'mfcc18_mean', 'mfcc19_mean',\n",
       "       'mfcc19_var'],\n",
       "      dtype='object')"
      ]
     },
     "execution_count": 42,
     "metadata": {},
     "output_type": "execute_result"
    },
    {
     "data": {
      "application/javascript": [
       "\n",
       "            setTimeout(function() {\n",
       "                var nbb_cell_id = 42;\n",
       "                var nbb_unformatted_code = \"X_train.columns\";\n",
       "                var nbb_formatted_code = \"X_train.columns\";\n",
       "                var nbb_cells = Jupyter.notebook.get_cells();\n",
       "                for (var i = 0; i < nbb_cells.length; ++i) {\n",
       "                    if (nbb_cells[i].input_prompt_number == nbb_cell_id) {\n",
       "                        if (nbb_cells[i].get_text() == nbb_unformatted_code) {\n",
       "                             nbb_cells[i].set_text(nbb_formatted_code);\n",
       "                        }\n",
       "                        break;\n",
       "                    }\n",
       "                }\n",
       "            }, 500);\n",
       "            "
      ],
      "text/plain": [
       "<IPython.core.display.Javascript object>"
      ]
     },
     "metadata": {},
     "output_type": "display_data"
    }
   ],
   "source": [
    "X_train.columns"
   ]
  },
  {
   "cell_type": "code",
   "execution_count": 24,
   "metadata": {},
   "outputs": [
    {
     "data": {
      "application/javascript": [
       "\n",
       "            setTimeout(function() {\n",
       "                var nbb_cell_id = 24;\n",
       "                var nbb_unformatted_code = \"keep_cols = coef_df.sort_values(\\\"abs_coef\\\", ascending=False)[\\\"feat\\\"][:10]\";\n",
       "                var nbb_formatted_code = \"keep_cols = coef_df.sort_values(\\\"abs_coef\\\", ascending=False)[\\\"feat\\\"][:10]\";\n",
       "                var nbb_cells = Jupyter.notebook.get_cells();\n",
       "                for (var i = 0; i < nbb_cells.length; ++i) {\n",
       "                    if (nbb_cells[i].input_prompt_number == nbb_cell_id) {\n",
       "                        if (nbb_cells[i].get_text() == nbb_unformatted_code) {\n",
       "                             nbb_cells[i].set_text(nbb_formatted_code);\n",
       "                        }\n",
       "                        break;\n",
       "                    }\n",
       "                }\n",
       "            }, 500);\n",
       "            "
      ],
      "text/plain": [
       "<IPython.core.display.Javascript object>"
      ]
     },
     "metadata": {},
     "output_type": "display_data"
    }
   ],
   "source": [
    "keep_cols = coef_df.sort_values(\"abs_coef\", ascending=False)[\"feat\"][:10]"
   ]
  },
  {
   "cell_type": "code",
   "execution_count": null,
   "metadata": {},
   "outputs": [],
   "source": []
  },
  {
   "cell_type": "code",
   "execution_count": 25,
   "metadata": {},
   "outputs": [
    {
     "data": {
      "application/javascript": [
       "\n",
       "            setTimeout(function() {\n",
       "                var nbb_cell_id = 25;\n",
       "                var nbb_unformatted_code = \"value_cast = {\\n    \\\"metal\\\": 1,\\n    \\\"jazz\\\": 2,\\n    \\\"blues\\\": 3,\\n    \\\"reggae\\\": 4,\\n    \\\"pop\\\": 5,\\n    \\\"disco\\\": 6,\\n    \\\"classical\\\": 7,\\n    \\\"hiphop\\\": 8,\\n    \\\"rock\\\": 9,\\n    \\\"country\\\": 0,\\n}\\n\\nlogit_y_train = y_train.replace(value_cast)\";\n",
       "                var nbb_formatted_code = \"value_cast = {\\n    \\\"metal\\\": 1,\\n    \\\"jazz\\\": 2,\\n    \\\"blues\\\": 3,\\n    \\\"reggae\\\": 4,\\n    \\\"pop\\\": 5,\\n    \\\"disco\\\": 6,\\n    \\\"classical\\\": 7,\\n    \\\"hiphop\\\": 8,\\n    \\\"rock\\\": 9,\\n    \\\"country\\\": 0,\\n}\\n\\nlogit_y_train = y_train.replace(value_cast)\";\n",
       "                var nbb_cells = Jupyter.notebook.get_cells();\n",
       "                for (var i = 0; i < nbb_cells.length; ++i) {\n",
       "                    if (nbb_cells[i].input_prompt_number == nbb_cell_id) {\n",
       "                        if (nbb_cells[i].get_text() == nbb_unformatted_code) {\n",
       "                             nbb_cells[i].set_text(nbb_formatted_code);\n",
       "                        }\n",
       "                        break;\n",
       "                    }\n",
       "                }\n",
       "            }, 500);\n",
       "            "
      ],
      "text/plain": [
       "<IPython.core.display.Javascript object>"
      ]
     },
     "metadata": {},
     "output_type": "display_data"
    }
   ],
   "source": [
    "value_cast = {\n",
    "    \"metal\": 1,\n",
    "    \"jazz\": 2,\n",
    "    \"blues\": 3,\n",
    "    \"reggae\": 4,\n",
    "    \"pop\": 5,\n",
    "    \"disco\": 6,\n",
    "    \"classical\": 7,\n",
    "    \"hiphop\": 8,\n",
    "    \"rock\": 9,\n",
    "    \"country\": 0,\n",
    "}\n",
    "\n",
    "logit_y_train = y_train.replace(value_cast)"
   ]
  },
  {
   "cell_type": "code",
   "execution_count": 26,
   "metadata": {},
   "outputs": [
    {
     "data": {
      "application/javascript": [
       "\n",
       "            setTimeout(function() {\n",
       "                var nbb_cell_id = 26;\n",
       "                var nbb_unformatted_code = \"from sklearn.feature_selection import (\\n    SelectKBest,\\n    f_classif,\\n    f_regression,\\n    mutual_info_regression,\\n)\";\n",
       "                var nbb_formatted_code = \"from sklearn.feature_selection import (\\n    SelectKBest,\\n    f_classif,\\n    f_regression,\\n    mutual_info_regression,\\n)\";\n",
       "                var nbb_cells = Jupyter.notebook.get_cells();\n",
       "                for (var i = 0; i < nbb_cells.length; ++i) {\n",
       "                    if (nbb_cells[i].input_prompt_number == nbb_cell_id) {\n",
       "                        if (nbb_cells[i].get_text() == nbb_unformatted_code) {\n",
       "                             nbb_cells[i].set_text(nbb_formatted_code);\n",
       "                        }\n",
       "                        break;\n",
       "                    }\n",
       "                }\n",
       "            }, 500);\n",
       "            "
      ],
      "text/plain": [
       "<IPython.core.display.Javascript object>"
      ]
     },
     "metadata": {},
     "output_type": "display_data"
    }
   ],
   "source": [
    "from sklearn.feature_selection import (\n",
    "    SelectKBest,\n",
    "    f_classif,\n",
    "    f_regression,\n",
    "    mutual_info_regression,\n",
    ")"
   ]
  },
  {
   "cell_type": "code",
   "execution_count": 27,
   "metadata": {
    "scrolled": true
   },
   "outputs": [
    {
     "data": {
      "application/javascript": [
       "\n",
       "            setTimeout(function() {\n",
       "                var nbb_cell_id = 27;\n",
       "                var nbb_unformatted_code = \"selector = SelectKBest()\\nselector.fit(X_train, y_train)\\n\\nk_best = selector.transform(X_train)\";\n",
       "                var nbb_formatted_code = \"selector = SelectKBest()\\nselector.fit(X_train, y_train)\\n\\nk_best = selector.transform(X_train)\";\n",
       "                var nbb_cells = Jupyter.notebook.get_cells();\n",
       "                for (var i = 0; i < nbb_cells.length; ++i) {\n",
       "                    if (nbb_cells[i].input_prompt_number == nbb_cell_id) {\n",
       "                        if (nbb_cells[i].get_text() == nbb_unformatted_code) {\n",
       "                             nbb_cells[i].set_text(nbb_formatted_code);\n",
       "                        }\n",
       "                        break;\n",
       "                    }\n",
       "                }\n",
       "            }, 500);\n",
       "            "
      ],
      "text/plain": [
       "<IPython.core.display.Javascript object>"
      ]
     },
     "metadata": {},
     "output_type": "display_data"
    }
   ],
   "source": [
    "selector = SelectKBest()\n",
    "selector.fit(X_train, y_train)\n",
    "\n",
    "k_best = selector.transform(X_train)"
   ]
  },
  {
   "cell_type": "code",
   "execution_count": 28,
   "metadata": {},
   "outputs": [
    {
     "name": "stdout",
     "output_type": "stream",
     "text": [
      "                    feature     f_score\n",
      "0          chroma_stft_mean  858.813725\n",
      "9                mfcc1_mean  811.704964\n",
      "2                   rms_var  788.759820\n",
      "14               mfcc4_mean  550.663118\n",
      "10               mfcc2_mean  541.594843\n",
      "4    zero_crossing_rate_var  516.855722\n",
      "15                mfcc4_var  507.873557\n",
      "16                mfcc5_var  460.828668\n",
      "18                mfcc6_var  453.393656\n",
      "20               mfcc8_mean  423.369217\n",
      "17               mfcc6_mean  408.250749\n",
      "6               harmony_var  403.504903\n",
      "13                mfcc3_var  358.995792\n",
      "22               mfcc9_mean  354.050426\n",
      "3   zero_crossing_rate_mean  313.514158\n",
      "19               mfcc7_mean  311.531293\n",
      "27              mfcc13_mean  288.663688\n",
      "25              mfcc12_mean  276.866465\n",
      "11                mfcc2_var  270.397873\n",
      "12               mfcc3_mean  266.872376\n",
      "21                mfcc8_var  265.610448\n",
      "33              mfcc17_mean  261.580310\n",
      "1           chroma_stft_var  244.581605\n",
      "29              mfcc15_mean  238.874546\n",
      "24               mfcc10_var  204.727636\n",
      "23                mfcc9_var  202.069400\n",
      "28               mfcc13_var  113.189074\n",
      "37               mfcc19_var  105.976472\n",
      "26               mfcc12_var   96.530425\n",
      "35               mfcc18_var   93.928388\n",
      "36              mfcc19_mean   93.907343\n",
      "31              mfcc16_mean   78.399791\n",
      "32               mfcc16_var   76.826388\n",
      "30               mfcc15_var   64.416362\n",
      "7             perceptr_mean   63.706579\n",
      "34              mfcc18_mean   49.805554\n",
      "5              harmony_mean   18.142302\n",
      "8                     tempo   11.742120\n"
     ]
    },
    {
     "data": {
      "text/html": [
       "<div>\n",
       "<style scoped>\n",
       "    .dataframe tbody tr th:only-of-type {\n",
       "        vertical-align: middle;\n",
       "    }\n",
       "\n",
       "    .dataframe tbody tr th {\n",
       "        vertical-align: top;\n",
       "    }\n",
       "\n",
       "    .dataframe thead th {\n",
       "        text-align: right;\n",
       "    }\n",
       "</style>\n",
       "<table border=\"1\" class=\"dataframe\">\n",
       "  <thead>\n",
       "    <tr style=\"text-align: right;\">\n",
       "      <th></th>\n",
       "      <th>chroma_stft_mean</th>\n",
       "      <th>rms_var</th>\n",
       "      <th>zero_crossing_rate_var</th>\n",
       "      <th>mfcc1_mean</th>\n",
       "      <th>mfcc2_mean</th>\n",
       "      <th>mfcc4_mean</th>\n",
       "      <th>mfcc4_var</th>\n",
       "      <th>mfcc5_var</th>\n",
       "      <th>mfcc6_var</th>\n",
       "      <th>mfcc8_mean</th>\n",
       "    </tr>\n",
       "  </thead>\n",
       "  <tbody>\n",
       "    <tr>\n",
       "      <th>0</th>\n",
       "      <td>0.335406</td>\n",
       "      <td>-5.649009</td>\n",
       "      <td>-7.491712</td>\n",
       "      <td>-118.627914</td>\n",
       "      <td>125.083626</td>\n",
       "      <td>41.321484</td>\n",
       "      <td>5.202329</td>\n",
       "      <td>5.030197</td>\n",
       "      <td>4.326148</td>\n",
       "      <td>17.855198</td>\n",
       "    </tr>\n",
       "    <tr>\n",
       "      <th>1</th>\n",
       "      <td>0.343065</td>\n",
       "      <td>-6.536409</td>\n",
       "      <td>-6.878565</td>\n",
       "      <td>-125.590706</td>\n",
       "      <td>122.421227</td>\n",
       "      <td>50.128387</td>\n",
       "      <td>4.960747</td>\n",
       "      <td>4.936221</td>\n",
       "      <td>4.354372</td>\n",
       "      <td>19.454103</td>\n",
       "    </tr>\n",
       "    <tr>\n",
       "      <th>2</th>\n",
       "      <td>0.346815</td>\n",
       "      <td>-5.377274</td>\n",
       "      <td>-7.762753</td>\n",
       "      <td>-132.441940</td>\n",
       "      <td>115.085175</td>\n",
       "      <td>50.189293</td>\n",
       "      <td>4.970966</td>\n",
       "      <td>4.854970</td>\n",
       "      <td>4.195263</td>\n",
       "      <td>15.643386</td>\n",
       "    </tr>\n",
       "    <tr>\n",
       "      <th>3</th>\n",
       "      <td>0.363639</td>\n",
       "      <td>-6.012662</td>\n",
       "      <td>-8.098503</td>\n",
       "      <td>-118.231087</td>\n",
       "      <td>132.116501</td>\n",
       "      <td>39.769306</td>\n",
       "      <td>5.218697</td>\n",
       "      <td>4.972575</td>\n",
       "      <td>4.808245</td>\n",
       "      <td>18.745104</td>\n",
       "    </tr>\n",
       "    <tr>\n",
       "      <th>4</th>\n",
       "      <td>0.335579</td>\n",
       "      <td>-6.376606</td>\n",
       "      <td>-8.149578</td>\n",
       "      <td>-105.968376</td>\n",
       "      <td>134.643646</td>\n",
       "      <td>40.171753</td>\n",
       "      <td>4.635900</td>\n",
       "      <td>4.631337</td>\n",
       "      <td>4.370334</td>\n",
       "      <td>19.207966</td>\n",
       "    </tr>\n",
       "  </tbody>\n",
       "</table>\n",
       "</div>"
      ],
      "text/plain": [
       "   chroma_stft_mean   rms_var  zero_crossing_rate_var  mfcc1_mean  mfcc2_mean  \\\n",
       "0          0.335406 -5.649009               -7.491712 -118.627914  125.083626   \n",
       "1          0.343065 -6.536409               -6.878565 -125.590706  122.421227   \n",
       "2          0.346815 -5.377274               -7.762753 -132.441940  115.085175   \n",
       "3          0.363639 -6.012662               -8.098503 -118.231087  132.116501   \n",
       "4          0.335579 -6.376606               -8.149578 -105.968376  134.643646   \n",
       "\n",
       "   mfcc4_mean  mfcc4_var  mfcc5_var  mfcc6_var  mfcc8_mean  \n",
       "0   41.321484   5.202329   5.030197   4.326148   17.855198  \n",
       "1   50.128387   4.960747   4.936221   4.354372   19.454103  \n",
       "2   50.189293   4.970966   4.854970   4.195263   15.643386  \n",
       "3   39.769306   5.218697   4.972575   4.808245   18.745104  \n",
       "4   40.171753   4.635900   4.631337   4.370334   19.207966  "
      ]
     },
     "execution_count": 28,
     "metadata": {},
     "output_type": "execute_result"
    },
    {
     "data": {
      "application/javascript": [
       "\n",
       "            setTimeout(function() {\n",
       "                var nbb_cell_id = 28;\n",
       "                var nbb_unformatted_code = \"# We can see/rank which features were the best\\nscore_df = pd.DataFrame({\\\"feature\\\": X_train.columns, \\\"f_score\\\": selector.scores_})\\nscore_df = score_df.sort_values(\\\"f_score\\\", ascending=False)\\nprint(score_df.head(40))\\n\\n# We can put back into a dataframe to see column names\\nbest_df = pd.DataFrame(k_best, columns=X_train.columns[selector.get_support()])\\nbest_df.head()\";\n",
       "                var nbb_formatted_code = \"# We can see/rank which features were the best\\nscore_df = pd.DataFrame({\\\"feature\\\": X_train.columns, \\\"f_score\\\": selector.scores_})\\nscore_df = score_df.sort_values(\\\"f_score\\\", ascending=False)\\nprint(score_df.head(40))\\n\\n# We can put back into a dataframe to see column names\\nbest_df = pd.DataFrame(k_best, columns=X_train.columns[selector.get_support()])\\nbest_df.head()\";\n",
       "                var nbb_cells = Jupyter.notebook.get_cells();\n",
       "                for (var i = 0; i < nbb_cells.length; ++i) {\n",
       "                    if (nbb_cells[i].input_prompt_number == nbb_cell_id) {\n",
       "                        if (nbb_cells[i].get_text() == nbb_unformatted_code) {\n",
       "                             nbb_cells[i].set_text(nbb_formatted_code);\n",
       "                        }\n",
       "                        break;\n",
       "                    }\n",
       "                }\n",
       "            }, 500);\n",
       "            "
      ],
      "text/plain": [
       "<IPython.core.display.Javascript object>"
      ]
     },
     "metadata": {},
     "output_type": "display_data"
    }
   ],
   "source": [
    "# We can see/rank which features were the best\n",
    "score_df = pd.DataFrame({\"feature\": X_train.columns, \"f_score\": selector.scores_})\n",
    "score_df = score_df.sort_values(\"f_score\", ascending=False)\n",
    "print(score_df.head(40))\n",
    "\n",
    "# We can put back into a dataframe to see column names\n",
    "best_df = pd.DataFrame(k_best, columns=X_train.columns[selector.get_support()])\n",
    "best_df.head()"
   ]
  }
 ],
 "metadata": {
  "kernelspec": {
   "display_name": "Python 3",
   "language": "python",
   "name": "python3"
  },
  "language_info": {
   "codemirror_mode": {
    "name": "ipython",
    "version": 3
   },
   "file_extension": ".py",
   "mimetype": "text/x-python",
   "name": "python",
   "nbconvert_exporter": "python",
   "pygments_lexer": "ipython3",
   "version": "3.7.6"
  }
 },
 "nbformat": 4,
 "nbformat_minor": 4
}
