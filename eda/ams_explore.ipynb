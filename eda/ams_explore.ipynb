{
 "cells": [
  {
   "cell_type": "code",
   "execution_count": 1,
   "metadata": {},
   "outputs": [
    {
     "data": {
      "application/javascript": [
       "\n",
       "            setTimeout(function() {\n",
       "                var nbb_cell_id = 1;\n",
       "                var nbb_unformatted_code = \"%reload_ext nb_black\";\n",
       "                var nbb_formatted_code = \"%reload_ext nb_black\";\n",
       "                var nbb_cells = Jupyter.notebook.get_cells();\n",
       "                for (var i = 0; i < nbb_cells.length; ++i) {\n",
       "                    if (nbb_cells[i].input_prompt_number == nbb_cell_id) {\n",
       "                        if (nbb_cells[i].get_text() == nbb_unformatted_code) {\n",
       "                             nbb_cells[i].set_text(nbb_formatted_code);\n",
       "                        }\n",
       "                        break;\n",
       "                    }\n",
       "                }\n",
       "            }, 500);\n",
       "            "
      ],
      "text/plain": [
       "<IPython.core.display.Javascript object>"
      ]
     },
     "metadata": {},
     "output_type": "display_data"
    }
   ],
   "source": [
    "%reload_ext nb_black"
   ]
  },
  {
   "cell_type": "code",
   "execution_count": 2,
   "metadata": {},
   "outputs": [
    {
     "data": {
      "application/javascript": [
       "\n",
       "            setTimeout(function() {\n",
       "                var nbb_cell_id = 2;\n",
       "                var nbb_unformatted_code = \"import pandas as pd\\n\\nfrom sklearn.model_selection import train_test_split, GridSearchCV\\nfrom sklearn.preprocessing import StandardScaler\\nfrom sklearn.linear_model import LogisticRegression\\nfrom sklearn.neighbors import KNeighborsClassifier\\n\\nfrom xgboost import XGBClassifier\";\n",
       "                var nbb_formatted_code = \"import pandas as pd\\n\\nfrom sklearn.model_selection import train_test_split, GridSearchCV\\nfrom sklearn.preprocessing import StandardScaler\\nfrom sklearn.linear_model import LogisticRegression\\nfrom sklearn.neighbors import KNeighborsClassifier\\n\\nfrom xgboost import XGBClassifier\";\n",
       "                var nbb_cells = Jupyter.notebook.get_cells();\n",
       "                for (var i = 0; i < nbb_cells.length; ++i) {\n",
       "                    if (nbb_cells[i].input_prompt_number == nbb_cell_id) {\n",
       "                        if (nbb_cells[i].get_text() == nbb_unformatted_code) {\n",
       "                             nbb_cells[i].set_text(nbb_formatted_code);\n",
       "                        }\n",
       "                        break;\n",
       "                    }\n",
       "                }\n",
       "            }, 500);\n",
       "            "
      ],
      "text/plain": [
       "<IPython.core.display.Javascript object>"
      ]
     },
     "metadata": {},
     "output_type": "display_data"
    }
   ],
   "source": [
    "import pandas as pd\n",
    "\n",
    "from sklearn.model_selection import train_test_split, GridSearchCV\n",
    "from sklearn.preprocessing import StandardScaler\n",
    "from sklearn.linear_model import LogisticRegression\n",
    "from sklearn.neighbors import KNeighborsClassifier\n",
    "\n",
    "from xgboost import XGBClassifier"
   ]
  },
  {
   "cell_type": "code",
   "execution_count": 3,
   "metadata": {},
   "outputs": [
    {
     "data": {
      "application/javascript": [
       "\n",
       "            setTimeout(function() {\n",
       "                var nbb_cell_id = 3;\n",
       "                var nbb_unformatted_code = \"df = pd.read_csv(\\\"../data/features_3_sec.csv\\\")\\ndf[\\\"genre\\\"] = df[\\\"filename\\\"].str.split(\\\".\\\").str[0]\\n\\n# \\\"blues.00000.0.wav\\\" -> \\\"blues.00000\\\"\\ndf[\\\"songname\\\"] = df[\\\"filename\\\"].str[:-6]\";\n",
       "                var nbb_formatted_code = \"df = pd.read_csv(\\\"../data/features_3_sec.csv\\\")\\ndf[\\\"genre\\\"] = df[\\\"filename\\\"].str.split(\\\".\\\").str[0]\\n\\n# \\\"blues.00000.0.wav\\\" -> \\\"blues.00000\\\"\\ndf[\\\"songname\\\"] = df[\\\"filename\\\"].str[:-6]\";\n",
       "                var nbb_cells = Jupyter.notebook.get_cells();\n",
       "                for (var i = 0; i < nbb_cells.length; ++i) {\n",
       "                    if (nbb_cells[i].input_prompt_number == nbb_cell_id) {\n",
       "                        if (nbb_cells[i].get_text() == nbb_unformatted_code) {\n",
       "                             nbb_cells[i].set_text(nbb_formatted_code);\n",
       "                        }\n",
       "                        break;\n",
       "                    }\n",
       "                }\n",
       "            }, 500);\n",
       "            "
      ],
      "text/plain": [
       "<IPython.core.display.Javascript object>"
      ]
     },
     "metadata": {},
     "output_type": "display_data"
    }
   ],
   "source": [
    "df = pd.read_csv(\"../data/features_3_sec.csv\")\n",
    "df[\"genre\"] = df[\"filename\"].str.split(\".\").str[0]\n",
    "\n",
    "# \"blues.00000.0.wav\" -> \"blues.00000\"\n",
    "df[\"songname\"] = df[\"filename\"].str[:-6]"
   ]
  },
  {
   "cell_type": "code",
   "execution_count": 4,
   "metadata": {},
   "outputs": [
    {
     "data": {
      "application/javascript": [
       "\n",
       "            setTimeout(function() {\n",
       "                var nbb_cell_id = 4;\n",
       "                var nbb_unformatted_code = \"drop_cols = [\\n    # ------------\\n    # Added by adam\\n    # ------------\\n    \\\"songname\\\",\\n    # ------------\\n    # Original from initial_eda.ipynb\\n    # ------------\\n    \\\"length\\\",\\n    \\\"filename\\\",\\n    \\\"label\\\",\\n    #     \\\"zero_crossing_rate_mean\\\",\\n    #     \\\"zero_crossing_rate_var\\\",\\n    \\\"rolloff_mean\\\",\\n    \\\"harmony_var\\\",\\n    \\\"rolloff_var\\\",\\n    \\\"spectral_centroid_var\\\",\\n    \\\"spectral_bandwidth_var\\\",\\n    \\\"spectral_centroid_mean\\\",\\n    \\\"spectral_bandwidth_mean\\\",\\n]\";\n",
       "                var nbb_formatted_code = \"drop_cols = [\\n    # ------------\\n    # Added by adam\\n    # ------------\\n    \\\"songname\\\",\\n    # ------------\\n    # Original from initial_eda.ipynb\\n    # ------------\\n    \\\"length\\\",\\n    \\\"filename\\\",\\n    \\\"label\\\",\\n    #     \\\"zero_crossing_rate_mean\\\",\\n    #     \\\"zero_crossing_rate_var\\\",\\n    \\\"rolloff_mean\\\",\\n    \\\"harmony_var\\\",\\n    \\\"rolloff_var\\\",\\n    \\\"spectral_centroid_var\\\",\\n    \\\"spectral_bandwidth_var\\\",\\n    \\\"spectral_centroid_mean\\\",\\n    \\\"spectral_bandwidth_mean\\\",\\n]\";\n",
       "                var nbb_cells = Jupyter.notebook.get_cells();\n",
       "                for (var i = 0; i < nbb_cells.length; ++i) {\n",
       "                    if (nbb_cells[i].input_prompt_number == nbb_cell_id) {\n",
       "                        if (nbb_cells[i].get_text() == nbb_unformatted_code) {\n",
       "                             nbb_cells[i].set_text(nbb_formatted_code);\n",
       "                        }\n",
       "                        break;\n",
       "                    }\n",
       "                }\n",
       "            }, 500);\n",
       "            "
      ],
      "text/plain": [
       "<IPython.core.display.Javascript object>"
      ]
     },
     "metadata": {},
     "output_type": "display_data"
    }
   ],
   "source": [
    "drop_cols = [\n",
    "    # ------------\n",
    "    # Added by adam\n",
    "    # ------------\n",
    "    \"songname\",\n",
    "    # ------------\n",
    "    # Original from initial_eda.ipynb\n",
    "    # ------------\n",
    "    \"length\",\n",
    "    \"filename\",\n",
    "    \"label\",\n",
    "    #     \"zero_crossing_rate_mean\",\n",
    "    #     \"zero_crossing_rate_var\",\n",
    "    \"rolloff_mean\",\n",
    "    \"harmony_var\",\n",
    "    \"rolloff_var\",\n",
    "    \"spectral_centroid_var\",\n",
    "    \"spectral_bandwidth_var\",\n",
    "    \"spectral_centroid_mean\",\n",
    "    \"spectral_bandwidth_mean\",\n",
    "]"
   ]
  },
  {
   "cell_type": "markdown",
   "metadata": {},
   "source": [
    "## Normal train/test split"
   ]
  },
  {
   "cell_type": "code",
   "execution_count": 5,
   "metadata": {},
   "outputs": [
    {
     "data": {
      "application/javascript": [
       "\n",
       "            setTimeout(function() {\n",
       "                var nbb_cell_id = 5;\n",
       "                var nbb_unformatted_code = \"X = df.drop(columns=drop_cols + [\\\"genre\\\"])\\ny = df[\\\"genre\\\"]\";\n",
       "                var nbb_formatted_code = \"X = df.drop(columns=drop_cols + [\\\"genre\\\"])\\ny = df[\\\"genre\\\"]\";\n",
       "                var nbb_cells = Jupyter.notebook.get_cells();\n",
       "                for (var i = 0; i < nbb_cells.length; ++i) {\n",
       "                    if (nbb_cells[i].input_prompt_number == nbb_cell_id) {\n",
       "                        if (nbb_cells[i].get_text() == nbb_unformatted_code) {\n",
       "                             nbb_cells[i].set_text(nbb_formatted_code);\n",
       "                        }\n",
       "                        break;\n",
       "                    }\n",
       "                }\n",
       "            }, 500);\n",
       "            "
      ],
      "text/plain": [
       "<IPython.core.display.Javascript object>"
      ]
     },
     "metadata": {},
     "output_type": "display_data"
    }
   ],
   "source": [
    "X = df.drop(columns=drop_cols + [\"genre\"])\n",
    "y = df[\"genre\"]"
   ]
  },
  {
   "cell_type": "code",
   "execution_count": 6,
   "metadata": {},
   "outputs": [
    {
     "name": "stdout",
     "output_type": "stream",
     "text": [
      "(7992, 50) (7992,)\n",
      "(1998, 50) (1998,)\n"
     ]
    },
    {
     "data": {
      "application/javascript": [
       "\n",
       "            setTimeout(function() {\n",
       "                var nbb_cell_id = 6;\n",
       "                var nbb_unformatted_code = \"X_train, X_test, y_train, y_test = train_test_split(\\n    X, y, test_size=0.2, random_state=42, stratify=y\\n)\\n\\nprint(X_train.shape, y_train.shape)\\nprint(X_test.shape, y_test.shape)\";\n",
       "                var nbb_formatted_code = \"X_train, X_test, y_train, y_test = train_test_split(\\n    X, y, test_size=0.2, random_state=42, stratify=y\\n)\\n\\nprint(X_train.shape, y_train.shape)\\nprint(X_test.shape, y_test.shape)\";\n",
       "                var nbb_cells = Jupyter.notebook.get_cells();\n",
       "                for (var i = 0; i < nbb_cells.length; ++i) {\n",
       "                    if (nbb_cells[i].input_prompt_number == nbb_cell_id) {\n",
       "                        if (nbb_cells[i].get_text() == nbb_unformatted_code) {\n",
       "                             nbb_cells[i].set_text(nbb_formatted_code);\n",
       "                        }\n",
       "                        break;\n",
       "                    }\n",
       "                }\n",
       "            }, 500);\n",
       "            "
      ],
      "text/plain": [
       "<IPython.core.display.Javascript object>"
      ]
     },
     "metadata": {},
     "output_type": "display_data"
    }
   ],
   "source": [
    "X_train, X_test, y_train, y_test = train_test_split(\n",
    "    X, y, test_size=0.2, random_state=42, stratify=y\n",
    ")\n",
    "\n",
    "print(X_train.shape, y_train.shape)\n",
    "print(X_test.shape, y_test.shape)"
   ]
  },
  {
   "cell_type": "code",
   "execution_count": 7,
   "metadata": {},
   "outputs": [
    {
     "data": {
      "application/javascript": [
       "\n",
       "            setTimeout(function() {\n",
       "                var nbb_cell_id = 7;\n",
       "                var nbb_unformatted_code = \"scaler = StandardScaler()\\nX_train = scaler.fit_transform(X_train)\\nX_test = scaler.transform(X_test)\\n\\nX_train = pd.DataFrame(X_train, columns=X.columns)\\nX_test = pd.DataFrame(X_test, columns=X.columns)\";\n",
       "                var nbb_formatted_code = \"scaler = StandardScaler()\\nX_train = scaler.fit_transform(X_train)\\nX_test = scaler.transform(X_test)\\n\\nX_train = pd.DataFrame(X_train, columns=X.columns)\\nX_test = pd.DataFrame(X_test, columns=X.columns)\";\n",
       "                var nbb_cells = Jupyter.notebook.get_cells();\n",
       "                for (var i = 0; i < nbb_cells.length; ++i) {\n",
       "                    if (nbb_cells[i].input_prompt_number == nbb_cell_id) {\n",
       "                        if (nbb_cells[i].get_text() == nbb_unformatted_code) {\n",
       "                             nbb_cells[i].set_text(nbb_formatted_code);\n",
       "                        }\n",
       "                        break;\n",
       "                    }\n",
       "                }\n",
       "            }, 500);\n",
       "            "
      ],
      "text/plain": [
       "<IPython.core.display.Javascript object>"
      ]
     },
     "metadata": {},
     "output_type": "display_data"
    }
   ],
   "source": [
    "scaler = StandardScaler()\n",
    "X_train = scaler.fit_transform(X_train)\n",
    "X_test = scaler.transform(X_test)\n",
    "\n",
    "X_train = pd.DataFrame(X_train, columns=X.columns)\n",
    "X_test = pd.DataFrame(X_test, columns=X.columns)"
   ]
  },
  {
   "cell_type": "code",
   "execution_count": 8,
   "metadata": {},
   "outputs": [
    {
     "name": "stdout",
     "output_type": "stream",
     "text": [
      "Train score: 0.9040\n",
      "Test score: 0.8388\n"
     ]
    },
    {
     "data": {
      "application/javascript": [
       "\n",
       "            setTimeout(function() {\n",
       "                var nbb_cell_id = 8;\n",
       "                var nbb_unformatted_code = \"model = KNeighborsClassifier(10)\\nmodel.fit(X_train, y_train)\\n\\nprint(f\\\"Train score: {model.score(X_train, y_train):.4f}\\\")\\nprint(f\\\"Test score: {model.score(X_test, y_test):.4f}\\\")\";\n",
       "                var nbb_formatted_code = \"model = KNeighborsClassifier(10)\\nmodel.fit(X_train, y_train)\\n\\nprint(f\\\"Train score: {model.score(X_train, y_train):.4f}\\\")\\nprint(f\\\"Test score: {model.score(X_test, y_test):.4f}\\\")\";\n",
       "                var nbb_cells = Jupyter.notebook.get_cells();\n",
       "                for (var i = 0; i < nbb_cells.length; ++i) {\n",
       "                    if (nbb_cells[i].input_prompt_number == nbb_cell_id) {\n",
       "                        if (nbb_cells[i].get_text() == nbb_unformatted_code) {\n",
       "                             nbb_cells[i].set_text(nbb_formatted_code);\n",
       "                        }\n",
       "                        break;\n",
       "                    }\n",
       "                }\n",
       "            }, 500);\n",
       "            "
      ],
      "text/plain": [
       "<IPython.core.display.Javascript object>"
      ]
     },
     "metadata": {},
     "output_type": "display_data"
    }
   ],
   "source": [
    "model = KNeighborsClassifier(10)\n",
    "model.fit(X_train, y_train)\n",
    "\n",
    "print(f\"Train score: {model.score(X_train, y_train):.4f}\")\n",
    "print(f\"Test score: {model.score(X_test, y_test):.4f}\")"
   ]
  },
  {
   "cell_type": "code",
   "execution_count": 9,
   "metadata": {},
   "outputs": [
    {
     "name": "stdout",
     "output_type": "stream",
     "text": [
      "Train score: 0.7264\n",
      "Test score: 0.7087\n"
     ]
    },
    {
     "data": {
      "application/javascript": [
       "\n",
       "            setTimeout(function() {\n",
       "                var nbb_cell_id = 9;\n",
       "                var nbb_unformatted_code = \"model = LogisticRegression(max_iter=1000)\\nmodel.fit(X_train, y_train)\\n\\nprint(f\\\"Train score: {model.score(X_train, y_train):.4f}\\\")\\nprint(f\\\"Test score: {model.score(X_test, y_test):.4f}\\\")\";\n",
       "                var nbb_formatted_code = \"model = LogisticRegression(max_iter=1000)\\nmodel.fit(X_train, y_train)\\n\\nprint(f\\\"Train score: {model.score(X_train, y_train):.4f}\\\")\\nprint(f\\\"Test score: {model.score(X_test, y_test):.4f}\\\")\";\n",
       "                var nbb_cells = Jupyter.notebook.get_cells();\n",
       "                for (var i = 0; i < nbb_cells.length; ++i) {\n",
       "                    if (nbb_cells[i].input_prompt_number == nbb_cell_id) {\n",
       "                        if (nbb_cells[i].get_text() == nbb_unformatted_code) {\n",
       "                             nbb_cells[i].set_text(nbb_formatted_code);\n",
       "                        }\n",
       "                        break;\n",
       "                    }\n",
       "                }\n",
       "            }, 500);\n",
       "            "
      ],
      "text/plain": [
       "<IPython.core.display.Javascript object>"
      ]
     },
     "metadata": {},
     "output_type": "display_data"
    }
   ],
   "source": [
    "model = LogisticRegression(max_iter=1000)\n",
    "model.fit(X_train, y_train)\n",
    "\n",
    "print(f\"Train score: {model.score(X_train, y_train):.4f}\")\n",
    "print(f\"Test score: {model.score(X_test, y_test):.4f}\")"
   ]
  },
  {
   "cell_type": "markdown",
   "metadata": {},
   "source": [
    "## Song based train/test split"
   ]
  },
  {
   "cell_type": "code",
   "execution_count": 10,
   "metadata": {},
   "outputs": [
    {
     "data": {
      "application/javascript": [
       "\n",
       "            setTimeout(function() {\n",
       "                var nbb_cell_id = 10;\n",
       "                var nbb_unformatted_code = \"X = df.drop(columns=drop_cols + [\\\"genre\\\"])\\ny = df[\\\"genre\\\"]\";\n",
       "                var nbb_formatted_code = \"X = df.drop(columns=drop_cols + [\\\"genre\\\"])\\ny = df[\\\"genre\\\"]\";\n",
       "                var nbb_cells = Jupyter.notebook.get_cells();\n",
       "                for (var i = 0; i < nbb_cells.length; ++i) {\n",
       "                    if (nbb_cells[i].input_prompt_number == nbb_cell_id) {\n",
       "                        if (nbb_cells[i].get_text() == nbb_unformatted_code) {\n",
       "                             nbb_cells[i].set_text(nbb_formatted_code);\n",
       "                        }\n",
       "                        break;\n",
       "                    }\n",
       "                }\n",
       "            }, 500);\n",
       "            "
      ],
      "text/plain": [
       "<IPython.core.display.Javascript object>"
      ]
     },
     "metadata": {},
     "output_type": "display_data"
    }
   ],
   "source": [
    "X = df.drop(columns=drop_cols + [\"genre\"])\n",
    "y = df[\"genre\"]"
   ]
  },
  {
   "cell_type": "code",
   "execution_count": 11,
   "metadata": {},
   "outputs": [
    {
     "name": "stdout",
     "output_type": "stream",
     "text": [
      "(7990, 50) (7990,)\n",
      "(2000, 50) (2000,)\n"
     ]
    },
    {
     "data": {
      "application/javascript": [
       "\n",
       "            setTimeout(function() {\n",
       "                var nbb_cell_id = 11;\n",
       "                var nbb_unformatted_code = \"song_genre = df[[\\\"songname\\\", \\\"genre\\\"]].drop_duplicates()\\n\\ntrain_songs, test_songs = train_test_split(\\n    song_genre[\\\"songname\\\"], test_size=0.2, random_state=42, stratify=song_genre[\\\"genre\\\"]\\n)\\n\\ntrain_idxs = df[df[\\\"songname\\\"].isin(train_songs)].index\\ntest_idxs = df[df[\\\"songname\\\"].isin(test_songs)].index\\n\\nX_train = X.loc[train_idxs, :]\\nX_test = X.loc[test_idxs, :]\\ny_train = y[train_idxs]\\ny_test = y[test_idxs]\\n\\nprint(X_train.shape, y_train.shape)\\nprint(X_test.shape, y_test.shape)\";\n",
       "                var nbb_formatted_code = \"song_genre = df[[\\\"songname\\\", \\\"genre\\\"]].drop_duplicates()\\n\\ntrain_songs, test_songs = train_test_split(\\n    song_genre[\\\"songname\\\"], test_size=0.2, random_state=42, stratify=song_genre[\\\"genre\\\"]\\n)\\n\\ntrain_idxs = df[df[\\\"songname\\\"].isin(train_songs)].index\\ntest_idxs = df[df[\\\"songname\\\"].isin(test_songs)].index\\n\\nX_train = X.loc[train_idxs, :]\\nX_test = X.loc[test_idxs, :]\\ny_train = y[train_idxs]\\ny_test = y[test_idxs]\\n\\nprint(X_train.shape, y_train.shape)\\nprint(X_test.shape, y_test.shape)\";\n",
       "                var nbb_cells = Jupyter.notebook.get_cells();\n",
       "                for (var i = 0; i < nbb_cells.length; ++i) {\n",
       "                    if (nbb_cells[i].input_prompt_number == nbb_cell_id) {\n",
       "                        if (nbb_cells[i].get_text() == nbb_unformatted_code) {\n",
       "                             nbb_cells[i].set_text(nbb_formatted_code);\n",
       "                        }\n",
       "                        break;\n",
       "                    }\n",
       "                }\n",
       "            }, 500);\n",
       "            "
      ],
      "text/plain": [
       "<IPython.core.display.Javascript object>"
      ]
     },
     "metadata": {},
     "output_type": "display_data"
    }
   ],
   "source": [
    "song_genre = df[[\"songname\", \"genre\"]].drop_duplicates()\n",
    "\n",
    "train_songs, test_songs = train_test_split(\n",
    "    song_genre[\"songname\"], test_size=0.2, random_state=42, stratify=song_genre[\"genre\"]\n",
    ")\n",
    "\n",
    "train_idxs = df[df[\"songname\"].isin(train_songs)].index\n",
    "test_idxs = df[df[\"songname\"].isin(test_songs)].index\n",
    "\n",
    "X_train = X.loc[train_idxs, :]\n",
    "X_test = X.loc[test_idxs, :]\n",
    "y_train = y[train_idxs]\n",
    "y_test = y[test_idxs]\n",
    "\n",
    "print(X_train.shape, y_train.shape)\n",
    "print(X_test.shape, y_test.shape)"
   ]
  },
  {
   "cell_type": "code",
   "execution_count": 12,
   "metadata": {},
   "outputs": [
    {
     "data": {
      "application/javascript": [
       "\n",
       "            setTimeout(function() {\n",
       "                var nbb_cell_id = 12;\n",
       "                var nbb_unformatted_code = \"scaler = StandardScaler()\\nX_train = scaler.fit_transform(X_train)\\nX_test = scaler.transform(X_test)\\n\\nX_train = pd.DataFrame(X_train, columns=X.columns)\\nX_test = pd.DataFrame(X_test, columns=X.columns)\";\n",
       "                var nbb_formatted_code = \"scaler = StandardScaler()\\nX_train = scaler.fit_transform(X_train)\\nX_test = scaler.transform(X_test)\\n\\nX_train = pd.DataFrame(X_train, columns=X.columns)\\nX_test = pd.DataFrame(X_test, columns=X.columns)\";\n",
       "                var nbb_cells = Jupyter.notebook.get_cells();\n",
       "                for (var i = 0; i < nbb_cells.length; ++i) {\n",
       "                    if (nbb_cells[i].input_prompt_number == nbb_cell_id) {\n",
       "                        if (nbb_cells[i].get_text() == nbb_unformatted_code) {\n",
       "                             nbb_cells[i].set_text(nbb_formatted_code);\n",
       "                        }\n",
       "                        break;\n",
       "                    }\n",
       "                }\n",
       "            }, 500);\n",
       "            "
      ],
      "text/plain": [
       "<IPython.core.display.Javascript object>"
      ]
     },
     "metadata": {},
     "output_type": "display_data"
    }
   ],
   "source": [
    "scaler = StandardScaler()\n",
    "X_train = scaler.fit_transform(X_train)\n",
    "X_test = scaler.transform(X_test)\n",
    "\n",
    "X_train = pd.DataFrame(X_train, columns=X.columns)\n",
    "X_test = pd.DataFrame(X_test, columns=X.columns)"
   ]
  },
  {
   "cell_type": "code",
   "execution_count": 18,
   "metadata": {},
   "outputs": [
    {
     "name": "stdout",
     "output_type": "stream",
     "text": [
      "Train score: 0.9448\n",
      "Test score: 0.6495\n"
     ]
    },
    {
     "data": {
      "application/javascript": [
       "\n",
       "            setTimeout(function() {\n",
       "                var nbb_cell_id = 18;\n",
       "                var nbb_unformatted_code = \"model = KNeighborsClassifier(5)\\nmodel.fit(X_train, y_train)\\n\\nprint(f\\\"Train score: {model.score(X_train, y_train):.4f}\\\")\\nprint(f\\\"Test score: {model.score(X_test, y_test):.4f}\\\")\";\n",
       "                var nbb_formatted_code = \"model = KNeighborsClassifier(5)\\nmodel.fit(X_train, y_train)\\n\\nprint(f\\\"Train score: {model.score(X_train, y_train):.4f}\\\")\\nprint(f\\\"Test score: {model.score(X_test, y_test):.4f}\\\")\";\n",
       "                var nbb_cells = Jupyter.notebook.get_cells();\n",
       "                for (var i = 0; i < nbb_cells.length; ++i) {\n",
       "                    if (nbb_cells[i].input_prompt_number == nbb_cell_id) {\n",
       "                        if (nbb_cells[i].get_text() == nbb_unformatted_code) {\n",
       "                             nbb_cells[i].set_text(nbb_formatted_code);\n",
       "                        }\n",
       "                        break;\n",
       "                    }\n",
       "                }\n",
       "            }, 500);\n",
       "            "
      ],
      "text/plain": [
       "<IPython.core.display.Javascript object>"
      ]
     },
     "metadata": {},
     "output_type": "display_data"
    }
   ],
   "source": [
    "model = KNeighborsClassifier(5)\n",
    "model.fit(X_train, y_train)\n",
    "\n",
    "print(f\"Train score: {model.score(X_train, y_train):.4f}\")\n",
    "print(f\"Test score: {model.score(X_test, y_test):.4f}\")"
   ]
  },
  {
   "cell_type": "code",
   "execution_count": 14,
   "metadata": {},
   "outputs": [
    {
     "name": "stdout",
     "output_type": "stream",
     "text": [
      "Train score: 0.7395\n",
      "Test score: 0.6445\n"
     ]
    },
    {
     "data": {
      "application/javascript": [
       "\n",
       "            setTimeout(function() {\n",
       "                var nbb_cell_id = 14;\n",
       "                var nbb_unformatted_code = \"model = LogisticRegression(max_iter=1000)\\nmodel.fit(X_train, y_train)\\n\\nprint(f\\\"Train score: {model.score(X_train, y_train):.4f}\\\")\\nprint(f\\\"Test score: {model.score(X_test, y_test):.4f}\\\")\";\n",
       "                var nbb_formatted_code = \"model = LogisticRegression(max_iter=1000)\\nmodel.fit(X_train, y_train)\\n\\nprint(f\\\"Train score: {model.score(X_train, y_train):.4f}\\\")\\nprint(f\\\"Test score: {model.score(X_test, y_test):.4f}\\\")\";\n",
       "                var nbb_cells = Jupyter.notebook.get_cells();\n",
       "                for (var i = 0; i < nbb_cells.length; ++i) {\n",
       "                    if (nbb_cells[i].input_prompt_number == nbb_cell_id) {\n",
       "                        if (nbb_cells[i].get_text() == nbb_unformatted_code) {\n",
       "                             nbb_cells[i].set_text(nbb_formatted_code);\n",
       "                        }\n",
       "                        break;\n",
       "                    }\n",
       "                }\n",
       "            }, 500);\n",
       "            "
      ],
      "text/plain": [
       "<IPython.core.display.Javascript object>"
      ]
     },
     "metadata": {},
     "output_type": "display_data"
    }
   ],
   "source": [
    "model = LogisticRegression(max_iter=1000)\n",
    "model.fit(X_train, y_train)\n",
    "\n",
    "print(f\"Train score: {model.score(X_train, y_train):.4f}\")\n",
    "print(f\"Test score: {model.score(X_test, y_test):.4f}\")"
   ]
  },
  {
   "cell_type": "code",
   "execution_count": 15,
   "metadata": {},
   "outputs": [
    {
     "name": "stdout",
     "output_type": "stream",
     "text": [
      "Train score: 0.9987\n",
      "Test score: 0.7560\n"
     ]
    },
    {
     "data": {
      "application/javascript": [
       "\n",
       "            setTimeout(function() {\n",
       "                var nbb_cell_id = 15;\n",
       "                var nbb_unformatted_code = \"model = XGBClassifier()\\nmodel.fit(X_train, y_train)\\n\\nprint(f\\\"Train score: {model.score(X_train, y_train):.4f}\\\")\\nprint(f\\\"Test score: {model.score(X_test, y_test):.4f}\\\")\";\n",
       "                var nbb_formatted_code = \"model = XGBClassifier()\\nmodel.fit(X_train, y_train)\\n\\nprint(f\\\"Train score: {model.score(X_train, y_train):.4f}\\\")\\nprint(f\\\"Test score: {model.score(X_test, y_test):.4f}\\\")\";\n",
       "                var nbb_cells = Jupyter.notebook.get_cells();\n",
       "                for (var i = 0; i < nbb_cells.length; ++i) {\n",
       "                    if (nbb_cells[i].input_prompt_number == nbb_cell_id) {\n",
       "                        if (nbb_cells[i].get_text() == nbb_unformatted_code) {\n",
       "                             nbb_cells[i].set_text(nbb_formatted_code);\n",
       "                        }\n",
       "                        break;\n",
       "                    }\n",
       "                }\n",
       "            }, 500);\n",
       "            "
      ],
      "text/plain": [
       "<IPython.core.display.Javascript object>"
      ]
     },
     "metadata": {},
     "output_type": "display_data"
    }
   ],
   "source": [
    "model = XGBClassifier()\n",
    "model.fit(X_train, y_train)\n",
    "\n",
    "print(f\"Train score: {model.score(X_train, y_train):.4f}\")\n",
    "print(f\"Test score: {model.score(X_test, y_test):.4f}\")"
   ]
  },
  {
   "cell_type": "code",
   "execution_count": 16,
   "metadata": {},
   "outputs": [
    {
     "name": "stdout",
     "output_type": "stream",
     "text": [
      "Fitting 2 folds for each of 36 candidates, totalling 72 fits\n"
     ]
    },
    {
     "name": "stderr",
     "output_type": "stream",
     "text": [
      "[Parallel(n_jobs=-1)]: Using backend LokyBackend with 6 concurrent workers.\n",
      "[Parallel(n_jobs=-1)]: Done  38 tasks      | elapsed:  1.7min\n"
     ]
    },
    {
     "name": "stdout",
     "output_type": "stream",
     "text": [
      "[0]\tvalidation_0-merror:0.48650\n"
     ]
    },
    {
     "name": "stderr",
     "output_type": "stream",
     "text": [
      "[Parallel(n_jobs=-1)]: Done  72 out of  72 | elapsed:  4.5min finished\n"
     ]
    },
    {
     "name": "stdout",
     "output_type": "stream",
     "text": [
      "[1]\tvalidation_0-merror:0.39750\n",
      "[2]\tvalidation_0-merror:0.37100\n",
      "[3]\tvalidation_0-merror:0.36750\n",
      "[4]\tvalidation_0-merror:0.33700\n",
      "[5]\tvalidation_0-merror:0.32850\n",
      "[6]\tvalidation_0-merror:0.31700\n",
      "[7]\tvalidation_0-merror:0.31500\n",
      "[8]\tvalidation_0-merror:0.30550\n",
      "[9]\tvalidation_0-merror:0.30850\n",
      "[10]\tvalidation_0-merror:0.30700\n",
      "[11]\tvalidation_0-merror:0.30350\n",
      "[12]\tvalidation_0-merror:0.30250\n",
      "[13]\tvalidation_0-merror:0.29850\n",
      "[14]\tvalidation_0-merror:0.29300\n",
      "[15]\tvalidation_0-merror:0.29200\n",
      "[16]\tvalidation_0-merror:0.29100\n",
      "[17]\tvalidation_0-merror:0.29000\n",
      "[18]\tvalidation_0-merror:0.29050\n",
      "[19]\tvalidation_0-merror:0.29100\n",
      "[20]\tvalidation_0-merror:0.29300\n",
      "[21]\tvalidation_0-merror:0.29100\n",
      "[22]\tvalidation_0-merror:0.28750\n",
      "[23]\tvalidation_0-merror:0.28550\n",
      "[24]\tvalidation_0-merror:0.28600\n",
      "[25]\tvalidation_0-merror:0.28650\n",
      "[26]\tvalidation_0-merror:0.28550\n",
      "[27]\tvalidation_0-merror:0.28750\n",
      "[28]\tvalidation_0-merror:0.28550\n",
      "[29]\tvalidation_0-merror:0.28650\n",
      "[30]\tvalidation_0-merror:0.28450\n",
      "[31]\tvalidation_0-merror:0.28550\n",
      "[32]\tvalidation_0-merror:0.28350\n",
      "[33]\tvalidation_0-merror:0.28400\n",
      "[34]\tvalidation_0-merror:0.28600\n",
      "[35]\tvalidation_0-merror:0.28450\n",
      "[36]\tvalidation_0-merror:0.28250\n",
      "[37]\tvalidation_0-merror:0.28300\n",
      "[38]\tvalidation_0-merror:0.28500\n",
      "[39]\tvalidation_0-merror:0.28450\n",
      "[40]\tvalidation_0-merror:0.28600\n",
      "[41]\tvalidation_0-merror:0.28300\n",
      "[42]\tvalidation_0-merror:0.28350\n",
      "[43]\tvalidation_0-merror:0.28350\n",
      "[44]\tvalidation_0-merror:0.28200\n",
      "[45]\tvalidation_0-merror:0.28150\n",
      "[46]\tvalidation_0-merror:0.28200\n",
      "[47]\tvalidation_0-merror:0.28400\n",
      "[48]\tvalidation_0-merror:0.28200\n",
      "[49]\tvalidation_0-merror:0.28250\n",
      "[50]\tvalidation_0-merror:0.28150\n",
      "[51]\tvalidation_0-merror:0.28400\n",
      "[52]\tvalidation_0-merror:0.28250\n",
      "[53]\tvalidation_0-merror:0.28150\n",
      "[54]\tvalidation_0-merror:0.28400\n",
      "[55]\tvalidation_0-merror:0.28350\n",
      "[56]\tvalidation_0-merror:0.28150\n",
      "[57]\tvalidation_0-merror:0.28050\n",
      "[58]\tvalidation_0-merror:0.28100\n",
      "[59]\tvalidation_0-merror:0.28450\n",
      "[60]\tvalidation_0-merror:0.28050\n",
      "[61]\tvalidation_0-merror:0.28400\n",
      "[62]\tvalidation_0-merror:0.28300\n",
      "[63]\tvalidation_0-merror:0.28100\n",
      "[64]\tvalidation_0-merror:0.28450\n",
      "[65]\tvalidation_0-merror:0.28250\n",
      "[66]\tvalidation_0-merror:0.28300\n",
      "[67]\tvalidation_0-merror:0.28350\n",
      "[68]\tvalidation_0-merror:0.28350\n",
      "[69]\tvalidation_0-merror:0.28400\n",
      "[70]\tvalidation_0-merror:0.28350\n",
      "[71]\tvalidation_0-merror:0.28400\n",
      "[72]\tvalidation_0-merror:0.28350\n",
      "[73]\tvalidation_0-merror:0.28400\n",
      "[74]\tvalidation_0-merror:0.28350\n",
      "[75]\tvalidation_0-merror:0.28450\n",
      "[76]\tvalidation_0-merror:0.28550\n",
      "[77]\tvalidation_0-merror:0.28350\n",
      "[78]\tvalidation_0-merror:0.28350\n",
      "[79]\tvalidation_0-merror:0.28050\n",
      "[80]\tvalidation_0-merror:0.28250\n",
      "[81]\tvalidation_0-merror:0.28150\n",
      "[82]\tvalidation_0-merror:0.28050\n",
      "[83]\tvalidation_0-merror:0.28050\n",
      "[84]\tvalidation_0-merror:0.28050\n",
      "[85]\tvalidation_0-merror:0.28000\n",
      "[86]\tvalidation_0-merror:0.28000\n",
      "[87]\tvalidation_0-merror:0.27850\n",
      "[88]\tvalidation_0-merror:0.27700\n",
      "[89]\tvalidation_0-merror:0.27750\n",
      "[90]\tvalidation_0-merror:0.27700\n",
      "[91]\tvalidation_0-merror:0.27550\n",
      "[92]\tvalidation_0-merror:0.27650\n",
      "[93]\tvalidation_0-merror:0.27700\n",
      "[94]\tvalidation_0-merror:0.27600\n",
      "[95]\tvalidation_0-merror:0.27600\n",
      "[96]\tvalidation_0-merror:0.27550\n",
      "[97]\tvalidation_0-merror:0.27400\n",
      "[98]\tvalidation_0-merror:0.27600\n",
      "[99]\tvalidation_0-merror:0.27500\n"
     ]
    },
    {
     "data": {
      "text/plain": [
       "GridSearchCV(cv=2, error_score=nan,\n",
       "             estimator=XGBClassifier(base_score=None, booster=None,\n",
       "                                     colsample_bylevel=None,\n",
       "                                     colsample_bynode=None,\n",
       "                                     colsample_bytree=None, gamma=None,\n",
       "                                     gpu_id=None, importance_type='gain',\n",
       "                                     interaction_constraints=None,\n",
       "                                     learning_rate=0.02, max_delta_step=None,\n",
       "                                     max_depth=None, min_child_weight=None,\n",
       "                                     missing=nan, monotone_constraints=None,\n",
       "                                     n_estim...\n",
       "                                     random_state=None, reg_alpha=None,\n",
       "                                     reg_lambda=None, scale_pos_weight=None,\n",
       "                                     subsample=None, tree_method=None,\n",
       "                                     validate_parameters=None, verbosity=None),\n",
       "             iid='deprecated', n_jobs=-1,\n",
       "             param_grid={'colsample_bytree': [0.4, 0.6, 0.8, 1.0],\n",
       "                         'max_depth': [6, 8, 10],\n",
       "                         'subsample': [0.5, 0.75, 1.0]},\n",
       "             pre_dispatch='2*n_jobs', refit=True, return_train_score=False,\n",
       "             scoring=None, verbose=1)"
      ]
     },
     "execution_count": 16,
     "metadata": {},
     "output_type": "execute_result"
    },
    {
     "data": {
      "application/javascript": [
       "\n",
       "            setTimeout(function() {\n",
       "                var nbb_cell_id = 16;\n",
       "                var nbb_unformatted_code = \"params = {\\n    \\\"subsample\\\": [0.5, 0.75, 1.0],\\n    \\\"colsample_bytree\\\": [0.4, 0.6, 0.8, 1.0],\\n    \\\"max_depth\\\": [6, 8, 10],\\n}\\n\\nn_trees = 100\\nlearning_rate = 2 / n_trees\\n\\n\\nmodel_cv = GridSearchCV(\\n    XGBClassifier(n_estimators=n_trees, learning_rate=learning_rate),\\n    params,\\n    verbose=1,\\n    n_jobs=-1,\\n    cv=2,\\n)\\nmodel_cv.fit(X_train, y=y_train, eval_set=[(X_test, y_test)])\";\n",
       "                var nbb_formatted_code = \"params = {\\n    \\\"subsample\\\": [0.5, 0.75, 1.0],\\n    \\\"colsample_bytree\\\": [0.4, 0.6, 0.8, 1.0],\\n    \\\"max_depth\\\": [6, 8, 10],\\n}\\n\\nn_trees = 100\\nlearning_rate = 2 / n_trees\\n\\n\\nmodel_cv = GridSearchCV(\\n    XGBClassifier(n_estimators=n_trees, learning_rate=learning_rate),\\n    params,\\n    verbose=1,\\n    n_jobs=-1,\\n    cv=2,\\n)\\nmodel_cv.fit(X_train, y=y_train, eval_set=[(X_test, y_test)])\";\n",
       "                var nbb_cells = Jupyter.notebook.get_cells();\n",
       "                for (var i = 0; i < nbb_cells.length; ++i) {\n",
       "                    if (nbb_cells[i].input_prompt_number == nbb_cell_id) {\n",
       "                        if (nbb_cells[i].get_text() == nbb_unformatted_code) {\n",
       "                             nbb_cells[i].set_text(nbb_formatted_code);\n",
       "                        }\n",
       "                        break;\n",
       "                    }\n",
       "                }\n",
       "            }, 500);\n",
       "            "
      ],
      "text/plain": [
       "<IPython.core.display.Javascript object>"
      ]
     },
     "metadata": {},
     "output_type": "display_data"
    }
   ],
   "source": [
    "params = {\n",
    "    \"subsample\": [0.5, 0.75, 1.0],\n",
    "    \"colsample_bytree\": [0.4, 0.6, 0.8, 1.0],\n",
    "    \"max_depth\": [6, 8, 10],\n",
    "}\n",
    "\n",
    "n_trees = 100\n",
    "learning_rate = 2 / n_trees\n",
    "\n",
    "\n",
    "model_cv = GridSearchCV(\n",
    "    XGBClassifier(n_estimators=n_trees, learning_rate=learning_rate),\n",
    "    params,\n",
    "    verbose=1,\n",
    "    n_jobs=-1,\n",
    "    cv=2,\n",
    ")\n",
    "model_cv.fit(X_train, y=y_train, eval_set=[(X_test, y_test)])"
   ]
  },
  {
   "cell_type": "code",
   "execution_count": 17,
   "metadata": {},
   "outputs": [
    {
     "name": "stdout",
     "output_type": "stream",
     "text": [
      "Train score: 0.9982\n",
      "Test score: 0.7250\n"
     ]
    },
    {
     "data": {
      "text/plain": [
       "{'colsample_bytree': 0.4, 'max_depth': 10, 'subsample': 1.0}"
      ]
     },
     "execution_count": 17,
     "metadata": {},
     "output_type": "execute_result"
    },
    {
     "data": {
      "application/javascript": [
       "\n",
       "            setTimeout(function() {\n",
       "                var nbb_cell_id = 17;\n",
       "                var nbb_unformatted_code = \"print(f\\\"Train score: {model_cv.score(X_train, y_train):.4f}\\\")\\nprint(f\\\"Test score: {model_cv.score(X_test, y_test):.4f}\\\")\\nmodel_cv.best_params_\";\n",
       "                var nbb_formatted_code = \"print(f\\\"Train score: {model_cv.score(X_train, y_train):.4f}\\\")\\nprint(f\\\"Test score: {model_cv.score(X_test, y_test):.4f}\\\")\\nmodel_cv.best_params_\";\n",
       "                var nbb_cells = Jupyter.notebook.get_cells();\n",
       "                for (var i = 0; i < nbb_cells.length; ++i) {\n",
       "                    if (nbb_cells[i].input_prompt_number == nbb_cell_id) {\n",
       "                        if (nbb_cells[i].get_text() == nbb_unformatted_code) {\n",
       "                             nbb_cells[i].set_text(nbb_formatted_code);\n",
       "                        }\n",
       "                        break;\n",
       "                    }\n",
       "                }\n",
       "            }, 500);\n",
       "            "
      ],
      "text/plain": [
       "<IPython.core.display.Javascript object>"
      ]
     },
     "metadata": {},
     "output_type": "display_data"
    }
   ],
   "source": [
    "print(f\"Train score: {model_cv.score(X_train, y_train):.4f}\")\n",
    "print(f\"Test score: {model_cv.score(X_test, y_test):.4f}\")\n",
    "model_cv.best_params_"
   ]
  }
 ],
 "metadata": {
  "kernelspec": {
   "display_name": "Python 3",
   "language": "python",
   "name": "python3"
  },
  "language_info": {
   "codemirror_mode": {
    "name": "ipython",
    "version": 3
   },
   "file_extension": ".py",
   "mimetype": "text/x-python",
   "name": "python",
   "nbconvert_exporter": "python",
   "pygments_lexer": "ipython3",
   "version": "3.7.6"
  }
 },
 "nbformat": 4,
 "nbformat_minor": 2
}
