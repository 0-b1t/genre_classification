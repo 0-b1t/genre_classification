{
 "cells": [
  {
   "cell_type": "code",
   "execution_count": 1,
   "metadata": {},
   "outputs": [
    {
     "data": {
      "application/javascript": [
       "\n",
       "            setTimeout(function() {\n",
       "                var nbb_cell_id = 1;\n",
       "                var nbb_unformatted_code = \"%reload_ext nb_black\";\n",
       "                var nbb_formatted_code = \"%reload_ext nb_black\";\n",
       "                var nbb_cells = Jupyter.notebook.get_cells();\n",
       "                for (var i = 0; i < nbb_cells.length; ++i) {\n",
       "                    if (nbb_cells[i].input_prompt_number == nbb_cell_id) {\n",
       "                        if (nbb_cells[i].get_text() == nbb_unformatted_code) {\n",
       "                             nbb_cells[i].set_text(nbb_formatted_code);\n",
       "                        }\n",
       "                        break;\n",
       "                    }\n",
       "                }\n",
       "            }, 500);\n",
       "            "
      ],
      "text/plain": [
       "<IPython.core.display.Javascript object>"
      ]
     },
     "metadata": {},
     "output_type": "display_data"
    }
   ],
   "source": [
    "%reload_ext nb_black"
   ]
  },
  {
   "cell_type": "code",
   "execution_count": 2,
   "metadata": {},
   "outputs": [
    {
     "data": {
      "application/javascript": [
       "\n",
       "            setTimeout(function() {\n",
       "                var nbb_cell_id = 2;\n",
       "                var nbb_unformatted_code = \"import warnings\\n\\nimport pandas as pd\\nimport numpy as np\\n\\nimport statsmodels.api as sm\\nfrom statsmodels.stats.outliers_influence import variance_inflation_factor\\n\\nimport seaborn as sns\\nimport matplotlib.pyplot as plt\\n\\nfrom sklearn.model_selection import train_test_split, GridSearchCV\\nfrom sklearn.metrics import (\\n    classification_report,\\n    confusion_matrix,\\n    fbeta_score,\\n    f1_score,\\n    make_scorer,\\n)\\n\\nfrom sklearn.pipeline import Pipeline\\nfrom sklearn.compose import ColumnTransformer\\nfrom sklearn.preprocessing import StandardScaler\\n\\n\\nfrom xgboost import XGBClassifier\\n\\n%matplotlib inline\";\n",
       "                var nbb_formatted_code = \"import warnings\\n\\nimport pandas as pd\\nimport numpy as np\\n\\nimport statsmodels.api as sm\\nfrom statsmodels.stats.outliers_influence import variance_inflation_factor\\n\\nimport seaborn as sns\\nimport matplotlib.pyplot as plt\\n\\nfrom sklearn.model_selection import train_test_split, GridSearchCV\\nfrom sklearn.metrics import (\\n    classification_report,\\n    confusion_matrix,\\n    fbeta_score,\\n    f1_score,\\n    make_scorer,\\n)\\n\\nfrom sklearn.pipeline import Pipeline\\nfrom sklearn.compose import ColumnTransformer\\nfrom sklearn.preprocessing import StandardScaler\\n\\n\\nfrom xgboost import XGBClassifier\\n\\n%matplotlib inline\";\n",
       "                var nbb_cells = Jupyter.notebook.get_cells();\n",
       "                for (var i = 0; i < nbb_cells.length; ++i) {\n",
       "                    if (nbb_cells[i].input_prompt_number == nbb_cell_id) {\n",
       "                        if (nbb_cells[i].get_text() == nbb_unformatted_code) {\n",
       "                             nbb_cells[i].set_text(nbb_formatted_code);\n",
       "                        }\n",
       "                        break;\n",
       "                    }\n",
       "                }\n",
       "            }, 500);\n",
       "            "
      ],
      "text/plain": [
       "<IPython.core.display.Javascript object>"
      ]
     },
     "metadata": {},
     "output_type": "display_data"
    }
   ],
   "source": [
    "import warnings\n",
    "\n",
    "import pandas as pd\n",
    "import numpy as np\n",
    "\n",
    "import statsmodels.api as sm\n",
    "from statsmodels.stats.outliers_influence import variance_inflation_factor\n",
    "\n",
    "import seaborn as sns\n",
    "import matplotlib.pyplot as plt\n",
    "\n",
    "from sklearn.model_selection import train_test_split, GridSearchCV\n",
    "from sklearn.metrics import (\n",
    "    classification_report,\n",
    "    confusion_matrix,\n",
    "    fbeta_score,\n",
    "    f1_score,\n",
    "    make_scorer,\n",
    ")\n",
    "\n",
    "from sklearn.pipeline import Pipeline\n",
    "from sklearn.compose import ColumnTransformer\n",
    "from sklearn.preprocessing import StandardScaler\n",
    "\n",
    "\n",
    "from xgboost import XGBClassifier\n",
    "\n",
    "%matplotlib inline"
   ]
  },
  {
   "cell_type": "code",
   "execution_count": 3,
   "metadata": {},
   "outputs": [
    {
     "data": {
      "application/javascript": [
       "\n",
       "            setTimeout(function() {\n",
       "                var nbb_cell_id = 3;\n",
       "                var nbb_unformatted_code = \"def print_vif(x):\\n    \\\"\\\"\\\"Utility for checking multicollinearity assumption\\n    \\n    :param x: input features to check using VIF. This is assumed to be a pandas.DataFrame\\n    :return: nothing is returned the VIFs are printed as a pandas series\\n    \\\"\\\"\\\"\\n    # Silence numpy FutureWarning about .ptp\\n    with warnings.catch_warnings():\\n        warnings.simplefilter(\\\"ignore\\\")\\n        x = sm.add_constant(x)\\n\\n    vifs = []\\n    for i in range(x.shape[1]):\\n        vif = variance_inflation_factor(x.values, i)\\n        vifs.append(vif)\\n\\n    print(\\\"VIF results\\\\n-------------------------------\\\")\\n    print(pd.Series(vifs, index=x.columns))\\n    print(\\\"-------------------------------\\\\n\\\")\";\n",
       "                var nbb_formatted_code = \"def print_vif(x):\\n    \\\"\\\"\\\"Utility for checking multicollinearity assumption\\n    \\n    :param x: input features to check using VIF. This is assumed to be a pandas.DataFrame\\n    :return: nothing is returned the VIFs are printed as a pandas series\\n    \\\"\\\"\\\"\\n    # Silence numpy FutureWarning about .ptp\\n    with warnings.catch_warnings():\\n        warnings.simplefilter(\\\"ignore\\\")\\n        x = sm.add_constant(x)\\n\\n    vifs = []\\n    for i in range(x.shape[1]):\\n        vif = variance_inflation_factor(x.values, i)\\n        vifs.append(vif)\\n\\n    print(\\\"VIF results\\\\n-------------------------------\\\")\\n    print(pd.Series(vifs, index=x.columns))\\n    print(\\\"-------------------------------\\\\n\\\")\";\n",
       "                var nbb_cells = Jupyter.notebook.get_cells();\n",
       "                for (var i = 0; i < nbb_cells.length; ++i) {\n",
       "                    if (nbb_cells[i].input_prompt_number == nbb_cell_id) {\n",
       "                        if (nbb_cells[i].get_text() == nbb_unformatted_code) {\n",
       "                             nbb_cells[i].set_text(nbb_formatted_code);\n",
       "                        }\n",
       "                        break;\n",
       "                    }\n",
       "                }\n",
       "            }, 500);\n",
       "            "
      ],
      "text/plain": [
       "<IPython.core.display.Javascript object>"
      ]
     },
     "metadata": {},
     "output_type": "display_data"
    }
   ],
   "source": [
    "def print_vif(x):\n",
    "    \"\"\"Utility for checking multicollinearity assumption\n",
    "    \n",
    "    :param x: input features to check using VIF. This is assumed to be a pandas.DataFrame\n",
    "    :return: nothing is returned the VIFs are printed as a pandas series\n",
    "    \"\"\"\n",
    "    # Silence numpy FutureWarning about .ptp\n",
    "    with warnings.catch_warnings():\n",
    "        warnings.simplefilter(\"ignore\")\n",
    "        x = sm.add_constant(x)\n",
    "\n",
    "    vifs = []\n",
    "    for i in range(x.shape[1]):\n",
    "        vif = variance_inflation_factor(x.values, i)\n",
    "        vifs.append(vif)\n",
    "\n",
    "    print(\"VIF results\\n-------------------------------\")\n",
    "    print(pd.Series(vifs, index=x.columns))\n",
    "    print(\"-------------------------------\\n\")"
   ]
  },
  {
   "cell_type": "code",
   "execution_count": 4,
   "metadata": {},
   "outputs": [
    {
     "data": {
      "application/javascript": [
       "\n",
       "            setTimeout(function() {\n",
       "                var nbb_cell_id = 4;\n",
       "                var nbb_unformatted_code = \"feat_30_loc = \\\"../data/features_30_sec.csv\\\"\\nfeat_3_loc = \\\"../data/features_3_sec.csv\\\"\";\n",
       "                var nbb_formatted_code = \"feat_30_loc = \\\"../data/features_30_sec.csv\\\"\\nfeat_3_loc = \\\"../data/features_3_sec.csv\\\"\";\n",
       "                var nbb_cells = Jupyter.notebook.get_cells();\n",
       "                for (var i = 0; i < nbb_cells.length; ++i) {\n",
       "                    if (nbb_cells[i].input_prompt_number == nbb_cell_id) {\n",
       "                        if (nbb_cells[i].get_text() == nbb_unformatted_code) {\n",
       "                             nbb_cells[i].set_text(nbb_formatted_code);\n",
       "                        }\n",
       "                        break;\n",
       "                    }\n",
       "                }\n",
       "            }, 500);\n",
       "            "
      ],
      "text/plain": [
       "<IPython.core.display.Javascript object>"
      ]
     },
     "metadata": {},
     "output_type": "display_data"
    }
   ],
   "source": [
    "feat_30_loc = \"../data/features_30_sec.csv\"\n",
    "feat_3_loc = \"../data/features_3_sec.csv\""
   ]
  },
  {
   "cell_type": "code",
   "execution_count": 5,
   "metadata": {},
   "outputs": [
    {
     "data": {
      "application/javascript": [
       "\n",
       "            setTimeout(function() {\n",
       "                var nbb_cell_id = 5;\n",
       "                var nbb_unformatted_code = \"# named long and short to differentiate easier\\nlong = pd.read_csv(feat_30_loc)\\nshort = pd.read_csv(feat_3_loc)\";\n",
       "                var nbb_formatted_code = \"# named long and short to differentiate easier\\nlong = pd.read_csv(feat_30_loc)\\nshort = pd.read_csv(feat_3_loc)\";\n",
       "                var nbb_cells = Jupyter.notebook.get_cells();\n",
       "                for (var i = 0; i < nbb_cells.length; ++i) {\n",
       "                    if (nbb_cells[i].input_prompt_number == nbb_cell_id) {\n",
       "                        if (nbb_cells[i].get_text() == nbb_unformatted_code) {\n",
       "                             nbb_cells[i].set_text(nbb_formatted_code);\n",
       "                        }\n",
       "                        break;\n",
       "                    }\n",
       "                }\n",
       "            }, 500);\n",
       "            "
      ],
      "text/plain": [
       "<IPython.core.display.Javascript object>"
      ]
     },
     "metadata": {},
     "output_type": "display_data"
    }
   ],
   "source": [
    "# named long and short to differentiate easier\n",
    "long = pd.read_csv(feat_30_loc)\n",
    "short = pd.read_csv(feat_3_loc)"
   ]
  },
  {
   "cell_type": "code",
   "execution_count": 6,
   "metadata": {},
   "outputs": [
    {
     "data": {
      "application/javascript": [
       "\n",
       "            setTimeout(function() {\n",
       "                var nbb_cell_id = 6;\n",
       "                var nbb_unformatted_code = \"#log transform the mfcc variance\\ncc_var_cols = [f\\\"mfcc{x}_var\\\" for x in range(1, 21)]\\nlogged_cc_var_df = short.copy()\\nfor col in cc_var_cols:\\n    logged_cc_var_df[col + \\\"_logged\\\"] = np.log(logged_cc_var_df[col])\\n    logged_cc_var_df = logged_cc_var_df.drop(col, 1)\";\n",
       "                var nbb_formatted_code = \"# log transform the mfcc variance\\ncc_var_cols = [f\\\"mfcc{x}_var\\\" for x in range(1, 21)]\\nlogged_cc_var_df = short.copy()\\nfor col in cc_var_cols:\\n    logged_cc_var_df[col + \\\"_logged\\\"] = np.log(logged_cc_var_df[col])\\n    logged_cc_var_df = logged_cc_var_df.drop(col, 1)\";\n",
       "                var nbb_cells = Jupyter.notebook.get_cells();\n",
       "                for (var i = 0; i < nbb_cells.length; ++i) {\n",
       "                    if (nbb_cells[i].input_prompt_number == nbb_cell_id) {\n",
       "                        if (nbb_cells[i].get_text() == nbb_unformatted_code) {\n",
       "                             nbb_cells[i].set_text(nbb_formatted_code);\n",
       "                        }\n",
       "                        break;\n",
       "                    }\n",
       "                }\n",
       "            }, 500);\n",
       "            "
      ],
      "text/plain": [
       "<IPython.core.display.Javascript object>"
      ]
     },
     "metadata": {},
     "output_type": "display_data"
    }
   ],
   "source": [
    "# log transform the mfcc variance\n",
    "cc_var_cols = [f\"mfcc{x}_var\" for x in range(1, 21)]\n",
    "logged_cc_var_df = short.copy()\n",
    "for col in cc_var_cols:\n",
    "    logged_cc_var_df[col + \"_logged\"] = np.log(logged_cc_var_df[col])\n",
    "    logged_cc_var_df = logged_cc_var_df.drop(col, 1)"
   ]
  },
  {
   "cell_type": "code",
   "execution_count": 7,
   "metadata": {},
   "outputs": [
    {
     "data": {
      "application/javascript": [
       "\n",
       "            setTimeout(function() {\n",
       "                var nbb_cell_id = 7;\n",
       "                var nbb_unformatted_code = \"m_start = 12 #highest mfcc to use. higher than this is too high in the frequency spectrum to really matter\\nmel_freq_drops = [f\\\"mfcc{x}_mean\\\" for x in range(m_start, 21)] + [\\n    f\\\"mfcc{x}_var_logged\\\" for x in range(m_start, 21)\\n]\";\n",
       "                var nbb_formatted_code = \"m_start = 12  # highest mfcc to use. higher than this is too high in the frequency spectrum to really matter\\nmel_freq_drops = [f\\\"mfcc{x}_mean\\\" for x in range(m_start, 21)] + [\\n    f\\\"mfcc{x}_var_logged\\\" for x in range(m_start, 21)\\n]\";\n",
       "                var nbb_cells = Jupyter.notebook.get_cells();\n",
       "                for (var i = 0; i < nbb_cells.length; ++i) {\n",
       "                    if (nbb_cells[i].input_prompt_number == nbb_cell_id) {\n",
       "                        if (nbb_cells[i].get_text() == nbb_unformatted_code) {\n",
       "                             nbb_cells[i].set_text(nbb_formatted_code);\n",
       "                        }\n",
       "                        break;\n",
       "                    }\n",
       "                }\n",
       "            }, 500);\n",
       "            "
      ],
      "text/plain": [
       "<IPython.core.display.Javascript object>"
      ]
     },
     "metadata": {},
     "output_type": "display_data"
    }
   ],
   "source": [
    "m_start = 12  # highest mfcc to use. higher than this is too high in the frequency spectrum to really matter\n",
    "mel_freq_drops = [f\"mfcc{x}_mean\" for x in range(m_start, 21)] + [\n",
    "    f\"mfcc{x}_var_logged\" for x in range(m_start, 21)\n",
    "]"
   ]
  },
  {
   "cell_type": "code",
   "execution_count": 8,
   "metadata": {},
   "outputs": [
    {
     "name": "stdout",
     "output_type": "stream",
     "text": [
      "VIF results\n",
      "-------------------------------\n",
      "const                      776.274686\n",
      "chroma_stft_mean             3.391661\n",
      "chroma_stft_var              2.546500\n",
      "rms_mean                     7.666024\n",
      "rms_var                      3.268666\n",
      "zero_crossing_rate_mean      6.949903\n",
      "zero_crossing_rate_var       2.660002\n",
      "harmony_mean                 1.478593\n",
      "perceptr_mean                1.573693\n",
      "perceptr_var                 4.918247\n",
      "tempo                        1.009578\n",
      "mfcc1_mean                   7.258845\n",
      "mfcc2_mean                   5.652443\n",
      "mfcc3_mean                   2.547365\n",
      "mfcc4_mean                   2.076686\n",
      "mfcc5_mean                   2.679961\n",
      "mfcc6_mean                   3.340509\n",
      "mfcc7_mean                   3.014978\n",
      "mfcc8_mean                   3.704902\n",
      "mfcc9_mean                   2.584736\n",
      "mfcc10_mean                  2.548987\n",
      "mfcc11_mean                  2.098440\n",
      "mfcc1_var_logged             2.949586\n",
      "mfcc2_var_logged             2.583133\n",
      "mfcc3_var_logged             2.590872\n",
      "mfcc4_var_logged             2.861840\n",
      "mfcc5_var_logged             2.904229\n",
      "mfcc6_var_logged             3.055790\n",
      "mfcc7_var_logged             2.831330\n",
      "mfcc8_var_logged             2.573452\n",
      "mfcc9_var_logged             2.384232\n",
      "mfcc10_var_logged            2.240260\n",
      "mfcc11_var_logged            2.079300\n",
      "dtype: float64\n",
      "-------------------------------\n",
      "\n"
     ]
    },
    {
     "data": {
      "application/javascript": [
       "\n",
       "            setTimeout(function() {\n",
       "                var nbb_cell_id = 8;\n",
       "                var nbb_unformatted_code = \"#best balance for VIF I could tune\\ndrop_cols = [\\n    \\\"length\\\",\\n    \\\"filename\\\",\\n    \\\"label\\\",\\n    #     \\\"zero_crossing_rate_mean\\\",\\n    #     \\\"zero_crossing_rate_var\\\",\\n    \\\"rolloff_mean\\\",\\n    \\\"harmony_var\\\",\\n    \\\"rolloff_var\\\",\\n    \\\"spectral_centroid_var\\\",\\n    \\\"spectral_bandwidth_var\\\",\\n    \\\"spectral_centroid_mean\\\",\\n    \\\"spectral_bandwidth_mean\\\",\\n    #     \\\"rms_mean\\\",\\n    #     \\\"rms_var\\\",\\n]\\ndrop_cols = drop_cols + mel_freq_drops\\nprint_vif(logged_cc_var_df.drop(drop_cols, 1,))\";\n",
       "                var nbb_formatted_code = \"# best balance for VIF I could tune\\ndrop_cols = [\\n    \\\"length\\\",\\n    \\\"filename\\\",\\n    \\\"label\\\",\\n    #     \\\"zero_crossing_rate_mean\\\",\\n    #     \\\"zero_crossing_rate_var\\\",\\n    \\\"rolloff_mean\\\",\\n    \\\"harmony_var\\\",\\n    \\\"rolloff_var\\\",\\n    \\\"spectral_centroid_var\\\",\\n    \\\"spectral_bandwidth_var\\\",\\n    \\\"spectral_centroid_mean\\\",\\n    \\\"spectral_bandwidth_mean\\\",\\n    #     \\\"rms_mean\\\",\\n    #     \\\"rms_var\\\",\\n]\\ndrop_cols = drop_cols + mel_freq_drops\\nprint_vif(logged_cc_var_df.drop(drop_cols, 1,))\";\n",
       "                var nbb_cells = Jupyter.notebook.get_cells();\n",
       "                for (var i = 0; i < nbb_cells.length; ++i) {\n",
       "                    if (nbb_cells[i].input_prompt_number == nbb_cell_id) {\n",
       "                        if (nbb_cells[i].get_text() == nbb_unformatted_code) {\n",
       "                             nbb_cells[i].set_text(nbb_formatted_code);\n",
       "                        }\n",
       "                        break;\n",
       "                    }\n",
       "                }\n",
       "            }, 500);\n",
       "            "
      ],
      "text/plain": [
       "<IPython.core.display.Javascript object>"
      ]
     },
     "metadata": {},
     "output_type": "display_data"
    }
   ],
   "source": [
    "# best balance for VIF I could tune\n",
    "drop_cols = [\n",
    "    \"length\",\n",
    "    \"filename\",\n",
    "    \"label\",\n",
    "    #     \"zero_crossing_rate_mean\",\n",
    "    #     \"zero_crossing_rate_var\",\n",
    "    \"rolloff_mean\",\n",
    "    \"harmony_var\",\n",
    "    \"rolloff_var\",\n",
    "    \"spectral_centroid_var\",\n",
    "    \"spectral_bandwidth_var\",\n",
    "    \"spectral_centroid_mean\",\n",
    "    \"spectral_bandwidth_mean\",\n",
    "    #     \"rms_mean\",\n",
    "    #     \"rms_var\",\n",
    "]\n",
    "drop_cols = drop_cols + mel_freq_drops\n",
    "print_vif(logged_cc_var_df.drop(drop_cols, 1,))"
   ]
  },
  {
   "cell_type": "code",
   "execution_count": 9,
   "metadata": {},
   "outputs": [
    {
     "data": {
      "application/javascript": [
       "\n",
       "            setTimeout(function() {\n",
       "                var nbb_cell_id = 9;\n",
       "                var nbb_unformatted_code = \"X = logged_cc_var_df.drop(drop_cols, 1,)\\ny = logged_cc_var_df[\\\"label\\\"]\\n\\nX_train, X_test, y_train, y_test = train_test_split(\\n    X, y, test_size=0.2, random_state=34, stratify=y\\n)\";\n",
       "                var nbb_formatted_code = \"X = logged_cc_var_df.drop(drop_cols, 1,)\\ny = logged_cc_var_df[\\\"label\\\"]\\n\\nX_train, X_test, y_train, y_test = train_test_split(\\n    X, y, test_size=0.2, random_state=34, stratify=y\\n)\";\n",
       "                var nbb_cells = Jupyter.notebook.get_cells();\n",
       "                for (var i = 0; i < nbb_cells.length; ++i) {\n",
       "                    if (nbb_cells[i].input_prompt_number == nbb_cell_id) {\n",
       "                        if (nbb_cells[i].get_text() == nbb_unformatted_code) {\n",
       "                             nbb_cells[i].set_text(nbb_formatted_code);\n",
       "                        }\n",
       "                        break;\n",
       "                    }\n",
       "                }\n",
       "            }, 500);\n",
       "            "
      ],
      "text/plain": [
       "<IPython.core.display.Javascript object>"
      ]
     },
     "metadata": {},
     "output_type": "display_data"
    }
   ],
   "source": [
    "X = logged_cc_var_df.drop(drop_cols, 1,)\n",
    "y = logged_cc_var_df[\"label\"]\n",
    "\n",
    "X_train, X_test, y_train, y_test = train_test_split(\n",
    "    X, y, test_size=0.2, random_state=34, stratify=y\n",
    ")"
   ]
  },
  {
   "cell_type": "code",
   "execution_count": 52,
   "metadata": {
    "scrolled": true
   },
   "outputs": [
    {
     "name": "stdout",
     "output_type": "stream",
     "text": [
      "Fitting 2 folds for each of 60 candidates, totalling 120 fits\n"
     ]
    },
    {
     "name": "stderr",
     "output_type": "stream",
     "text": [
      "[Parallel(n_jobs=-1)]: Using backend LokyBackend with 6 concurrent workers.\n",
      "[Parallel(n_jobs=-1)]: Done  38 tasks      | elapsed:   55.4s\n"
     ]
    },
    {
     "name": "stdout",
     "output_type": "stream",
     "text": [
      "[0]\tvalidation_0-merror:0.37187\n"
     ]
    },
    {
     "name": "stderr",
     "output_type": "stream",
     "text": [
      "[Parallel(n_jobs=-1)]: Done 120 out of 120 | elapsed:  4.3min finished\n"
     ]
    },
    {
     "name": "stdout",
     "output_type": "stream",
     "text": [
      "[1]\tvalidation_0-merror:0.29780\n",
      "[2]\tvalidation_0-merror:0.26627\n",
      "[3]\tvalidation_0-merror:0.24124\n",
      "[4]\tvalidation_0-merror:0.22372\n",
      "[5]\tvalidation_0-merror:0.20621\n",
      "[6]\tvalidation_0-merror:0.18769\n",
      "[7]\tvalidation_0-merror:0.18168\n",
      "[8]\tvalidation_0-merror:0.18018\n",
      "[9]\tvalidation_0-merror:0.17618\n",
      "[10]\tvalidation_0-merror:0.16967\n",
      "[11]\tvalidation_0-merror:0.16867\n",
      "[12]\tvalidation_0-merror:0.16266\n",
      "[13]\tvalidation_0-merror:0.15916\n",
      "[14]\tvalidation_0-merror:0.15616\n",
      "[15]\tvalidation_0-merror:0.15515\n",
      "[16]\tvalidation_0-merror:0.15415\n",
      "[17]\tvalidation_0-merror:0.15415\n",
      "[18]\tvalidation_0-merror:0.15566\n",
      "[19]\tvalidation_0-merror:0.15165\n",
      "[20]\tvalidation_0-merror:0.14915\n",
      "[21]\tvalidation_0-merror:0.14665\n",
      "[22]\tvalidation_0-merror:0.14665\n",
      "[23]\tvalidation_0-merror:0.14414\n",
      "[24]\tvalidation_0-merror:0.14314\n",
      "[25]\tvalidation_0-merror:0.14264\n",
      "[26]\tvalidation_0-merror:0.14114\n",
      "[27]\tvalidation_0-merror:0.14314\n",
      "[28]\tvalidation_0-merror:0.14114\n",
      "[29]\tvalidation_0-merror:0.14014\n",
      "[30]\tvalidation_0-merror:0.13914\n",
      "[31]\tvalidation_0-merror:0.13564\n",
      "[32]\tvalidation_0-merror:0.13514\n",
      "[33]\tvalidation_0-merror:0.13313\n",
      "[34]\tvalidation_0-merror:0.13313\n",
      "[35]\tvalidation_0-merror:0.13514\n",
      "[36]\tvalidation_0-merror:0.13413\n",
      "[37]\tvalidation_0-merror:0.13514\n",
      "[38]\tvalidation_0-merror:0.13413\n",
      "[39]\tvalidation_0-merror:0.13113\n",
      "[40]\tvalidation_0-merror:0.13013\n",
      "[41]\tvalidation_0-merror:0.13113\n",
      "[42]\tvalidation_0-merror:0.13113\n",
      "[43]\tvalidation_0-merror:0.13063\n",
      "[44]\tvalidation_0-merror:0.13013\n",
      "[45]\tvalidation_0-merror:0.13063\n",
      "[46]\tvalidation_0-merror:0.12913\n",
      "[47]\tvalidation_0-merror:0.12913\n",
      "[48]\tvalidation_0-merror:0.12713\n",
      "[49]\tvalidation_0-merror:0.12913\n",
      "[50]\tvalidation_0-merror:0.12863\n",
      "[51]\tvalidation_0-merror:0.12863\n",
      "[52]\tvalidation_0-merror:0.12813\n",
      "[53]\tvalidation_0-merror:0.12813\n",
      "[54]\tvalidation_0-merror:0.12763\n",
      "[55]\tvalidation_0-merror:0.12663\n",
      "[56]\tvalidation_0-merror:0.12663\n",
      "[57]\tvalidation_0-merror:0.12412\n",
      "[58]\tvalidation_0-merror:0.12563\n",
      "[59]\tvalidation_0-merror:0.12512\n",
      "[60]\tvalidation_0-merror:0.12613\n",
      "[61]\tvalidation_0-merror:0.12813\n",
      "[62]\tvalidation_0-merror:0.12813\n",
      "[63]\tvalidation_0-merror:0.12763\n",
      "[64]\tvalidation_0-merror:0.12713\n",
      "[65]\tvalidation_0-merror:0.12563\n",
      "[66]\tvalidation_0-merror:0.12563\n",
      "[67]\tvalidation_0-merror:0.12613\n",
      "[68]\tvalidation_0-merror:0.12412\n",
      "[69]\tvalidation_0-merror:0.12362\n",
      "[70]\tvalidation_0-merror:0.12162\n",
      "[71]\tvalidation_0-merror:0.12112\n",
      "[72]\tvalidation_0-merror:0.12062\n",
      "[73]\tvalidation_0-merror:0.12062\n",
      "[74]\tvalidation_0-merror:0.12012\n",
      "[75]\tvalidation_0-merror:0.11962\n",
      "[76]\tvalidation_0-merror:0.12012\n",
      "[77]\tvalidation_0-merror:0.11912\n",
      "[78]\tvalidation_0-merror:0.11812\n",
      "[79]\tvalidation_0-merror:0.11862\n",
      "[80]\tvalidation_0-merror:0.11812\n",
      "[81]\tvalidation_0-merror:0.11762\n",
      "[82]\tvalidation_0-merror:0.11762\n",
      "[83]\tvalidation_0-merror:0.11812\n",
      "[84]\tvalidation_0-merror:0.11712\n",
      "[85]\tvalidation_0-merror:0.11562\n",
      "[86]\tvalidation_0-merror:0.11612\n",
      "[87]\tvalidation_0-merror:0.11511\n",
      "[88]\tvalidation_0-merror:0.11612\n",
      "[89]\tvalidation_0-merror:0.11612\n",
      "[90]\tvalidation_0-merror:0.11511\n",
      "[91]\tvalidation_0-merror:0.11511\n",
      "[92]\tvalidation_0-merror:0.11612\n",
      "[93]\tvalidation_0-merror:0.11612\n",
      "[94]\tvalidation_0-merror:0.11662\n",
      "[95]\tvalidation_0-merror:0.11411\n",
      "[96]\tvalidation_0-merror:0.11562\n",
      "[97]\tvalidation_0-merror:0.11361\n",
      "[98]\tvalidation_0-merror:0.11511\n",
      "[99]\tvalidation_0-merror:0.11461\n",
      "0.9993743743743744\n",
      "0.8853853853853854\n"
     ]
    },
    {
     "data": {
      "text/plain": [
       "{'xgb__colsample_bytree': 0.6, 'xgb__max_depth': 14, 'xgb__subsample': 0.75}"
      ]
     },
     "execution_count": 52,
     "metadata": {},
     "output_type": "execute_result"
    },
    {
     "data": {
      "application/javascript": [
       "\n",
       "            setTimeout(function() {\n",
       "                var nbb_cell_id = 52;\n",
       "                var nbb_unformatted_code = \"num_cols = list(X.columns)\\n\\nbin_cols = []\\n\\ncat_cols = []\\ndrop_cats = []\\n\\n\\npreprocessing = ColumnTransformer(\\n    [\\n        # Scale numeric columns (not needed for all models but can't hurt)\\n        (\\\"scaler\\\", StandardScaler(), num_cols)\\n    ],\\n    remainder=\\\"passthrough\\\",\\n)\\n\\n\\npipeline = Pipeline(\\n    [\\n        (\\\"preprocessing\\\", preprocessing),\\n        # Choose your model and put it here\\n        (\\\"xgb\\\", XGBClassifier()),\\n    ]\\n)\\n\\n\\nparams = {\\n    \\\"xgb__subsample\\\": [0.5, 0.75, 1.0],\\n    \\\"xgb__colsample_bytree\\\": [0.4, 0.6, 0.8, 1.0],\\n    \\\"xgb__max_depth\\\": [3, 6, 8, 10, 14],\\n}\\n\\nn_trees = 100\\nlearning_rate = 10/ n_trees\\n\\npipeline[\\\"xgb\\\"].n_estimators = n_trees\\npipeline[\\\"xgb\\\"].learning_rate = learning_rate\\n\\nscaler = pipeline.named_steps[\\\"preprocessing\\\"]\\nscaler.fit(X_train)\\nX_test_scaled = scaler.transform(X_test)\\n\\n\\npipeline_cv = GridSearchCV(pipeline, params, verbose=1, n_jobs=-1, cv=2)\\n\\npipeline_cv.fit(X_train, y=y_train, xgb__eval_set=[(X_test_scaled, y_test)])\\n\\n\\nprint(pipeline_cv.score(X_train, y_train))\\nprint(pipeline_cv.score(X_test, y_test))\\npipeline_cv.best_params_\";\n",
       "                var nbb_formatted_code = \"num_cols = list(X.columns)\\n\\nbin_cols = []\\n\\ncat_cols = []\\ndrop_cats = []\\n\\n\\npreprocessing = ColumnTransformer(\\n    [\\n        # Scale numeric columns (not needed for all models but can't hurt)\\n        (\\\"scaler\\\", StandardScaler(), num_cols)\\n    ],\\n    remainder=\\\"passthrough\\\",\\n)\\n\\n\\npipeline = Pipeline(\\n    [\\n        (\\\"preprocessing\\\", preprocessing),\\n        # Choose your model and put it here\\n        (\\\"xgb\\\", XGBClassifier()),\\n    ]\\n)\\n\\n\\nparams = {\\n    \\\"xgb__subsample\\\": [0.5, 0.75, 1.0],\\n    \\\"xgb__colsample_bytree\\\": [0.4, 0.6, 0.8, 1.0],\\n    \\\"xgb__max_depth\\\": [3, 6, 8, 10, 14],\\n}\\n\\nn_trees = 100\\nlearning_rate = 10 / n_trees\\n\\npipeline[\\\"xgb\\\"].n_estimators = n_trees\\npipeline[\\\"xgb\\\"].learning_rate = learning_rate\\n\\nscaler = pipeline.named_steps[\\\"preprocessing\\\"]\\nscaler.fit(X_train)\\nX_test_scaled = scaler.transform(X_test)\\n\\n\\npipeline_cv = GridSearchCV(pipeline, params, verbose=1, n_jobs=-1, cv=2)\\n\\npipeline_cv.fit(X_train, y=y_train, xgb__eval_set=[(X_test_scaled, y_test)])\\n\\n\\nprint(pipeline_cv.score(X_train, y_train))\\nprint(pipeline_cv.score(X_test, y_test))\\npipeline_cv.best_params_\";\n",
       "                var nbb_cells = Jupyter.notebook.get_cells();\n",
       "                for (var i = 0; i < nbb_cells.length; ++i) {\n",
       "                    if (nbb_cells[i].input_prompt_number == nbb_cell_id) {\n",
       "                        if (nbb_cells[i].get_text() == nbb_unformatted_code) {\n",
       "                             nbb_cells[i].set_text(nbb_formatted_code);\n",
       "                        }\n",
       "                        break;\n",
       "                    }\n",
       "                }\n",
       "            }, 500);\n",
       "            "
      ],
      "text/plain": [
       "<IPython.core.display.Javascript object>"
      ]
     },
     "metadata": {},
     "output_type": "display_data"
    }
   ],
   "source": [
    "num_cols = list(X.columns)\n",
    "\n",
    "bin_cols = []\n",
    "\n",
    "cat_cols = []\n",
    "drop_cats = []\n",
    "\n",
    "\n",
    "preprocessing = ColumnTransformer(\n",
    "    [\n",
    "        # Scale numeric columns (not needed for all models but can't hurt)\n",
    "        (\"scaler\", StandardScaler(), num_cols)\n",
    "    ],\n",
    "    remainder=\"passthrough\",\n",
    ")\n",
    "\n",
    "\n",
    "pipeline = Pipeline(\n",
    "    [\n",
    "        (\"preprocessing\", preprocessing),\n",
    "        # Choose your model and put it here\n",
    "        (\"xgb\", XGBClassifier()),\n",
    "    ]\n",
    ")\n",
    "\n",
    "\n",
    "params = {\n",
    "    \"xgb__subsample\": [0.5, 0.75, 1.0],\n",
    "    \"xgb__colsample_bytree\": [0.4, 0.6, 0.8, 1.0],\n",
    "    \"xgb__max_depth\": [3, 6, 8, 10, 14],\n",
    "}\n",
    "\n",
    "n_trees = 100\n",
    "learning_rate = 10 / n_trees\n",
    "\n",
    "pipeline[\"xgb\"].n_estimators = n_trees\n",
    "pipeline[\"xgb\"].learning_rate = learning_rate\n",
    "\n",
    "scaler = pipeline.named_steps[\"preprocessing\"]\n",
    "scaler.fit(X_train)\n",
    "X_test_scaled = scaler.transform(X_test)\n",
    "\n",
    "\n",
    "pipeline_cv = GridSearchCV(pipeline, params, verbose=1, n_jobs=-1, cv=2)\n",
    "\n",
    "pipeline_cv.fit(X_train, y=y_train, xgb__eval_set=[(X_test_scaled, y_test)])\n",
    "\n",
    "\n",
    "print(pipeline_cv.score(X_train, y_train))\n",
    "print(pipeline_cv.score(X_test, y_test))\n",
    "pipeline_cv.best_params_"
   ]
  },
  {
   "cell_type": "code",
   "execution_count": 53,
   "metadata": {
    "scrolled": true
   },
   "outputs": [
    {
     "data": {
      "image/png": "[encoded data removed]",
      "text/plain": [
       "<Figure size 1080x1440 with 1 Axes>"
      ]
     },
     "metadata": {
      "needs_background": "light"
     },
     "output_type": "display_data"
    },
    {
     "data": {
      "application/javascript": [
       "\n",
       "            setTimeout(function() {\n",
       "                var nbb_cell_id = 53;\n",
       "                var nbb_unformatted_code = \"feature_importance = pipeline_cv.best_estimator_.named_steps[\\\"xgb\\\"].feature_importances_\\n\\n# Make importances relative to max importance.\\nfeature_importance = 100.0 * (feature_importance / feature_importance.max())\\nsorted_idx = np.argsort(feature_importance)\\npos = np.arange(sorted_idx.shape[0]) + 0.5\\n\\n\\nplt.figure(figsize=(15, 20))\\nplt.barh(pos, feature_importance[sorted_idx], align=\\\"center\\\")\\nplt.yticks(pos, X.columns[sorted_idx])\\nplt.xlabel(\\\"Relative Importance\\\")\\nplt.title(\\\"Variable Importance\\\")\\nplt.show()\";\n",
       "                var nbb_formatted_code = \"feature_importance = pipeline_cv.best_estimator_.named_steps[\\\"xgb\\\"].feature_importances_\\n\\n# Make importances relative to max importance.\\nfeature_importance = 100.0 * (feature_importance / feature_importance.max())\\nsorted_idx = np.argsort(feature_importance)\\npos = np.arange(sorted_idx.shape[0]) + 0.5\\n\\n\\nplt.figure(figsize=(15, 20))\\nplt.barh(pos, feature_importance[sorted_idx], align=\\\"center\\\")\\nplt.yticks(pos, X.columns[sorted_idx])\\nplt.xlabel(\\\"Relative Importance\\\")\\nplt.title(\\\"Variable Importance\\\")\\nplt.show()\";\n",
       "                var nbb_cells = Jupyter.notebook.get_cells();\n",
       "                for (var i = 0; i < nbb_cells.length; ++i) {\n",
       "                    if (nbb_cells[i].input_prompt_number == nbb_cell_id) {\n",
       "                        if (nbb_cells[i].get_text() == nbb_unformatted_code) {\n",
       "                             nbb_cells[i].set_text(nbb_formatted_code);\n",
       "                        }\n",
       "                        break;\n",
       "                    }\n",
       "                }\n",
       "            }, 500);\n",
       "            "
      ],
      "text/plain": [
       "<IPython.core.display.Javascript object>"
      ]
     },
     "metadata": {},
     "output_type": "display_data"
    }
   ],
   "source": [
    "feature_importance = pipeline_cv.best_estimator_.named_steps[\"xgb\"].feature_importances_\n",
    "\n",
    "# Make importances relative to max importance.\n",
    "feature_importance = 100.0 * (feature_importance / feature_importance.max())\n",
    "sorted_idx = np.argsort(feature_importance)\n",
    "pos = np.arange(sorted_idx.shape[0]) + 0.5\n",
    "\n",
    "\n",
    "plt.figure(figsize=(15, 20))\n",
    "plt.barh(pos, feature_importance[sorted_idx], align=\"center\")\n",
    "plt.yticks(pos, X.columns[sorted_idx])\n",
    "plt.xlabel(\"Relative Importance\")\n",
    "plt.title(\"Variable Importance\")\n",
    "plt.show()"
   ]
  },
  {
   "cell_type": "code",
   "execution_count": 54,
   "metadata": {},
   "outputs": [
    {
     "name": "stdout",
     "output_type": "stream",
     "text": [
      "[[189   0   0   3   0   1   2   0   3   2]\n",
      " [  0 190   0   0   0   9   0   0   0   1]\n",
      " [ 11   0 161   7   0   8   0   2   6   4]\n",
      " [  1   0   1 179   2   0   2   1   5   9]\n",
      " [  6   1   2   2 182   0   0   5   2   0]\n",
      " [  5   7   3   1   0 183   0   1   0   0]\n",
      " [  3   0   1   1   2   2 181   0   3   7]\n",
      " [  0   1   4   3   5   3   0 176   4   4]\n",
      " [  5   0   3   4   9   1   0   0 174   4]\n",
      " [  7   4   9   9   4   0   4   1   7 154]]\n",
      "              precision    recall  f1-score   support\n",
      "\n",
      "       blues       0.83      0.94      0.89       200\n",
      "   classical       0.94      0.95      0.94       200\n",
      "     country       0.88      0.81      0.84       199\n",
      "       disco       0.86      0.90      0.88       200\n",
      "      hiphop       0.89      0.91      0.90       200\n",
      "        jazz       0.88      0.92      0.90       200\n",
      "       metal       0.96      0.91      0.93       200\n",
      "         pop       0.95      0.88      0.91       200\n",
      "      reggae       0.85      0.87      0.86       200\n",
      "        rock       0.83      0.77      0.80       199\n",
      "\n",
      "    accuracy                           0.89      1998\n",
      "   macro avg       0.89      0.89      0.89      1998\n",
      "weighted avg       0.89      0.89      0.89      1998\n",
      "\n"
     ]
    },
    {
     "data": {
      "application/javascript": [
       "\n",
       "            setTimeout(function() {\n",
       "                var nbb_cell_id = 54;\n",
       "                var nbb_unformatted_code = \"y_pred = pipeline_cv.predict(X_test)\\n\\nprint(confusion_matrix(y_test, y_pred))\\nprint(classification_report(y_test, y_pred))\";\n",
       "                var nbb_formatted_code = \"y_pred = pipeline_cv.predict(X_test)\\n\\nprint(confusion_matrix(y_test, y_pred))\\nprint(classification_report(y_test, y_pred))\";\n",
       "                var nbb_cells = Jupyter.notebook.get_cells();\n",
       "                for (var i = 0; i < nbb_cells.length; ++i) {\n",
       "                    if (nbb_cells[i].input_prompt_number == nbb_cell_id) {\n",
       "                        if (nbb_cells[i].get_text() == nbb_unformatted_code) {\n",
       "                             nbb_cells[i].set_text(nbb_formatted_code);\n",
       "                        }\n",
       "                        break;\n",
       "                    }\n",
       "                }\n",
       "            }, 500);\n",
       "            "
      ],
      "text/plain": [
       "<IPython.core.display.Javascript object>"
      ]
     },
     "metadata": {},
     "output_type": "display_data"
    }
   ],
   "source": [
    "y_pred = pipeline_cv.predict(X_test)\n",
    "\n",
    "print(confusion_matrix(y_test, y_pred))\n",
    "print(classification_report(y_test, y_pred))"
   ]
  },
  {
   "cell_type": "code",
   "execution_count": 55,
   "metadata": {},
   "outputs": [
    {
     "data": {
      "text/plain": [
       "array(['blues', 'rock', 'blues', ..., 'blues', 'rock', 'rock'],\n",
       "      dtype=object)"
      ]
     },
     "execution_count": 55,
     "metadata": {},
     "output_type": "execute_result"
    },
    {
     "data": {
      "application/javascript": [
       "\n",
       "            setTimeout(function() {\n",
       "                var nbb_cell_id = 55;\n",
       "                var nbb_unformatted_code = \"pipeline_cv.predict(X)\";\n",
       "                var nbb_formatted_code = \"pipeline_cv.predict(X)\";\n",
       "                var nbb_cells = Jupyter.notebook.get_cells();\n",
       "                for (var i = 0; i < nbb_cells.length; ++i) {\n",
       "                    if (nbb_cells[i].input_prompt_number == nbb_cell_id) {\n",
       "                        if (nbb_cells[i].get_text() == nbb_unformatted_code) {\n",
       "                             nbb_cells[i].set_text(nbb_formatted_code);\n",
       "                        }\n",
       "                        break;\n",
       "                    }\n",
       "                }\n",
       "            }, 500);\n",
       "            "
      ],
      "text/plain": [
       "<IPython.core.display.Javascript object>"
      ]
     },
     "metadata": {},
     "output_type": "display_data"
    }
   ],
   "source": [
    "pipeline_cv.predict(X)"
   ]
  },
  {
   "cell_type": "code",
   "execution_count": 56,
   "metadata": {},
   "outputs": [
    {
     "data": {
      "application/javascript": [
       "\n",
       "            setTimeout(function() {\n",
       "                var nbb_cell_id = 56;\n",
       "                var nbb_unformatted_code = \"short['predicted'] = pipeline_cv.predict(X)\";\n",
       "                var nbb_formatted_code = \"short[\\\"predicted\\\"] = pipeline_cv.predict(X)\";\n",
       "                var nbb_cells = Jupyter.notebook.get_cells();\n",
       "                for (var i = 0; i < nbb_cells.length; ++i) {\n",
       "                    if (nbb_cells[i].input_prompt_number == nbb_cell_id) {\n",
       "                        if (nbb_cells[i].get_text() == nbb_unformatted_code) {\n",
       "                             nbb_cells[i].set_text(nbb_formatted_code);\n",
       "                        }\n",
       "                        break;\n",
       "                    }\n",
       "                }\n",
       "            }, 500);\n",
       "            "
      ],
      "text/plain": [
       "<IPython.core.display.Javascript object>"
      ]
     },
     "metadata": {},
     "output_type": "display_data"
    }
   ],
   "source": [
    "short[\"predicted\"] = pipeline_cv.predict(X)"
   ]
  },
  {
   "cell_type": "code",
   "execution_count": 57,
   "metadata": {},
   "outputs": [
    {
     "data": {
      "text/html": [
       "<div>\n",
       "<style scoped>\n",
       "    .dataframe tbody tr th:only-of-type {\n",
       "        vertical-align: middle;\n",
       "    }\n",
       "\n",
       "    .dataframe tbody tr th {\n",
       "        vertical-align: top;\n",
       "    }\n",
       "\n",
       "    .dataframe thead th {\n",
       "        text-align: right;\n",
       "    }\n",
       "</style>\n",
       "<table border=\"1\" class=\"dataframe\">\n",
       "  <thead>\n",
       "    <tr style=\"text-align: right;\">\n",
       "      <th></th>\n",
       "      <th>filename</th>\n",
       "      <th>length</th>\n",
       "      <th>chroma_stft_mean</th>\n",
       "      <th>chroma_stft_var</th>\n",
       "      <th>rms_mean</th>\n",
       "      <th>rms_var</th>\n",
       "      <th>spectral_centroid_mean</th>\n",
       "      <th>spectral_centroid_var</th>\n",
       "      <th>spectral_bandwidth_mean</th>\n",
       "      <th>spectral_bandwidth_var</th>\n",
       "      <th>...</th>\n",
       "      <th>mfcc17_mean</th>\n",
       "      <th>mfcc17_var</th>\n",
       "      <th>mfcc18_mean</th>\n",
       "      <th>mfcc18_var</th>\n",
       "      <th>mfcc19_mean</th>\n",
       "      <th>mfcc19_var</th>\n",
       "      <th>mfcc20_mean</th>\n",
       "      <th>mfcc20_var</th>\n",
       "      <th>label</th>\n",
       "      <th>predicted</th>\n",
       "    </tr>\n",
       "  </thead>\n",
       "  <tbody>\n",
       "    <tr>\n",
       "      <th>0</th>\n",
       "      <td>blues.00000.0.wav</td>\n",
       "      <td>66149</td>\n",
       "      <td>0.335406</td>\n",
       "      <td>0.091048</td>\n",
       "      <td>0.130405</td>\n",
       "      <td>0.003521</td>\n",
       "      <td>1773.065032</td>\n",
       "      <td>167541.630869</td>\n",
       "      <td>1972.744388</td>\n",
       "      <td>117335.771563</td>\n",
       "      <td>...</td>\n",
       "      <td>-3.241280</td>\n",
       "      <td>36.488243</td>\n",
       "      <td>0.722209</td>\n",
       "      <td>38.099152</td>\n",
       "      <td>-5.050335</td>\n",
       "      <td>33.618073</td>\n",
       "      <td>-0.243027</td>\n",
       "      <td>43.771767</td>\n",
       "      <td>blues</td>\n",
       "      <td>blues</td>\n",
       "    </tr>\n",
       "    <tr>\n",
       "      <th>1</th>\n",
       "      <td>blues.00000.1.wav</td>\n",
       "      <td>66149</td>\n",
       "      <td>0.343065</td>\n",
       "      <td>0.086147</td>\n",
       "      <td>0.112699</td>\n",
       "      <td>0.001450</td>\n",
       "      <td>1816.693777</td>\n",
       "      <td>90525.690866</td>\n",
       "      <td>2010.051501</td>\n",
       "      <td>65671.875673</td>\n",
       "      <td>...</td>\n",
       "      <td>-6.055294</td>\n",
       "      <td>40.677654</td>\n",
       "      <td>0.159015</td>\n",
       "      <td>51.264091</td>\n",
       "      <td>-2.837699</td>\n",
       "      <td>97.030830</td>\n",
       "      <td>5.784063</td>\n",
       "      <td>59.943081</td>\n",
       "      <td>blues</td>\n",
       "      <td>rock</td>\n",
       "    </tr>\n",
       "    <tr>\n",
       "      <th>2</th>\n",
       "      <td>blues.00000.2.wav</td>\n",
       "      <td>66149</td>\n",
       "      <td>0.346815</td>\n",
       "      <td>0.092243</td>\n",
       "      <td>0.132003</td>\n",
       "      <td>0.004620</td>\n",
       "      <td>1788.539719</td>\n",
       "      <td>111407.437613</td>\n",
       "      <td>2084.565132</td>\n",
       "      <td>75124.921716</td>\n",
       "      <td>...</td>\n",
       "      <td>-1.768610</td>\n",
       "      <td>28.348579</td>\n",
       "      <td>2.378768</td>\n",
       "      <td>45.717648</td>\n",
       "      <td>-1.938424</td>\n",
       "      <td>53.050835</td>\n",
       "      <td>2.517375</td>\n",
       "      <td>33.105122</td>\n",
       "      <td>blues</td>\n",
       "      <td>blues</td>\n",
       "    </tr>\n",
       "    <tr>\n",
       "      <th>3</th>\n",
       "      <td>blues.00000.3.wav</td>\n",
       "      <td>66149</td>\n",
       "      <td>0.363639</td>\n",
       "      <td>0.086856</td>\n",
       "      <td>0.132565</td>\n",
       "      <td>0.002448</td>\n",
       "      <td>1655.289045</td>\n",
       "      <td>111952.284517</td>\n",
       "      <td>1960.039988</td>\n",
       "      <td>82913.639269</td>\n",
       "      <td>...</td>\n",
       "      <td>-3.841155</td>\n",
       "      <td>28.337118</td>\n",
       "      <td>1.218588</td>\n",
       "      <td>34.770935</td>\n",
       "      <td>-3.580352</td>\n",
       "      <td>50.836224</td>\n",
       "      <td>3.630866</td>\n",
       "      <td>32.023678</td>\n",
       "      <td>blues</td>\n",
       "      <td>blues</td>\n",
       "    </tr>\n",
       "    <tr>\n",
       "      <th>4</th>\n",
       "      <td>blues.00000.4.wav</td>\n",
       "      <td>66149</td>\n",
       "      <td>0.335579</td>\n",
       "      <td>0.088129</td>\n",
       "      <td>0.143289</td>\n",
       "      <td>0.001701</td>\n",
       "      <td>1630.656199</td>\n",
       "      <td>79667.267654</td>\n",
       "      <td>1948.503884</td>\n",
       "      <td>60204.020268</td>\n",
       "      <td>...</td>\n",
       "      <td>0.664582</td>\n",
       "      <td>45.880913</td>\n",
       "      <td>1.689446</td>\n",
       "      <td>51.363583</td>\n",
       "      <td>-3.392489</td>\n",
       "      <td>26.738789</td>\n",
       "      <td>0.536961</td>\n",
       "      <td>29.146694</td>\n",
       "      <td>blues</td>\n",
       "      <td>blues</td>\n",
       "    </tr>\n",
       "  </tbody>\n",
       "</table>\n",
       "<p>5 rows × 61 columns</p>\n",
       "</div>"
      ],
      "text/plain": [
       "            filename  length  chroma_stft_mean  chroma_stft_var  rms_mean  \\\n",
       "0  blues.00000.0.wav   66149          0.335406         0.091048  0.130405   \n",
       "1  blues.00000.1.wav   66149          0.343065         0.086147  0.112699   \n",
       "2  blues.00000.2.wav   66149          0.346815         0.092243  0.132003   \n",
       "3  blues.00000.3.wav   66149          0.363639         0.086856  0.132565   \n",
       "4  blues.00000.4.wav   66149          0.335579         0.088129  0.143289   \n",
       "\n",
       "    rms_var  spectral_centroid_mean  spectral_centroid_var  \\\n",
       "0  0.003521             1773.065032          167541.630869   \n",
       "1  0.001450             1816.693777           90525.690866   \n",
       "2  0.004620             1788.539719          111407.437613   \n",
       "3  0.002448             1655.289045          111952.284517   \n",
       "4  0.001701             1630.656199           79667.267654   \n",
       "\n",
       "   spectral_bandwidth_mean  spectral_bandwidth_var  ...  mfcc17_mean  \\\n",
       "0              1972.744388           117335.771563  ...    -3.241280   \n",
       "1              2010.051501            65671.875673  ...    -6.055294   \n",
       "2              2084.565132            75124.921716  ...    -1.768610   \n",
       "3              1960.039988            82913.639269  ...    -3.841155   \n",
       "4              1948.503884            60204.020268  ...     0.664582   \n",
       "\n",
       "   mfcc17_var  mfcc18_mean  mfcc18_var  mfcc19_mean  mfcc19_var  mfcc20_mean  \\\n",
       "0   36.488243     0.722209   38.099152    -5.050335   33.618073    -0.243027   \n",
       "1   40.677654     0.159015   51.264091    -2.837699   97.030830     5.784063   \n",
       "2   28.348579     2.378768   45.717648    -1.938424   53.050835     2.517375   \n",
       "3   28.337118     1.218588   34.770935    -3.580352   50.836224     3.630866   \n",
       "4   45.880913     1.689446   51.363583    -3.392489   26.738789     0.536961   \n",
       "\n",
       "   mfcc20_var  label  predicted  \n",
       "0   43.771767  blues      blues  \n",
       "1   59.943081  blues       rock  \n",
       "2   33.105122  blues      blues  \n",
       "3   32.023678  blues      blues  \n",
       "4   29.146694  blues      blues  \n",
       "\n",
       "[5 rows x 61 columns]"
      ]
     },
     "execution_count": 57,
     "metadata": {},
     "output_type": "execute_result"
    },
    {
     "data": {
      "application/javascript": [
       "\n",
       "            setTimeout(function() {\n",
       "                var nbb_cell_id = 57;\n",
       "                var nbb_unformatted_code = \"short.head()\";\n",
       "                var nbb_formatted_code = \"short.head()\";\n",
       "                var nbb_cells = Jupyter.notebook.get_cells();\n",
       "                for (var i = 0; i < nbb_cells.length; ++i) {\n",
       "                    if (nbb_cells[i].input_prompt_number == nbb_cell_id) {\n",
       "                        if (nbb_cells[i].get_text() == nbb_unformatted_code) {\n",
       "                             nbb_cells[i].set_text(nbb_formatted_code);\n",
       "                        }\n",
       "                        break;\n",
       "                    }\n",
       "                }\n",
       "            }, 500);\n",
       "            "
      ],
      "text/plain": [
       "<IPython.core.display.Javascript object>"
      ]
     },
     "metadata": {},
     "output_type": "display_data"
    }
   ],
   "source": [
    "short.head()"
   ]
  },
  {
   "cell_type": "code",
   "execution_count": 110,
   "metadata": {
    "scrolled": true
   },
   "outputs": [
    {
     "name": "stderr",
     "output_type": "stream",
     "text": [
      "C:\\ProgramData\\Anaconda3\\lib\\site-packages\\ipykernel_launcher.py:13: SettingWithCopyWarning: \n",
      "A value is trying to be set on a copy of a slice from a DataFrame\n",
      "\n",
      "See the caveats in the documentation: https://pandas.pydata.org/pandas-docs/stable/user_guide/indexing.html#returning-a-view-versus-a-copy\n",
      "  del sys.path[0]\n"
     ]
    },
    {
     "data": {
      "application/javascript": [
       "\n",
       "            setTimeout(function() {\n",
       "                var nbb_cell_id = 110;\n",
       "                var nbb_unformatted_code = \"long[\\\"vote_pred\\\"] = \\\"none\\\"\\n\\nfor i in range(long[\\\"filename\\\"].size):\\n    curr_file = long[\\\"filename\\\"][i]\\n    file_stripped = curr_file.strip(\\\".wav\\\")\\n    sub_selection = short[\\\"filename\\\"].str.contains(file_stripped)\\n    prediction = (\\n        short[sub_selection][\\\"predicted\\\"]\\n        .value_counts()\\n        .sort_values(ascending=False)\\n        .index[0]\\n    )\\n    long[\\\"vote_pred\\\"][i] = prediction\";\n",
       "                var nbb_formatted_code = \"long[\\\"vote_pred\\\"] = \\\"none\\\"\\n\\nfor i in range(long[\\\"filename\\\"].size):\\n    curr_file = long[\\\"filename\\\"][i]\\n    file_stripped = curr_file.strip(\\\".wav\\\")\\n    sub_selection = short[\\\"filename\\\"].str.contains(file_stripped)\\n    prediction = (\\n        short[sub_selection][\\\"predicted\\\"]\\n        .value_counts()\\n        .sort_values(ascending=False)\\n        .index[0]\\n    )\\n    long[\\\"vote_pred\\\"][i] = prediction\";\n",
       "                var nbb_cells = Jupyter.notebook.get_cells();\n",
       "                for (var i = 0; i < nbb_cells.length; ++i) {\n",
       "                    if (nbb_cells[i].input_prompt_number == nbb_cell_id) {\n",
       "                        if (nbb_cells[i].get_text() == nbb_unformatted_code) {\n",
       "                             nbb_cells[i].set_text(nbb_formatted_code);\n",
       "                        }\n",
       "                        break;\n",
       "                    }\n",
       "                }\n",
       "            }, 500);\n",
       "            "
      ],
      "text/plain": [
       "<IPython.core.display.Javascript object>"
      ]
     },
     "metadata": {},
     "output_type": "display_data"
    }
   ],
   "source": [
    "long[\"vote_pred\"] = \"none\"\n",
    "\n",
    "for i in range(long[\"filename\"].size):\n",
    "    curr_file = long[\"filename\"][i]\n",
    "    file_stripped = curr_file.strip(\".wav\")\n",
    "    sub_selection = short[\"filename\"].str.contains(file_stripped)\n",
    "    prediction = (\n",
    "        short[sub_selection][\"predicted\"]\n",
    "        .value_counts()\n",
    "        .sort_values(ascending=False)\n",
    "        .index[0]\n",
    "    )\n",
    "    long[\"vote_pred\"][i] = prediction"
   ]
  },
  {
   "cell_type": "code",
   "execution_count": 111,
   "metadata": {},
   "outputs": [
    {
     "data": {
      "text/html": [
       "<div>\n",
       "<style scoped>\n",
       "    .dataframe tbody tr th:only-of-type {\n",
       "        vertical-align: middle;\n",
       "    }\n",
       "\n",
       "    .dataframe tbody tr th {\n",
       "        vertical-align: top;\n",
       "    }\n",
       "\n",
       "    .dataframe thead th {\n",
       "        text-align: right;\n",
       "    }\n",
       "</style>\n",
       "<table border=\"1\" class=\"dataframe\">\n",
       "  <thead>\n",
       "    <tr style=\"text-align: right;\">\n",
       "      <th></th>\n",
       "      <th>filename</th>\n",
       "      <th>length</th>\n",
       "      <th>chroma_stft_mean</th>\n",
       "      <th>chroma_stft_var</th>\n",
       "      <th>rms_mean</th>\n",
       "      <th>rms_var</th>\n",
       "      <th>spectral_centroid_mean</th>\n",
       "      <th>spectral_centroid_var</th>\n",
       "      <th>spectral_bandwidth_mean</th>\n",
       "      <th>spectral_bandwidth_var</th>\n",
       "      <th>...</th>\n",
       "      <th>mfcc17_mean</th>\n",
       "      <th>mfcc17_var</th>\n",
       "      <th>mfcc18_mean</th>\n",
       "      <th>mfcc18_var</th>\n",
       "      <th>mfcc19_mean</th>\n",
       "      <th>mfcc19_var</th>\n",
       "      <th>mfcc20_mean</th>\n",
       "      <th>mfcc20_var</th>\n",
       "      <th>label</th>\n",
       "      <th>vote_pred</th>\n",
       "    </tr>\n",
       "  </thead>\n",
       "  <tbody>\n",
       "    <tr>\n",
       "      <th>0</th>\n",
       "      <td>blues.00000.wav</td>\n",
       "      <td>661794</td>\n",
       "      <td>0.350088</td>\n",
       "      <td>0.088757</td>\n",
       "      <td>0.130228</td>\n",
       "      <td>0.002827</td>\n",
       "      <td>1784.165850</td>\n",
       "      <td>129774.064525</td>\n",
       "      <td>2002.449060</td>\n",
       "      <td>85882.761315</td>\n",
       "      <td>...</td>\n",
       "      <td>-1.690215</td>\n",
       "      <td>36.524071</td>\n",
       "      <td>-0.408979</td>\n",
       "      <td>41.597103</td>\n",
       "      <td>-2.303523</td>\n",
       "      <td>55.062923</td>\n",
       "      <td>1.221291</td>\n",
       "      <td>46.936035</td>\n",
       "      <td>blues</td>\n",
       "      <td>blues</td>\n",
       "    </tr>\n",
       "    <tr>\n",
       "      <th>1</th>\n",
       "      <td>blues.00001.wav</td>\n",
       "      <td>661794</td>\n",
       "      <td>0.340914</td>\n",
       "      <td>0.094980</td>\n",
       "      <td>0.095948</td>\n",
       "      <td>0.002373</td>\n",
       "      <td>1530.176679</td>\n",
       "      <td>375850.073649</td>\n",
       "      <td>2039.036516</td>\n",
       "      <td>213843.755497</td>\n",
       "      <td>...</td>\n",
       "      <td>-0.731125</td>\n",
       "      <td>60.314529</td>\n",
       "      <td>0.295073</td>\n",
       "      <td>48.120598</td>\n",
       "      <td>-0.283518</td>\n",
       "      <td>51.106190</td>\n",
       "      <td>0.531217</td>\n",
       "      <td>45.786282</td>\n",
       "      <td>blues</td>\n",
       "      <td>blues</td>\n",
       "    </tr>\n",
       "    <tr>\n",
       "      <th>2</th>\n",
       "      <td>blues.00002.wav</td>\n",
       "      <td>661794</td>\n",
       "      <td>0.363637</td>\n",
       "      <td>0.085275</td>\n",
       "      <td>0.175570</td>\n",
       "      <td>0.002746</td>\n",
       "      <td>1552.811865</td>\n",
       "      <td>156467.643368</td>\n",
       "      <td>1747.702312</td>\n",
       "      <td>76254.192257</td>\n",
       "      <td>...</td>\n",
       "      <td>-7.729093</td>\n",
       "      <td>47.639427</td>\n",
       "      <td>-1.816407</td>\n",
       "      <td>52.382141</td>\n",
       "      <td>-3.439720</td>\n",
       "      <td>46.639660</td>\n",
       "      <td>-2.231258</td>\n",
       "      <td>30.573025</td>\n",
       "      <td>blues</td>\n",
       "      <td>blues</td>\n",
       "    </tr>\n",
       "    <tr>\n",
       "      <th>3</th>\n",
       "      <td>blues.00003.wav</td>\n",
       "      <td>661794</td>\n",
       "      <td>0.404785</td>\n",
       "      <td>0.093999</td>\n",
       "      <td>0.141093</td>\n",
       "      <td>0.006346</td>\n",
       "      <td>1070.106615</td>\n",
       "      <td>184355.942417</td>\n",
       "      <td>1596.412872</td>\n",
       "      <td>166441.494769</td>\n",
       "      <td>...</td>\n",
       "      <td>-3.319597</td>\n",
       "      <td>50.206673</td>\n",
       "      <td>0.636965</td>\n",
       "      <td>37.319130</td>\n",
       "      <td>-0.619121</td>\n",
       "      <td>37.259739</td>\n",
       "      <td>-3.407448</td>\n",
       "      <td>31.949339</td>\n",
       "      <td>blues</td>\n",
       "      <td>blues</td>\n",
       "    </tr>\n",
       "    <tr>\n",
       "      <th>4</th>\n",
       "      <td>blues.00004.wav</td>\n",
       "      <td>661794</td>\n",
       "      <td>0.308526</td>\n",
       "      <td>0.087841</td>\n",
       "      <td>0.091529</td>\n",
       "      <td>0.002303</td>\n",
       "      <td>1835.004266</td>\n",
       "      <td>343399.939274</td>\n",
       "      <td>1748.172116</td>\n",
       "      <td>88445.209036</td>\n",
       "      <td>...</td>\n",
       "      <td>-5.454034</td>\n",
       "      <td>75.269707</td>\n",
       "      <td>-0.916874</td>\n",
       "      <td>53.613918</td>\n",
       "      <td>-4.404827</td>\n",
       "      <td>62.910812</td>\n",
       "      <td>-11.703234</td>\n",
       "      <td>55.195160</td>\n",
       "      <td>blues</td>\n",
       "      <td>blues</td>\n",
       "    </tr>\n",
       "  </tbody>\n",
       "</table>\n",
       "<p>5 rows × 61 columns</p>\n",
       "</div>"
      ],
      "text/plain": [
       "          filename  length  chroma_stft_mean  chroma_stft_var  rms_mean  \\\n",
       "0  blues.00000.wav  661794          0.350088         0.088757  0.130228   \n",
       "1  blues.00001.wav  661794          0.340914         0.094980  0.095948   \n",
       "2  blues.00002.wav  661794          0.363637         0.085275  0.175570   \n",
       "3  blues.00003.wav  661794          0.404785         0.093999  0.141093   \n",
       "4  blues.00004.wav  661794          0.308526         0.087841  0.091529   \n",
       "\n",
       "    rms_var  spectral_centroid_mean  spectral_centroid_var  \\\n",
       "0  0.002827             1784.165850          129774.064525   \n",
       "1  0.002373             1530.176679          375850.073649   \n",
       "2  0.002746             1552.811865          156467.643368   \n",
       "3  0.006346             1070.106615          184355.942417   \n",
       "4  0.002303             1835.004266          343399.939274   \n",
       "\n",
       "   spectral_bandwidth_mean  spectral_bandwidth_var  ...  mfcc17_mean  \\\n",
       "0              2002.449060            85882.761315  ...    -1.690215   \n",
       "1              2039.036516           213843.755497  ...    -0.731125   \n",
       "2              1747.702312            76254.192257  ...    -7.729093   \n",
       "3              1596.412872           166441.494769  ...    -3.319597   \n",
       "4              1748.172116            88445.209036  ...    -5.454034   \n",
       "\n",
       "   mfcc17_var  mfcc18_mean  mfcc18_var  mfcc19_mean  mfcc19_var  mfcc20_mean  \\\n",
       "0   36.524071    -0.408979   41.597103    -2.303523   55.062923     1.221291   \n",
       "1   60.314529     0.295073   48.120598    -0.283518   51.106190     0.531217   \n",
       "2   47.639427    -1.816407   52.382141    -3.439720   46.639660    -2.231258   \n",
       "3   50.206673     0.636965   37.319130    -0.619121   37.259739    -3.407448   \n",
       "4   75.269707    -0.916874   53.613918    -4.404827   62.910812   -11.703234   \n",
       "\n",
       "   mfcc20_var  label  vote_pred  \n",
       "0   46.936035  blues      blues  \n",
       "1   45.786282  blues      blues  \n",
       "2   30.573025  blues      blues  \n",
       "3   31.949339  blues      blues  \n",
       "4   55.195160  blues      blues  \n",
       "\n",
       "[5 rows x 61 columns]"
      ]
     },
     "execution_count": 111,
     "metadata": {},
     "output_type": "execute_result"
    },
    {
     "data": {
      "application/javascript": [
       "\n",
       "            setTimeout(function() {\n",
       "                var nbb_cell_id = 111;\n",
       "                var nbb_unformatted_code = \"long.head()\";\n",
       "                var nbb_formatted_code = \"long.head()\";\n",
       "                var nbb_cells = Jupyter.notebook.get_cells();\n",
       "                for (var i = 0; i < nbb_cells.length; ++i) {\n",
       "                    if (nbb_cells[i].input_prompt_number == nbb_cell_id) {\n",
       "                        if (nbb_cells[i].get_text() == nbb_unformatted_code) {\n",
       "                             nbb_cells[i].set_text(nbb_formatted_code);\n",
       "                        }\n",
       "                        break;\n",
       "                    }\n",
       "                }\n",
       "            }, 500);\n",
       "            "
      ],
      "text/plain": [
       "<IPython.core.display.Javascript object>"
      ]
     },
     "metadata": {},
     "output_type": "display_data"
    }
   ],
   "source": [
    "long.head()"
   ]
  },
  {
   "cell_type": "code",
   "execution_count": 112,
   "metadata": {},
   "outputs": [
    {
     "name": "stdout",
     "output_type": "stream",
     "text": [
      "[[100   0   0   0   0   0   0   0   0   0]\n",
      " [  0 100   0   0   0   0   0   0   0   0]\n",
      " [  0   0 100   0   0   0   0   0   0   0]\n",
      " [  0   0   0 100   0   0   0   0   0   0]\n",
      " [  0   0   0   0 100   0   0   0   0   0]\n",
      " [  0   0   0   0   0 100   0   0   0   0]\n",
      " [  0   0   0   0   0   0  99   0   0   1]\n",
      " [  0   0   0   0   0   0   0 100   0   0]\n",
      " [  0   0   0   0   0   0   0   0 100   0]\n",
      " [  0   0   0   1   0   0   0   0   0  99]]\n",
      "              precision    recall  f1-score   support\n",
      "\n",
      "       blues       1.00      1.00      1.00       100\n",
      "   classical       1.00      1.00      1.00       100\n",
      "     country       1.00      1.00      1.00       100\n",
      "       disco       0.99      1.00      1.00       100\n",
      "      hiphop       1.00      1.00      1.00       100\n",
      "        jazz       1.00      1.00      1.00       100\n",
      "       metal       1.00      0.99      0.99       100\n",
      "         pop       1.00      1.00      1.00       100\n",
      "      reggae       1.00      1.00      1.00       100\n",
      "        rock       0.99      0.99      0.99       100\n",
      "\n",
      "    accuracy                           1.00      1000\n",
      "   macro avg       1.00      1.00      1.00      1000\n",
      "weighted avg       1.00      1.00      1.00      1000\n",
      "\n"
     ]
    },
    {
     "data": {
      "application/javascript": [
       "\n",
       "            setTimeout(function() {\n",
       "                var nbb_cell_id = 112;\n",
       "                var nbb_unformatted_code = \"y_pred = pipeline_cv.predict(X_test)\\n\\nprint(confusion_matrix(long['label'], long['vote_pred']))\\nprint(classification_report(long['label'], long['vote_pred']))\";\n",
       "                var nbb_formatted_code = \"y_pred = pipeline_cv.predict(X_test)\\n\\nprint(confusion_matrix(long[\\\"label\\\"], long[\\\"vote_pred\\\"]))\\nprint(classification_report(long[\\\"label\\\"], long[\\\"vote_pred\\\"]))\";\n",
       "                var nbb_cells = Jupyter.notebook.get_cells();\n",
       "                for (var i = 0; i < nbb_cells.length; ++i) {\n",
       "                    if (nbb_cells[i].input_prompt_number == nbb_cell_id) {\n",
       "                        if (nbb_cells[i].get_text() == nbb_unformatted_code) {\n",
       "                             nbb_cells[i].set_text(nbb_formatted_code);\n",
       "                        }\n",
       "                        break;\n",
       "                    }\n",
       "                }\n",
       "            }, 500);\n",
       "            "
      ],
      "text/plain": [
       "<IPython.core.display.Javascript object>"
      ]
     },
     "metadata": {},
     "output_type": "display_data"
    }
   ],
   "source": [
    "\n",
    "\n",
    "print(confusion_matrix(long[\"label\"], long[\"vote_pred\"]))\n",
    "print(classification_report(long[\"label\"], long[\"vote_pred\"]))"
   ]
  }
 ],
 "metadata": {
  "kernelspec": {
   "display_name": "Python 3",
   "language": "python",
   "name": "python3"
  },
  "language_info": {
   "codemirror_mode": {
    "name": "ipython",
    "version": 3
   },
   "file_extension": ".py",
   "mimetype": "text/x-python",
   "name": "python",
   "nbconvert_exporter": "python",
   "pygments_lexer": "ipython3",
   "version": "3.7.6"
  }
 },
 "nbformat": 4,
 "nbformat_minor": 4
}
