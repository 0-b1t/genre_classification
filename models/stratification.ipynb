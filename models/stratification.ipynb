{
 "cells": [
  {
   "cell_type": "code",
   "execution_count": 1,
   "metadata": {},
   "outputs": [
    {
     "data": {
      "application/javascript": [
       "\n",
       "            setTimeout(function() {\n",
       "                var nbb_cell_id = 1;\n",
       "                var nbb_unformatted_code = \"%reload_ext nb_black\";\n",
       "                var nbb_formatted_code = \"%reload_ext nb_black\";\n",
       "                var nbb_cells = Jupyter.notebook.get_cells();\n",
       "                for (var i = 0; i < nbb_cells.length; ++i) {\n",
       "                    if (nbb_cells[i].input_prompt_number == nbb_cell_id) {\n",
       "                        if (nbb_cells[i].get_text() == nbb_unformatted_code) {\n",
       "                             nbb_cells[i].set_text(nbb_formatted_code);\n",
       "                        }\n",
       "                        break;\n",
       "                    }\n",
       "                }\n",
       "            }, 500);\n",
       "            "
      ],
      "text/plain": [
       "<IPython.core.display.Javascript object>"
      ]
     },
     "metadata": {},
     "output_type": "display_data"
    }
   ],
   "source": [
    "%reload_ext nb_black"
   ]
  },
  {
   "cell_type": "code",
   "execution_count": 2,
   "metadata": {},
   "outputs": [
    {
     "data": {
      "application/javascript": [
       "\n",
       "            setTimeout(function() {\n",
       "                var nbb_cell_id = 2;\n",
       "                var nbb_unformatted_code = \"import warnings\\n\\nimport pandas as pd\\nimport numpy as np\\n\\nimport statsmodels.api as sm\\nfrom statsmodels.stats.outliers_influence import variance_inflation_factor\\n\\nimport seaborn as sns\\nimport matplotlib.pyplot as plt\\n\\nfrom sklearn.model_selection import train_test_split, GridSearchCV\\nfrom sklearn.metrics import (\\n    classification_report,\\n    confusion_matrix,\\n    fbeta_score,\\n    f1_score,\\n    make_scorer,\\n    accuracy_score,\\n)\\n\\nfrom sklearn.pipeline import Pipeline\\nfrom sklearn.compose import ColumnTransformer\\nfrom sklearn.preprocessing import StandardScaler\\nfrom sklearn.decomposition import PCA\\n\\nfrom xgboost import XGBClassifier\\nfrom sklearn.neighbors import KNeighborsClassifier\\nfrom sklearn.ensemble import RandomForestClassifier\\nfrom sklearn.svm import SVC\\n\\n%matplotlib inline\";\n",
       "                var nbb_formatted_code = \"import warnings\\n\\nimport pandas as pd\\nimport numpy as np\\n\\nimport statsmodels.api as sm\\nfrom statsmodels.stats.outliers_influence import variance_inflation_factor\\n\\nimport seaborn as sns\\nimport matplotlib.pyplot as plt\\n\\nfrom sklearn.model_selection import train_test_split, GridSearchCV\\nfrom sklearn.metrics import (\\n    classification_report,\\n    confusion_matrix,\\n    fbeta_score,\\n    f1_score,\\n    make_scorer,\\n    accuracy_score,\\n)\\n\\nfrom sklearn.pipeline import Pipeline\\nfrom sklearn.compose import ColumnTransformer\\nfrom sklearn.preprocessing import StandardScaler\\nfrom sklearn.decomposition import PCA\\n\\nfrom xgboost import XGBClassifier\\nfrom sklearn.neighbors import KNeighborsClassifier\\nfrom sklearn.ensemble import RandomForestClassifier\\nfrom sklearn.svm import SVC\\n\\n%matplotlib inline\";\n",
       "                var nbb_cells = Jupyter.notebook.get_cells();\n",
       "                for (var i = 0; i < nbb_cells.length; ++i) {\n",
       "                    if (nbb_cells[i].input_prompt_number == nbb_cell_id) {\n",
       "                        if (nbb_cells[i].get_text() == nbb_unformatted_code) {\n",
       "                             nbb_cells[i].set_text(nbb_formatted_code);\n",
       "                        }\n",
       "                        break;\n",
       "                    }\n",
       "                }\n",
       "            }, 500);\n",
       "            "
      ],
      "text/plain": [
       "<IPython.core.display.Javascript object>"
      ]
     },
     "metadata": {},
     "output_type": "display_data"
    }
   ],
   "source": [
    "import warnings\n",
    "\n",
    "import pandas as pd\n",
    "import numpy as np\n",
    "\n",
    "import statsmodels.api as sm\n",
    "from statsmodels.stats.outliers_influence import variance_inflation_factor\n",
    "\n",
    "import seaborn as sns\n",
    "import matplotlib.pyplot as plt\n",
    "\n",
    "from sklearn.model_selection import train_test_split, GridSearchCV\n",
    "from sklearn.metrics import (\n",
    "    classification_report,\n",
    "    confusion_matrix,\n",
    "    fbeta_score,\n",
    "    f1_score,\n",
    "    make_scorer,\n",
    "    accuracy_score,\n",
    ")\n",
    "\n",
    "from sklearn.pipeline import Pipeline\n",
    "from sklearn.compose import ColumnTransformer\n",
    "from sklearn.preprocessing import StandardScaler\n",
    "from sklearn.decomposition import PCA\n",
    "\n",
    "from xgboost import XGBClassifier\n",
    "from sklearn.neighbors import KNeighborsClassifier\n",
    "from sklearn.ensemble import RandomForestClassifier\n",
    "from sklearn.svm import SVC\n",
    "\n",
    "%matplotlib inline"
   ]
  },
  {
   "cell_type": "code",
   "execution_count": 3,
   "metadata": {},
   "outputs": [
    {
     "data": {
      "application/javascript": [
       "\n",
       "            setTimeout(function() {\n",
       "                var nbb_cell_id = 3;\n",
       "                var nbb_unformatted_code = \"def print_vif(x):\\n    \\\"\\\"\\\"Utility for checking multicollinearity assumption\\n    \\n    :param x: input features to check using VIF. This is assumed to be a pandas.DataFrame\\n    :return: nothing is returned the VIFs are printed as a pandas series\\n    \\\"\\\"\\\"\\n    # Silence numpy FutureWarning about .ptp\\n    with warnings.catch_warnings():\\n        warnings.simplefilter(\\\"ignore\\\")\\n        x = sm.add_constant(x)\\n\\n    vifs = []\\n    for i in range(x.shape[1]):\\n        vif = variance_inflation_factor(x.values, i)\\n        vifs.append(vif)\\n\\n    print(\\\"VIF results\\\\n-------------------------------\\\")\\n    print(pd.Series(vifs, index=x.columns))\\n    print(\\\"-------------------------------\\\\n\\\")\";\n",
       "                var nbb_formatted_code = \"def print_vif(x):\\n    \\\"\\\"\\\"Utility for checking multicollinearity assumption\\n    \\n    :param x: input features to check using VIF. This is assumed to be a pandas.DataFrame\\n    :return: nothing is returned the VIFs are printed as a pandas series\\n    \\\"\\\"\\\"\\n    # Silence numpy FutureWarning about .ptp\\n    with warnings.catch_warnings():\\n        warnings.simplefilter(\\\"ignore\\\")\\n        x = sm.add_constant(x)\\n\\n    vifs = []\\n    for i in range(x.shape[1]):\\n        vif = variance_inflation_factor(x.values, i)\\n        vifs.append(vif)\\n\\n    print(\\\"VIF results\\\\n-------------------------------\\\")\\n    print(pd.Series(vifs, index=x.columns))\\n    print(\\\"-------------------------------\\\\n\\\")\";\n",
       "                var nbb_cells = Jupyter.notebook.get_cells();\n",
       "                for (var i = 0; i < nbb_cells.length; ++i) {\n",
       "                    if (nbb_cells[i].input_prompt_number == nbb_cell_id) {\n",
       "                        if (nbb_cells[i].get_text() == nbb_unformatted_code) {\n",
       "                             nbb_cells[i].set_text(nbb_formatted_code);\n",
       "                        }\n",
       "                        break;\n",
       "                    }\n",
       "                }\n",
       "            }, 500);\n",
       "            "
      ],
      "text/plain": [
       "<IPython.core.display.Javascript object>"
      ]
     },
     "metadata": {},
     "output_type": "display_data"
    }
   ],
   "source": [
    "def print_vif(x):\n",
    "    \"\"\"Utility for checking multicollinearity assumption\n",
    "    \n",
    "    :param x: input features to check using VIF. This is assumed to be a pandas.DataFrame\n",
    "    :return: nothing is returned the VIFs are printed as a pandas series\n",
    "    \"\"\"\n",
    "    # Silence numpy FutureWarning about .ptp\n",
    "    with warnings.catch_warnings():\n",
    "        warnings.simplefilter(\"ignore\")\n",
    "        x = sm.add_constant(x)\n",
    "\n",
    "    vifs = []\n",
    "    for i in range(x.shape[1]):\n",
    "        vif = variance_inflation_factor(x.values, i)\n",
    "        vifs.append(vif)\n",
    "\n",
    "    print(\"VIF results\\n-------------------------------\")\n",
    "    print(pd.Series(vifs, index=x.columns))\n",
    "    print(\"-------------------------------\\n\")"
   ]
  },
  {
   "cell_type": "code",
   "execution_count": 4,
   "metadata": {},
   "outputs": [
    {
     "data": {
      "application/javascript": [
       "\n",
       "            setTimeout(function() {\n",
       "                var nbb_cell_id = 4;\n",
       "                var nbb_unformatted_code = \"feat_30_loc = \\\"../data/features_30_sec.csv\\\"\\nfeat_3_loc = \\\"../data/features_3_sec.csv\\\"\\n# named long and short to differentiate easier\\nlong = pd.read_csv(feat_30_loc)\\nshort = pd.read_csv(feat_3_loc)\\n\\nlong_og = long.copy()\\nshort_og = short.copy()\";\n",
       "                var nbb_formatted_code = \"feat_30_loc = \\\"../data/features_30_sec.csv\\\"\\nfeat_3_loc = \\\"../data/features_3_sec.csv\\\"\\n# named long and short to differentiate easier\\nlong = pd.read_csv(feat_30_loc)\\nshort = pd.read_csv(feat_3_loc)\\n\\nlong_og = long.copy()\\nshort_og = short.copy()\";\n",
       "                var nbb_cells = Jupyter.notebook.get_cells();\n",
       "                for (var i = 0; i < nbb_cells.length; ++i) {\n",
       "                    if (nbb_cells[i].input_prompt_number == nbb_cell_id) {\n",
       "                        if (nbb_cells[i].get_text() == nbb_unformatted_code) {\n",
       "                             nbb_cells[i].set_text(nbb_formatted_code);\n",
       "                        }\n",
       "                        break;\n",
       "                    }\n",
       "                }\n",
       "            }, 500);\n",
       "            "
      ],
      "text/plain": [
       "<IPython.core.display.Javascript object>"
      ]
     },
     "metadata": {},
     "output_type": "display_data"
    }
   ],
   "source": [
    "feat_30_loc = \"../data/features_30_sec.csv\"\n",
    "feat_3_loc = \"../data/features_3_sec.csv\"\n",
    "# named long and short to differentiate easier\n",
    "long = pd.read_csv(feat_30_loc)\n",
    "short = pd.read_csv(feat_3_loc)\n",
    "\n",
    "long_og = long.copy()\n",
    "short_og = short.copy()"
   ]
  },
  {
   "cell_type": "code",
   "execution_count": 5,
   "metadata": {},
   "outputs": [
    {
     "data": {
      "application/javascript": [
       "\n",
       "            setTimeout(function() {\n",
       "                var nbb_cell_id = 5;\n",
       "                var nbb_unformatted_code = \"var_cols = short.columns[short.columns.str.contains(\\\"_var\\\")]\\nlogged_var_long_df = long.copy()\\nlogged_var_short_df = short.copy()\\nfor col in var_cols:\\n    logged_var_long_df[col + \\\"_logged\\\"] = np.log(logged_var_long_df[col])\\n    logged_var_long_df = logged_var_long_df.drop(col, 1)\\n    logged_var_short_df[col + \\\"_logged\\\"] = np.log(logged_var_short_df[col])\\n    logged_var_short_df = logged_var_short_df.drop(col, 1)\";\n",
       "                var nbb_formatted_code = \"var_cols = short.columns[short.columns.str.contains(\\\"_var\\\")]\\nlogged_var_long_df = long.copy()\\nlogged_var_short_df = short.copy()\\nfor col in var_cols:\\n    logged_var_long_df[col + \\\"_logged\\\"] = np.log(logged_var_long_df[col])\\n    logged_var_long_df = logged_var_long_df.drop(col, 1)\\n    logged_var_short_df[col + \\\"_logged\\\"] = np.log(logged_var_short_df[col])\\n    logged_var_short_df = logged_var_short_df.drop(col, 1)\";\n",
       "                var nbb_cells = Jupyter.notebook.get_cells();\n",
       "                for (var i = 0; i < nbb_cells.length; ++i) {\n",
       "                    if (nbb_cells[i].input_prompt_number == nbb_cell_id) {\n",
       "                        if (nbb_cells[i].get_text() == nbb_unformatted_code) {\n",
       "                             nbb_cells[i].set_text(nbb_formatted_code);\n",
       "                        }\n",
       "                        break;\n",
       "                    }\n",
       "                }\n",
       "            }, 500);\n",
       "            "
      ],
      "text/plain": [
       "<IPython.core.display.Javascript object>"
      ]
     },
     "metadata": {},
     "output_type": "display_data"
    }
   ],
   "source": [
    "var_cols = short.columns[short.columns.str.contains(\"_var\")]\n",
    "logged_var_long_df = long.copy()\n",
    "logged_var_short_df = short.copy()\n",
    "for col in var_cols:\n",
    "    logged_var_long_df[col + \"_logged\"] = np.log(logged_var_long_df[col])\n",
    "    logged_var_long_df = logged_var_long_df.drop(col, 1)\n",
    "    logged_var_short_df[col + \"_logged\"] = np.log(logged_var_short_df[col])\n",
    "    logged_var_short_df = logged_var_short_df.drop(col, 1)"
   ]
  },
  {
   "cell_type": "code",
   "execution_count": 6,
   "metadata": {},
   "outputs": [
    {
     "data": {
      "application/javascript": [
       "\n",
       "            setTimeout(function() {\n",
       "                var nbb_cell_id = 6;\n",
       "                var nbb_unformatted_code = \"long_X = logged_var_long_df.drop(\\\"label\\\", 1)\\nlong_y = logged_var_long_df[\\\"label\\\"]\\n\\nlong_X_train, long_X_test, long_y_train, long_y_test = train_test_split(\\n    long_X, long_y, test_size=0.2, random_state=34, stratify=long_y\\n)\";\n",
       "                var nbb_formatted_code = \"long_X = logged_var_long_df.drop(\\\"label\\\", 1)\\nlong_y = logged_var_long_df[\\\"label\\\"]\\n\\nlong_X_train, long_X_test, long_y_train, long_y_test = train_test_split(\\n    long_X, long_y, test_size=0.2, random_state=34, stratify=long_y\\n)\";\n",
       "                var nbb_cells = Jupyter.notebook.get_cells();\n",
       "                for (var i = 0; i < nbb_cells.length; ++i) {\n",
       "                    if (nbb_cells[i].input_prompt_number == nbb_cell_id) {\n",
       "                        if (nbb_cells[i].get_text() == nbb_unformatted_code) {\n",
       "                             nbb_cells[i].set_text(nbb_formatted_code);\n",
       "                        }\n",
       "                        break;\n",
       "                    }\n",
       "                }\n",
       "            }, 500);\n",
       "            "
      ],
      "text/plain": [
       "<IPython.core.display.Javascript object>"
      ]
     },
     "metadata": {},
     "output_type": "display_data"
    }
   ],
   "source": [
    "long_X = logged_var_long_df.drop(\"label\", 1)\n",
    "long_y = logged_var_long_df[\"label\"]\n",
    "\n",
    "long_X_train, long_X_test, long_y_train, long_y_test = train_test_split(\n",
    "    long_X, long_y, test_size=0.2, random_state=34, stratify=long_y\n",
    ")"
   ]
  },
  {
   "cell_type": "code",
   "execution_count": 7,
   "metadata": {},
   "outputs": [
    {
     "data": {
      "text/html": [
       "<div>\n",
       "<style scoped>\n",
       "    .dataframe tbody tr th:only-of-type {\n",
       "        vertical-align: middle;\n",
       "    }\n",
       "\n",
       "    .dataframe tbody tr th {\n",
       "        vertical-align: top;\n",
       "    }\n",
       "\n",
       "    .dataframe thead th {\n",
       "        text-align: right;\n",
       "    }\n",
       "</style>\n",
       "<table border=\"1\" class=\"dataframe\">\n",
       "  <thead>\n",
       "    <tr style=\"text-align: right;\">\n",
       "      <th></th>\n",
       "      <th>filename</th>\n",
       "      <th>length</th>\n",
       "      <th>chroma_stft_mean</th>\n",
       "      <th>rms_mean</th>\n",
       "      <th>spectral_centroid_mean</th>\n",
       "      <th>spectral_bandwidth_mean</th>\n",
       "      <th>rolloff_mean</th>\n",
       "      <th>zero_crossing_rate_mean</th>\n",
       "      <th>harmony_mean</th>\n",
       "      <th>perceptr_mean</th>\n",
       "      <th>...</th>\n",
       "      <th>mfcc11_var_logged</th>\n",
       "      <th>mfcc12_var_logged</th>\n",
       "      <th>mfcc13_var_logged</th>\n",
       "      <th>mfcc14_var_logged</th>\n",
       "      <th>mfcc15_var_logged</th>\n",
       "      <th>mfcc16_var_logged</th>\n",
       "      <th>mfcc17_var_logged</th>\n",
       "      <th>mfcc18_var_logged</th>\n",
       "      <th>mfcc19_var_logged</th>\n",
       "      <th>mfcc20_var_logged</th>\n",
       "    </tr>\n",
       "  </thead>\n",
       "  <tbody>\n",
       "    <tr>\n",
       "      <th>0</th>\n",
       "      <td>blues.00000.0.wav</td>\n",
       "      <td>66149</td>\n",
       "      <td>0.335406</td>\n",
       "      <td>0.130405</td>\n",
       "      <td>1773.065032</td>\n",
       "      <td>1972.744388</td>\n",
       "      <td>3714.560359</td>\n",
       "      <td>0.081851</td>\n",
       "      <td>-0.000078</td>\n",
       "      <td>-0.000068</td>\n",
       "      <td>...</td>\n",
       "      <td>4.199753</td>\n",
       "      <td>3.808962</td>\n",
       "      <td>3.531333</td>\n",
       "      <td>3.876799</td>\n",
       "      <td>3.755859</td>\n",
       "      <td>3.681027</td>\n",
       "      <td>3.596990</td>\n",
       "      <td>3.640192</td>\n",
       "      <td>3.515064</td>\n",
       "      <td>3.778989</td>\n",
       "    </tr>\n",
       "    <tr>\n",
       "      <th>1</th>\n",
       "      <td>blues.00000.1.wav</td>\n",
       "      <td>66149</td>\n",
       "      <td>0.343065</td>\n",
       "      <td>0.112699</td>\n",
       "      <td>1816.693777</td>\n",
       "      <td>2010.051501</td>\n",
       "      <td>3869.682242</td>\n",
       "      <td>0.087173</td>\n",
       "      <td>-0.000099</td>\n",
       "      <td>-0.000103</td>\n",
       "      <td>...</td>\n",
       "      <td>3.995884</td>\n",
       "      <td>3.705316</td>\n",
       "      <td>3.427791</td>\n",
       "      <td>3.887407</td>\n",
       "      <td>4.228071</td>\n",
       "      <td>4.170507</td>\n",
       "      <td>3.705679</td>\n",
       "      <td>3.936991</td>\n",
       "      <td>4.575029</td>\n",
       "      <td>4.093395</td>\n",
       "    </tr>\n",
       "    <tr>\n",
       "      <th>2</th>\n",
       "      <td>blues.00000.2.wav</td>\n",
       "      <td>66149</td>\n",
       "      <td>0.346815</td>\n",
       "      <td>0.132003</td>\n",
       "      <td>1788.539719</td>\n",
       "      <td>2084.565132</td>\n",
       "      <td>3997.639160</td>\n",
       "      <td>0.071383</td>\n",
       "      <td>-0.000066</td>\n",
       "      <td>0.000065</td>\n",
       "      <td>...</td>\n",
       "      <td>3.869358</td>\n",
       "      <td>3.599226</td>\n",
       "      <td>3.706844</td>\n",
       "      <td>3.423834</td>\n",
       "      <td>3.918273</td>\n",
       "      <td>4.209703</td>\n",
       "      <td>3.344577</td>\n",
       "      <td>3.822484</td>\n",
       "      <td>3.971251</td>\n",
       "      <td>3.499688</td>\n",
       "    </tr>\n",
       "    <tr>\n",
       "      <th>3</th>\n",
       "      <td>blues.00000.3.wav</td>\n",
       "      <td>66149</td>\n",
       "      <td>0.363639</td>\n",
       "      <td>0.132565</td>\n",
       "      <td>1655.289045</td>\n",
       "      <td>1960.039988</td>\n",
       "      <td>3568.300218</td>\n",
       "      <td>0.069426</td>\n",
       "      <td>-0.000014</td>\n",
       "      <td>0.000018</td>\n",
       "      <td>...</td>\n",
       "      <td>4.069718</td>\n",
       "      <td>3.666174</td>\n",
       "      <td>4.106187</td>\n",
       "      <td>3.699115</td>\n",
       "      <td>3.799220</td>\n",
       "      <td>3.865758</td>\n",
       "      <td>3.344173</td>\n",
       "      <td>3.548782</td>\n",
       "      <td>3.928609</td>\n",
       "      <td>3.466476</td>\n",
       "    </tr>\n",
       "    <tr>\n",
       "      <th>4</th>\n",
       "      <td>blues.00000.4.wav</td>\n",
       "      <td>66149</td>\n",
       "      <td>0.335579</td>\n",
       "      <td>0.143289</td>\n",
       "      <td>1630.656199</td>\n",
       "      <td>1948.503884</td>\n",
       "      <td>3469.992864</td>\n",
       "      <td>0.070095</td>\n",
       "      <td>0.000041</td>\n",
       "      <td>-0.000106</td>\n",
       "      <td>...</td>\n",
       "      <td>4.007883</td>\n",
       "      <td>3.766533</td>\n",
       "      <td>3.839780</td>\n",
       "      <td>3.217123</td>\n",
       "      <td>3.684292</td>\n",
       "      <td>3.412347</td>\n",
       "      <td>3.826049</td>\n",
       "      <td>3.938929</td>\n",
       "      <td>3.286115</td>\n",
       "      <td>3.372341</td>\n",
       "    </tr>\n",
       "    <tr>\n",
       "      <th>5</th>\n",
       "      <td>blues.00000.5.wav</td>\n",
       "      <td>66149</td>\n",
       "      <td>0.376670</td>\n",
       "      <td>0.132618</td>\n",
       "      <td>1994.915219</td>\n",
       "      <td>2152.767854</td>\n",
       "      <td>4371.985614</td>\n",
       "      <td>0.092420</td>\n",
       "      <td>-0.000039</td>\n",
       "      <td>-0.000254</td>\n",
       "      <td>...</td>\n",
       "      <td>3.651722</td>\n",
       "      <td>3.424630</td>\n",
       "      <td>3.641021</td>\n",
       "      <td>3.387925</td>\n",
       "      <td>3.071240</td>\n",
       "      <td>3.448338</td>\n",
       "      <td>3.534683</td>\n",
       "      <td>3.708464</td>\n",
       "      <td>3.479944</td>\n",
       "      <td>3.363589</td>\n",
       "    </tr>\n",
       "    <tr>\n",
       "      <th>6</th>\n",
       "      <td>blues.00000.6.wav</td>\n",
       "      <td>66149</td>\n",
       "      <td>0.379909</td>\n",
       "      <td>0.130335</td>\n",
       "      <td>1962.150096</td>\n",
       "      <td>2146.503479</td>\n",
       "      <td>4325.026668</td>\n",
       "      <td>0.089573</td>\n",
       "      <td>-0.000053</td>\n",
       "      <td>0.000214</td>\n",
       "      <td>...</td>\n",
       "      <td>4.385335</td>\n",
       "      <td>3.827220</td>\n",
       "      <td>3.729863</td>\n",
       "      <td>3.872221</td>\n",
       "      <td>3.333365</td>\n",
       "      <td>3.525009</td>\n",
       "      <td>3.243516</td>\n",
       "      <td>3.870319</td>\n",
       "      <td>3.673315</td>\n",
       "      <td>3.258063</td>\n",
       "    </tr>\n",
       "    <tr>\n",
       "      <th>7</th>\n",
       "      <td>blues.00000.7.wav</td>\n",
       "      <td>66149</td>\n",
       "      <td>0.331880</td>\n",
       "      <td>0.140600</td>\n",
       "      <td>1701.890924</td>\n",
       "      <td>1979.387612</td>\n",
       "      <td>3625.280386</td>\n",
       "      <td>0.070936</td>\n",
       "      <td>0.000019</td>\n",
       "      <td>-0.000090</td>\n",
       "      <td>...</td>\n",
       "      <td>3.921640</td>\n",
       "      <td>3.932056</td>\n",
       "      <td>3.683036</td>\n",
       "      <td>3.505163</td>\n",
       "      <td>3.805174</td>\n",
       "      <td>3.649520</td>\n",
       "      <td>3.199909</td>\n",
       "      <td>3.285268</td>\n",
       "      <td>3.142013</td>\n",
       "      <td>3.749809</td>\n",
       "    </tr>\n",
       "    <tr>\n",
       "      <th>8</th>\n",
       "      <td>blues.00000.8.wav</td>\n",
       "      <td>66149</td>\n",
       "      <td>0.347877</td>\n",
       "      <td>0.133130</td>\n",
       "      <td>1746.473502</td>\n",
       "      <td>1887.619723</td>\n",
       "      <td>3586.934721</td>\n",
       "      <td>0.087669</td>\n",
       "      <td>-0.000081</td>\n",
       "      <td>-0.000059</td>\n",
       "      <td>...</td>\n",
       "      <td>3.966541</td>\n",
       "      <td>3.429400</td>\n",
       "      <td>3.616207</td>\n",
       "      <td>3.869016</td>\n",
       "      <td>4.068214</td>\n",
       "      <td>3.791243</td>\n",
       "      <td>3.396961</td>\n",
       "      <td>3.521737</td>\n",
       "      <td>4.392130</td>\n",
       "      <td>4.581070</td>\n",
       "    </tr>\n",
       "    <tr>\n",
       "      <th>9</th>\n",
       "      <td>blues.00000.9.wav</td>\n",
       "      <td>66149</td>\n",
       "      <td>0.358061</td>\n",
       "      <td>0.115312</td>\n",
       "      <td>1763.948942</td>\n",
       "      <td>1874.195710</td>\n",
       "      <td>3505.522649</td>\n",
       "      <td>0.101777</td>\n",
       "      <td>-0.000117</td>\n",
       "      <td>0.000166</td>\n",
       "      <td>...</td>\n",
       "      <td>4.105441</td>\n",
       "      <td>4.170912</td>\n",
       "      <td>3.300678</td>\n",
       "      <td>3.702551</td>\n",
       "      <td>3.922384</td>\n",
       "      <td>3.783458</td>\n",
       "      <td>3.885103</td>\n",
       "      <td>3.733842</td>\n",
       "      <td>4.566987</td>\n",
       "      <td>3.699236</td>\n",
       "    </tr>\n",
       "  </tbody>\n",
       "</table>\n",
       "<p>10 rows × 60 columns</p>\n",
       "</div>"
      ],
      "text/plain": [
       "            filename  length  chroma_stft_mean  rms_mean  \\\n",
       "0  blues.00000.0.wav   66149          0.335406  0.130405   \n",
       "1  blues.00000.1.wav   66149          0.343065  0.112699   \n",
       "2  blues.00000.2.wav   66149          0.346815  0.132003   \n",
       "3  blues.00000.3.wav   66149          0.363639  0.132565   \n",
       "4  blues.00000.4.wav   66149          0.335579  0.143289   \n",
       "5  blues.00000.5.wav   66149          0.376670  0.132618   \n",
       "6  blues.00000.6.wav   66149          0.379909  0.130335   \n",
       "7  blues.00000.7.wav   66149          0.331880  0.140600   \n",
       "8  blues.00000.8.wav   66149          0.347877  0.133130   \n",
       "9  blues.00000.9.wav   66149          0.358061  0.115312   \n",
       "\n",
       "   spectral_centroid_mean  spectral_bandwidth_mean  rolloff_mean  \\\n",
       "0             1773.065032              1972.744388   3714.560359   \n",
       "1             1816.693777              2010.051501   3869.682242   \n",
       "2             1788.539719              2084.565132   3997.639160   \n",
       "3             1655.289045              1960.039988   3568.300218   \n",
       "4             1630.656199              1948.503884   3469.992864   \n",
       "5             1994.915219              2152.767854   4371.985614   \n",
       "6             1962.150096              2146.503479   4325.026668   \n",
       "7             1701.890924              1979.387612   3625.280386   \n",
       "8             1746.473502              1887.619723   3586.934721   \n",
       "9             1763.948942              1874.195710   3505.522649   \n",
       "\n",
       "   zero_crossing_rate_mean  harmony_mean  perceptr_mean  ...  \\\n",
       "0                 0.081851     -0.000078      -0.000068  ...   \n",
       "1                 0.087173     -0.000099      -0.000103  ...   \n",
       "2                 0.071383     -0.000066       0.000065  ...   \n",
       "3                 0.069426     -0.000014       0.000018  ...   \n",
       "4                 0.070095      0.000041      -0.000106  ...   \n",
       "5                 0.092420     -0.000039      -0.000254  ...   \n",
       "6                 0.089573     -0.000053       0.000214  ...   \n",
       "7                 0.070936      0.000019      -0.000090  ...   \n",
       "8                 0.087669     -0.000081      -0.000059  ...   \n",
       "9                 0.101777     -0.000117       0.000166  ...   \n",
       "\n",
       "   mfcc11_var_logged  mfcc12_var_logged  mfcc13_var_logged  mfcc14_var_logged  \\\n",
       "0           4.199753           3.808962           3.531333           3.876799   \n",
       "1           3.995884           3.705316           3.427791           3.887407   \n",
       "2           3.869358           3.599226           3.706844           3.423834   \n",
       "3           4.069718           3.666174           4.106187           3.699115   \n",
       "4           4.007883           3.766533           3.839780           3.217123   \n",
       "5           3.651722           3.424630           3.641021           3.387925   \n",
       "6           4.385335           3.827220           3.729863           3.872221   \n",
       "7           3.921640           3.932056           3.683036           3.505163   \n",
       "8           3.966541           3.429400           3.616207           3.869016   \n",
       "9           4.105441           4.170912           3.300678           3.702551   \n",
       "\n",
       "   mfcc15_var_logged  mfcc16_var_logged  mfcc17_var_logged  mfcc18_var_logged  \\\n",
       "0           3.755859           3.681027           3.596990           3.640192   \n",
       "1           4.228071           4.170507           3.705679           3.936991   \n",
       "2           3.918273           4.209703           3.344577           3.822484   \n",
       "3           3.799220           3.865758           3.344173           3.548782   \n",
       "4           3.684292           3.412347           3.826049           3.938929   \n",
       "5           3.071240           3.448338           3.534683           3.708464   \n",
       "6           3.333365           3.525009           3.243516           3.870319   \n",
       "7           3.805174           3.649520           3.199909           3.285268   \n",
       "8           4.068214           3.791243           3.396961           3.521737   \n",
       "9           3.922384           3.783458           3.885103           3.733842   \n",
       "\n",
       "   mfcc19_var_logged  mfcc20_var_logged  \n",
       "0           3.515064           3.778989  \n",
       "1           4.575029           4.093395  \n",
       "2           3.971251           3.499688  \n",
       "3           3.928609           3.466476  \n",
       "4           3.286115           3.372341  \n",
       "5           3.479944           3.363589  \n",
       "6           3.673315           3.258063  \n",
       "7           3.142013           3.749809  \n",
       "8           4.392130           4.581070  \n",
       "9           4.566987           3.699236  \n",
       "\n",
       "[10 rows x 60 columns]"
      ]
     },
     "execution_count": 7,
     "metadata": {},
     "output_type": "execute_result"
    },
    {
     "data": {
      "application/javascript": [
       "\n",
       "            setTimeout(function() {\n",
       "                var nbb_cell_id = 7;\n",
       "                var nbb_unformatted_code = \"files_stripped = long_X_train[\\\"filename\\\"].str.strip(\\\".wav\\\")\\nshort_train_df = logged_var_short_df[\\n    logged_var_short_df[\\\"filename\\\"].str.slice(0, -6).isin(list(files_stripped))\\n]\\nshort_train_df.head(10)\";\n",
       "                var nbb_formatted_code = \"files_stripped = long_X_train[\\\"filename\\\"].str.strip(\\\".wav\\\")\\nshort_train_df = logged_var_short_df[\\n    logged_var_short_df[\\\"filename\\\"].str.slice(0, -6).isin(list(files_stripped))\\n]\\nshort_train_df.head(10)\";\n",
       "                var nbb_cells = Jupyter.notebook.get_cells();\n",
       "                for (var i = 0; i < nbb_cells.length; ++i) {\n",
       "                    if (nbb_cells[i].input_prompt_number == nbb_cell_id) {\n",
       "                        if (nbb_cells[i].get_text() == nbb_unformatted_code) {\n",
       "                             nbb_cells[i].set_text(nbb_formatted_code);\n",
       "                        }\n",
       "                        break;\n",
       "                    }\n",
       "                }\n",
       "            }, 500);\n",
       "            "
      ],
      "text/plain": [
       "<IPython.core.display.Javascript object>"
      ]
     },
     "metadata": {},
     "output_type": "display_data"
    }
   ],
   "source": [
    "files_stripped = long_X_train[\"filename\"].str.strip(\".wav\")\n",
    "short_train_df = logged_var_short_df[\n",
    "    logged_var_short_df[\"filename\"].str.slice(0, -6).isin(list(files_stripped))\n",
    "]\n",
    "short_train_df.head(10)"
   ]
  },
  {
   "cell_type": "code",
   "execution_count": 8,
   "metadata": {},
   "outputs": [
    {
     "data": {
      "text/html": [
       "<div>\n",
       "<style scoped>\n",
       "    .dataframe tbody tr th:only-of-type {\n",
       "        vertical-align: middle;\n",
       "    }\n",
       "\n",
       "    .dataframe tbody tr th {\n",
       "        vertical-align: top;\n",
       "    }\n",
       "\n",
       "    .dataframe thead th {\n",
       "        text-align: right;\n",
       "    }\n",
       "</style>\n",
       "<table border=\"1\" class=\"dataframe\">\n",
       "  <thead>\n",
       "    <tr style=\"text-align: right;\">\n",
       "      <th></th>\n",
       "      <th>filename</th>\n",
       "      <th>length</th>\n",
       "      <th>chroma_stft_mean</th>\n",
       "      <th>rms_mean</th>\n",
       "      <th>spectral_centroid_mean</th>\n",
       "      <th>spectral_bandwidth_mean</th>\n",
       "      <th>rolloff_mean</th>\n",
       "      <th>zero_crossing_rate_mean</th>\n",
       "      <th>harmony_mean</th>\n",
       "      <th>perceptr_mean</th>\n",
       "      <th>...</th>\n",
       "      <th>mfcc11_var_logged</th>\n",
       "      <th>mfcc12_var_logged</th>\n",
       "      <th>mfcc13_var_logged</th>\n",
       "      <th>mfcc14_var_logged</th>\n",
       "      <th>mfcc15_var_logged</th>\n",
       "      <th>mfcc16_var_logged</th>\n",
       "      <th>mfcc17_var_logged</th>\n",
       "      <th>mfcc18_var_logged</th>\n",
       "      <th>mfcc19_var_logged</th>\n",
       "      <th>mfcc20_var_logged</th>\n",
       "    </tr>\n",
       "  </thead>\n",
       "  <tbody>\n",
       "    <tr>\n",
       "      <th>50</th>\n",
       "      <td>blues.00005.0.wav</td>\n",
       "      <td>66149</td>\n",
       "      <td>0.302958</td>\n",
       "      <td>0.074403</td>\n",
       "      <td>1148.336755</td>\n",
       "      <td>1481.481546</td>\n",
       "      <td>2285.749512</td>\n",
       "      <td>0.049448</td>\n",
       "      <td>-0.000021</td>\n",
       "      <td>-0.000021</td>\n",
       "      <td>...</td>\n",
       "      <td>3.129887</td>\n",
       "      <td>4.317805</td>\n",
       "      <td>3.868644</td>\n",
       "      <td>3.198746</td>\n",
       "      <td>3.220440</td>\n",
       "      <td>3.638702</td>\n",
       "      <td>2.955164</td>\n",
       "      <td>3.163215</td>\n",
       "      <td>3.462902</td>\n",
       "      <td>3.156687</td>\n",
       "    </tr>\n",
       "    <tr>\n",
       "      <th>51</th>\n",
       "      <td>blues.00005.1.wav</td>\n",
       "      <td>66149</td>\n",
       "      <td>0.325506</td>\n",
       "      <td>0.080293</td>\n",
       "      <td>1210.571572</td>\n",
       "      <td>1424.920044</td>\n",
       "      <td>2228.934983</td>\n",
       "      <td>0.057752</td>\n",
       "      <td>0.000025</td>\n",
       "      <td>-0.000009</td>\n",
       "      <td>...</td>\n",
       "      <td>3.874508</td>\n",
       "      <td>3.669179</td>\n",
       "      <td>3.952440</td>\n",
       "      <td>3.325389</td>\n",
       "      <td>2.593266</td>\n",
       "      <td>3.462044</td>\n",
       "      <td>3.741462</td>\n",
       "      <td>3.500137</td>\n",
       "      <td>2.721179</td>\n",
       "      <td>3.418986</td>\n",
       "    </tr>\n",
       "    <tr>\n",
       "      <th>52</th>\n",
       "      <td>blues.00005.2.wav</td>\n",
       "      <td>66149</td>\n",
       "      <td>0.299864</td>\n",
       "      <td>0.156715</td>\n",
       "      <td>3191.200301</td>\n",
       "      <td>2190.240135</td>\n",
       "      <td>5734.540452</td>\n",
       "      <td>0.190655</td>\n",
       "      <td>-0.000002</td>\n",
       "      <td>-0.000026</td>\n",
       "      <td>...</td>\n",
       "      <td>4.811318</td>\n",
       "      <td>4.949066</td>\n",
       "      <td>4.504757</td>\n",
       "      <td>4.642990</td>\n",
       "      <td>5.082304</td>\n",
       "      <td>4.432605</td>\n",
       "      <td>4.186323</td>\n",
       "      <td>4.351435</td>\n",
       "      <td>3.565979</td>\n",
       "      <td>4.315627</td>\n",
       "    </tr>\n",
       "    <tr>\n",
       "      <th>53</th>\n",
       "      <td>blues.00005.3.wav</td>\n",
       "      <td>66149</td>\n",
       "      <td>0.299961</td>\n",
       "      <td>0.124830</td>\n",
       "      <td>2124.493966</td>\n",
       "      <td>1771.906237</td>\n",
       "      <td>3852.538499</td>\n",
       "      <td>0.121161</td>\n",
       "      <td>0.000025</td>\n",
       "      <td>-0.000017</td>\n",
       "      <td>...</td>\n",
       "      <td>3.871562</td>\n",
       "      <td>4.349438</td>\n",
       "      <td>4.354326</td>\n",
       "      <td>3.760185</td>\n",
       "      <td>4.023502</td>\n",
       "      <td>4.525363</td>\n",
       "      <td>4.240223</td>\n",
       "      <td>4.191362</td>\n",
       "      <td>3.508737</td>\n",
       "      <td>3.779347</td>\n",
       "    </tr>\n",
       "    <tr>\n",
       "      <th>54</th>\n",
       "      <td>blues.00005.4.wav</td>\n",
       "      <td>66149</td>\n",
       "      <td>0.323245</td>\n",
       "      <td>0.073035</td>\n",
       "      <td>2446.168018</td>\n",
       "      <td>2092.543627</td>\n",
       "      <td>4750.638709</td>\n",
       "      <td>0.114742</td>\n",
       "      <td>-0.000025</td>\n",
       "      <td>-0.000051</td>\n",
       "      <td>...</td>\n",
       "      <td>5.086935</td>\n",
       "      <td>4.709287</td>\n",
       "      <td>4.623443</td>\n",
       "      <td>3.945663</td>\n",
       "      <td>5.041515</td>\n",
       "      <td>4.050801</td>\n",
       "      <td>4.139557</td>\n",
       "      <td>3.832766</td>\n",
       "      <td>3.993757</td>\n",
       "      <td>3.859010</td>\n",
       "    </tr>\n",
       "    <tr>\n",
       "      <th>...</th>\n",
       "      <td>...</td>\n",
       "      <td>...</td>\n",
       "      <td>...</td>\n",
       "      <td>...</td>\n",
       "      <td>...</td>\n",
       "      <td>...</td>\n",
       "      <td>...</td>\n",
       "      <td>...</td>\n",
       "      <td>...</td>\n",
       "      <td>...</td>\n",
       "      <td>...</td>\n",
       "      <td>...</td>\n",
       "      <td>...</td>\n",
       "      <td>...</td>\n",
       "      <td>...</td>\n",
       "      <td>...</td>\n",
       "      <td>...</td>\n",
       "      <td>...</td>\n",
       "      <td>...</td>\n",
       "      <td>...</td>\n",
       "      <td>...</td>\n",
       "    </tr>\n",
       "    <tr>\n",
       "      <th>9985</th>\n",
       "      <td>rock.00099.5.wav</td>\n",
       "      <td>66149</td>\n",
       "      <td>0.349126</td>\n",
       "      <td>0.050019</td>\n",
       "      <td>1499.083005</td>\n",
       "      <td>1718.707215</td>\n",
       "      <td>3015.559458</td>\n",
       "      <td>0.072885</td>\n",
       "      <td>-0.000034</td>\n",
       "      <td>-0.000020</td>\n",
       "      <td>...</td>\n",
       "      <td>3.416803</td>\n",
       "      <td>3.839206</td>\n",
       "      <td>3.935643</td>\n",
       "      <td>3.410298</td>\n",
       "      <td>4.386414</td>\n",
       "      <td>3.749174</td>\n",
       "      <td>3.646150</td>\n",
       "      <td>3.435594</td>\n",
       "      <td>3.887814</td>\n",
       "      <td>3.662714</td>\n",
       "    </tr>\n",
       "    <tr>\n",
       "      <th>9986</th>\n",
       "      <td>rock.00099.6.wav</td>\n",
       "      <td>66149</td>\n",
       "      <td>0.372564</td>\n",
       "      <td>0.057897</td>\n",
       "      <td>1847.965128</td>\n",
       "      <td>1906.468492</td>\n",
       "      <td>3746.694524</td>\n",
       "      <td>0.089111</td>\n",
       "      <td>-0.000027</td>\n",
       "      <td>-0.000045</td>\n",
       "      <td>...</td>\n",
       "      <td>3.501858</td>\n",
       "      <td>3.690007</td>\n",
       "      <td>3.688708</td>\n",
       "      <td>3.818595</td>\n",
       "      <td>3.533665</td>\n",
       "      <td>3.478628</td>\n",
       "      <td>4.195977</td>\n",
       "      <td>3.996626</td>\n",
       "      <td>4.150288</td>\n",
       "      <td>2.928365</td>\n",
       "    </tr>\n",
       "    <tr>\n",
       "      <th>9987</th>\n",
       "      <td>rock.00099.7.wav</td>\n",
       "      <td>66149</td>\n",
       "      <td>0.347481</td>\n",
       "      <td>0.052403</td>\n",
       "      <td>1346.157659</td>\n",
       "      <td>1561.859087</td>\n",
       "      <td>2442.362154</td>\n",
       "      <td>0.072194</td>\n",
       "      <td>0.000015</td>\n",
       "      <td>-0.000029</td>\n",
       "      <td>...</td>\n",
       "      <td>4.520072</td>\n",
       "      <td>3.518154</td>\n",
       "      <td>3.361223</td>\n",
       "      <td>4.594477</td>\n",
       "      <td>3.787080</td>\n",
       "      <td>4.359630</td>\n",
       "      <td>3.080946</td>\n",
       "      <td>3.257359</td>\n",
       "      <td>3.883261</td>\n",
       "      <td>3.727787</td>\n",
       "    </tr>\n",
       "    <tr>\n",
       "      <th>9988</th>\n",
       "      <td>rock.00099.8.wav</td>\n",
       "      <td>66149</td>\n",
       "      <td>0.387527</td>\n",
       "      <td>0.066430</td>\n",
       "      <td>2084.515327</td>\n",
       "      <td>2018.366254</td>\n",
       "      <td>4313.266226</td>\n",
       "      <td>0.104072</td>\n",
       "      <td>0.000004</td>\n",
       "      <td>-0.000048</td>\n",
       "      <td>...</td>\n",
       "      <td>3.353508</td>\n",
       "      <td>3.200891</td>\n",
       "      <td>2.922559</td>\n",
       "      <td>2.939444</td>\n",
       "      <td>3.026968</td>\n",
       "      <td>3.343700</td>\n",
       "      <td>2.845487</td>\n",
       "      <td>3.065395</td>\n",
       "      <td>3.212601</td>\n",
       "      <td>2.548488</td>\n",
       "    </tr>\n",
       "    <tr>\n",
       "      <th>9989</th>\n",
       "      <td>rock.00099.9.wav</td>\n",
       "      <td>66149</td>\n",
       "      <td>0.369293</td>\n",
       "      <td>0.050524</td>\n",
       "      <td>1634.330126</td>\n",
       "      <td>1867.422378</td>\n",
       "      <td>3462.042142</td>\n",
       "      <td>0.068495</td>\n",
       "      <td>-0.000032</td>\n",
       "      <td>0.000014</td>\n",
       "      <td>...</td>\n",
       "      <td>3.998745</td>\n",
       "      <td>3.606982</td>\n",
       "      <td>3.768376</td>\n",
       "      <td>3.554817</td>\n",
       "      <td>3.366953</td>\n",
       "      <td>3.658465</td>\n",
       "      <td>4.077251</td>\n",
       "      <td>4.021080</td>\n",
       "      <td>3.675944</td>\n",
       "      <td>3.457183</td>\n",
       "    </tr>\n",
       "  </tbody>\n",
       "</table>\n",
       "<p>2000 rows × 60 columns</p>\n",
       "</div>"
      ],
      "text/plain": [
       "               filename  length  chroma_stft_mean  rms_mean  \\\n",
       "50    blues.00005.0.wav   66149          0.302958  0.074403   \n",
       "51    blues.00005.1.wav   66149          0.325506  0.080293   \n",
       "52    blues.00005.2.wav   66149          0.299864  0.156715   \n",
       "53    blues.00005.3.wav   66149          0.299961  0.124830   \n",
       "54    blues.00005.4.wav   66149          0.323245  0.073035   \n",
       "...                 ...     ...               ...       ...   \n",
       "9985   rock.00099.5.wav   66149          0.349126  0.050019   \n",
       "9986   rock.00099.6.wav   66149          0.372564  0.057897   \n",
       "9987   rock.00099.7.wav   66149          0.347481  0.052403   \n",
       "9988   rock.00099.8.wav   66149          0.387527  0.066430   \n",
       "9989   rock.00099.9.wav   66149          0.369293  0.050524   \n",
       "\n",
       "      spectral_centroid_mean  spectral_bandwidth_mean  rolloff_mean  \\\n",
       "50               1148.336755              1481.481546   2285.749512   \n",
       "51               1210.571572              1424.920044   2228.934983   \n",
       "52               3191.200301              2190.240135   5734.540452   \n",
       "53               2124.493966              1771.906237   3852.538499   \n",
       "54               2446.168018              2092.543627   4750.638709   \n",
       "...                      ...                      ...           ...   \n",
       "9985             1499.083005              1718.707215   3015.559458   \n",
       "9986             1847.965128              1906.468492   3746.694524   \n",
       "9987             1346.157659              1561.859087   2442.362154   \n",
       "9988             2084.515327              2018.366254   4313.266226   \n",
       "9989             1634.330126              1867.422378   3462.042142   \n",
       "\n",
       "      zero_crossing_rate_mean  harmony_mean  perceptr_mean  ...  \\\n",
       "50                   0.049448     -0.000021      -0.000021  ...   \n",
       "51                   0.057752      0.000025      -0.000009  ...   \n",
       "52                   0.190655     -0.000002      -0.000026  ...   \n",
       "53                   0.121161      0.000025      -0.000017  ...   \n",
       "54                   0.114742     -0.000025      -0.000051  ...   \n",
       "...                       ...           ...            ...  ...   \n",
       "9985                 0.072885     -0.000034      -0.000020  ...   \n",
       "9986                 0.089111     -0.000027      -0.000045  ...   \n",
       "9987                 0.072194      0.000015      -0.000029  ...   \n",
       "9988                 0.104072      0.000004      -0.000048  ...   \n",
       "9989                 0.068495     -0.000032       0.000014  ...   \n",
       "\n",
       "      mfcc11_var_logged  mfcc12_var_logged  mfcc13_var_logged  \\\n",
       "50             3.129887           4.317805           3.868644   \n",
       "51             3.874508           3.669179           3.952440   \n",
       "52             4.811318           4.949066           4.504757   \n",
       "53             3.871562           4.349438           4.354326   \n",
       "54             5.086935           4.709287           4.623443   \n",
       "...                 ...                ...                ...   \n",
       "9985           3.416803           3.839206           3.935643   \n",
       "9986           3.501858           3.690007           3.688708   \n",
       "9987           4.520072           3.518154           3.361223   \n",
       "9988           3.353508           3.200891           2.922559   \n",
       "9989           3.998745           3.606982           3.768376   \n",
       "\n",
       "      mfcc14_var_logged  mfcc15_var_logged  mfcc16_var_logged  \\\n",
       "50             3.198746           3.220440           3.638702   \n",
       "51             3.325389           2.593266           3.462044   \n",
       "52             4.642990           5.082304           4.432605   \n",
       "53             3.760185           4.023502           4.525363   \n",
       "54             3.945663           5.041515           4.050801   \n",
       "...                 ...                ...                ...   \n",
       "9985           3.410298           4.386414           3.749174   \n",
       "9986           3.818595           3.533665           3.478628   \n",
       "9987           4.594477           3.787080           4.359630   \n",
       "9988           2.939444           3.026968           3.343700   \n",
       "9989           3.554817           3.366953           3.658465   \n",
       "\n",
       "      mfcc17_var_logged  mfcc18_var_logged  mfcc19_var_logged  \\\n",
       "50             2.955164           3.163215           3.462902   \n",
       "51             3.741462           3.500137           2.721179   \n",
       "52             4.186323           4.351435           3.565979   \n",
       "53             4.240223           4.191362           3.508737   \n",
       "54             4.139557           3.832766           3.993757   \n",
       "...                 ...                ...                ...   \n",
       "9985           3.646150           3.435594           3.887814   \n",
       "9986           4.195977           3.996626           4.150288   \n",
       "9987           3.080946           3.257359           3.883261   \n",
       "9988           2.845487           3.065395           3.212601   \n",
       "9989           4.077251           4.021080           3.675944   \n",
       "\n",
       "      mfcc20_var_logged  \n",
       "50             3.156687  \n",
       "51             3.418986  \n",
       "52             4.315627  \n",
       "53             3.779347  \n",
       "54             3.859010  \n",
       "...                 ...  \n",
       "9985           3.662714  \n",
       "9986           2.928365  \n",
       "9987           3.727787  \n",
       "9988           2.548488  \n",
       "9989           3.457183  \n",
       "\n",
       "[2000 rows x 60 columns]"
      ]
     },
     "execution_count": 8,
     "metadata": {},
     "output_type": "execute_result"
    },
    {
     "data": {
      "application/javascript": [
       "\n",
       "            setTimeout(function() {\n",
       "                var nbb_cell_id = 8;\n",
       "                var nbb_unformatted_code = \"files_stripped = long_X_test[\\\"filename\\\"].str.strip(\\\".wav\\\")\\nshort_test_df = logged_var_short_df[\\n    logged_var_short_df[\\\"filename\\\"].str.slice(0, -6).isin(list(files_stripped))\\n]\\nshort_test_df\";\n",
       "                var nbb_formatted_code = \"files_stripped = long_X_test[\\\"filename\\\"].str.strip(\\\".wav\\\")\\nshort_test_df = logged_var_short_df[\\n    logged_var_short_df[\\\"filename\\\"].str.slice(0, -6).isin(list(files_stripped))\\n]\\nshort_test_df\";\n",
       "                var nbb_cells = Jupyter.notebook.get_cells();\n",
       "                for (var i = 0; i < nbb_cells.length; ++i) {\n",
       "                    if (nbb_cells[i].input_prompt_number == nbb_cell_id) {\n",
       "                        if (nbb_cells[i].get_text() == nbb_unformatted_code) {\n",
       "                             nbb_cells[i].set_text(nbb_formatted_code);\n",
       "                        }\n",
       "                        break;\n",
       "                    }\n",
       "                }\n",
       "            }, 500);\n",
       "            "
      ],
      "text/plain": [
       "<IPython.core.display.Javascript object>"
      ]
     },
     "metadata": {},
     "output_type": "display_data"
    }
   ],
   "source": [
    "files_stripped = long_X_test[\"filename\"].str.strip(\".wav\")\n",
    "short_test_df = logged_var_short_df[\n",
    "    logged_var_short_df[\"filename\"].str.slice(0, -6).isin(list(files_stripped))\n",
    "]\n",
    "short_test_df"
   ]
  },
  {
   "cell_type": "code",
   "execution_count": 9,
   "metadata": {},
   "outputs": [
    {
     "data": {
      "application/javascript": [
       "\n",
       "            setTimeout(function() {\n",
       "                var nbb_cell_id = 9;\n",
       "                var nbb_unformatted_code = \"m_start = 20  # highest mfcc to use. higher than this is too high in the frequency spectrum to really matter\\nmel_freq_drops = [f\\\"mfcc{x}_mean\\\" for x in range(m_start, 21)] + [\\n    f\\\"mfcc{x}_var_logged\\\" for x in range(m_start, 21)\\n]\";\n",
       "                var nbb_formatted_code = \"m_start = 20  # highest mfcc to use. higher than this is too high in the frequency spectrum to really matter\\nmel_freq_drops = [f\\\"mfcc{x}_mean\\\" for x in range(m_start, 21)] + [\\n    f\\\"mfcc{x}_var_logged\\\" for x in range(m_start, 21)\\n]\";\n",
       "                var nbb_cells = Jupyter.notebook.get_cells();\n",
       "                for (var i = 0; i < nbb_cells.length; ++i) {\n",
       "                    if (nbb_cells[i].input_prompt_number == nbb_cell_id) {\n",
       "                        if (nbb_cells[i].get_text() == nbb_unformatted_code) {\n",
       "                             nbb_cells[i].set_text(nbb_formatted_code);\n",
       "                        }\n",
       "                        break;\n",
       "                    }\n",
       "                }\n",
       "            }, 500);\n",
       "            "
      ],
      "text/plain": [
       "<IPython.core.display.Javascript object>"
      ]
     },
     "metadata": {},
     "output_type": "display_data"
    }
   ],
   "source": [
    "m_start = 20  # highest mfcc to use. higher than this is too high in the frequency spectrum to really matter\n",
    "mel_freq_drops = [f\"mfcc{x}_mean\" for x in range(m_start, 21)] + [\n",
    "    f\"mfcc{x}_var_logged\" for x in range(m_start, 21)\n",
    "]"
   ]
  },
  {
   "cell_type": "code",
   "execution_count": 10,
   "metadata": {
    "scrolled": true
   },
   "outputs": [
    {
     "name": "stdout",
     "output_type": "stream",
     "text": [
      "VIF results\n",
      "-------------------------------\n",
      "const                     1438.405549\n",
      "chroma_stft_mean             4.100246\n",
      "harmony_mean                 1.486555\n",
      "perceptr_mean                1.581305\n",
      "tempo                        1.009483\n",
      "mfcc2_mean                   2.201447\n",
      "mfcc3_mean                   1.946986\n",
      "mfcc4_mean                   2.065740\n",
      "mfcc5_mean                   2.706351\n",
      "mfcc6_mean                   3.426515\n",
      "mfcc7_mean                   3.244584\n",
      "mfcc8_mean                   3.969889\n",
      "mfcc9_mean                   2.821545\n",
      "mfcc10_mean                  3.054599\n",
      "mfcc11_mean                  2.446155\n",
      "mfcc12_mean                  2.877017\n",
      "mfcc13_mean                  2.733941\n",
      "mfcc14_mean                  2.321133\n",
      "mfcc15_mean                  2.528026\n",
      "mfcc16_mean                  2.219810\n",
      "mfcc17_mean                  2.278150\n",
      "mfcc18_mean                  2.058928\n",
      "mfcc19_mean                  1.615415\n",
      "chroma_stft_var_logged       2.293189\n",
      "harmony_var_logged           3.227920\n",
      "perceptr_var_logged          5.909135\n",
      "mfcc1_var_logged             2.805642\n",
      "mfcc2_var_logged             2.337444\n",
      "mfcc3_var_logged             2.647422\n",
      "mfcc4_var_logged             2.902069\n",
      "mfcc5_var_logged             2.939765\n",
      "mfcc6_var_logged             3.106712\n",
      "mfcc7_var_logged             2.865069\n",
      "mfcc8_var_logged             2.620488\n",
      "mfcc9_var_logged             2.445440\n",
      "mfcc10_var_logged            2.350144\n",
      "mfcc11_var_logged            2.394889\n",
      "mfcc12_var_logged            2.349206\n",
      "mfcc13_var_logged            2.361356\n",
      "mfcc14_var_logged            2.320648\n",
      "mfcc15_var_logged            2.471232\n",
      "mfcc16_var_logged            2.455759\n",
      "mfcc17_var_logged            2.559246\n",
      "mfcc18_var_logged            2.625760\n",
      "mfcc19_var_logged            2.325313\n",
      "dtype: float64\n",
      "-------------------------------\n",
      "\n"
     ]
    },
    {
     "data": {
      "application/javascript": [
       "\n",
       "            setTimeout(function() {\n",
       "                var nbb_cell_id = 10;\n",
       "                var nbb_unformatted_code = \"# best balance for VIF I could tune\\ndrop_cols = [\\n    \\\"length\\\",\\n    \\\"filename\\\",\\n    \\\"label\\\",\\n    \\\"zero_crossing_rate_mean\\\",\\n    \\\"zero_crossing_rate_var_logged\\\",\\n    \\\"rolloff_mean\\\",\\n    #     \\\"harmony_var_logged\\\",\\n    \\\"rolloff_var_logged\\\",\\n    \\\"spectral_centroid_var_logged\\\",\\n    \\\"spectral_bandwidth_var_logged\\\",\\n    \\\"spectral_centroid_mean\\\",\\n    \\\"spectral_bandwidth_mean\\\",\\n    \\\"rms_mean\\\",\\n    \\\"rms_var_logged\\\",\\n    #     \\\"chroma_stft_mean\\\",\\n    #     \\\"chroma_stft_var_logged\\\",\\n    #     \\\"harmony_mean\\\",\\n    #     \\\"perceptr_mean\\\",\\n    #     \\\"perceptr_var_logged\\\",\\n    #     \\\"tempo\\\",\\n    \\\"mfcc1_mean\\\",\\n    #         \\\"mfcc2_mean\\\",\\n]\\ndrop_cols = drop_cols + mel_freq_drops\\nprint_vif(logged_var_short_df.drop(drop_cols, 1,))\";\n",
       "                var nbb_formatted_code = \"# best balance for VIF I could tune\\ndrop_cols = [\\n    \\\"length\\\",\\n    \\\"filename\\\",\\n    \\\"label\\\",\\n    \\\"zero_crossing_rate_mean\\\",\\n    \\\"zero_crossing_rate_var_logged\\\",\\n    \\\"rolloff_mean\\\",\\n    #     \\\"harmony_var_logged\\\",\\n    \\\"rolloff_var_logged\\\",\\n    \\\"spectral_centroid_var_logged\\\",\\n    \\\"spectral_bandwidth_var_logged\\\",\\n    \\\"spectral_centroid_mean\\\",\\n    \\\"spectral_bandwidth_mean\\\",\\n    \\\"rms_mean\\\",\\n    \\\"rms_var_logged\\\",\\n    #     \\\"chroma_stft_mean\\\",\\n    #     \\\"chroma_stft_var_logged\\\",\\n    #     \\\"harmony_mean\\\",\\n    #     \\\"perceptr_mean\\\",\\n    #     \\\"perceptr_var_logged\\\",\\n    #     \\\"tempo\\\",\\n    \\\"mfcc1_mean\\\",\\n    #         \\\"mfcc2_mean\\\",\\n]\\ndrop_cols = drop_cols + mel_freq_drops\\nprint_vif(logged_var_short_df.drop(drop_cols, 1,))\";\n",
       "                var nbb_cells = Jupyter.notebook.get_cells();\n",
       "                for (var i = 0; i < nbb_cells.length; ++i) {\n",
       "                    if (nbb_cells[i].input_prompt_number == nbb_cell_id) {\n",
       "                        if (nbb_cells[i].get_text() == nbb_unformatted_code) {\n",
       "                             nbb_cells[i].set_text(nbb_formatted_code);\n",
       "                        }\n",
       "                        break;\n",
       "                    }\n",
       "                }\n",
       "            }, 500);\n",
       "            "
      ],
      "text/plain": [
       "<IPython.core.display.Javascript object>"
      ]
     },
     "metadata": {},
     "output_type": "display_data"
    }
   ],
   "source": [
    "# best balance for VIF I could tune\n",
    "drop_cols = [\n",
    "    \"length\",\n",
    "    \"filename\",\n",
    "    \"label\",\n",
    "    \"zero_crossing_rate_mean\",\n",
    "    \"zero_crossing_rate_var_logged\",\n",
    "    \"rolloff_mean\",\n",
    "    #     \"harmony_var_logged\",\n",
    "    \"rolloff_var_logged\",\n",
    "    \"spectral_centroid_var_logged\",\n",
    "    \"spectral_bandwidth_var_logged\",\n",
    "    \"spectral_centroid_mean\",\n",
    "    \"spectral_bandwidth_mean\",\n",
    "    \"rms_mean\",\n",
    "    \"rms_var_logged\",\n",
    "    #     \"chroma_stft_mean\",\n",
    "    #     \"chroma_stft_var_logged\",\n",
    "    #     \"harmony_mean\",\n",
    "    #     \"perceptr_mean\",\n",
    "    #     \"perceptr_var_logged\",\n",
    "    #     \"tempo\",\n",
    "    \"mfcc1_mean\",\n",
    "    #         \"mfcc2_mean\",\n",
    "]\n",
    "drop_cols = drop_cols + mel_freq_drops\n",
    "print_vif(logged_var_short_df.drop(drop_cols, 1,))"
   ]
  },
  {
   "cell_type": "code",
   "execution_count": 11,
   "metadata": {},
   "outputs": [
    {
     "data": {
      "application/javascript": [
       "\n",
       "            setTimeout(function() {\n",
       "                var nbb_cell_id = 11;\n",
       "                var nbb_unformatted_code = \"X_train = short_train_df.drop(drop_cols, 1)\\nX_test = short_test_df.drop(drop_cols, 1)\\ny_train = short_train_df[\\\"label\\\"]\\ny_test = short_test_df[\\\"label\\\"]\";\n",
       "                var nbb_formatted_code = \"X_train = short_train_df.drop(drop_cols, 1)\\nX_test = short_test_df.drop(drop_cols, 1)\\ny_train = short_train_df[\\\"label\\\"]\\ny_test = short_test_df[\\\"label\\\"]\";\n",
       "                var nbb_cells = Jupyter.notebook.get_cells();\n",
       "                for (var i = 0; i < nbb_cells.length; ++i) {\n",
       "                    if (nbb_cells[i].input_prompt_number == nbb_cell_id) {\n",
       "                        if (nbb_cells[i].get_text() == nbb_unformatted_code) {\n",
       "                             nbb_cells[i].set_text(nbb_formatted_code);\n",
       "                        }\n",
       "                        break;\n",
       "                    }\n",
       "                }\n",
       "            }, 500);\n",
       "            "
      ],
      "text/plain": [
       "<IPython.core.display.Javascript object>"
      ]
     },
     "metadata": {},
     "output_type": "display_data"
    }
   ],
   "source": [
    "X_train = short_train_df.drop(drop_cols, 1)\n",
    "X_test = short_test_df.drop(drop_cols, 1)\n",
    "y_train = short_train_df[\"label\"]\n",
    "y_test = short_test_df[\"label\"]"
   ]
  },
  {
   "cell_type": "code",
   "execution_count": 12,
   "metadata": {
    "scrolled": true
   },
   "outputs": [
    {
     "name": "stdout",
     "output_type": "stream",
     "text": [
      "Fitting 2 folds for each of 36 candidates, totalling 72 fits\n"
     ]
    },
    {
     "name": "stderr",
     "output_type": "stream",
     "text": [
      "[Parallel(n_jobs=-1)]: Using backend LokyBackend with 6 concurrent workers.\n",
      "[Parallel(n_jobs=-1)]: Done  38 tasks      | elapsed:   10.3s\n",
      "[Parallel(n_jobs=-1)]: Done  72 out of  72 | elapsed:   20.4s finished\n"
     ]
    },
    {
     "name": "stdout",
     "output_type": "stream",
     "text": [
      "0.9997496871088861\n",
      "0.7325\n"
     ]
    },
    {
     "data": {
      "text/plain": [
       "{'svc__C': 10,\n",
       " 'svc__decision_function_shape': 'ovo',\n",
       " 'svc__degree': 2,\n",
       " 'svc__kernel': 'rbf'}"
      ]
     },
     "execution_count": 12,
     "metadata": {},
     "output_type": "execute_result"
    },
    {
     "data": {
      "application/javascript": [
       "\n",
       "            setTimeout(function() {\n",
       "                var nbb_cell_id = 12;\n",
       "                var nbb_unformatted_code = \"num_cols = list(X_train.columns)\\n\\nbin_cols = []\\n\\ncat_cols = []\\ndrop_cats = []\\n\\n\\npreprocessing = ColumnTransformer(\\n    [\\n        # Scale numeric columns (not needed for all models but can't hurt)\\n        (\\\"scaler\\\", StandardScaler(), num_cols)\\n    ],\\n    remainder=\\\"passthrough\\\",\\n)\\n\\n\\npipeline = Pipeline(\\n    [\\n        (\\\"preprocessing\\\", preprocessing),\\n        #         (\\\"pca\\\", PCA(n_components=8)),\\n        # Choose your model and put it here\\n        (\\\"svc\\\", SVC()),\\n    ]\\n)\\n\\n\\nparams = {\\n    # Use model__ with hyperprammeter names after\\n    \\\"svc__C\\\": [1, 10],\\n    \\\"svc__kernel\\\": [\\\"linear\\\", \\\"rbf\\\", \\\"poly\\\"],\\n    \\\"svc__decision_function_shape\\\": [\\\"ovo\\\", \\\"ovr\\\"],\\n    \\\"svc__degree\\\": [2, 3, 5],\\n}\\n\\n\\npipeline_cv = GridSearchCV(pipeline, params, verbose=1, n_jobs=-1, cv=2)\\n\\npipeline_cv.fit(X_train, y=y_train)\\n\\n\\nprint(pipeline_cv.score(X_train, y_train))\\nprint(pipeline_cv.score(X_test, y_test))\\npipeline_cv.best_params_\";\n",
       "                var nbb_formatted_code = \"num_cols = list(X_train.columns)\\n\\nbin_cols = []\\n\\ncat_cols = []\\ndrop_cats = []\\n\\n\\npreprocessing = ColumnTransformer(\\n    [\\n        # Scale numeric columns (not needed for all models but can't hurt)\\n        (\\\"scaler\\\", StandardScaler(), num_cols)\\n    ],\\n    remainder=\\\"passthrough\\\",\\n)\\n\\n\\npipeline = Pipeline(\\n    [\\n        (\\\"preprocessing\\\", preprocessing),\\n        #         (\\\"pca\\\", PCA(n_components=8)),\\n        # Choose your model and put it here\\n        (\\\"svc\\\", SVC()),\\n    ]\\n)\\n\\n\\nparams = {\\n    # Use model__ with hyperprammeter names after\\n    \\\"svc__C\\\": [1, 10],\\n    \\\"svc__kernel\\\": [\\\"linear\\\", \\\"rbf\\\", \\\"poly\\\"],\\n    \\\"svc__decision_function_shape\\\": [\\\"ovo\\\", \\\"ovr\\\"],\\n    \\\"svc__degree\\\": [2, 3, 5],\\n}\\n\\n\\npipeline_cv = GridSearchCV(pipeline, params, verbose=1, n_jobs=-1, cv=2)\\n\\npipeline_cv.fit(X_train, y=y_train)\\n\\n\\nprint(pipeline_cv.score(X_train, y_train))\\nprint(pipeline_cv.score(X_test, y_test))\\npipeline_cv.best_params_\";\n",
       "                var nbb_cells = Jupyter.notebook.get_cells();\n",
       "                for (var i = 0; i < nbb_cells.length; ++i) {\n",
       "                    if (nbb_cells[i].input_prompt_number == nbb_cell_id) {\n",
       "                        if (nbb_cells[i].get_text() == nbb_unformatted_code) {\n",
       "                             nbb_cells[i].set_text(nbb_formatted_code);\n",
       "                        }\n",
       "                        break;\n",
       "                    }\n",
       "                }\n",
       "            }, 500);\n",
       "            "
      ],
      "text/plain": [
       "<IPython.core.display.Javascript object>"
      ]
     },
     "metadata": {},
     "output_type": "display_data"
    }
   ],
   "source": [
    "num_cols = list(X_train.columns)\n",
    "\n",
    "bin_cols = []\n",
    "\n",
    "cat_cols = []\n",
    "drop_cats = []\n",
    "\n",
    "\n",
    "preprocessing = ColumnTransformer(\n",
    "    [\n",
    "        # Scale numeric columns (not needed for all models but can't hurt)\n",
    "        (\"scaler\", StandardScaler(), num_cols)\n",
    "    ],\n",
    "    remainder=\"passthrough\",\n",
    ")\n",
    "\n",
    "\n",
    "pipeline = Pipeline(\n",
    "    [\n",
    "        (\"preprocessing\", preprocessing),\n",
    "        #         (\"pca\", PCA(n_components=8)),\n",
    "        # Choose your model and put it here\n",
    "        (\"svc\", SVC()),\n",
    "    ]\n",
    ")\n",
    "\n",
    "\n",
    "params = {\n",
    "    # Use model__ with hyperprammeter names after\n",
    "    \"svc__C\": [1, 10],\n",
    "    \"svc__kernel\": [\"linear\", \"rbf\", \"poly\"],\n",
    "    \"svc__decision_function_shape\": [\"ovo\", \"ovr\"],\n",
    "    \"svc__degree\": [2, 3, 5],\n",
    "}\n",
    "\n",
    "\n",
    "pipeline_cv = GridSearchCV(pipeline, params, verbose=1, n_jobs=-1, cv=2)\n",
    "\n",
    "pipeline_cv.fit(X_train, y=y_train)\n",
    "\n",
    "\n",
    "print(pipeline_cv.score(X_train, y_train))\n",
    "print(pipeline_cv.score(X_test, y_test))\n",
    "pipeline_cv.best_params_"
   ]
  },
  {
   "cell_type": "markdown",
   "metadata": {},
   "source": [
    "scaler_train = StandardScaler()\n",
    "scaler_test = StandardScaler()\n",
    "\n",
    "scaler_train.fit(X_train)\n",
    "scaler_test.fit(X_test)\n",
    "\n",
    "scaled_X_train = scaler_train.transform(X_train)\n",
    "scaled_X_test = scaler_test.transform(X_test)\n",
    "\n",
    "model = SVC(C=10, kernel=\"linear\", decision_function_shape=\"ovo\")\n",
    "model.fit(scaled_X_train, y_train)\n",
    "\n"
   ]
  },
  {
   "cell_type": "markdown",
   "metadata": {},
   "source": [
    "print(model.score(scaled_X_train, y_train))\n",
    "print(model.score(scaled_X_test, y_test))"
   ]
  },
  {
   "cell_type": "code",
   "execution_count": null,
   "metadata": {},
   "outputs": [],
   "source": [
    "num_cols = list(X_train.columns)\n",
    "\n",
    "bin_cols = []\n",
    "\n",
    "cat_cols = []\n",
    "drop_cats = []\n",
    "\n",
    "\n",
    "preprocessing = ColumnTransformer(\n",
    "    [\n",
    "        # Scale numeric columns (not needed for all models but can't hurt)\n",
    "        (\"scaler\", StandardScaler(), num_cols)\n",
    "    ],\n",
    "    remainder=\"passthrough\",\n",
    ")\n",
    "\n",
    "\n",
    "pipeline = Pipeline(\n",
    "    [\n",
    "        (\"preprocessing\", preprocessing),\n",
    "        # (\"pca\", PCA()),\n",
    "        # Choose your model and put it here\n",
    "        (\"knn\", KNeighborsClassifier()),\n",
    "        # (\"rfc\", RandomForestClassifier()),\n",
    "    ]\n",
    ")\n",
    "\n",
    "\n",
    "params = {\n",
    "    \"knn__n_neighbors\": [3000],\n",
    "    \"knn__weights\": [\"distance\"],\n",
    "    \"knn__leaf_size\": [30],\n",
    "    \"knn__algorithm\": [\"kd_tree\", \"ball_tree\"],\n",
    "}\n",
    "\n",
    "# params = {\n",
    "#     # Use model__ with hyperprammeter names after\n",
    "#     \"rfc__criterion\": [\"gini\", \"entropy\"],\n",
    "#     \"rfc__max_depth\": [10, 14, 20],\n",
    "#     \"rfc__min_samples_leaf\": [10, 16, 20],\n",
    "# }\n",
    "# n_trees = 200\n",
    "# pipeline[\"rfc\"].n_estimators = n_trees\n",
    "\n",
    "pipeline_cv = GridSearchCV(pipeline, params, verbose=1, n_jobs=-1, cv=5)\n",
    "\n",
    "pipeline_cv.fit(X_train, y=y_train)\n",
    "\n",
    "\n",
    "print(pipeline_cv.score(X_train, y_train))\n",
    "print(pipeline_cv.score(X_test, y_test))\n",
    "pipeline_cv.best_params_"
   ]
  },
  {
   "cell_type": "markdown",
   "metadata": {},
   "source": [
    "all_feat_cols = list(short_train_df.columns[3:])\n",
    "all_feat_cols.remove(\"label\")"
   ]
  },
  {
   "cell_type": "code",
   "execution_count": 13,
   "metadata": {},
   "outputs": [
    {
     "name": "stdout",
     "output_type": "stream",
     "text": [
      "Fitting 2 folds for each of 36 candidates, totalling 72 fits\n"
     ]
    },
    {
     "name": "stderr",
     "output_type": "stream",
     "text": [
      "[Parallel(n_jobs=-1)]: Using backend LokyBackend with 6 concurrent workers.\n",
      "C:\\ProgramData\\Anaconda3\\lib\\site-packages\\joblib\\externals\\loky\\process_executor.py:706: UserWarning: A worker stopped while some jobs were given to the executor. This can be caused by a too short worker timeout or by a memory leak.\n",
      "  \"timeout or by a memory leak.\", UserWarning\n",
      "[Parallel(n_jobs=-1)]: Done  38 tasks      | elapsed:  1.4min\n"
     ]
    },
    {
     "name": "stdout",
     "output_type": "stream",
     "text": [
      "[0]\tvalidation_0-merror:0.50200\n"
     ]
    },
    {
     "name": "stderr",
     "output_type": "stream",
     "text": [
      "[Parallel(n_jobs=-1)]: Done  72 out of  72 | elapsed:  3.3min finished\n"
     ]
    },
    {
     "name": "stdout",
     "output_type": "stream",
     "text": [
      "[1]\tvalidation_0-merror:0.44400\n",
      "[2]\tvalidation_0-merror:0.40200\n",
      "[3]\tvalidation_0-merror:0.38150\n",
      "[4]\tvalidation_0-merror:0.36500\n",
      "[5]\tvalidation_0-merror:0.34600\n",
      "[6]\tvalidation_0-merror:0.34500\n",
      "[7]\tvalidation_0-merror:0.33500\n",
      "[8]\tvalidation_0-merror:0.32900\n",
      "[9]\tvalidation_0-merror:0.32300\n",
      "[10]\tvalidation_0-merror:0.31950\n",
      "[11]\tvalidation_0-merror:0.31750\n",
      "[12]\tvalidation_0-merror:0.30800\n",
      "[13]\tvalidation_0-merror:0.30950\n",
      "[14]\tvalidation_0-merror:0.30650\n",
      "[15]\tvalidation_0-merror:0.30650\n",
      "[16]\tvalidation_0-merror:0.30550\n",
      "[17]\tvalidation_0-merror:0.29750\n",
      "[18]\tvalidation_0-merror:0.29900\n",
      "[19]\tvalidation_0-merror:0.29750\n",
      "[20]\tvalidation_0-merror:0.29250\n",
      "[21]\tvalidation_0-merror:0.29200\n",
      "[22]\tvalidation_0-merror:0.29850\n",
      "[23]\tvalidation_0-merror:0.29900\n",
      "[24]\tvalidation_0-merror:0.29600\n",
      "[25]\tvalidation_0-merror:0.29450\n",
      "[26]\tvalidation_0-merror:0.29300\n",
      "[27]\tvalidation_0-merror:0.29350\n",
      "[28]\tvalidation_0-merror:0.29300\n",
      "[29]\tvalidation_0-merror:0.29400\n",
      "[30]\tvalidation_0-merror:0.28900\n",
      "[31]\tvalidation_0-merror:0.29200\n",
      "[32]\tvalidation_0-merror:0.29200\n",
      "[33]\tvalidation_0-merror:0.28850\n",
      "[34]\tvalidation_0-merror:0.29000\n",
      "[35]\tvalidation_0-merror:0.28950\n",
      "[36]\tvalidation_0-merror:0.28800\n",
      "[37]\tvalidation_0-merror:0.28850\n",
      "[38]\tvalidation_0-merror:0.28700\n",
      "[39]\tvalidation_0-merror:0.28900\n",
      "[40]\tvalidation_0-merror:0.28450\n",
      "[41]\tvalidation_0-merror:0.28500\n",
      "[42]\tvalidation_0-merror:0.28450\n",
      "[43]\tvalidation_0-merror:0.28350\n",
      "[44]\tvalidation_0-merror:0.28150\n",
      "[45]\tvalidation_0-merror:0.28100\n",
      "[46]\tvalidation_0-merror:0.28100\n",
      "[47]\tvalidation_0-merror:0.28200\n",
      "[48]\tvalidation_0-merror:0.28150\n",
      "[49]\tvalidation_0-merror:0.28100\n",
      "[50]\tvalidation_0-merror:0.28200\n",
      "[51]\tvalidation_0-merror:0.27850\n",
      "[52]\tvalidation_0-merror:0.27750\n",
      "[53]\tvalidation_0-merror:0.27900\n",
      "[54]\tvalidation_0-merror:0.27700\n",
      "[55]\tvalidation_0-merror:0.27850\n",
      "[56]\tvalidation_0-merror:0.28000\n",
      "[57]\tvalidation_0-merror:0.27900\n",
      "[58]\tvalidation_0-merror:0.28050\n",
      "[59]\tvalidation_0-merror:0.28050\n",
      "[60]\tvalidation_0-merror:0.28200\n",
      "[61]\tvalidation_0-merror:0.27950\n",
      "[62]\tvalidation_0-merror:0.28000\n",
      "[63]\tvalidation_0-merror:0.27950\n",
      "[64]\tvalidation_0-merror:0.28150\n",
      "[65]\tvalidation_0-merror:0.28100\n",
      "[66]\tvalidation_0-merror:0.28150\n",
      "[67]\tvalidation_0-merror:0.28000\n",
      "[68]\tvalidation_0-merror:0.28000\n",
      "[69]\tvalidation_0-merror:0.27950\n",
      "[70]\tvalidation_0-merror:0.28000\n",
      "[71]\tvalidation_0-merror:0.28000\n",
      "[72]\tvalidation_0-merror:0.28000\n",
      "[73]\tvalidation_0-merror:0.28200\n",
      "[74]\tvalidation_0-merror:0.28250\n",
      "[75]\tvalidation_0-merror:0.28150\n",
      "[76]\tvalidation_0-merror:0.28100\n",
      "[77]\tvalidation_0-merror:0.28150\n",
      "[78]\tvalidation_0-merror:0.28100\n",
      "[79]\tvalidation_0-merror:0.28100\n",
      "[80]\tvalidation_0-merror:0.27950\n",
      "[81]\tvalidation_0-merror:0.27850\n",
      "[82]\tvalidation_0-merror:0.27850\n",
      "[83]\tvalidation_0-merror:0.27950\n",
      "[84]\tvalidation_0-merror:0.27900\n",
      "[85]\tvalidation_0-merror:0.27950\n",
      "[86]\tvalidation_0-merror:0.28100\n",
      "[87]\tvalidation_0-merror:0.28050\n",
      "[88]\tvalidation_0-merror:0.27700\n",
      "[89]\tvalidation_0-merror:0.27900\n",
      "[90]\tvalidation_0-merror:0.27800\n",
      "[91]\tvalidation_0-merror:0.27800\n",
      "[92]\tvalidation_0-merror:0.27800\n",
      "[93]\tvalidation_0-merror:0.27850\n",
      "[94]\tvalidation_0-merror:0.27750\n",
      "[95]\tvalidation_0-merror:0.27800\n",
      "[96]\tvalidation_0-merror:0.27950\n",
      "[97]\tvalidation_0-merror:0.27650\n",
      "[98]\tvalidation_0-merror:0.27700\n",
      "[99]\tvalidation_0-merror:0.27650\n",
      "1.0\n",
      "0.7235\n"
     ]
    },
    {
     "data": {
      "text/plain": [
       "{'xgb__colsample_bytree': 0.6, 'xgb__max_depth': 10, 'xgb__subsample': 0.5}"
      ]
     },
     "execution_count": 13,
     "metadata": {},
     "output_type": "execute_result"
    },
    {
     "data": {
      "application/javascript": [
       "\n",
       "            setTimeout(function() {\n",
       "                var nbb_cell_id = 13;\n",
       "                var nbb_unformatted_code = \"num_cols = list(X_train.columns)\\n\\nbin_cols = []\\n\\ncat_cols = []\\ndrop_cats = []\\n\\n\\npreprocessing = ColumnTransformer(\\n    [\\n        # Scale numeric columns (not needed for all models but can't hurt)\\n        (\\\"scaler\\\", StandardScaler(), num_cols)\\n    ],\\n    remainder=\\\"passthrough\\\",\\n)\\n\\n\\npipeline = Pipeline(\\n    [\\n        (\\\"preprocessing\\\", preprocessing),\\n        # Choose your model and put it here\\n        (\\\"xgb\\\", XGBClassifier()),\\n    ]\\n)\\n\\n\\nparams = {\\n    \\\"xgb__subsample\\\": [0.5, 0.75, 1.0],\\n    \\\"xgb__colsample_bytree\\\": [0.4, 0.6, 0.8, 1.0],\\n    \\\"xgb__max_depth\\\": [6, 8, 10],\\n}\\n\\nn_trees = 100\\nlearning_rate = 10 / n_trees\\n\\npipeline[\\\"xgb\\\"].n_estimators = n_trees\\npipeline[\\\"xgb\\\"].learning_rate = learning_rate\\n\\nscaler = pipeline.named_steps[\\\"preprocessing\\\"]\\nscaler.fit(X_train)\\nX_test_scaled = scaler.transform(X_test)\\n\\n\\npipeline_cv = GridSearchCV(pipeline, params, verbose=1, n_jobs=-1, cv=2)\\n\\npipeline_cv.fit(X_train, y=y_train, xgb__eval_set=[(X_test_scaled, y_test)])\\n\\n\\nprint(pipeline_cv.score(X_train, y_train))\\nprint(pipeline_cv.score(X_test, y_test))\\npipeline_cv.best_params_\";\n",
       "                var nbb_formatted_code = \"num_cols = list(X_train.columns)\\n\\nbin_cols = []\\n\\ncat_cols = []\\ndrop_cats = []\\n\\n\\npreprocessing = ColumnTransformer(\\n    [\\n        # Scale numeric columns (not needed for all models but can't hurt)\\n        (\\\"scaler\\\", StandardScaler(), num_cols)\\n    ],\\n    remainder=\\\"passthrough\\\",\\n)\\n\\n\\npipeline = Pipeline(\\n    [\\n        (\\\"preprocessing\\\", preprocessing),\\n        # Choose your model and put it here\\n        (\\\"xgb\\\", XGBClassifier()),\\n    ]\\n)\\n\\n\\nparams = {\\n    \\\"xgb__subsample\\\": [0.5, 0.75, 1.0],\\n    \\\"xgb__colsample_bytree\\\": [0.4, 0.6, 0.8, 1.0],\\n    \\\"xgb__max_depth\\\": [6, 8, 10],\\n}\\n\\nn_trees = 100\\nlearning_rate = 10 / n_trees\\n\\npipeline[\\\"xgb\\\"].n_estimators = n_trees\\npipeline[\\\"xgb\\\"].learning_rate = learning_rate\\n\\nscaler = pipeline.named_steps[\\\"preprocessing\\\"]\\nscaler.fit(X_train)\\nX_test_scaled = scaler.transform(X_test)\\n\\n\\npipeline_cv = GridSearchCV(pipeline, params, verbose=1, n_jobs=-1, cv=2)\\n\\npipeline_cv.fit(X_train, y=y_train, xgb__eval_set=[(X_test_scaled, y_test)])\\n\\n\\nprint(pipeline_cv.score(X_train, y_train))\\nprint(pipeline_cv.score(X_test, y_test))\\npipeline_cv.best_params_\";\n",
       "                var nbb_cells = Jupyter.notebook.get_cells();\n",
       "                for (var i = 0; i < nbb_cells.length; ++i) {\n",
       "                    if (nbb_cells[i].input_prompt_number == nbb_cell_id) {\n",
       "                        if (nbb_cells[i].get_text() == nbb_unformatted_code) {\n",
       "                             nbb_cells[i].set_text(nbb_formatted_code);\n",
       "                        }\n",
       "                        break;\n",
       "                    }\n",
       "                }\n",
       "            }, 500);\n",
       "            "
      ],
      "text/plain": [
       "<IPython.core.display.Javascript object>"
      ]
     },
     "metadata": {},
     "output_type": "display_data"
    }
   ],
   "source": [
    "num_cols = list(X_train.columns)\n",
    "\n",
    "bin_cols = []\n",
    "\n",
    "cat_cols = []\n",
    "drop_cats = []\n",
    "\n",
    "\n",
    "preprocessing = ColumnTransformer(\n",
    "    [\n",
    "        # Scale numeric columns (not needed for all models but can't hurt)\n",
    "        (\"scaler\", StandardScaler(), num_cols)\n",
    "    ],\n",
    "    remainder=\"passthrough\",\n",
    ")\n",
    "\n",
    "\n",
    "pipeline = Pipeline(\n",
    "    [\n",
    "        (\"preprocessing\", preprocessing),\n",
    "        # Choose your model and put it here\n",
    "        (\"xgb\", XGBClassifier()),\n",
    "    ]\n",
    ")\n",
    "\n",
    "\n",
    "params = {\n",
    "    \"xgb__subsample\": [0.5, 0.75, 1.0],\n",
    "    \"xgb__colsample_bytree\": [0.4, 0.6, 0.8, 1.0],\n",
    "    \"xgb__max_depth\": [6, 8, 10],\n",
    "}\n",
    "\n",
    "n_trees = 100\n",
    "learning_rate = 10 / n_trees\n",
    "\n",
    "pipeline[\"xgb\"].n_estimators = n_trees\n",
    "pipeline[\"xgb\"].learning_rate = learning_rate\n",
    "\n",
    "scaler = pipeline.named_steps[\"preprocessing\"]\n",
    "scaler.fit(X_train)\n",
    "X_test_scaled = scaler.transform(X_test)\n",
    "\n",
    "\n",
    "pipeline_cv = GridSearchCV(pipeline, params, verbose=1, n_jobs=-1, cv=2)\n",
    "\n",
    "pipeline_cv.fit(X_train, y=y_train, xgb__eval_set=[(X_test_scaled, y_test)])\n",
    "\n",
    "\n",
    "print(pipeline_cv.score(X_train, y_train))\n",
    "print(pipeline_cv.score(X_test, y_test))\n",
    "pipeline_cv.best_params_"
   ]
  },
  {
   "cell_type": "code",
   "execution_count": 14,
   "metadata": {},
   "outputs": [
    {
     "data": {
      "image/png": "[encoded data removed]",
      "text/plain": [
       "<Figure size 1080x1440 with 1 Axes>"
      ]
     },
     "metadata": {
      "needs_background": "light"
     },
     "output_type": "display_data"
    },
    {
     "data": {
      "application/javascript": [
       "\n",
       "            setTimeout(function() {\n",
       "                var nbb_cell_id = 14;\n",
       "                var nbb_unformatted_code = \"feature_importance = pipeline_cv.best_estimator_.named_steps[\\\"xgb\\\"].feature_importances_\\n\\n# Make importances relative to max importance.\\nfeature_importance = 100.0 * (feature_importance / feature_importance.max())\\nsorted_idx = np.argsort(feature_importance)\\npos = np.arange(sorted_idx.shape[0]) + 0.5\\n\\n\\nplt.figure(figsize=(15, 20))\\nplt.barh(pos, feature_importance[sorted_idx], align=\\\"center\\\")\\nplt.yticks(pos, X_train.columns[sorted_idx])\\nplt.xlabel(\\\"Relative Importance\\\")\\nplt.title(\\\"Variable Importance\\\")\\nplt.show()\";\n",
       "                var nbb_formatted_code = \"feature_importance = pipeline_cv.best_estimator_.named_steps[\\\"xgb\\\"].feature_importances_\\n\\n# Make importances relative to max importance.\\nfeature_importance = 100.0 * (feature_importance / feature_importance.max())\\nsorted_idx = np.argsort(feature_importance)\\npos = np.arange(sorted_idx.shape[0]) + 0.5\\n\\n\\nplt.figure(figsize=(15, 20))\\nplt.barh(pos, feature_importance[sorted_idx], align=\\\"center\\\")\\nplt.yticks(pos, X_train.columns[sorted_idx])\\nplt.xlabel(\\\"Relative Importance\\\")\\nplt.title(\\\"Variable Importance\\\")\\nplt.show()\";\n",
       "                var nbb_cells = Jupyter.notebook.get_cells();\n",
       "                for (var i = 0; i < nbb_cells.length; ++i) {\n",
       "                    if (nbb_cells[i].input_prompt_number == nbb_cell_id) {\n",
       "                        if (nbb_cells[i].get_text() == nbb_unformatted_code) {\n",
       "                             nbb_cells[i].set_text(nbb_formatted_code);\n",
       "                        }\n",
       "                        break;\n",
       "                    }\n",
       "                }\n",
       "            }, 500);\n",
       "            "
      ],
      "text/plain": [
       "<IPython.core.display.Javascript object>"
      ]
     },
     "metadata": {},
     "output_type": "display_data"
    }
   ],
   "source": [
    "feature_importance = pipeline_cv.best_estimator_.named_steps[\"xgb\"].feature_importances_\n",
    "\n",
    "# Make importances relative to max importance.\n",
    "feature_importance = 100.0 * (feature_importance / feature_importance.max())\n",
    "sorted_idx = np.argsort(feature_importance)\n",
    "pos = np.arange(sorted_idx.shape[0]) + 0.5\n",
    "\n",
    "\n",
    "plt.figure(figsize=(15, 20))\n",
    "plt.barh(pos, feature_importance[sorted_idx], align=\"center\")\n",
    "plt.yticks(pos, X_train.columns[sorted_idx])\n",
    "plt.xlabel(\"Relative Importance\")\n",
    "plt.title(\"Variable Importance\")\n",
    "plt.show()"
   ]
  },
  {
   "cell_type": "code",
   "execution_count": 15,
   "metadata": {},
   "outputs": [
    {
     "name": "stdout",
     "output_type": "stream",
     "text": [
      "[[156   0  11   0   0  18   6   0   5   4]\n",
      " [  0 191   0   0   0   8   0   0   0   1]\n",
      " [ 11   1 156   6   0   8   5   2   2   9]\n",
      " [  4   0  10 142  15   0   0  17   7   5]\n",
      " [  0   0   4  25 109   0   9  24  26   3]\n",
      " [  1  31  23   0   0 134   0   4   0   7]\n",
      " [  4   0   0   7   8   0 169   0   1  11]\n",
      " [  0   1   6   4   4   5   0 165   4  11]\n",
      " [  3   0  28  14   8   0   3   4 132   8]\n",
      " [  2   4  20  28   4  15  15  10   9  93]]\n",
      "              precision    recall  f1-score   support\n",
      "\n",
      "       blues       0.86      0.78      0.82       200\n",
      "   classical       0.84      0.95      0.89       200\n",
      "     country       0.60      0.78      0.68       200\n",
      "       disco       0.63      0.71      0.67       200\n",
      "      hiphop       0.74      0.55      0.63       200\n",
      "        jazz       0.71      0.67      0.69       200\n",
      "       metal       0.82      0.84      0.83       200\n",
      "         pop       0.73      0.82      0.77       200\n",
      "      reggae       0.71      0.66      0.68       200\n",
      "        rock       0.61      0.47      0.53       200\n",
      "\n",
      "    accuracy                           0.72      2000\n",
      "   macro avg       0.72      0.72      0.72      2000\n",
      "weighted avg       0.72      0.72      0.72      2000\n",
      "\n"
     ]
    },
    {
     "data": {
      "application/javascript": [
       "\n",
       "            setTimeout(function() {\n",
       "                var nbb_cell_id = 15;\n",
       "                var nbb_unformatted_code = \"y_pred = pipeline_cv.predict(X_test)\\n\\nprint(confusion_matrix(y_test, y_pred))\\nprint(classification_report(y_test, y_pred))\";\n",
       "                var nbb_formatted_code = \"y_pred = pipeline_cv.predict(X_test)\\n\\nprint(confusion_matrix(y_test, y_pred))\\nprint(classification_report(y_test, y_pred))\";\n",
       "                var nbb_cells = Jupyter.notebook.get_cells();\n",
       "                for (var i = 0; i < nbb_cells.length; ++i) {\n",
       "                    if (nbb_cells[i].input_prompt_number == nbb_cell_id) {\n",
       "                        if (nbb_cells[i].get_text() == nbb_unformatted_code) {\n",
       "                             nbb_cells[i].set_text(nbb_formatted_code);\n",
       "                        }\n",
       "                        break;\n",
       "                    }\n",
       "                }\n",
       "            }, 500);\n",
       "            "
      ],
      "text/plain": [
       "<IPython.core.display.Javascript object>"
      ]
     },
     "metadata": {},
     "output_type": "display_data"
    }
   ],
   "source": [
    "y_pred = pipeline_cv.predict(X_test)\n",
    "\n",
    "print(confusion_matrix(y_test, y_pred))\n",
    "print(classification_report(y_test, y_pred))"
   ]
  },
  {
   "cell_type": "code",
   "execution_count": 16,
   "metadata": {},
   "outputs": [
    {
     "data": {
      "application/javascript": [
       "\n",
       "            setTimeout(function() {\n",
       "                var nbb_cell_id = 16;\n",
       "                var nbb_unformatted_code = \"short[\\\"predicted\\\"] = pipeline_cv.predict(logged_var_short_df.drop(drop_cols, 1))\";\n",
       "                var nbb_formatted_code = \"short[\\\"predicted\\\"] = pipeline_cv.predict(logged_var_short_df.drop(drop_cols, 1))\";\n",
       "                var nbb_cells = Jupyter.notebook.get_cells();\n",
       "                for (var i = 0; i < nbb_cells.length; ++i) {\n",
       "                    if (nbb_cells[i].input_prompt_number == nbb_cell_id) {\n",
       "                        if (nbb_cells[i].get_text() == nbb_unformatted_code) {\n",
       "                             nbb_cells[i].set_text(nbb_formatted_code);\n",
       "                        }\n",
       "                        break;\n",
       "                    }\n",
       "                }\n",
       "            }, 500);\n",
       "            "
      ],
      "text/plain": [
       "<IPython.core.display.Javascript object>"
      ]
     },
     "metadata": {},
     "output_type": "display_data"
    }
   ],
   "source": [
    "short[\"predicted\"] = pipeline_cv.predict(logged_var_short_df.drop(drop_cols, 1))"
   ]
  },
  {
   "cell_type": "code",
   "execution_count": 17,
   "metadata": {},
   "outputs": [
    {
     "name": "stderr",
     "output_type": "stream",
     "text": [
      "C:\\ProgramData\\Anaconda3\\lib\\site-packages\\ipykernel_launcher.py:13: SettingWithCopyWarning: \n",
      "A value is trying to be set on a copy of a slice from a DataFrame\n",
      "\n",
      "See the caveats in the documentation: https://pandas.pydata.org/pandas-docs/stable/user_guide/indexing.html#returning-a-view-versus-a-copy\n",
      "  del sys.path[0]\n"
     ]
    },
    {
     "data": {
      "application/javascript": [
       "\n",
       "            setTimeout(function() {\n",
       "                var nbb_cell_id = 17;\n",
       "                var nbb_unformatted_code = \"long[\\\"vote_pred\\\"] = \\\"none\\\"\\n\\nfor i in range(long[\\\"filename\\\"].size):\\n    curr_file = long[\\\"filename\\\"][i]\\n    file_stripped = curr_file.strip(\\\".wav\\\")\\n    sub_selection = short[\\\"filename\\\"].str.contains(file_stripped)\\n    prediction = (\\n        short[sub_selection][\\\"predicted\\\"]\\n        .value_counts()\\n        .sort_values(ascending=False)\\n        .index[0]\\n    )\\n    long[\\\"vote_pred\\\"][i] = prediction\";\n",
       "                var nbb_formatted_code = \"long[\\\"vote_pred\\\"] = \\\"none\\\"\\n\\nfor i in range(long[\\\"filename\\\"].size):\\n    curr_file = long[\\\"filename\\\"][i]\\n    file_stripped = curr_file.strip(\\\".wav\\\")\\n    sub_selection = short[\\\"filename\\\"].str.contains(file_stripped)\\n    prediction = (\\n        short[sub_selection][\\\"predicted\\\"]\\n        .value_counts()\\n        .sort_values(ascending=False)\\n        .index[0]\\n    )\\n    long[\\\"vote_pred\\\"][i] = prediction\";\n",
       "                var nbb_cells = Jupyter.notebook.get_cells();\n",
       "                for (var i = 0; i < nbb_cells.length; ++i) {\n",
       "                    if (nbb_cells[i].input_prompt_number == nbb_cell_id) {\n",
       "                        if (nbb_cells[i].get_text() == nbb_unformatted_code) {\n",
       "                             nbb_cells[i].set_text(nbb_formatted_code);\n",
       "                        }\n",
       "                        break;\n",
       "                    }\n",
       "                }\n",
       "            }, 500);\n",
       "            "
      ],
      "text/plain": [
       "<IPython.core.display.Javascript object>"
      ]
     },
     "metadata": {},
     "output_type": "display_data"
    }
   ],
   "source": [
    "long[\"vote_pred\"] = \"none\"\n",
    "\n",
    "for i in range(long[\"filename\"].size):\n",
    "    curr_file = long[\"filename\"][i]\n",
    "    file_stripped = curr_file.strip(\".wav\")\n",
    "    sub_selection = short[\"filename\"].str.contains(file_stripped)\n",
    "    prediction = (\n",
    "        short[sub_selection][\"predicted\"]\n",
    "        .value_counts()\n",
    "        .sort_values(ascending=False)\n",
    "        .index[0]\n",
    "    )\n",
    "    long[\"vote_pred\"][i] = prediction"
   ]
  },
  {
   "cell_type": "code",
   "execution_count": 18,
   "metadata": {},
   "outputs": [
    {
     "name": "stdout",
     "output_type": "stream",
     "text": [
      "[[98  0  0  0  0  1  1  0  0  0]\n",
      " [ 0 99  0  0  0  1  0  0  0  0]\n",
      " [ 0  0 99  0  0  0  1  0  0  0]\n",
      " [ 0  0  1 95  2  0  0  2  0  0]\n",
      " [ 0  0  0  2 91  0  2  3  2  0]\n",
      " [ 0  3  2  0  0 95  0  0  0  0]\n",
      " [ 0  0  0  1  1  0 97  0  0  1]\n",
      " [ 0  0  1  0  0  0  0 97  0  2]\n",
      " [ 0  0  3  1  1  0  0  0 94  1]\n",
      " [ 0  0  2  1  0  2  0  1  1 93]]\n",
      "              precision    recall  f1-score   support\n",
      "\n",
      "       blues       1.00      0.98      0.99       100\n",
      "   classical       0.97      0.99      0.98       100\n",
      "     country       0.92      0.99      0.95       100\n",
      "       disco       0.95      0.95      0.95       100\n",
      "      hiphop       0.96      0.91      0.93       100\n",
      "        jazz       0.96      0.95      0.95       100\n",
      "       metal       0.96      0.97      0.97       100\n",
      "         pop       0.94      0.97      0.96       100\n",
      "      reggae       0.97      0.94      0.95       100\n",
      "        rock       0.96      0.93      0.94       100\n",
      "\n",
      "    accuracy                           0.96      1000\n",
      "   macro avg       0.96      0.96      0.96      1000\n",
      "weighted avg       0.96      0.96      0.96      1000\n",
      "\n"
     ]
    },
    {
     "data": {
      "application/javascript": [
       "\n",
       "            setTimeout(function() {\n",
       "                var nbb_cell_id = 18;\n",
       "                var nbb_unformatted_code = \"print(confusion_matrix(long[\\\"label\\\"], long[\\\"vote_pred\\\"]))\\nprint(classification_report(long[\\\"label\\\"], long[\\\"vote_pred\\\"]))\";\n",
       "                var nbb_formatted_code = \"print(confusion_matrix(long[\\\"label\\\"], long[\\\"vote_pred\\\"]))\\nprint(classification_report(long[\\\"label\\\"], long[\\\"vote_pred\\\"]))\";\n",
       "                var nbb_cells = Jupyter.notebook.get_cells();\n",
       "                for (var i = 0; i < nbb_cells.length; ++i) {\n",
       "                    if (nbb_cells[i].input_prompt_number == nbb_cell_id) {\n",
       "                        if (nbb_cells[i].get_text() == nbb_unformatted_code) {\n",
       "                             nbb_cells[i].set_text(nbb_formatted_code);\n",
       "                        }\n",
       "                        break;\n",
       "                    }\n",
       "                }\n",
       "            }, 500);\n",
       "            "
      ],
      "text/plain": [
       "<IPython.core.display.Javascript object>"
      ]
     },
     "metadata": {},
     "output_type": "display_data"
    }
   ],
   "source": [
    "print(confusion_matrix(long[\"label\"], long[\"vote_pred\"]))\n",
    "print(classification_report(long[\"label\"], long[\"vote_pred\"]))"
   ]
  },
  {
   "cell_type": "code",
   "execution_count": 19,
   "metadata": {},
   "outputs": [
    {
     "data": {
      "application/javascript": [
       "\n",
       "            setTimeout(function() {\n",
       "                var nbb_cell_id = 19;\n",
       "                var nbb_unformatted_code = \"long_pred_df = logged_var_long_df.drop(drop_cols, 1)\\n# long_pred_df = scaler.transform(long_pred_df)\\nlong[\\\"model_pred\\\"] = pipeline_cv.predict(long_pred_df)\";\n",
       "                var nbb_formatted_code = \"long_pred_df = logged_var_long_df.drop(drop_cols, 1)\\n# long_pred_df = scaler.transform(long_pred_df)\\nlong[\\\"model_pred\\\"] = pipeline_cv.predict(long_pred_df)\";\n",
       "                var nbb_cells = Jupyter.notebook.get_cells();\n",
       "                for (var i = 0; i < nbb_cells.length; ++i) {\n",
       "                    if (nbb_cells[i].input_prompt_number == nbb_cell_id) {\n",
       "                        if (nbb_cells[i].get_text() == nbb_unformatted_code) {\n",
       "                             nbb_cells[i].set_text(nbb_formatted_code);\n",
       "                        }\n",
       "                        break;\n",
       "                    }\n",
       "                }\n",
       "            }, 500);\n",
       "            "
      ],
      "text/plain": [
       "<IPython.core.display.Javascript object>"
      ]
     },
     "metadata": {},
     "output_type": "display_data"
    }
   ],
   "source": [
    "long_pred_df = logged_var_long_df.drop(drop_cols, 1)\n",
    "# long_pred_df = scaler.transform(long_pred_df)\n",
    "long[\"model_pred\"] = pipeline_cv.predict(long_pred_df)"
   ]
  },
  {
   "cell_type": "code",
   "execution_count": 20,
   "metadata": {
    "scrolled": true
   },
   "outputs": [
    {
     "name": "stdout",
     "output_type": "stream",
     "text": [
      "[[95  0  1  1  0  0  0  0  3  0]\n",
      " [ 0 94  1  0  0  4  0  0  1  0]\n",
      " [ 1  0 94  1  0  0  0  0  4  0]\n",
      " [ 0  0  1 93  2  0  0  2  2  0]\n",
      " [ 1  0  0  3 90  0  0  3  3  0]\n",
      " [ 2  2  4  0  0 91  0  1  0  0]\n",
      " [ 1  0  1  2  0  0 95  0  0  1]\n",
      " [ 0  0  1  1  1  0  0 94  2  1]\n",
      " [ 0  0  3  2  1  0  0  1 93  0]\n",
      " [ 0  0  8  3  1  0  0  2  5 81]]\n",
      "              precision    recall  f1-score   support\n",
      "\n",
      "       blues       0.95      0.95      0.95       100\n",
      "   classical       0.98      0.94      0.96       100\n",
      "     country       0.82      0.94      0.88       100\n",
      "       disco       0.88      0.93      0.90       100\n",
      "      hiphop       0.95      0.90      0.92       100\n",
      "        jazz       0.96      0.91      0.93       100\n",
      "       metal       1.00      0.95      0.97       100\n",
      "         pop       0.91      0.94      0.93       100\n",
      "      reggae       0.82      0.93      0.87       100\n",
      "        rock       0.98      0.81      0.89       100\n",
      "\n",
      "    accuracy                           0.92      1000\n",
      "   macro avg       0.92      0.92      0.92      1000\n",
      "weighted avg       0.92      0.92      0.92      1000\n",
      "\n"
     ]
    },
    {
     "data": {
      "application/javascript": [
       "\n",
       "            setTimeout(function() {\n",
       "                var nbb_cell_id = 20;\n",
       "                var nbb_unformatted_code = \"print(confusion_matrix(long[\\\"label\\\"], long[\\\"model_pred\\\"]))\\nprint(classification_report(long[\\\"label\\\"], long[\\\"model_pred\\\"]))\";\n",
       "                var nbb_formatted_code = \"print(confusion_matrix(long[\\\"label\\\"], long[\\\"model_pred\\\"]))\\nprint(classification_report(long[\\\"label\\\"], long[\\\"model_pred\\\"]))\";\n",
       "                var nbb_cells = Jupyter.notebook.get_cells();\n",
       "                for (var i = 0; i < nbb_cells.length; ++i) {\n",
       "                    if (nbb_cells[i].input_prompt_number == nbb_cell_id) {\n",
       "                        if (nbb_cells[i].get_text() == nbb_unformatted_code) {\n",
       "                             nbb_cells[i].set_text(nbb_formatted_code);\n",
       "                        }\n",
       "                        break;\n",
       "                    }\n",
       "                }\n",
       "            }, 500);\n",
       "            "
      ],
      "text/plain": [
       "<IPython.core.display.Javascript object>"
      ]
     },
     "metadata": {},
     "output_type": "display_data"
    }
   ],
   "source": [
    "print(confusion_matrix(long[\"label\"], long[\"model_pred\"]))\n",
    "print(classification_report(long[\"label\"], long[\"model_pred\"]))"
   ]
  },
  {
   "cell_type": "code",
   "execution_count": 21,
   "metadata": {
    "scrolled": true
   },
   "outputs": [
    {
     "data": {
      "application/javascript": [
       "\n",
       "            setTimeout(function() {\n",
       "                var nbb_cell_id = 21;\n",
       "                var nbb_unformatted_code = \"drop_cols_copy = drop_cols.copy()\\ndrop_cols_copy.remove(\\\"label\\\")\\nlong_y_pred = pipeline_cv.predict(long_X_test.drop(drop_cols_copy, 1))\";\n",
       "                var nbb_formatted_code = \"drop_cols_copy = drop_cols.copy()\\ndrop_cols_copy.remove(\\\"label\\\")\\nlong_y_pred = pipeline_cv.predict(long_X_test.drop(drop_cols_copy, 1))\";\n",
       "                var nbb_cells = Jupyter.notebook.get_cells();\n",
       "                for (var i = 0; i < nbb_cells.length; ++i) {\n",
       "                    if (nbb_cells[i].input_prompt_number == nbb_cell_id) {\n",
       "                        if (nbb_cells[i].get_text() == nbb_unformatted_code) {\n",
       "                             nbb_cells[i].set_text(nbb_formatted_code);\n",
       "                        }\n",
       "                        break;\n",
       "                    }\n",
       "                }\n",
       "            }, 500);\n",
       "            "
      ],
      "text/plain": [
       "<IPython.core.display.Javascript object>"
      ]
     },
     "metadata": {},
     "output_type": "display_data"
    }
   ],
   "source": [
    "drop_cols_copy = drop_cols.copy()\n",
    "drop_cols_copy.remove(\"label\")\n",
    "long_y_pred = pipeline_cv.predict(long_X_test.drop(drop_cols_copy, 1))"
   ]
  },
  {
   "cell_type": "code",
   "execution_count": 22,
   "metadata": {},
   "outputs": [
    {
     "data": {
      "text/plain": [
       "0.96375"
      ]
     },
     "execution_count": 22,
     "metadata": {},
     "output_type": "execute_result"
    },
    {
     "data": {
      "application/javascript": [
       "\n",
       "            setTimeout(function() {\n",
       "                var nbb_cell_id = 22;\n",
       "                var nbb_unformatted_code = \"# model prediction on original train test split on the long df training\\npipeline_cv.score(long_X_train.drop(drop_cols_copy, 1), long_y_train)\";\n",
       "                var nbb_formatted_code = \"# model prediction on original train test split on the long df training\\npipeline_cv.score(long_X_train.drop(drop_cols_copy, 1), long_y_train)\";\n",
       "                var nbb_cells = Jupyter.notebook.get_cells();\n",
       "                for (var i = 0; i < nbb_cells.length; ++i) {\n",
       "                    if (nbb_cells[i].input_prompt_number == nbb_cell_id) {\n",
       "                        if (nbb_cells[i].get_text() == nbb_unformatted_code) {\n",
       "                             nbb_cells[i].set_text(nbb_formatted_code);\n",
       "                        }\n",
       "                        break;\n",
       "                    }\n",
       "                }\n",
       "            }, 500);\n",
       "            "
      ],
      "text/plain": [
       "<IPython.core.display.Javascript object>"
      ]
     },
     "metadata": {},
     "output_type": "display_data"
    }
   ],
   "source": [
    "# model prediction on original train test split on the long df training\n",
    "pipeline_cv.score(long_X_train.drop(drop_cols_copy, 1), long_y_train)"
   ]
  },
  {
   "cell_type": "code",
   "execution_count": 23,
   "metadata": {},
   "outputs": [
    {
     "data": {
      "text/plain": [
       "0.745"
      ]
     },
     "execution_count": 23,
     "metadata": {},
     "output_type": "execute_result"
    },
    {
     "data": {
      "application/javascript": [
       "\n",
       "            setTimeout(function() {\n",
       "                var nbb_cell_id = 23;\n",
       "                var nbb_unformatted_code = \"# model prediction on original train test split on the long df testing\\npipeline_cv.score(long_X_test.drop(drop_cols_copy, 1), long_y_test)\";\n",
       "                var nbb_formatted_code = \"# model prediction on original train test split on the long df testing\\npipeline_cv.score(long_X_test.drop(drop_cols_copy, 1), long_y_test)\";\n",
       "                var nbb_cells = Jupyter.notebook.get_cells();\n",
       "                for (var i = 0; i < nbb_cells.length; ++i) {\n",
       "                    if (nbb_cells[i].input_prompt_number == nbb_cell_id) {\n",
       "                        if (nbb_cells[i].get_text() == nbb_unformatted_code) {\n",
       "                             nbb_cells[i].set_text(nbb_formatted_code);\n",
       "                        }\n",
       "                        break;\n",
       "                    }\n",
       "                }\n",
       "            }, 500);\n",
       "            "
      ],
      "text/plain": [
       "<IPython.core.display.Javascript object>"
      ]
     },
     "metadata": {},
     "output_type": "display_data"
    }
   ],
   "source": [
    "# model prediction on original train test split on the long df testing\n",
    "pipeline_cv.score(long_X_test.drop(drop_cols_copy, 1), long_y_test)"
   ]
  },
  {
   "cell_type": "code",
   "execution_count": 24,
   "metadata": {
    "scrolled": true
   },
   "outputs": [
    {
     "name": "stdout",
     "output_type": "stream",
     "text": [
      "[[18  0  1  0  0  0  0  0  1  0]\n",
      " [ 0 19  0  0  0  1  0  0  0  0]\n",
      " [ 1  0 17  1  0  0  0  0  1  0]\n",
      " [ 0  0  1 14  2  0  0  2  1  0]\n",
      " [ 0  0  0  3 11  0  0  3  3  0]\n",
      " [ 0  2  3  0  0 14  0  1  0  0]\n",
      " [ 1  0  0  1  0  0 17  0  0  1]\n",
      " [ 0  0  1  1  1  0  0 15  1  1]\n",
      " [ 0  0  3  2  1  0  0  0 14  0]\n",
      " [ 0  0  4  2  1  0  0  2  1 10]]\n",
      "              precision    recall  f1-score   support\n",
      "\n",
      "       blues       0.90      0.90      0.90        20\n",
      "   classical       0.90      0.95      0.93        20\n",
      "     country       0.57      0.85      0.68        20\n",
      "       disco       0.58      0.70      0.64        20\n",
      "      hiphop       0.69      0.55      0.61        20\n",
      "        jazz       0.93      0.70      0.80        20\n",
      "       metal       1.00      0.85      0.92        20\n",
      "         pop       0.65      0.75      0.70        20\n",
      "      reggae       0.64      0.70      0.67        20\n",
      "        rock       0.83      0.50      0.62        20\n",
      "\n",
      "    accuracy                           0.74       200\n",
      "   macro avg       0.77      0.74      0.75       200\n",
      "weighted avg       0.77      0.74      0.75       200\n",
      "\n"
     ]
    },
    {
     "data": {
      "application/javascript": [
       "\n",
       "            setTimeout(function() {\n",
       "                var nbb_cell_id = 24;\n",
       "                var nbb_unformatted_code = \"long_y_pred\\nprint(confusion_matrix(long_y_test, long_y_pred))\\nprint(classification_report(long_y_test, long_y_pred))\";\n",
       "                var nbb_formatted_code = \"long_y_pred\\nprint(confusion_matrix(long_y_test, long_y_pred))\\nprint(classification_report(long_y_test, long_y_pred))\";\n",
       "                var nbb_cells = Jupyter.notebook.get_cells();\n",
       "                for (var i = 0; i < nbb_cells.length; ++i) {\n",
       "                    if (nbb_cells[i].input_prompt_number == nbb_cell_id) {\n",
       "                        if (nbb_cells[i].get_text() == nbb_unformatted_code) {\n",
       "                             nbb_cells[i].set_text(nbb_formatted_code);\n",
       "                        }\n",
       "                        break;\n",
       "                    }\n",
       "                }\n",
       "            }, 500);\n",
       "            "
      ],
      "text/plain": [
       "<IPython.core.display.Javascript object>"
      ]
     },
     "metadata": {},
     "output_type": "display_data"
    }
   ],
   "source": [
    "long_y_pred\n",
    "print(confusion_matrix(long_y_test, long_y_pred))\n",
    "print(classification_report(long_y_test, long_y_pred))"
   ]
  },
  {
   "cell_type": "code",
   "execution_count": 25,
   "metadata": {},
   "outputs": [
    {
     "data": {
      "application/javascript": [
       "\n",
       "            setTimeout(function() {\n",
       "                var nbb_cell_id = 25;\n",
       "                var nbb_unformatted_code = \"long_vote_pred = long[\\\"vote_pred\\\"]\\nlong_label = long[\\\"label\\\"]\\n\\n(\\n    long_vote_pred_train,\\n    long_vote_pred_test,\\n    long_label_train,\\n    long_label_test,\\n) = train_test_split(\\n    long_vote_pred, long_label, test_size=0.2, random_state=34, stratify=long_label\\n)\";\n",
       "                var nbb_formatted_code = \"long_vote_pred = long[\\\"vote_pred\\\"]\\nlong_label = long[\\\"label\\\"]\\n\\n(\\n    long_vote_pred_train,\\n    long_vote_pred_test,\\n    long_label_train,\\n    long_label_test,\\n) = train_test_split(\\n    long_vote_pred, long_label, test_size=0.2, random_state=34, stratify=long_label\\n)\";\n",
       "                var nbb_cells = Jupyter.notebook.get_cells();\n",
       "                for (var i = 0; i < nbb_cells.length; ++i) {\n",
       "                    if (nbb_cells[i].input_prompt_number == nbb_cell_id) {\n",
       "                        if (nbb_cells[i].get_text() == nbb_unformatted_code) {\n",
       "                             nbb_cells[i].set_text(nbb_formatted_code);\n",
       "                        }\n",
       "                        break;\n",
       "                    }\n",
       "                }\n",
       "            }, 500);\n",
       "            "
      ],
      "text/plain": [
       "<IPython.core.display.Javascript object>"
      ]
     },
     "metadata": {},
     "output_type": "display_data"
    }
   ],
   "source": [
    "long_vote_pred = long[\"vote_pred\"]\n",
    "long_label = long[\"label\"]\n",
    "\n",
    "(\n",
    "    long_vote_pred_train,\n",
    "    long_vote_pred_test,\n",
    "    long_label_train,\n",
    "    long_label_test,\n",
    ") = train_test_split(\n",
    "    long_vote_pred, long_label, test_size=0.2, random_state=34, stratify=long_label\n",
    ")"
   ]
  },
  {
   "cell_type": "code",
   "execution_count": 26,
   "metadata": {
    "scrolled": true
   },
   "outputs": [
    {
     "name": "stdout",
     "output_type": "stream",
     "text": [
      "[[18  0  0  0  0  1  1  0  0  0]\n",
      " [ 0 19  0  0  0  1  0  0  0  0]\n",
      " [ 0  0 19  0  0  0  1  0  0  0]\n",
      " [ 0  0  1 15  2  0  0  2  0  0]\n",
      " [ 0  0  0  2 11  0  2  3  2  0]\n",
      " [ 0  3  2  0  0 15  0  0  0  0]\n",
      " [ 0  0  0  1  1  0 17  0  0  1]\n",
      " [ 0  0  1  0  0  0  0 17  0  2]\n",
      " [ 0  0  3  1  1  0  0  0 14  1]\n",
      " [ 0  0  2  1  0  2  0  1  1 13]]\n",
      "              precision    recall  f1-score   support\n",
      "\n",
      "       blues       1.00      0.90      0.95        20\n",
      "   classical       0.86      0.95      0.90        20\n",
      "     country       0.68      0.95      0.79        20\n",
      "       disco       0.75      0.75      0.75        20\n",
      "      hiphop       0.73      0.55      0.63        20\n",
      "        jazz       0.79      0.75      0.77        20\n",
      "       metal       0.81      0.85      0.83        20\n",
      "         pop       0.74      0.85      0.79        20\n",
      "      reggae       0.82      0.70      0.76        20\n",
      "        rock       0.76      0.65      0.70        20\n",
      "\n",
      "    accuracy                           0.79       200\n",
      "   macro avg       0.80      0.79      0.79       200\n",
      "weighted avg       0.80      0.79      0.79       200\n",
      "\n",
      "0.79\n"
     ]
    },
    {
     "data": {
      "application/javascript": [
       "\n",
       "            setTimeout(function() {\n",
       "                var nbb_cell_id = 26;\n",
       "                var nbb_unformatted_code = \"print(confusion_matrix(long_label_test, long_vote_pred_test))\\nprint(classification_report(long_label_test, long_vote_pred_test))\\nprint(accuracy_score(long_label_test, long_vote_pred_test))\";\n",
       "                var nbb_formatted_code = \"print(confusion_matrix(long_label_test, long_vote_pred_test))\\nprint(classification_report(long_label_test, long_vote_pred_test))\\nprint(accuracy_score(long_label_test, long_vote_pred_test))\";\n",
       "                var nbb_cells = Jupyter.notebook.get_cells();\n",
       "                for (var i = 0; i < nbb_cells.length; ++i) {\n",
       "                    if (nbb_cells[i].input_prompt_number == nbb_cell_id) {\n",
       "                        if (nbb_cells[i].get_text() == nbb_unformatted_code) {\n",
       "                             nbb_cells[i].set_text(nbb_formatted_code);\n",
       "                        }\n",
       "                        break;\n",
       "                    }\n",
       "                }\n",
       "            }, 500);\n",
       "            "
      ],
      "text/plain": [
       "<IPython.core.display.Javascript object>"
      ]
     },
     "metadata": {},
     "output_type": "display_data"
    }
   ],
   "source": [
    "print(confusion_matrix(long_label_test, long_vote_pred_test))\n",
    "print(classification_report(long_label_test, long_vote_pred_test))\n",
    "print(accuracy_score(long_label_test, long_vote_pred_test))"
   ]
  },
  {
   "cell_type": "code",
   "execution_count": 27,
   "metadata": {},
   "outputs": [
    {
     "name": "stdout",
     "output_type": "stream",
     "text": [
      "[[80  0  0  0  0  0  0  0  0  0]\n",
      " [ 0 80  0  0  0  0  0  0  0  0]\n",
      " [ 0  0 80  0  0  0  0  0  0  0]\n",
      " [ 0  0  0 80  0  0  0  0  0  0]\n",
      " [ 0  0  0  0 80  0  0  0  0  0]\n",
      " [ 0  0  0  0  0 80  0  0  0  0]\n",
      " [ 0  0  0  0  0  0 80  0  0  0]\n",
      " [ 0  0  0  0  0  0  0 80  0  0]\n",
      " [ 0  0  0  0  0  0  0  0 80  0]\n",
      " [ 0  0  0  0  0  0  0  0  0 80]]\n",
      "              precision    recall  f1-score   support\n",
      "\n",
      "       blues       1.00      1.00      1.00        80\n",
      "   classical       1.00      1.00      1.00        80\n",
      "     country       1.00      1.00      1.00        80\n",
      "       disco       1.00      1.00      1.00        80\n",
      "      hiphop       1.00      1.00      1.00        80\n",
      "        jazz       1.00      1.00      1.00        80\n",
      "       metal       1.00      1.00      1.00        80\n",
      "         pop       1.00      1.00      1.00        80\n",
      "      reggae       1.00      1.00      1.00        80\n",
      "        rock       1.00      1.00      1.00        80\n",
      "\n",
      "    accuracy                           1.00       800\n",
      "   macro avg       1.00      1.00      1.00       800\n",
      "weighted avg       1.00      1.00      1.00       800\n",
      "\n",
      "1.0\n"
     ]
    },
    {
     "data": {
      "application/javascript": [
       "\n",
       "            setTimeout(function() {\n",
       "                var nbb_cell_id = 27;\n",
       "                var nbb_unformatted_code = \"# majority vote predictions on training data\\nprint(confusion_matrix(long_label_train, long_vote_pred_train))\\nprint(classification_report(long_label_train, long_vote_pred_train))\\nprint(accuracy_score(long_label_train, long_vote_pred_train))\";\n",
       "                var nbb_formatted_code = \"# majority vote predictions on training data\\nprint(confusion_matrix(long_label_train, long_vote_pred_train))\\nprint(classification_report(long_label_train, long_vote_pred_train))\\nprint(accuracy_score(long_label_train, long_vote_pred_train))\";\n",
       "                var nbb_cells = Jupyter.notebook.get_cells();\n",
       "                for (var i = 0; i < nbb_cells.length; ++i) {\n",
       "                    if (nbb_cells[i].input_prompt_number == nbb_cell_id) {\n",
       "                        if (nbb_cells[i].get_text() == nbb_unformatted_code) {\n",
       "                             nbb_cells[i].set_text(nbb_formatted_code);\n",
       "                        }\n",
       "                        break;\n",
       "                    }\n",
       "                }\n",
       "            }, 500);\n",
       "            "
      ],
      "text/plain": [
       "<IPython.core.display.Javascript object>"
      ]
     },
     "metadata": {},
     "output_type": "display_data"
    }
   ],
   "source": [
    "# majority vote predictions on training data\n",
    "print(confusion_matrix(long_label_train, long_vote_pred_train))\n",
    "print(classification_report(long_label_train, long_vote_pred_train))\n",
    "print(accuracy_score(long_label_train, long_vote_pred_train))"
   ]
  },
  {
   "cell_type": "code",
   "execution_count": null,
   "metadata": {},
   "outputs": [],
   "source": []
  }
 ],
 "metadata": {
  "kernelspec": {
   "display_name": "Python 3",
   "language": "python",
   "name": "python3"
  },
  "language_info": {
   "codemirror_mode": {
    "name": "ipython",
    "version": 3
   },
   "file_extension": ".py",
   "mimetype": "text/x-python",
   "name": "python",
   "nbconvert_exporter": "python",
   "pygments_lexer": "ipython3",
   "version": "3.7.6"
  }
 },
 "nbformat": 4,
 "nbformat_minor": 4
}
